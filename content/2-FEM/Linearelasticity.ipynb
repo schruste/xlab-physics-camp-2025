{
 "cells": [
  {
   "cell_type": "markdown",
   "metadata": {},
   "source": [
    "# Linear elasticity (outlook)"
   ]
  },
  {
   "cell_type": "markdown",
   "metadata": {},
   "source": [
    "<center>\n",
    "<img src=\"deformation.png\" alt=\"Drawing\" style=\"width: 80%;\"/>\n",
    "</center>"
   ]
  },
  {
   "cell_type": "markdown",
   "metadata": {},
   "source": [
    "We now want to consider (in a short-cut version) the modeling of the deformation of a solid body. \n",
    " * We consider a solid body with a given shape and material properties. \n",
    " * We assume that the body is subjected to external forces and moments. \n",
    " * The deformation is small. \n",
    " * We want to determine the displacement field $\\mathbf{u}(\\mathbf{x})$"
   ]
  },
  {
   "cell_type": "markdown",
   "metadata": {},
   "source": [
    "For a given displacement field $\\mathbf{u}(\\mathbf{x})$, the deformation is $\\Phi(\\mathbf{x}) = \\mathbf{x} + \\mathbf{u}(\\mathbf{x})$.\n",
    " * we consider a reference configuration $\\mathbf{x}$ and a deformed configuration $\\mathbf{X}$\n",
    " * $\\hat \\Omega = \\{\\mathbf{x} \\}$ is the reference configuration, e.g. the body in its initial state (without external forces)\n",
    " * $\\Omega = \\{\\mathbf{X}(\\mathbf{x}), \\mathbf{x} \\in \\hat \\Omega \\}$ is the deformed configuration, e.g. the body in its deformed state (with external forces)\n"
   ]
  },
  {
   "cell_type": "markdown",
   "metadata": {},
   "source": [
    "## Q: What induces forces **within** the body?"
   ]
  },
  {
   "cell_type": "markdown",
   "metadata": {},
   "source": [
    "---"
   ]
  },
  {
   "cell_type": "markdown",
   "metadata": {},
   "source": [
    "Let us consider the change of (infinitesimally small) line elements. For $x,y \\in \\hat\\Omega$ with $y = x + z$ we have for the length of a line element after deformation\n",
    "\\begin{equation*}\n",
    "\\text{distance after deformation}^2 = \\Vert \\Phi(y) - \\Phi(x) \\Vert^2\n",
    "= \\Vert \\Phi(x + z) - \\Phi(x) \\Vert = \\Vert \\nabla \\Phi z \\Vert^2 +o(\\Vert z \\Vert^2) = z^T \\underbrace{(\\nabla \\Phi)^T \\nabla \\Phi}_{=:C}  z +o(\\Vert z \\Vert^2)\n",
    "\\end{equation*}\n"
   ]
  },
  {
   "cell_type": "markdown",
   "metadata": {},
   "source": [
    "<center>\n",
    "<img src=\"strain.png\" alt=\"Drawing\" style=\"width: 80%;\"/>\n",
    "</center>"
   ]
  },
  {
   "cell_type": "markdown",
   "metadata": {},
   "source": [
    "The (scaled) deviation from the identity is denoted as *strain*:\n",
    "\\begin{equation*}\n",
    "  E:= \\tfrac12 (C - I) \\in \\mathbb{R}^{3 \\times 3}\n",
    "\\end{equation*}\n",
    "Note that $C = (\\nabla \\Phi)^T \\nabla \\Phi = (I + \\nabla \\mathbf{u})^T (I + \\nabla \\mathbf{u}) = I + \\nabla \\mathbf{u} + \\nabla \\mathbf{u}^T + \\nabla \\mathbf{u}^T \\nabla \\mathbf{u}$\n",
    "\n",
    "For small deformations we can neglect the last part and obtain the linearized strain tensor\n",
    "\\begin{equation*}\n",
    "  \\varepsilon(\\mathbf{u}) = \\tfrac12 (\\nabla \\mathbf{u} + \\nabla \\mathbf{u}^T)\n",
    "\\end{equation*}"
   ]
  },
  {
   "cell_type": "markdown",
   "metadata": {},
   "source": [
    "What are motions that have $E(\\mathbf{u}) = 0$?"
   ]
  },
  {
   "cell_type": "markdown",
   "metadata": {},
   "source": [
    "---"
   ]
  },
  {
   "cell_type": "markdown",
   "metadata": {},
   "source": [
    "Assumption: Deformation so small so that $\\varepsilon(\\mathbf{X}) = \\varepsilon(\\mathbf{x}+\\mathbf{u}(\\mathbf{x})) \\approx \\varepsilon(\\mathbf{x})$."
   ]
  },
  {
   "cell_type": "markdown",
   "metadata": {},
   "source": [
    "---"
   ]
  },
  {
   "cell_type": "markdown",
   "metadata": {},
   "source": [
    "Force balance:\n",
    "\n",
    "$$\n",
    "- \\operatorname{div} \\boldsymbol{\\sigma}(\\mathbf{u}) = \\mathbf{f} \\quad \\text{in } \\Omega\n",
    "$$"
   ]
  },
  {
   "cell_type": "markdown",
   "metadata": {},
   "source": [
    "### Linear material law (Hooke's law):\n",
    "\n",
    "  Let $\\varepsilon(u) = \\tfrac12 ( F + F^T )$ be the linearized strain, $F=\\nabla \\Phi,~\\Phi=\\mathbf{u}+\\operatorname{id}$. The linear material law of Hooke is\n",
    "  $$\n",
    "  \\boldsymbol{\\sigma}(x) = \\lambda \\operatorname{tr}( \\varepsilon(\\mathbf{u}) ) I + 2 \\mu \\varepsilon(\\mathbf{u}) = \\lambda (\\operatorname{div} \\mathbf{u}) I + 2 \\mu \\varepsilon(\\mathbf{u})\n",
    "  $$\n",
    "  where $\\lambda$ and $\\mu$ are the so-called \\emph{Lam\\'e-Navier parameters}"
   ]
  },
  {
   "cell_type": "markdown",
   "metadata": {},
   "source": [
    "# Equations of linear elasticity\n",
    "\n",
    "Altogether we obtain the equations of linear elasticity:\n",
    "$$\n",
    "- 2 \\mu \\operatorname{div} \\boldsymbol{\\varepsilon}(\\mathbf{u}) - \\lambda \\nabla \\operatorname{div} \\mathbf{u} = \\mathbf{f} \\quad \\text{in } \\Omega\n",
    "$$"
   ]
  }
 ],
 "metadata": {
  "kernelspec": {
   "display_name": "Python 3 (ipykernel)",
   "language": "python",
   "name": "python3"
  },
  "language_info": {
   "codemirror_mode": {
    "name": "ipython",
    "version": 3
   },
   "file_extension": ".py",
   "mimetype": "text/x-python",
   "name": "python",
   "nbconvert_exporter": "python",
   "pygments_lexer": "ipython3",
   "version": "3.12.4"
  }
 },
 "nbformat": 4,
 "nbformat_minor": 4
}
