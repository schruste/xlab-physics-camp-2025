{
 "cells": [
  {
   "cell_type": "markdown",
   "metadata": {
    "slideshow": {
     "slide_type": "slide"
    }
   },
   "source": [
    "# Heat conduction through steel strip with constant cross-section\n",
    "\n",
    "## Geometry of the system\n",
    "\n",
    "- Cross-section of the steel strip: $A=0.16\\cdot 13\\,\\rm{mm}^2$\n",
    "- Length of the steel strip between the heat baths: $l=140\\,\\rm{mm}$\n",
    "\n",
    "## Material parameters\n",
    "- Specific thermal conductivity of steel: $k=15..58\\frac{\\rm{W}}{\\rm{m\\cdot K}}$\n",
    "- Electrical resistivity of steel: $\\rho=0.1..0.7\\frac{\\Omega\\,\\rm{mm}^2}{\\rm{m}}$"
   ]
  },
  {
   "cell_type": "markdown",
   "metadata": {
    "slideshow": {
     "slide_type": "subslide"
    }
   },
   "source": [
    "## Heat source density\n",
    "\n",
    "The steel strip is heated by a direct electric current with a current of $I$. For temperatures that are not too high, Ohm's law $U=RI$ applies to steel with the voltage $U$ and a constant resistance $R$. The direct current leads to a heating power $P=UI$ which can also be expressed as $P=RI^2$ using Ohm's law. The resistance $R$ is related to the specific resistance $\\rho$ via $R=\\rho\\frac{l}{A}$.\n",
    "\n",
    "This gives the heat source density as\n",
    "$$\n",
    "q_Q=\\frac{Q_Q}{A\\,\\Delta x\\,\\Delta t}=\\frac{P}{A\\,\\Delta x}=\\frac{RI^2}{A\\,\\Delta x}\n",
    "$$\n",
    "\n",
    "The resistance $R$ of a part of the steel strip of length $\\Delta x$ is $R=\\rho\\frac{\\Delta x}{A}$. This means that the heat source density is\n",
    "\n",
    "$$\n",
    "q_Q=\\frac{\\rho\\,\\Delta x\\,I^2}{AA\\,\\Delta x}=\\frac{\\rho\\, I^2}{A^2}\n",
    "$$"
   ]
  },
  {
   "cell_type": "markdown",
   "metadata": {
    "slideshow": {
     "slide_type": "subslide"
    }
   },
   "source": [
    "With the values for the specific resistance of steel and the cross-section of the steel strip, the following values apply\n",
    "\n",
    "$$\n",
    "q_Q=0.23..1.6\\cdot 10^5 I^2\\frac{\\rm{W}}{\\rm{A}^2\\rm{m}^3}\n",
    "$$\n",
    "\n",
    "The specific thermal conductivity is as stated above\n",
    "\n",
    "$$\n",
    "k=15..58\\frac{\\rm{W}}{\\rm{m\\cdot K}}\n",
    "$$"
   ]
  },
  {
   "cell_type": "code",
   "execution_count": null,
   "metadata": {},
   "outputs": [],
   "source": []
  }
 ],
 "metadata": {
  "kernelspec": {
   "display_name": "Python 3",
   "language": "python",
   "name": "python3"
  },
  "language_info": {
   "codemirror_mode": {
    "name": "ipython",
    "version": 3
   },
   "file_extension": ".py",
   "mimetype": "text/x-python",
   "name": "python",
   "nbconvert_exporter": "python",
   "pygments_lexer": "ipython3",
   "version": "3.7.0"
  },
  "toc": {
   "base_numbering": 1,
   "nav_menu": {},
   "number_sections": true,
   "sideBar": true,
   "skip_h1_title": false,
   "title_cell": "Table of Contents",
   "title_sidebar": "Contents",
   "toc_cell": false,
   "toc_position": {},
   "toc_section_display": true,
   "toc_window_display": false
  }
 },
 "nbformat": 4,
 "nbformat_minor": 2
}
