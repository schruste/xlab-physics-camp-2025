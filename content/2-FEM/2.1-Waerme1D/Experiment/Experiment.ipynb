{
 "cells": [
  {
   "cell_type": "markdown",
   "metadata": {
    "slideshow": {
     "slide_type": "slide"
    }
   },
   "source": [
    "# Wärmeleitung durch Stahlband mit konstantem Querschnitt\n",
    "\n",
    "## Geometrie des Systems\n",
    "\n",
    "- Querschnitt des Stahlbands: $A=0,16\\cdot 13\\,\\rm{mm}^2$\n",
    "- Länge des Stahlbands zwischen den Wärmebädern: $l=140\\,\\rm{mm}$\n",
    "\n",
    "## Materialparameter\n",
    "- spezifischer Wärmeleitfähigkeit von Stahl: $k=15..58\\frac{\\rm{W}}{\\rm{m\\cdot K}}$\n",
    "- spezifischer elektrischer Widerstand von Stahl: $\\rho=0,1..0,7\\frac{\\Omega\\,\\rm{mm}^2}{\\rm{m}}$"
   ]
  },
  {
   "cell_type": "markdown",
   "metadata": {
    "slideshow": {
     "slide_type": "subslide"
    }
   },
   "source": [
    "## Wärmequelldichte\n",
    "\n",
    "Das Stahlband wird durch einen elektrischen Gleichstrom mit Stromstärke $I$ geheizt. Für nicht zu hohe Temperaturen gilt für Stahl das Ohmsche Gesetz $U=RI$ mit der Spannung $U$ und einem konstanten Widerstand $R$. Der Gleichstrom führt zu einer Heizleistung $P=UI$ die sich mit dem Ohmschen Gesetz auch als $P=RI^2$ ausdrücken lässt. Der Widerstand $R$ hängt mit dem spezifischen Widerstand $\\rho$ über $R=\\rho\\frac{l}{A}$ zusammen.\n",
    "\n",
    "Damit ergibt sich die Wärmequelldichte zu\n",
    "$$\n",
    "q_Q=\\frac{Q_Q}{A\\,\\Delta x\\,\\Delta t}=\\frac{P}{A\\,\\Delta x}=\\frac{RI^2}{A\\,\\Delta x}\n",
    "$$\n",
    "\n",
    "Der Widerstand $R$ eines Teils des Stahlbands der Länge $\\Delta x$ ist $R=\\rho\\frac{\\Delta x}{A}$. Damit gilt für die Wärmequelldichte\n",
    "\n",
    "$$\n",
    "q_Q=\\frac{\\rho\\,\\Delta x\\,I^2}{AA\\,\\Delta x}=\\frac{\\rho\\, I^2}{A^2}\n",
    "$$"
   ]
  },
  {
   "cell_type": "markdown",
   "metadata": {
    "slideshow": {
     "slide_type": "subslide"
    }
   },
   "source": [
    "Mit den Werten für den spezifischen Widerstand von Stahl und der Querschnitt des Stahlbandes folgt\n",
    "\n",
    "$$\n",
    "q_Q=0,23..1,6\\cdot 10^5 \\frac{I^2}{\\rm{A}^2}\\frac{\\rm{W}}{\\rm{m}^3}\n",
    "$$\n",
    "\n",
    "Die spezifische Wärmeleitfähigkeit ist wie oben angebeben\n",
    "\n",
    "$$\n",
    "k=15..58\\frac{\\rm{W}}{\\rm{m\\cdot K}}\n",
    "$$"
   ]
  }
 ],
 "metadata": {
  "kernelspec": {
   "display_name": "Python 3",
   "language": "python",
   "name": "python3"
  },
  "language_info": {
   "codemirror_mode": {
    "name": "ipython",
    "version": 3
   },
   "file_extension": ".py",
   "mimetype": "text/x-python",
   "name": "python",
   "nbconvert_exporter": "python",
   "pygments_lexer": "ipython3",
   "version": "3.7.0"
  },
  "toc": {
   "base_numbering": 1,
   "nav_menu": {},
   "number_sections": true,
   "sideBar": true,
   "skip_h1_title": false,
   "title_cell": "Table of Contents",
   "title_sidebar": "Contents",
   "toc_cell": false,
   "toc_position": {},
   "toc_section_display": true,
   "toc_window_display": false
  }
 },
 "nbformat": 4,
 "nbformat_minor": 2
}
