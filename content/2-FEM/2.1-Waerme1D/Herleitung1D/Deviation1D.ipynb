{
 "cells": [
  {
   "cell_type": "markdown",
   "metadata": {
    "slideshow": {
     "slide_type": "slide"
    }
   },
   "source": [
    "# Differential equation for heat conduction in 1D\n",
    "\n",
    "## Geometry\n",
    "\n",
    "Consider a rod with length $l=b-a$ in $x$-direction.\n",
    "\n",
    "<center>\n",
    "<img src=\"stab.JPG\" alt=\"Drawing\" style=\"width: 40%;\"/>\n",
    "</center>"
   ]
  },
  {
   "cell_type": "markdown",
   "metadata": {
    "slideshow": {
     "slide_type": "fragment"
    }
   },
   "source": [
    "- mathematically \"real\" 1D: rod has no cross section\n",
    "- experimentally \"quasi\" 1D: rod has cross section $A=const.$"
   ]
  },
  {
   "cell_type": "markdown",
   "metadata": {
    "slideshow": {
     "slide_type": "subslide"
    }
   },
   "source": [
    "We are looking for the temperature distribution $u(x)$ along the rod. $u(x)$ is the \"searched function\" (scalar field on the area $\\Omega = (a,b)$).\n",
    "\n",
    "Here and in the following, the \"searched function\" is always denoted by $u$, regardless of which physical quantity (e.g. temperature, deflection, intensity, ...) is searched for."
   ]
  },
  {
   "cell_type": "markdown",
   "metadata": {
    "slideshow": {
     "slide_type": "fragment"
    }
   },
   "source": [
    "We now want to set up a generally valid equation that summarizes the physically necessary conditions for the function $u(x)$ we are looking for and that must be fulfilled for all possible functions $u(x)$. This equation is the differential equation for heat conduction."
   ]
  },
  {
   "cell_type": "markdown",
   "metadata": {
    "slideshow": {
     "slide_type": "slide"
    }
   },
   "source": [
    "## Basic laws of physics\n",
    "\n",
    "### 1. Energy supply leads to temperature increase"
   ]
  },
  {
   "cell_type": "markdown",
   "metadata": {
    "slideshow": {
     "slide_type": "fragment"
    }
   },
   "source": [
    "Valid if no work is performed and no phase transformations take place."
   ]
  },
  {
   "cell_type": "markdown",
   "metadata": {
    "slideshow": {
     "slide_type": "fragment"
    }
   },
   "source": [
    "Adding the amount of heat $\\Delta Q$ to a material of mass $m = \\rho V$ leads to a temperature increase of $\\Delta u$\n",
    "\n",
    "$$\n",
    "\\Delta Q = c_p \\rho V \\Delta u.\n",
    "$$\n",
    "\n",
    "Where $c_p$ is the specific heat capacity $[c_p]=\\frac{\\rm{J}}{\\rm{kg K}}$."
   ]
  },
  {
   "cell_type": "markdown",
   "metadata": {
    "slideshow": {
     "slide_type": "subslide"
    }
   },
   "source": [
    "### 2. Temperature differences lead to heat flow\n",
    "\n",
    "Heat flow is directed in such a way that it compensates for temperature differences.\n",
    "\n",
    "The heat flow density $q_S$ is the change in thermal energy across a boundary surface of a system per time and area.\n",
    "\n",
    "<center>\n",
    "<img src=\"wärmestromdichte grenzfläche.JPG\" alt=\"Drawing\" style=\"width: 10%;\"/>\n",
    "</center>"
   ]
  },
  {
   "cell_type": "markdown",
   "metadata": {
    "slideshow": {
     "slide_type": "fragment"
    }
   },
   "source": [
    "- mathematically \"real\" 1D:\n",
    "$$\n",
    "q_S(x) = \\frac{Q_S(x)}{\\Delta t} \\quad \\rm{with} \\quad [q_S]=\\frac{\\rm{J}}{\\rm{s}}=\\rm{W}\n",
    "$$.\n",
    "\n",
    "- experimentally \"quasi\" 1D:\n",
    "$$\n",
    "q_S(x) = \\frac{Q_S(x)}{A \\Delta t} \\quad \\rm{with} \\quad [q_S]=\\frac{\\rm{J}}{\\rm{m^2 s}}=\\frac{\\rm{W}}{\\rm{m^2}}\n",
    "$$"
   ]
  },
  {
   "cell_type": "markdown",
   "metadata": {
    "slideshow": {
     "slide_type": "subslide"
    }
   },
   "source": [
    "The heat flux density is given by Fourier's law:\n",
    "\n",
    "$$\n",
    "q_S(x) = -k \\frac{du}{dx}(x)\n",
    "$$\n",
    "\n",
    "Where $k$ is the thermal conductivity with the unit $[k]=\\frac{\\rm{W m}}{\\rm{K}}$ (for “real” 1D) or $[k]=\\frac{\\rm{W}}{\\rm{K m}}$ (for “quasi” 1D).\n",
    "\n",
    "Notation: We write the first derivative of the function $u(x)$ with respect to the location $x$ as $\\frac{du}{dx}(x) = u^\\prime(x)$."
   ]
  },
  {
   "cell_type": "markdown",
   "metadata": {
    "slideshow": {
     "slide_type": "slide"
    }
   },
   "source": [
    "## Stationary case, constant thermal conductivity $k$\n",
    "\n",
    "First consider the stationary case, i.e. situations without temporal changes. Furthermore, the thermal conductivity $k$ of the material should be constant, i.e. independent of the location."
   ]
  },
  {
   "cell_type": "markdown",
   "metadata": {
    "slideshow": {
     "slide_type": "fragment"
    }
   },
   "source": [
    "### 1. Derivation of the differential equation for heat conduction\n",
    "\n",
    "Now consider a part of the rod of length $\\Delta x$:\n",
    "\n",
    "\n",
    "<center>\n",
    "<img src=\"wärmestromdichte volumen.JPG\" alt=\"Drawing\" style=\"width: 25%;\"/>\n",
    "</center>"
   ]
  },
  {
   "cell_type": "markdown",
   "metadata": {
    "slideshow": {
     "slide_type": "fragment"
    }
   },
   "source": [
    "According to the basic laws of physics, the heat flux density at the interfaces $x$ and $x+\\Delta x$ must be the same (otherwise a temperature change would result from $\\Delta Q \\neq 0$)."
   ]
  },
  {
   "cell_type": "markdown",
   "metadata": {
    "slideshow": {
     "slide_type": "subslide"
    }
   },
   "source": [
    "It must therefore apply $q_S(x+\\Delta x) = q_S(x)$.\n",
    "\n",
    "Thus follows:\n",
    "\n",
    "\\begin{eqnarray}\n",
    "0 &=& q_S(x+\\Delta x) - q_S(x)\\\\\n",
    " &=& - k \\frac{du}{dx}(x+ \\Delta x) + k \\frac{du}{dx}(x)\\\\\n",
    " &=& -k \\left( \\frac{du}{dx}(x+ \\Delta x) - \\frac{du}{dx}(x) \\right)\\\\\n",
    " &=& -k \\left[ \\frac{du}{dx}(\\tilde{x}) \\right]_x^{x+\\Delta x}\\\\\n",
    " &=& -k \\int\\limits_x^{x+\\Delta x} \\frac{d^2u}{dx^2}(\\tilde{x}) \\,d\\tilde{x}\\\\\n",
    " &=& \\int\\limits_x^{x+\\Delta x} -k\\frac{d^2u}{dx^2}(\\tilde{x}) \\,d\\tilde{x}\\\\\n",
    "\\end{eqnarray}"
   ]
  },
  {
   "cell_type": "markdown",
   "metadata": {
    "slideshow": {
     "slide_type": "subslide"
    }
   },
   "source": [
    "The equation must be fulfilled for any $x$ and $\\Delta x$. Therefore, the integrand must disappear and, after replacing $\\tilde{x}$ with $x$, the following must apply\n",
    "\n",
    "$$\n",
    "-k\\frac{d^2u}{dx^2}(x)=0\n",
    "$$"
   ]
  },
  {
   "cell_type": "markdown",
   "metadata": {
    "slideshow": {
     "slide_type": "fragment"
    }
   },
   "source": [
    "Therefore, either $k = 0$ (no thermal conductivity, i.e. ideal insulator) or the second derivative of the function $u(x)$ to the location must disappear at every location."
   ]
  },
  {
   "cell_type": "markdown",
   "metadata": {
    "slideshow": {
     "slide_type": "subslide"
    }
   },
   "source": [
    "How did we proceed to derive the differential equation for heat conduction?\n",
    "\n",
    "We used the main theorem of differential and integral calculus (calculation of an integral as the difference of the function values of the antideriative):\n",
    "- We considered the known heat flux density as the antiderivative.\n",
    "- We expressed the difference of the heat flux densities as an integral over the derivative of the heat flux densities.\n",
    "- This “backward integration” gave us a simple equation that must be fulfilled by all the functions we are looking for for the temperature distribution in the stationary case $u(x)$."
   ]
  },
  {
   "cell_type": "markdown",
   "metadata": {
    "slideshow": {
     "slide_type": "subslide"
    }
   },
   "source": [
    "### 2. Solution of the differential equation for heat conduction\n",
    "\n",
    "Now find the unknown function $u(x)$ that solves the heat conduction equation."
   ]
  },
  {
   "cell_type": "markdown",
   "metadata": {
    "slideshow": {
     "slide_type": "fragment"
    }
   },
   "source": [
    "Approach: Integration of the differential equation for heat conduction\n",
    "\n",
    "$$\n",
    "-k\\frac{d^2u}{dx^2}(x)=0,\n",
    "$$\n",
    "\n",
    "to obtain the unknown function from the condition on the second derivative. With this “integration forwards”, we undo the “integration backwards” when deriving the equation."
   ]
  },
  {
   "cell_type": "markdown",
   "metadata": {
    "slideshow": {
     "slide_type": "subslide"
    }
   },
   "source": [
    "For $k\\neq0$ the following must apply\n",
    "\\begin{eqnarray}\n",
    "& \\frac{d^2u}{dx^2}(x)=0\\\\\n",
    "\\Rightarrow &  \\int\\limits_{x_0}^{x} \\frac{d^2u}{dx^2}(\\tilde{x}) \\,d\\tilde{x} = \\int\\limits_{x_0}^{x} 0 \\,d\\tilde{x}\\\\\n",
    "\\Rightarrow & \\left[ \\frac{du}{dx}(\\tilde{x}) \\right]_{x_0}^{x} = 0\\\\\n",
    "\\Rightarrow & \\frac{du}{dx}(x) - \\frac{du}{dx}(x_0) = 0\\\\\n",
    "\\Rightarrow & \\int\\limits_{x_0}^{x} \\frac{du}{dx}(\\tilde{x}) \\,d\\tilde{x} - \\int\\limits_{x_0}^{x} \\frac{du}{dx}(x_0) \\,d\\tilde{x} =  \\int\\limits_{x_0}^{x} 0 \\,d\\tilde{x}\\\\\n",
    "\\Rightarrow & \\left[ u(\\tilde{x}) \\right]_{x_0}^{x} - \\left[ \\frac{du}{dx}(x_0)\\cdot\\tilde{x} \\right]_{x_0}^{x} = 0\\\\\n",
    "\\Rightarrow & u(x) - u(x_0) - \\frac{du}{dx}(x_0) \\cdot x + \\frac{du}{dx}(x_0) \\cdot x_0 = 0\\\\\n",
    "\\Rightarrow & u(x) = \\underbrace{\\frac{du}{dx}(x_0)}_{m} \\cdot x + \\underbrace{u(x_0) - \\frac{du}{dx}(x_0) \\cdot x_0}_{b}\\\\\n",
    "\\end{eqnarray}"
   ]
  },
  {
   "cell_type": "markdown",
   "metadata": {
    "slideshow": {
     "slide_type": "subslide"
    }
   },
   "source": [
    "The unknown function $u(x)$ thus is a linear function of the form $u(x)=m\\cdot x+b$"
   ]
  },
  {
   "cell_type": "markdown",
   "metadata": {
    "slideshow": {
     "slide_type": "fragment"
    }
   },
   "source": [
    "To simplify matters and without restricting the generality, choose $x_0=0$. Thus follows\n",
    "$$\n",
    "u(x) = \\underbrace{\\frac{du}{dx}(0)}_{m} \\cdot x + \\underbrace{u(0)}_{b}\n",
    "$$"
   ]
  },
  {
   "cell_type": "markdown",
   "metadata": {
    "slideshow": {
     "slide_type": "fragment"
    }
   },
   "source": [
    "The function $u(x)$ still contains two unknowns, $m$ and $b$. These unknowns result from the integration constants of the two integrations."
   ]
  },
  {
   "cell_type": "markdown",
   "metadata": {
    "slideshow": {
     "slide_type": "subslide"
    }
   },
   "source": [
    "For a specific solution $u(x)$, these two unknowns are specified in the form of so-called boundary conditions. Boundary conditions are conditions on the searched function on the boundary of the area $\\Omega = (a,b)$.\n",
    "The following boundary conditions are typically used\n",
    "- Dirichlet boundary condition: Function values of the function $u(x)$ on the boundary of $\\Omega$ are specified (in this case, certain temperatures on the boundary of the bar).\n",
    "- Neumann boundary condition: Function values of the derivative $\\frac{du}{dx}(x)$ on the boundary of $\\Omega$ are specified (this corresponds to certain heat fluxes $q_S(x) = -k \\frac{du}{dx}(x)$)."
   ]
  },
  {
   "cell_type": "markdown",
   "metadata": {
    "slideshow": {
     "slide_type": "slide"
    }
   },
   "source": [
    "## Stationary case, position-dependent thermal conductivity $k(x)$, position-dependent source term $q_Q(x)$\n",
    "\n",
    "Consider the stationary case again, i.e. situations without temporal changes.\n",
    "\n",
    "However, the thermal conductivity $k$ of the material should now be able to depend on the location, i.e. $k=k(x)$. Furthermore, we consider heat sources in the rod, whereby the heat source density $q_Q$ can also be position-dependent, i.e. $q_Q=q_Q(x)$."
   ]
  },
  {
   "cell_type": "markdown",
   "metadata": {
    "slideshow": {
     "slide_type": "subslide"
    }
   },
   "source": [
    "The heat source density $q_Q$ is the change in the thermal energy of the system per unit of time and volume.\n",
    "\n",
    "<center>\n",
    "<img src=\"wärmequelldichte.JPG\" alt=\"Drawing\" style=\"width: 20%;\"/>\n",
    "</center>\n",
    "\n",
    "- mathematically \"real\" 1D:\n",
    "$$\n",
    "q_Q(x) = \\frac{Q_Q(x)}{\\Delta x \\cdot \\Delta t} \\quad \\rm{mit} \\quad [q_Q]=\\frac{\\rm{J}}{\\rm{m \\cdot s}}=\\frac{\\rm{W}}{m}\n",
    "$$.\n",
    "\n",
    "- experimentally \"quasi\" 1D:\n",
    "$$\n",
    "q_Q(x) = \\frac{Q_Q(x)}{A \\cdot \\Delta x \\cdot \\Delta t} \\quad \\rm{mit} \\quad [q_Q]=\\frac{\\rm{J}}{\\rm{m^3 s}}=\\frac{\\rm{W}}{\\rm{m^3}}\n",
    "$$"
   ]
  },
  {
   "cell_type": "markdown",
   "metadata": {
    "slideshow": {
     "slide_type": "fragment"
    }
   },
   "source": [
    "An example of such a heat source is Joule heat due to current flow through an electrical conductor with specific resistance $\\rho(x)$."
   ]
  },
  {
   "cell_type": "markdown",
   "metadata": {
    "slideshow": {
     "slide_type": "subslide"
    }
   },
   "source": [
    "### 1. Derivation of the differential equation for heat conduction\n",
    "\n",
    "Consider again a part of the rod of length $\\Delta x$:\n",
    "\n",
    "<center>\n",
    "<img src=\"wärmequelldichte.JPG\" alt=\"Drawing\" style=\"width: 20%;\"/>\n",
    "</center>"
   ]
  },
  {
   "cell_type": "markdown",
   "metadata": {
    "slideshow": {
     "slide_type": "fragment"
    }
   },
   "source": [
    "Due to the conservation of energy, the source strength in volume between $x$ and $x+\\Delta x$ must correspond to the difference in the heat flows $Q_S$ at the interfaces $x$ and $x+\\Delta x$."
   ]
  },
  {
   "cell_type": "markdown",
   "metadata": {
    "slideshow": {
     "slide_type": "subslide"
    }
   },
   "source": [
    "The following must therefore apply\n",
    "\\begin{eqnarray}\n",
    "& \\int\\limits_{x}^{x + \\Delta x} q_Q(\\tilde{x}) \\cdot A \\cdot \\Delta t \\,d\\tilde{x} &\\stackrel{!}{=}& Q_S(x + \\Delta x) - Q_S(x) = q_S(x + \\Delta x) \\cdot A \\cdot \\Delta t - q_S(x) \\cdot A \\cdot \\Delta t\\\\\n",
    "\\Rightarrow & \\int\\limits_{x}^{x + \\Delta x} q_Q(\\tilde{x}) \\,d\\tilde{x} &=& q_S(x + \\Delta x) - q_S(x)\\\\\n",
    "& &=& -k(x + \\Delta x) \\cdot \\frac{du}{dx}(x + \\Delta x) + k(x) \\cdot \\frac{du}{dx}(x)\\\\\n",
    "& &=& -\\left[ k(\\tilde{x}) \\cdot \\frac{du}{dx}(\\tilde{x}) \\right]_x^{x+\\Delta x}\\\\\n",
    "& &=& -\\int\\limits_x^{x+\\Delta x} \\frac{d \\left( k(\\tilde{x}) \\cdot \\frac{du}{dx}(\\tilde{x})\\right)}{dx}(\\tilde{x}) \\,d\\tilde{x}\\\\\n",
    "\\end{eqnarray}"
   ]
  },
  {
   "cell_type": "markdown",
   "metadata": {
    "slideshow": {
     "slide_type": "subslide"
    }
   },
   "source": [
    "The equation must again be fulfilled for any $x$ and $\\Delta x$. Therefore, the integrands must be equal, so after replacing $\\tilde{x}$ with $x$, the following must apply\n",
    "\n",
    "$$\n",
    " -\\frac{d \\left( k(x) \\cdot \\frac{du}{dx}(x)\\right)}{dx}(x) = q_Q(x)\n",
    "$$"
   ]
  },
  {
   "cell_type": "markdown",
   "metadata": {
    "slideshow": {
     "slide_type": "fragment"
    }
   },
   "source": [
    "This differential equation for heat conduction therefore already represents a more complex condition for the function sought for the temperature distribution in the stationary case $u(x)$. It states that the following must apply for $u(x)$ at each location $x$: the derivative of the product of $k(x)$ and $\\frac{du}{dx}(x)$ must be equal to the heat source density $q_Q(x)$."
   ]
  },
  {
   "cell_type": "markdown",
   "metadata": {
    "slideshow": {
     "slide_type": "fragment"
    }
   },
   "source": [
    "The physical meaning of this equation becomes obvious when we use the expression for the heat flow density $q_s(x)=k(x)\\cdot\\frac{du}{dx}(x)$. Then the following must apply\n",
    "\n",
    "$$\n",
    " -\\frac{d q_s(x)}{dx}(x) = q_Q(x)\n",
    "$$\n",
    "\n",
    "In the stationary case, a change in the heat flux density along the rod must therefore always correspond to a corresponding heat source density."
   ]
  },
  {
   "cell_type": "markdown",
   "metadata": {
    "slideshow": {
     "slide_type": "subslide"
    }
   },
   "source": [
    "If the thermal conductivity $k(x)$ is independent of the location $x$, i.e. $k(x)=k$, the constant $k$ can be drawn in front of the derivative. Then the following applies\n",
    "\n",
    "$$\n",
    "-\\frac{d \\left( k \\cdot \\frac{du}{dx}(x)\\right)}{dx}(x) = -k\\frac{d \\left(\\frac{du}{dx}(x)\\right)}{dx}(x) = -k \\frac{d^2u}{dx^2}(x) = q_Q(x)\n",
    "$$"
   ]
  },
  {
   "cell_type": "markdown",
   "metadata": {
    "slideshow": {
     "slide_type": "fragment"
    }
   },
   "source": [
    "If $q_Q(x)=0$, we again obtain the differential equation for heat conduction for the stationary case with constant thermal conductivity $k$."
   ]
  },
  {
   "cell_type": "markdown",
   "metadata": {
    "slideshow": {
     "slide_type": "subslide"
    }
   },
   "source": [
    "### 2. Solution of the differential equation for heat conduction\n",
    "\n",
    "#### Exercise\n",
    "\n",
    "We consider a rod of length $l$, mathematically the one-dimensional domain $\\Omega=(0:l)$. The rod has a constant thermal conductivity $k$ and is heated with a constant heat source density $q_Q$. It is therefore $q_Q>0$.\n",
    "\n",
    "- Calculate for this rod from the differential equation for heat conduction \n",
    "$$\n",
    " -k \\frac{d^2u}{dx^2}(x) = q_Q\n",
    "$$\n",
    "the temperature distribution $u(x)$ for the stationary case.\n",
    "\n",
    "\n",
    "- Show that the temperature distribution in the stationary case is given by\n",
    "$$\\tag{*}\n",
    " u(x)=-\\frac{q_Q}{2k} \\cdot x^2 + \\frac{du}{dx}(0) \\cdot x + u(0)\n",
    "$$"
   ]
  },
  {
   "cell_type": "markdown",
   "metadata": {
    "slideshow": {
     "slide_type": "subslide"
    }
   },
   "source": [
    "- Indicate which terms in this equation are material parameters and which terms are boundary conditions (what kind of boundary conditions?).\n",
    "\n",
    "\n",
    "- Now consider an experiment in which both boundary conditions are Dirichlet boundary conditions, i.e. in which the temperature at the ends of the rod is given by $u(0)$ and $u(l)$. Put equation (*) into a form in which only these two boundary conditions appear in addition to the material parameters.\n",
    "\n",
    "\n",
    "- Due to the heating of the rod, it is possible that the maximum temperature of the rod is not assumed at the ends of the rod but between them. Show that a temperature maximum between the bar ends is only possible under the condition\n",
    "$$\n",
    " \\left|u(l)-u(0)\\right|<\\frac{q_Ql^2}{2k}\n",
    "$$\n",
    "can occur."
   ]
  },
  {
   "cell_type": "code",
   "execution_count": null,
   "metadata": {},
   "outputs": [],
   "source": []
  }
 ],
 "metadata": {
  "kernelspec": {
   "display_name": "Python 3 (ipykernel)",
   "language": "python",
   "name": "python3"
  },
  "language_info": {
   "codemirror_mode": {
    "name": "ipython",
    "version": 3
   },
   "file_extension": ".py",
   "mimetype": "text/x-python",
   "name": "python",
   "nbconvert_exporter": "python",
   "pygments_lexer": "ipython3",
   "version": "3.12.4"
  },
  "toc": {
   "base_numbering": 1,
   "nav_menu": {},
   "number_sections": true,
   "sideBar": true,
   "skip_h1_title": false,
   "title_cell": "Table of Contents",
   "title_sidebar": "Contents",
   "toc_cell": false,
   "toc_position": {},
   "toc_section_display": true,
   "toc_window_display": false
  }
 },
 "nbformat": 4,
 "nbformat_minor": 2
}
