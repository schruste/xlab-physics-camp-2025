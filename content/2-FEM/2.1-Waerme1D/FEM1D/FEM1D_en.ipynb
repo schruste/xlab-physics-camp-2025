{
 "cells": [
  {
   "cell_type": "markdown",
   "metadata": {
    "slideshow": {
     "slide_type": "slide"
    }
   },
   "source": [
    "## Before we start, let's load a few libraries:"
   ]
  },
  {
   "cell_type": "code",
   "execution_count": null,
   "metadata": {},
   "outputs": [],
   "source": []
  },
  {
   "cell_type": "code",
   "execution_count": null,
   "metadata": {
    "code_folding": [
     0
    ],
    "slideshow": {
     "slide_type": "fragment"
    }
   },
   "outputs": [],
   "source": [
    "#module includes\n",
    "from ipywidgets import interact, interactive_output, interact_manual, interactive, FloatSlider, IntSlider, Dropdown\n",
    "from IPython.display import display\n",
    "from math import sin, cos, exp, log, sqrt\n",
    "from ngsolve import *\n",
    "from mesh1d import *\n",
    "from draw1d import * \n",
    "from specials import *"
   ]
  },
  {
   "cell_type": "markdown",
   "metadata": {
    "slideshow": {
     "slide_type": "slide"
    }
   },
   "source": [
    "# Introduction to the finite element method for the 1D heat conduction problem"
   ]
  },
  {
   "cell_type": "markdown",
   "metadata": {
    "slideshow": {
     "slide_type": "subslide"
    }
   },
   "source": [
    "- The differential equation:\n",
    "$$\n",
    "  - k \\frac{d^2 u}{d x^2}(x) = q_Q(x) \\quad \\text{for all} \\quad x \\quad \\text{ in the intervall } (a,b).\n",
    "$$"
   ]
  },
  {
   "cell_type": "markdown",
   "metadata": {
    "slideshow": {
     "slide_type": "fragment"
    }
   },
   "source": [
    "- The boundary conditions:\n",
    "  - Specified temperature at the edge, e.g: \n",
    "$$\n",
    "  u(a) = T_a \\in \\mathbb{R}, \\qquad u(b) = T_b \\in \\mathbb{R}. \n",
    "$$\n",
    "  - Specified heat flow at the edge, e.g: \n",
    "$$\n",
    "  k \\frac{ d u}{d x}(a) = q_S^a \\in \\mathbb{R}, \\qquad - k \\frac{ d u}{d x}(b) = q_S^b \\in \\mathbb{R}.\n",
    "$$"
   ]
  },
  {
   "cell_type": "markdown",
   "metadata": {
    "slideshow": {
     "slide_type": "slide"
    }
   },
   "source": [
    "## Unknown quantity is a function\n",
    "\n",
    "- The solution of the differential equation is a function \n",
    "- A function has “infinitely many degrees of freedom”, example:\n",
    "    - Let $f(x)$ be a function in the interval [0,1]\n",
    "    - We fix $N+1$ degrees of freedom at $N+1$ points: $f(x) = 0$ for $x = \\frac{0}{N}, \\frac{1}{N}, \\frac{2}{N}, ... , \\frac{N-1}{N}, \\frac{N}{N}$\n",
    "    - Nevertheless, there are functions $f(x)$ that are not 0 everywhere:"
   ]
  },
  {
   "cell_type": "code",
   "execution_count": null,
   "metadata": {
    "slideshow": {
     "slide_type": "fragment"
    }
   },
   "outputs": [],
   "source": [
    "interact(DrawSpecialFunction,N=(1,193,12));"
   ]
  },
  {
   "cell_type": "markdown",
   "metadata": {
    "slideshow": {
     "slide_type": "subslide"
    }
   },
   "source": [
    "- The considered functions are no longer “smooth” for $N \\to \\infty$\n",
    "- If the function we are looking for is “smooth”, the function can be approximated well with a finite number of degrees of freedom:"
   ]
  },
  {
   "cell_type": "code",
   "execution_count": null,
   "metadata": {
    "code_folding": [
     0
    ],
    "scrolled": true,
    "slideshow": {
     "slide_type": "fragment"
    }
   },
   "outputs": [],
   "source": [
    "align(interactive(DrawErrorToSmoothFunction,N=(10,100,10),smooth_function=[\"sin(3*pi*x)*cos(5*pi*x)\",\n",
    "                     \"x**8+6*x**4\",\"sin(8*pi*x)\"]))"
   ]
  },
  {
   "cell_type": "markdown",
   "metadata": {
    "slideshow": {
     "slide_type": "subslide"
    }
   },
   "source": [
    "## Basic idea discretization of partial differential equations\n",
    "\n",
    " 1. choose representation of the function so that the function is still well approximated \n",
    "   \n",
    "   (large $N$ is better (more accurate))\n",
    "   \n",
    " 2. determine equations for the $N$ unknowns\n",
    " \n",
    " 3. solve equations \n",
    "   \n",
    "   (small $N$ is better (more economical))"
   ]
  },
  {
   "cell_type": "markdown",
   "metadata": {
    "slideshow": {
     "slide_type": "slide"
    }
   },
   "source": [
    "## 1. “Approximation” of a “smooth” function"
   ]
  },
  {
   "cell_type": "markdown",
   "metadata": {
    "slideshow": {
     "slide_type": "slide"
    }
   },
   "source": [
    "### Degrees of freedom for approximating a function:\n",
    "   $\n",
    "       u_h(x) = c_0 \\varphi_0(x) + c_1 \\varphi_1(x) + ... + c_{n-1} \\varphi_{n-1}(x) = \\sum_{i=0}^{n-1} c_i \\varphi_i(x)\n",
    "   $\n",
    "   - The coefficients $c_i$ are the unknowns (“degrees of freedom”), $i=0,...,n-1$.\n",
    "   - $\\varphi_i(x)$ are the “basis functions”."
   ]
  },
  {
   "cell_type": "code",
   "execution_count": null,
   "metadata": {
    "code_folding": [
     0
    ],
    "scrolled": false,
    "slideshow": {
     "slide_type": "fragment"
    }
   },
   "outputs": [],
   "source": [
    "align(interactive(DrawBasisFunction, N=[4,6,8], i=IntSlider(min=0, max=41, step=1, continuous_update=False),\n",
    "                  order=[1,2,3]))"
   ]
  },
  {
   "cell_type": "markdown",
   "metadata": {
    "slideshow": {
     "slide_type": "subslide"
    }
   },
   "source": [
    "### The space of all functions of the form $u_h(x) = \\sum_{i=0}^{n-1} c_i \\varphi_i(x)$\n",
    " - All functions that can be represented as linear combinations of the basic functions are collected in the **\"Finite element space\"**:\n",
    " $$\n",
    "   V_h \\text{ is the set of all functions }u_h \\text{ with } u_h(x) = \\sum_{i=0}^{n-1} c_i \\varphi_i(x)\n",
    " $$"
   ]
  },
  {
   "cell_type": "code",
   "execution_count": null,
   "metadata": {
    "code_folding": [
     0
    ],
    "slideshow": {
     "slide_type": "subslide"
    }
   },
   "outputs": [],
   "source": [
    "align(interactive(ApproximateWithFESpace, \n",
    "                  N=[4,8,16,32,64], \n",
    "                  order=[1,2,3], \n",
    "                  f=[\"sin(3·pi·x)\",\n",
    "                     \"sin(3·pi·x)·cos(5·pi·x)\"]))"
   ]
  },
  {
   "cell_type": "markdown",
   "metadata": {
    "slideshow": {
     "slide_type": "subslide"
    }
   },
   "source": [
    "### Visualization of the \"partial sum\" $u_h^j = \\sum_{i=0}^{\\color{red}j} c_i \\varphi_i(x)$:"
   ]
  },
  {
   "cell_type": "code",
   "execution_count": null,
   "metadata": {
    "code_folding": [
     0
    ],
    "slideshow": {
     "slide_type": "-"
    }
   },
   "outputs": [],
   "source": [
    "align(interactive(PartialApproximateWithFESpace, N=[4,8,16,32,64], \n",
    "                  order=[1,2,3], f=[\"sin(3·pi·x)\",\"sin(3·pi·x)·cos(5·pi·x)\"], j=IntSlider(min=-1, max=200, step=1, continuous_update=False)))"
   ]
  },
  {
   "cell_type": "markdown",
   "metadata": {
    "slideshow": {
     "slide_type": "slide"
    }
   },
   "source": [
    "## 2. Determination of the equations for the unknowns"
   ]
  },
  {
   "cell_type": "markdown",
   "metadata": {
    "slideshow": {
     "slide_type": "subslide"
    }
   },
   "source": [
    "#### Goal:\n",
    "\n",
    "* Find $n$ equations for the $n$ unknowns: \n",
    "* Since the differential equation is linear, we expect to be able to find $n$ linear equations. \n",
    "* So we first look for a linear system of equations of the form \n",
    " $$\n",
    " \\left( \\begin{array}{cccc} \n",
    " A_{0,0} & A_{0,1} & \\dots & A_{0,n-1} \\\\ \n",
    " A_{1,0} & A_{1,1} & \\dots & A_{1,n-1} \\\\ \n",
    " \\vdots & \\vdots & \\ddots & \\vdots \\\\ \n",
    " A_{n-1,0} & A_{n-1,1} & \\dots & A_{n-1,n-1} \\\\ \n",
    " \\end{array}\n",
    " \\right) \\cdot \n",
    "  \\left( \\begin{array}{c} \n",
    " c_{0} \\\\ c_1 \\\\ \\vdots \\\\ c_{n-1}\n",
    " \\end{array}\n",
    " \\right)\n",
    " =\n",
    "  \\left( \\begin{array}{c} \n",
    " f_{0} \\\\ f_1 \\\\ \\vdots \\\\ f_{n-1}\n",
    " \\end{array}\n",
    " \\right)\n",
    "  $$\n",
    "  to determine the coefficients.\n",
    "  \n",
    "* Attention: Numbering from $0$ to $n-1$ (alternatively also possible from $1$ to $n$)."
   ]
  },
  {
   "cell_type": "markdown",
   "metadata": {
    "slideshow": {
     "slide_type": "subslide"
    }
   },
   "source": [
    "- Require $n$ equations for $n$ unknowns\n",
    "- In the finite element method, we require the partial differential equation **not at points**\n",
    "- Instead, we first reformulate the partial differential equation:\n",
    "\n",
    "\n",
    "\\begin{align*}\n",
    "    - k \\frac{d^2 u}{d x^2}(x) &= q_Q(x) \\text{ in } (a,b), \\\\    \\text{multiply by (almost) any} & \\text{ function } v(x) \\text{ and integrate over the domain: } \\\\\n",
    "    \\Longrightarrow \\int_a^b - k \\frac{d^2 u}{d x^2}(x) v(x) \\ dx &= \\int_a^b q_Q(x) v(x) \\ dx\n",
    "\\end{align*}"
   ]
  },
  {
   "cell_type": "markdown",
   "metadata": {
    "slideshow": {
     "slide_type": "subslide"
    }
   },
   "source": [
    "* $\\leadsto$ [Exercise on partial integration and boundary conditions](../../../Uebungen/blatt_zu_1DFEM.pdf)"
   ]
  },
  {
   "cell_type": "markdown",
   "metadata": {
    "slideshow": {
     "slide_type": "subslide"
    }
   },
   "source": [
    "\n",
    "$$\n",
    "    \\Longrightarrow  \\int_a^b k \\frac{d u}{d x}(x) \\frac{d v}{d x}(x) \\ dx - \\Big[k \\frac{d u}{dx} v(x) \\Big]_a^b = \\int_a^b q_Q(x) v(x) \\ dx\n",
    "    $$\n",
    "   "
   ]
  },
  {
   "cell_type": "markdown",
   "metadata": {
    "slideshow": {
     "slide_type": "slide"
    }
   },
   "source": [
    "* For the sake of simplicity, we assume that $u(a)$ and $u(b)$ are given (Dirichlet boundary conditions), i.e. \n",
    "$u(a)=T^a$, $u(b)=T^b$\n",
    "* The “freedom” that we take from the unknown function $u$, we also take from the “test function” $v$ and set $v(a) = v(b) = 0$\n",
    "* This simplifies the problem to a (weak) formulation (FEM formulation):\n",
    "Find the function $u(x)$ with $u(a)=T^a$, $u(b)=T^b$, so that for (almost) every function $v(x)$ with $v(a)=v(b)=0$ holds\n",
    "$$ \\int_a^b k \\frac{d u}{d x}(x) \\frac{d v}{d x}(x) \\ dx = \\int_a^b q_Q(x) v(x) \\ dx. $$\n",
    "* Corresponding modified left and right side for other boundary conditions (see exercise)"
   ]
  },
  {
   "cell_type": "markdown",
   "metadata": {
    "slideshow": {
     "slide_type": "subslide"
    }
   },
   "source": [
    "- Discretization by requirement:\n",
    "\n",
    "  Find a function $u_h(x)$ with $u_h = T^a \\cdot \\varphi_0 (x) + \\sum_{\\color{red}{j=1}}^{\\color{red}{n-2}} c_j \\varphi_j(x) + T^b \\cdot \\varphi_{n-1} (x)$ such that \n",
    "  $$ \\int_a^b k \\frac{d u_h}{d x}(x) \\frac{d v_h}{d x}(x) \\ dx = \\int_a^b q_Q(x) v_h(x) \\ dx $$\n",
    "  for all functions $v_h \\in V_{h,0} = V_h \\cap \\{v(a)=v(b)=0\\}$, i.e. all functions in $V_h$ that also fulfill the boundary condition $v(a)=v(b)=0$.  "
   ]
  },
  {
   "cell_type": "markdown",
   "metadata": {
    "slideshow": {
     "slide_type": "subslide"
    }
   },
   "source": [
    "- Equivalently, we can ask:\n",
    "\n",
    "  Find the coefficients $c_j$, $j = 1,...,n-2$, such that\n",
    "  $$ \\int_a^b k \\frac{d u_h}{d x}(x) \\frac{d \\varphi_i}{d x}(x) \\ dx = \\int_a^b q_Q(x) \\varphi_i(x) \\ dx $$\n",
    "  for all $i = 1,...,n-2$.\n",
    " \n",
    " - I.e. we have $n-2$ equations for $n-2$ unknowns."
   ]
  },
  {
   "cell_type": "markdown",
   "metadata": {
    "slideshow": {
     "slide_type": "subslide"
    }
   },
   "source": [
    " * with $u_h = T^a \\cdot \\varphi_0 (x) + \\sum_{\\color{red}{j=1}}^{\\color{red}{n-2}} c_j \\varphi_j(x) + T^b \\cdot \\varphi_{n-1} (x)$ we can also write:\n",
    " \n",
    " Find the coefficients $c_j$, $j = 1,..,n-2$, so that for all $i = 1,..,n-2$ \n",
    "  $$ \\sum_{{i=1}}^{{n-2}} c_j \\underbrace{\\int_a^b k \\frac{d \\varphi_j}{d x}(x) \\frac{d \\varphi_i}{d x}(x) \\ dx}_{A_{i,j}} = f_i \\qquad \\text{with}$$\n",
    "  $$\n",
    "  f_i = \\int_a^b q_Q(x) \\varphi_i(x) \\ dx - T^a \\int_a^b k \\frac{d \\varphi_0}{d x}(x) \\frac{d \\varphi_i}{d x}(x) \\ dx - T^b \\int_a^b k \\frac{d \\varphi_{n-1}}{d x}(x) \\frac{d \\varphi_i}{d x}(x) \\ dx\n",
    "  $$\n",
    "  \n",
    "\n",
    " "
   ]
  },
  {
   "cell_type": "markdown",
   "metadata": {
    "slideshow": {
     "slide_type": "fragment"
    }
   },
   "source": [
    "$\\leadsto$ Exercise: Calculate the step from the last slides to this one."
   ]
  },
  {
   "cell_type": "markdown",
   "metadata": {
    "slideshow": {
     "slide_type": "subslide"
    }
   },
   "source": [
    " * This corresponds to a matrix-vector equation\n",
    " $$\n",
    " \\left( \\begin{array}{cccc} \n",
    " A_{1,1} & A_{1,2} & \\dots & A_{1,n-2} \\\\ \n",
    " A_{2,1} & A_{2,2} & \\dots & A_{2,n-2} \\\\ \n",
    " \\vdots & \\vdots & \\ddots & \\vdots \\\\ \n",
    " A_{n-2,1} & A_{n-2,2} & \\dots & A_{n-2,n-2} \\\\ \n",
    " \\end{array}\n",
    " \\right) \\cdot \n",
    "  \\left( \\begin{array}{c} \n",
    " c_{1} \\\\ c_2 \\\\ \\vdots \\\\ c_{n-2}\n",
    " \\end{array}\n",
    " \\right)\n",
    " =\n",
    "  \\left( \\begin{array}{c} \n",
    " f_{1} \\\\ f_2 \\\\ \\vdots \\\\ f_{n-2}\n",
    " \\end{array}\n",
    " \\right)\n",
    "  $$\n",
    "  \n",
    " * Solving the linear equations with specialized solvers, e.g. based on Gaussian elimination \n",
    " * How are the matrix entries composed?"
   ]
  },
  {
   "cell_type": "markdown",
   "metadata": {
    "slideshow": {
     "slide_type": "subslide"
    }
   },
   "source": [
    "#### Calculation of the matrix entries"
   ]
  },
  {
   "cell_type": "code",
   "execution_count": null,
   "metadata": {
    "scrolled": false,
    "slideshow": {
     "slide_type": "-"
    }
   },
   "outputs": [],
   "source": [
    "ComputeMatrixEntry(N=12,order=1,k=1)"
   ]
  },
  {
   "cell_type": "markdown",
   "metadata": {
    "slideshow": {
     "slide_type": "subslide"
    }
   },
   "source": [
    "#### “Sparse” system matrix: $A_{i,j} = 0$ for most $(i,j)$ pairs"
   ]
  },
  {
   "cell_type": "code",
   "execution_count": null,
   "metadata": {
    "scrolled": false,
    "slideshow": {
     "slide_type": "-"
    }
   },
   "outputs": [],
   "source": [
    "align(interactive(Spy,N=[1,2,3,4,8,16],order=[1,2,3,4]))"
   ]
  },
  {
   "cell_type": "markdown",
   "metadata": {
    "slideshow": {
     "slide_type": "subslide"
    }
   },
   "source": [
    "#### Exercise:\n",
    "\n",
    "* Consider $N = 3$, `order`$=1$ and $k=1$ and $q_Q=1$\n",
    "* There are $n=4$ coefficients to be determined\n",
    "* We also require that the first and last coefficients are 0 (boundary condition)\n",
    "* Determine the matrix entries $A_{1,1}$, $A_{1,2}$, $A_{2,1}$, $A_{2,2}$ \n",
    "* Solve the system of equations\n",
    "\\begin{align*}\n",
    "\\begin{array}{rl}\n",
    "  A_{1,1} c_1 + A_{1,2} c_2 &= f_1 \\\\\n",
    "  A_{2,1} c_1 + A_{2,2} c_2 &= f_2 \n",
    "\\end{array} \n",
    "\\qquad \\Longleftrightarrow \\qquad\n",
    "\\left( \n",
    "\\begin{array}{rl}\n",
    "  A_{1,1} & A_{1,2} \\\\\n",
    "  A_{2,1} & A_{2,2} \n",
    "\\end{array}\n",
    "\\right)\n",
    "\\cdot\n",
    "\\left(\n",
    "\\begin{array}{c} \n",
    "c_1 \\\\ \n",
    "c_2 \n",
    "\\end{array}\n",
    "\\right)=\n",
    "\\left(\n",
    "\\begin{array}{c} f_1 \\\\ f_2 \\end{array} \n",
    "\\right)\n",
    "\\end{align*}\n",
    " for the determined coefficients $A_{1,1}$, $A_{1,2}$, $A_{2,1}$, $A_{2,2}$ and\n",
    " $$\n",
    " f_1 = \\int_{\\Omega} \\underbrace{q_Q}_{=1} \\varphi_1 dx = h = 1/N = 1/3, \\qquad\n",
    " f_2 = \\int_{\\Omega} \\underbrace{q_Q}_{=1} \\varphi_2 dx = h = 1/N = 1/3\n",
    " $$\n",
    "* Sketch the solution"
   ]
  },
  {
   "cell_type": "markdown",
   "metadata": {
    "slideshow": {
     "slide_type": "slide"
    }
   },
   "source": [
    "## 4. Model calculations"
   ]
  },
  {
   "cell_type": "markdown",
   "metadata": {
    "slideshow": {
     "slide_type": "subslide"
    }
   },
   "source": [
    " ![alt](heat1d.png) "
   ]
  },
  {
   "cell_type": "markdown",
   "metadata": {
    "slideshow": {
     "slide_type": "subslide"
    }
   },
   "source": [
    "#### The differential equation:\n",
    "$$\n",
    "  - k(x) \\frac{d^2 u}{d x^2}(x) = q_Q(x) \\quad \\text{for all} \\quad x \\quad \\text{ in the intervall } (a,b),\n",
    "$$\n",
    "where \n",
    "$$\n",
    "  k(x) = \\left\\{ \\begin{array}{cl} k_1 & \\text{ for } x < 0.5 (a+b), \\\\ k_2 & \\text{ else. }  \\end{array} \\right. , \\qquad\n",
    "  q_Q(x) = \\left\\{ \\begin{array}{cl} q_Q^1 & \\text{ for } x < 0.5(a+b), \\\\ q_Q^2 & \\text{ else. }\\end{array} \\right.\n",
    "$$\n",
    "#### Possible boundary conditions\n",
    "\n",
    " \\begin{align*}\n",
    " \\text{\"Dirichlet\":} & & u(a) &= T^a, &\\qquad u(b) &= T^b, \\\\\n",
    " \\text{\"Neumann\":} & &k \\frac{d u}{dx}(a) &= q_S^a, &\\qquad - k \\frac{d u}{dx}(b) &= q_S^b, \\\\\n",
    " \\text{\"Robin\":} & & k \\frac{d u}{dx}(a) &= \\alpha^a  (T^a - u(a)), & \\qquad - k \\frac{d u}{dx}(b) &= \\alpha^b (T^b - u(b)), \\\\\n",
    " \\end{align*}\n",
    " "
   ]
  },
  {
   "cell_type": "code",
   "execution_count": null,
   "metadata": {
    "scrolled": false,
    "slideshow": {
     "slide_type": "subslide"
    }
   },
   "outputs": [],
   "source": [
    "Heat1DExample()"
   ]
  },
  {
   "cell_type": "markdown",
   "metadata": {
    "slideshow": {
     "slide_type": "subslide"
    }
   },
   "source": [
    "#### Exercise:\n",
    "Solve the following problems (numerically) and vary $k_1,~k_2$ and $q_Q^1,~q_Q^2$:\n",
    "* 1.:\n",
    "  * Solve the problem from the last task again numerically and compare your result.\n",
    "* 2.:\n",
    "  * There should be no heat flow at the right edge\n",
    "  * A temperature of 20°C is measured at the left edge\n",
    "  * Heating is applied on the whole interval $[0,1]$\n",
    "  * What is the temperature at the right edge?\n",
    "* 3.:\n",
    "  * Outside $[0,1]$ there is a temperature of $\\bar u = 20°C$ and the heat transfer law applies:\n",
    "    $$\n",
    "      q_s \\sim u - T^{\\text{ref}}\n",
    "    $$\n",
    "  * Heating takes place over the entire interval\n",
    "  * The thermal conductivity on the right is 10 times greater than on the left"
   ]
  },
  {
   "cell_type": "code",
   "execution_count": null,
   "metadata": {
    "code_folding": [
     0
    ],
    "slideshow": {
     "slide_type": "subslide"
    }
   },
   "outputs": [],
   "source": [
    "Heat1DFEM( N=2, order=2, \n",
    "           k1 = 30, k2 = 30, \n",
    "           Q1 = 30000, Q2= 30000, \n",
    "           boundary_condition_left = \"Dirichlet\", boundary_condition_right = \"Dirichlet\", \n",
    "           value_left = 20, value_right = 20, \n",
    "           q_value_left = 0, q_value_right = 1, \n",
    "           r_value_left = 0, r_value_right = 1,\n",
    "           intervalsize = 0.14)"
   ]
  },
  {
   "cell_type": "markdown",
   "metadata": {
    "slideshow": {
     "slide_type": "slide"
    }
   },
   "source": [
    "### Heat losses via the surface area\n",
    "\n",
    "* If we now include losses via the lateral surface again, we obtain\n",
    "\n",
    "\\begin{align*}\n",
    "    - k \\frac{d^2 u}{d x^2}(x) + \\bar{\\alpha} (u-\\bar{T}) &= q_Q(x) \\text{ in } (a,b)\n",
    "\\end{align*}\n",
    "\n",
    "where $\\bar{T}$ is the external temperature (assumed to be constant) and $\\bar{\\alpha}$ is the heat transfer coefficient for the heat transfer across the lateral surface.\n",
    "\n",
    "\n",
    "* The problem for the (weak) formulation (FEM formulation) with Dirichlet boundary conditions thus becomes:\n",
    "Find the function $u(x)$ with $u(a)=T^a$, $u(b)=T^b$, so that for (almost) every function $v(x)$ with $v(a)=v(b)=0$ holds\n",
    "\n",
    "$$ \\int_a^b k \\frac{d u}{d x}(x) + \\bar{\\alpha} u(x) v(x) \\frac{d v}{d x}(x) \\ dx = \\int_a^b (q_Q(x)+\\bar{\\alpha} \\bar{T}) v(x) \\ dx. $$\n",
    "\n",
    "\n",
    "* Corresponding modified left and right sides with other boundary conditions are obtained analogously to the previously considered case."
   ]
  },
  {
   "cell_type": "code",
   "execution_count": null,
   "metadata": {
    "slideshow": {
     "slide_type": "subslide"
    }
   },
   "outputs": [],
   "source": [
    "  Heat1DExample_with_ref()"
   ]
  },
  {
   "cell_type": "code",
   "execution_count": null,
   "metadata": {
    "code_folding": [
     0
    ],
    "slideshow": {
     "slide_type": "subslide"
    }
   },
   "outputs": [],
   "source": [
    "Heat1DFEM( N=10, order=3 , \n",
    "           k1 = 50, k2 = 50, \n",
    "           Q1 = 1250000, Q2= 1250000, \n",
    "           boundary_condition_left = \"Dirichlet\", boundary_condition_right = \"Dirichlet\", \n",
    "           value_left = 20, value_right = 0, \n",
    "           q_value_left = 10, q_value_right = 1, \n",
    "           r_value_left = 0, r_value_right = 1,\n",
    "           value_ref=22, c_ref = 100000,\n",
    "           intervalsize = 0.14)"
   ]
  }
 ],
 "metadata": {
  "kernelspec": {
   "display_name": "Python 3 (ipykernel)",
   "language": "python",
   "name": "python3"
  },
  "language_info": {
   "codemirror_mode": {
    "name": "ipython",
    "version": 3
   },
   "file_extension": ".py",
   "mimetype": "text/x-python",
   "name": "python",
   "nbconvert_exporter": "python",
   "pygments_lexer": "ipython3",
   "version": "3.12.4"
  },
  "toc": {
   "base_numbering": 1,
   "nav_menu": {},
   "number_sections": true,
   "sideBar": true,
   "skip_h1_title": false,
   "title_cell": "Table of Contents",
   "title_sidebar": "Contents",
   "toc_cell": false,
   "toc_position": {},
   "toc_section_display": true,
   "toc_window_display": false
  },
  "varInspector": {
   "cols": {
    "lenName": 16,
    "lenType": 16,
    "lenVar": 40
   },
   "kernels_config": {
    "python": {
     "delete_cmd_postfix": "",
     "delete_cmd_prefix": "del ",
     "library": "var_list.py",
     "varRefreshCmd": "print(var_dic_list())"
    },
    "r": {
     "delete_cmd_postfix": ") ",
     "delete_cmd_prefix": "rm(",
     "library": "var_list.r",
     "varRefreshCmd": "cat(var_dic_list()) "
    }
   },
   "types_to_exclude": [
    "module",
    "function",
    "builtin_function_or_method",
    "instance",
    "_Feature"
   ],
   "window_display": false
  }
 },
 "nbformat": 4,
 "nbformat_minor": 2
}
