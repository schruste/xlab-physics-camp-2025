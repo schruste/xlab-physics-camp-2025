{
 "cells": [
  {
   "cell_type": "code",
   "execution_count": null,
   "metadata": {
    "editable": true,
    "slideshow": {
     "slide_type": "slide"
    },
    "tags": []
   },
   "outputs": [],
   "source": [
    "## Bevor wir anfangen laden wir ein paar Bibliotheken:"
   ]
  },
  {
   "cell_type": "code",
   "execution_count": null,
   "metadata": {
    "code_folding": [
     0
    ],
    "editable": true,
    "slideshow": {
     "slide_type": "fragment"
    },
    "tags": []
   },
   "outputs": [],
   "source": [
    "#module includes\n",
    "from ipywidgets import interact, interactive_output, interact_manual, interactive, FloatSlider, IntSlider, Dropdown\n",
    "import matplotlib\n",
    "from IPython.display import display\n",
    "from math import sin, cos, exp, log, sqrt\n",
    "from ngsolve import *\n",
    "from mesh1d import *\n",
    "from draw1d import * \n",
    "from specials import *"
   ]
  },
  {
   "cell_type": "markdown",
   "metadata": {
    "editable": true,
    "slideshow": {
     "slide_type": "slide"
    },
    "tags": []
   },
   "source": [
    "# Einführung in die Finite-Elemente-Methode für das 1D Wärmeleitungsproblem"
   ]
  },
  {
   "cell_type": "markdown",
   "metadata": {
    "editable": true,
    "slideshow": {
     "slide_type": "subslide"
    },
    "tags": []
   },
   "source": [
    "- Die Differenzialgleichung:\n",
    "$$\n",
    "  - k \\frac{d^2 u}{d x^2}(x) = q_Q(x) \\quad \\text{für alle} \\quad x \\quad \\text{ im Intervall } (a,b).\n",
    "$$"
   ]
  },
  {
   "cell_type": "markdown",
   "metadata": {
    "editable": true,
    "slideshow": {
     "slide_type": "fragment"
    },
    "tags": []
   },
   "source": [
    "- Die Randbedingungen:\n",
    "  - Vorgegebene Temperatur am Rand, z.B: \n",
    "$$\n",
    "  u(a) = T_a \\in \\mathbb{R}, \\qquad u(b) = T_b \\in \\mathbb{R}. \n",
    "$$\n",
    "  - Vorgegebener Wärmefluss am Rand, z.B: \n",
    "$$\n",
    "  k \\frac{ d u}{d x}(a) = q_S^a \\in \\mathbb{R}, \\qquad - k \\frac{ d u}{d x}(b) = q_S^b \\in \\mathbb{R}.\n",
    "$$"
   ]
  },
  {
   "cell_type": "markdown",
   "metadata": {
    "editable": true,
    "slideshow": {
     "slide_type": "slide"
    },
    "tags": []
   },
   "source": [
    "## Unbekannte Größe ist eine Funktion\n",
    "\n",
    "- Die Lösung der Differenzialgleichung ist eine Funktion \n",
    "- Eine Funktion hat \"unendlich viele Freiheitsgrade\", Beispiel:\n",
    "    - Sei f(x) eine Funktion im Intervall [0,1]\n",
    "    - Wir fixieren N+1 Freiheitsgrade an N+1 Stellen: f(x) = 0 für x = $\\frac{0}{N}, \\frac{1}{N}, \\frac{2}{N}, .. , \\frac{N-1}{N}, \\frac{N}{N}$\n",
    "    - Dennoch existieren Funktionen f(x) die nicht überall 0 sind:"
   ]
  },
  {
   "cell_type": "code",
   "execution_count": null,
   "metadata": {
    "editable": true,
    "slideshow": {
     "slide_type": "fragment"
    },
    "tags": []
   },
   "outputs": [],
   "source": [
    "interact(DrawSpecialFunction,N=(1,193,12));"
   ]
  },
  {
   "cell_type": "markdown",
   "metadata": {
    "editable": true,
    "slideshow": {
     "slide_type": "subslide"
    },
    "tags": []
   },
   "source": [
    "- Die betrachteten Funktionen sind für $N \\to \\infty$ nicht mehr \"glatt\"\n",
    "- Wenn die gesuchte Funktion \"glatt\" ist, kann die Funktion mit endlich vielen Freiheitsgraden gut approximiert werden:"
   ]
  },
  {
   "cell_type": "code",
   "execution_count": null,
   "metadata": {
    "code_folding": [
     0
    ],
    "editable": true,
    "scrolled": true,
    "slideshow": {
     "slide_type": "fragment"
    },
    "tags": []
   },
   "outputs": [],
   "source": [
    "align(interactive(DrawErrorToSmoothFunction,N=(10,100,10),smooth_function=[\"sin(3*pi*x)*cos(5*pi*x)\",\n",
    "                     \"x**8+6*x**4\",\"sin(8*pi*x)\"]))"
   ]
  },
  {
   "cell_type": "markdown",
   "metadata": {
    "slideshow": {
     "slide_type": "subslide"
    }
   },
   "source": [
    "## Grundidee Diskretisierung partieller Differenzialgleichungen\n",
    "\n",
    " 1. Wähle Darstellung der Funktion so, sodass die Funktion noch gut angenährt wird \n",
    "   \n",
    "   (großes $N$ ist besser (genauer))\n",
    "   \n",
    " 2. Bestimme Gleichungen für die $N$ Unbekannten\n",
    " \n",
    " 3. Löse Gleichungen \n",
    "   \n",
    "   (kleines $N$ ist besser (günstiger))\n"
   ]
  },
  {
   "cell_type": "markdown",
   "metadata": {
    "slideshow": {
     "slide_type": "slide"
    }
   },
   "source": [
    "## 1. \"Approximation\" einer \"glatten\" Funktion"
   ]
  },
  {
   "cell_type": "markdown",
   "metadata": {
    "editable": true,
    "slideshow": {
     "slide_type": "slide"
    },
    "tags": []
   },
   "source": [
    "### Freiheitsgrade zur Approximation einer Funktion:\n",
    "   $\n",
    "       u_h(x) = c_0 \\varphi_0(x) + c_1 \\varphi_1(x) + ... + c_{n-1} \\varphi_{n-1}(x) = \\sum_{i=0}^{n-1} c_i \\varphi_i(x)\n",
    "   $\n",
    "   - Die Koeffizienten $c_i$ sind die Unbekannten (\"Freiheitsgrade\"), $i=0,..,n-1$.\n",
    "   - $\\varphi_i(x)$ sind die \"Basisfunktionen\"."
   ]
  },
  {
   "cell_type": "code",
   "execution_count": null,
   "metadata": {
    "code_folding": [
     0
    ],
    "editable": true,
    "slideshow": {
     "slide_type": "fragment"
    },
    "tags": []
   },
   "outputs": [],
   "source": [
    "align(interactive(DrawBasisFunction, N=[4,6,8], i=IntSlider(min=0, max=41, step=1, continuous_update=False),\n",
    "                  order=[1,2,3]))"
   ]
  },
  {
   "cell_type": "markdown",
   "metadata": {
    "editable": true,
    "slideshow": {
     "slide_type": "subslide"
    },
    "tags": []
   },
   "source": [
    "Die Basisfunktionen erster Ordnung sind\n",
    "$$\n",
    "  \\varphi_i(x) = \\left\\{ \\begin{array}{cl} 1-N\\left|x-\\frac{i}{N}\\right| & \\text{ für } x \\in \\left[\\frac{i-1}{N}, \\frac{i+1}{N}\\right], \\\\  & \\text{ sonst. }  \\end{array} \\right.\n",
    "$$\n",
    "Die Basisfunktionen höherer Ordnung sind Polynome, die nur in einem Intervall von Null verschieden sind und auf den Rändern des Intervalls Null sind."
   ]
  },
  {
   "cell_type": "markdown",
   "metadata": {
    "editable": true,
    "slideshow": {
     "slide_type": "subslide"
    },
    "tags": []
   },
   "source": [
    "### Der Raum aller Funktionen der Form $u_h(x) = \\sum_{i=0}^{n-1} c_i \\varphi_i(x)$\n",
    " - Alle Funktionen, die als Linearkombination der Basisfunktionen dargestellt werden können, werden im \n",
    " **\"Finite-Elemente-Raum\"** gesammelt:\n",
    " $$\n",
    "   V_h \\text{ ist die Menge aller Funktionen }u_h \\text{ mit } u_h(x) = \\sum_{i=0}^{n-1} c_i \\varphi_i(x)\n",
    " $$"
   ]
  },
  {
   "cell_type": "code",
   "execution_count": null,
   "metadata": {
    "code_folding": [
     0
    ],
    "editable": true,
    "slideshow": {
     "slide_type": "subslide"
    },
    "tags": []
   },
   "outputs": [],
   "source": [
    "align(interactive(ApproximateWithFESpace, \n",
    "                  N=[4,8,16,32,64], \n",
    "                  order=[1,2,3], \n",
    "                  f=[\"sin(3·pi·x)\",\n",
    "                     \"sin(3·pi·x)·cos(5·pi·x)\"]))"
   ]
  },
  {
   "cell_type": "markdown",
   "metadata": {
    "editable": true,
    "slideshow": {
     "slide_type": "subslide"
    },
    "tags": []
   },
   "source": [
    "### Visualisierung der \"partiellen Summe\" $u_h^j = \\sum_{i=0}^{\\color{red}j} c_i \\varphi_i(x)$:"
   ]
  },
  {
   "cell_type": "code",
   "execution_count": null,
   "metadata": {
    "code_folding": [
     0
    ],
    "editable": true,
    "slideshow": {
     "slide_type": "-"
    },
    "tags": []
   },
   "outputs": [],
   "source": [
    "align(interactive(PartialApproximateWithFESpace, N=[4,8,16,32,64], \n",
    "                  order=[1,2,3], f=[\"sin(3·pi·x)\",\"sin(3·pi·x)·cos(5·pi·x)\"], j=IntSlider(min=-1, max=200, step=1, continuous_update=False)))"
   ]
  },
  {
   "cell_type": "markdown",
   "metadata": {
    "slideshow": {
     "slide_type": "slide"
    }
   },
   "source": [
    "## 2. Bestimmung von Gleichungen für die Unbekannten"
   ]
  },
  {
   "cell_type": "markdown",
   "metadata": {
    "editable": true,
    "slideshow": {
     "slide_type": "subslide"
    },
    "tags": []
   },
   "source": [
    "#### Ziel:\n",
    "\n",
    "* Finde $n$ Gleichungen für die $n$ Unbekannten: \n",
    "* Da die Differenzialgleichung linear ist, erwarten wir, dass wir $n$ lineare Gleichungen finden können. \n",
    "* Wir suchen also zunächst ein lineares Gleichungssystem der Form \n",
    " $$\n",
    " \\left( \\begin{array}{cccc} \n",
    " A_{0,0} & A_{0,1} & \\dots & A_{0,n-1} \\\\ \n",
    " A_{1,0} & A_{1,1} & \\dots & A_{1,n-1} \\\\ \n",
    " \\vdots  & \\vdots & \\ddots & \\vdots \\\\ \n",
    " A_{n-1,0} & A_{n-1,1} & \\dots & A_{n-1,n-1} \\\\ \n",
    " \\end{array}\n",
    " \\right) \\cdot \n",
    "  \\left( \\begin{array}{c} \n",
    " c_{0} \\\\ c_1 \\\\ \\vdots \\\\ c_{n-1}\n",
    " \\end{array}\n",
    " \\right)\n",
    " =\n",
    "  \\left( \\begin{array}{c} \n",
    " f_{0} \\\\ f_1 \\\\ \\vdots \\\\ f_{n-1}\n",
    " \\end{array}\n",
    " \\right)\n",
    "  $$\n",
    "  zur Bestimmung der Koeffizienten.\n",
    "  \n",
    "* Achtung: Nummerierung von $0$ bis $n-1$ (alternativ auch von $1$ bis $n$ möglich)."
   ]
  },
  {
   "cell_type": "markdown",
   "metadata": {
    "editable": true,
    "slideshow": {
     "slide_type": "subslide"
    },
    "tags": []
   },
   "source": [
    "- Benötigen $n$ Gleichungen für $n$ Unbekannte\n",
    "- Bei der Finite-Elemente-Methode fordern wir die PDGl. **nicht an allen Punkten in $(a,b)$**\n",
    "- Stattdessen formulieren wir zunächst die PDGl. um:\n",
    "\n",
    "\n",
    "\\begin{align*}\n",
    "    - k \\frac{d^2 u}{d x^2}(x) &= q_Q(x) \\text{ in } (a,b), \\\\\n",
    "    \\text{multipliziere mit (fast) beliebiger} & \\text{ Funktion } v(x) \\text{ und integriere über das Gebiet: } \\\\\n",
    "    \\Longrightarrow  \\int_a^b - k \\frac{d^2 u}{d x^2}(x) v(x) \\ dx &= \\int_a^b q_Q(x) v(x) \\ dx\n",
    "\\end{align*}\n"
   ]
  },
  {
   "cell_type": "markdown",
   "metadata": {
    "editable": true,
    "slideshow": {
     "slide_type": "subslide"
    },
    "tags": []
   },
   "source": [
    "Durch die bestimmte Integration fällt $x$ aus der Gleichung raus. Das ist so gewollt, da wir gerade nicht die unbekannte Funktion $u(x)$ mit unendlich vielen Freiheitsgraden bestimmen wollen (und können). Stattdessen wollen wir ein Gleichungssystem mit **endlich** vielen Unbekannten lösen.\n",
    "Mit der (fast) beliebigen Wahl von $v(x)$ ist das noch nicht erreicht. Wir müssen später noch engere Bedingungen an die möglichen $v(x)$ stellen, um nur endlich viele Freiheitsgrade zu erhalten."
   ]
  },
  {
   "cell_type": "markdown",
   "metadata": {
    "editable": true,
    "slideshow": {
     "slide_type": "subslide"
    },
    "tags": []
   },
   "source": [
    "Wenn wir $u(x)$ als Summe von Basisfunktionen ausdrücken, ist für Basisfunktionen 1. Ordnung (die ja stückweise linear sind) die zweite Ableitung überall Null. Die linke Seite der Gleichung oben wäre also immer Null. Um das zu verhindern, wandeln wir die zweite Ableitung durch partielle Integration in eine erste Ableitung um:\n",
    "* \n",
    "$\\leadsto$ [Übung zum partiellen Integrieren und Randbedingungen](../../../Uebungen/blatt_zu_1DFEM.pdf)"
   ]
  },
  {
   "cell_type": "markdown",
   "metadata": {
    "slideshow": {
     "slide_type": "subslide"
    }
   },
   "source": [
    "\n",
    "$$\n",
    "    \\Longrightarrow  \\int_a^b k \\frac{d u}{d x}(x) \\frac{d v}{d x}(x) \\ dx - \\Big[k \\frac{d u}{dx} v(x) \\Big]_a^b = \\int_a^b q_Q(x) v(x) \\ dx\n",
    "    $$\n",
    "   "
   ]
  },
  {
   "cell_type": "markdown",
   "metadata": {
    "slideshow": {
     "slide_type": "slide"
    }
   },
   "source": [
    "* Der Einfachheit halber nehmen wir an das $u(a)$ und $u(b)$ gegeben sind (Dirichlet-Randbedingungen), d.h. \n",
    "$u(a)=T^a$, $u(b)=T^b$\n",
    "* Die \"Freiheit\" die wir der unbekannten Funktion $u$ nehmen, nehmen wir auch der \"Testfunktion\" $v$ und setzen $v(a) = v(b) = 0$\n",
    "* Damit vereinfacht sich das Problem zur (schwachen) Formulierung (FEM-Formulierung):\n",
    "Finde die Funktion $u(x)$ mit $u(a)=T^a$, $u(b)=T^b$, sodass für (fast) jede Funktion $v(x)$ mit $v(a)=v(b)=0$ gilt\n",
    "$$ \\int_a^b k \\frac{d u}{d x}(x) \\frac{d v}{d x}(x) \\ dx = \\int_a^b q_Q(x) v(x) \\ dx. $$\n",
    "* Entsprechende modifizierte linke und rechte Seite bei anderen Randbedingungen (siehe Übung)"
   ]
  },
  {
   "cell_type": "markdown",
   "metadata": {
    "slideshow": {
     "slide_type": "subslide"
    }
   },
   "source": [
    "- Diskretisierung durch Forderung:\n",
    "\n",
    "  Finde eine Funktion $u_h(x)$ mit $u_h = T^a \\cdot \\varphi_0 (x) + \\sum_{\\color{red}{j=1}}^{\\color{red}{n-2}} c_j \\varphi_j(x) + T^b \\cdot \\varphi_{n-1} (x)$, sodass \n",
    "  $$ \\int_a^b k \\frac{d u_h}{d x}(x) \\frac{d v_h}{d x}(x) \\ dx = \\int_a^b q_Q(x) v_h(x) \\ dx $$\n",
    "  für alle Funktionen $v_h \\in V_{h,0} = V_h \\cap \\{v(a)=v(b)=0\\}$, d.h. alle Funktionen in $V_h$ die zusätzlich die Randbedingung $v(a)=v(b)=0$ erfüllen.  "
   ]
  },
  {
   "cell_type": "markdown",
   "metadata": {
    "slideshow": {
     "slide_type": "subslide"
    }
   },
   "source": [
    "\n",
    "- Äquivalent können wir fragen:\n",
    "\n",
    "  Finde die Koeffizienten $c_j$, $j = 1,..,n-2$, sodass\n",
    "  $$ \\int_a^b k \\frac{d u_h}{d x}(x) \\frac{d \\varphi_i}{d x}(x) \\ dx = \\int_a^b q_Q(x) \\varphi_i(x) \\ dx $$\n",
    "  für alle $i = 1,..,n-2$.\n",
    " \n",
    " - D.h. wir haben $n-2$ Gleichungen für $n-2$ Unbekannte.\n"
   ]
  },
  {
   "cell_type": "markdown",
   "metadata": {
    "slideshow": {
     "slide_type": "subslide"
    }
   },
   "source": [
    " * mit $u_h = T^a \\cdot \\varphi_0 (x) + \\sum_{\\color{red}{j=1}}^{\\color{red}{n-2}} c_j \\varphi_j(x) + T^b \\cdot \\varphi_{n-1} (x)$ können wir auch schreiben:\n",
    " \n",
    " Finde die Koeffizienten $c_j$, $j = 1,..,n-2$, sodass für alle $i = 1,..,n-2$ \n",
    "  $$ \\sum_{{i=1}}^{{n-2}} c_j \\underbrace{\\int_a^b k \\frac{d \\varphi_j}{d x}(x) \\frac{d \\varphi_i}{d x}(x) \\ dx}_{A_{i,j}} = f_i \\qquad \\text{mit}$$\n",
    "  $$\n",
    "  f_i = \\int_a^b q_Q(x) \\varphi_i(x) \\ dx - T^a \\int_a^b k \\frac{d \\varphi_0}{d x}(x) \\frac{d \\varphi_i}{d x}(x) \\ dx - T^b \\int_a^b k \\frac{d \\varphi_{n-1}}{d x}(x) \\frac{d \\varphi_i}{d x}(x) \\ dx\n",
    "  $$\n",
    "  \n",
    "\n",
    " "
   ]
  },
  {
   "cell_type": "markdown",
   "metadata": {
    "slideshow": {
     "slide_type": "fragment"
    }
   },
   "source": [
    "$\\leadsto$ Übungsaufgabe: Rechnen Sie den Schritt der letzten  Folien zu dieser nach.\n"
   ]
  },
  {
   "cell_type": "markdown",
   "metadata": {
    "slideshow": {
     "slide_type": "subslide"
    }
   },
   "source": [
    " * Dies entspricht einer Matrix-Vektor-Gleichung\n",
    " $$\n",
    " \\left( \\begin{array}{cccc} \n",
    " A_{1,1} & A_{1,2} & \\dots & A_{1,n-2} \\\\ \n",
    " A_{2,1} & A_{2,2} & \\dots & A_{2,n-2} \\\\ \n",
    " \\vdots  & \\vdots & \\ddots & \\vdots \\\\ \n",
    " A_{n-2,1} & A_{n-2,2} & \\dots & A_{n-2,n-2} \\\\ \n",
    " \\end{array}\n",
    " \\right) \\cdot \n",
    "  \\left( \\begin{array}{c} \n",
    " c_{1} \\\\ c_2 \\\\ \\vdots \\\\ c_{n-2}\n",
    " \\end{array}\n",
    " \\right)\n",
    " =\n",
    "  \\left( \\begin{array}{c} \n",
    " f_{1} \\\\ f_2 \\\\ \\vdots \\\\ f_{n-2}\n",
    " \\end{array}\n",
    " \\right)\n",
    "  $$\n",
    "  \n",
    " * Lösung der linearen Gleichungen mit spezialisierten Lösern, z.B. basierend auf Gauss-Elimination \n",
    " * Wie setzen sich nun die Matrix-Einträge zusammen?"
   ]
  },
  {
   "cell_type": "markdown",
   "metadata": {
    "slideshow": {
     "slide_type": "subslide"
    }
   },
   "source": [
    "#### Berechnung der Matrix-Einträge"
   ]
  },
  {
   "cell_type": "code",
   "execution_count": null,
   "metadata": {
    "slideshow": {
     "slide_type": "-"
    }
   },
   "outputs": [],
   "source": [
    "ComputeMatrixEntry(N=3,order=1,k=1)"
   ]
  },
  {
   "cell_type": "markdown",
   "metadata": {
    "slideshow": {
     "slide_type": "subslide"
    }
   },
   "source": [
    "#### \"Dünn besetzte\" System-Matrix: $A_{i,j} = 0$ für die meisten $(i,j)$-Paare"
   ]
  },
  {
   "cell_type": "code",
   "execution_count": null,
   "metadata": {
    "slideshow": {
     "slide_type": "-"
    }
   },
   "outputs": [],
   "source": [
    "align(interactive(Spy,N=[1,2,3,4,8,16],order=[1,2,3,4]))"
   ]
  },
  {
   "cell_type": "markdown",
   "metadata": {
    "slideshow": {
     "slide_type": "subslide"
    }
   },
   "source": [
    "#### Aufgabe:\n",
    "\n",
    "* Betrachten wir $N = 3$, `order`$=1$ und $k=1$ und $q_Q=1$\n",
    "* Es gibt $n=4$ Koeffizienten zu bestimmen\n",
    "* Wir schreiben außerdem vor, dass der erste und der letzte Koeffizient 0 sind (Randbedingung)\n",
    "* Bestimmen Sie die Matrixeinträge $A_{1,1}$, $A_{1,2}$, $A_{2,1}$, $A_{2,2}$ \n",
    "* Lösen Sie das Gleichungssystem\n",
    "\\begin{align*}\n",
    "\\begin{array}{rl}\n",
    "  A_{1,1} c_1 + A_{1,2} c_2 &= f_1 \\\\\n",
    "  A_{2,1} c_1 + A_{2,2} c_2 &= f_2 \n",
    "\\end{array} \n",
    "\\qquad \\Longleftrightarrow \\qquad\n",
    "\\left( \n",
    "\\begin{array}{rl}\n",
    "  A_{1,1} & A_{1,2} \\\\\n",
    "  A_{2,1} & A_{2,2} \n",
    "\\end{array}\n",
    "\\right)\n",
    "\\cdot\n",
    "\\left(\n",
    "\\begin{array}{c} \n",
    "c_1 \\\\ \n",
    "c_2 \n",
    "\\end{array}\n",
    "\\right)=\n",
    "\\left(\n",
    "\\begin{array}{c} f_1 \\\\ f_2 \\end{array} \n",
    "\\right)\n",
    "\\end{align*}\n",
    " für die ermittelten Koeffizienten $A_{1,1}$, $A_{1,2}$, $A_{2,1}$, $A_{2,2}$ und\n",
    " $$\n",
    " f_1 = \\int_{\\Omega} \\underbrace{q_Q}_{=1} \\varphi_1 dx = h = 1/N = 1/3, \\qquad\n",
    " f_2 = \\int_{\\Omega} \\underbrace{q_Q}_{=1} \\varphi_2 dx = h = 1/N = 1/3\n",
    " $$\n",
    "* Skizzieren Sie die Lösung"
   ]
  },
  {
   "cell_type": "markdown",
   "metadata": {
    "slideshow": {
     "slide_type": "slide"
    }
   },
   "source": [
    "## 4. Beispielrechnungen"
   ]
  },
  {
   "cell_type": "markdown",
   "metadata": {
    "slideshow": {
     "slide_type": "subslide"
    }
   },
   "source": [
    " ![alt](heat1d.png) "
   ]
  },
  {
   "cell_type": "markdown",
   "metadata": {
    "slideshow": {
     "slide_type": "subslide"
    }
   },
   "source": [
    "#### Die Differenzialgleichung:\n",
    "$$\n",
    "  - k(x) \\frac{d^2 u}{d x^2}(x) = q_Q(x) \\quad \\text{für alle} \\quad x \\quad \\text{ im Intervall } (a,b),\n",
    "$$\n",
    "wobei \n",
    "$$\n",
    "  k(x) = \\left\\{ \\begin{array}{cl} k_1 & \\text{ für } x < 0.5 (a+b), \\\\ k_2 & \\text{ sonst. }  \\end{array} \\right. , \\qquad\n",
    "  q_Q(x) = \\left\\{ \\begin{array}{cl} q_Q^1 & \\text{ für } x < 0.5(a+b), \\\\ q_Q^2 & \\text{ sonst. }\\end{array} \\right.\n",
    "$$\n",
    "#### Mögliche Randbedinungen\n",
    " \\begin{align*}\n",
    " \\text{\"Dirichlet\":} & & u(a) &= T^a, &\\qquad u(b) &= T^b, \\\\\n",
    " \\text{\"Neumann\":} & &k \\frac{d u}{dx}(a) &= q_S^a, &\\qquad - k \\frac{d u}{dx}(b) &= q_S^b, \\\\\n",
    " \\text{\"Robin\":} & & k \\frac{d u}{dx}(a) &= \\alpha^a  (T^a - u(a)), & \\qquad - k \\frac{d u}{dx}(b) &= \\alpha^b (T^b - u(b)), \\\\\n",
    " \\end{align*}\n",
    " "
   ]
  },
  {
   "cell_type": "code",
   "execution_count": null,
   "metadata": {
    "slideshow": {
     "slide_type": "subslide"
    }
   },
   "outputs": [],
   "source": [
    "Heat1DExample()"
   ]
  },
  {
   "cell_type": "markdown",
   "metadata": {
    "slideshow": {
     "slide_type": "subslide"
    }
   },
   "source": [
    "#### Aufgabe:\n",
    "Lösen Sie z.B. folgende Probleme (numerisch) und variieren sie $k_1,~k_2$ und $q_Q^1,~q_Q^2$:\n",
    "* 1.:\n",
    " * Lösen Sie das Problem aus der letzten Aufgabe noch einmal numerisch und vergleichen Sie Ihr Ergebnis.\n",
    "* 2.:\n",
    " * Am rechten Rand soll kein Wärmefluss übergehen\n",
    " * Am linken Rand wird eine Temperatur von 20°C gemessen\n",
    " * Auf $[0,1]$ wird komplett geheizt\n",
    " * Welche Temperatur liegt am rechten Rand vor?\n",
    "* 3.:\n",
    " * Außerhalb von $[0,1]$ liegt eine Temperator von $\\bar u = 20°C$ vor und es gilt das Wärmeübergangsgesetz:\n",
    "   $$\n",
    "     q_s \\sim u - T^{\\text{ref}}\n",
    "   $$\n",
    " * Es wird auf dem ganzen Intervall geheizt\n",
    " * Die Wärmeleitfähigkeit ist rechts 10 mal so groß wie links\n",
    " "
   ]
  },
  {
   "cell_type": "code",
   "execution_count": null,
   "metadata": {
    "code_folding": [
     0
    ],
    "slideshow": {
     "slide_type": "subslide"
    }
   },
   "outputs": [],
   "source": [
    "Heat1DFEM( N=2, order=2, \n",
    "           k1 = 30, k2 = 30, \n",
    "           Q1 = 30000, Q2= 30000, \n",
    "           boundary_condition_left = \"Dirichlet\", boundary_condition_right = \"Dirichlet\", \n",
    "           value_left = 20, value_right = 20, \n",
    "           q_value_left = 0, q_value_right = 1, \n",
    "           r_value_left = 0, r_value_right = 1,\n",
    "           intervalsize = 0.14)"
   ]
  },
  {
   "cell_type": "markdown",
   "metadata": {
    "slideshow": {
     "slide_type": "slide"
    }
   },
   "source": [
    "### Wärmeverluste über die Mantelfläche\n",
    "\n",
    "* Beziehen wir nun wieder Verluste über die Mantelfläche ein, so erhalten wir:\n",
    "\\begin{align*}\n",
    "    - k \\frac{d^2 u}{d x^2}(x) + \\bar{\\alpha} (u-\\bar{T}) &= q_Q(x) \\text{ in } (a,b)\n",
    "\\end{align*}\n",
    "wobei $\\bar{T}$ die (als konstant angenommene) Außentemperatur ist und $\\bar{\\alpha}$ der Wärmeübergangskoeffizient für den Wärmeübergang über die Mantelfläche.\n",
    "\n",
    "\n",
    "* Das Problem zur (schwachen) Formulierung (FEM-Formulierung) mit Dirichlet-Randbed. wird damit:\n",
    "Finde die Funktion $u(x)$ mit $u(a)=T^a$, $u(b)=T^b$, sodass für (fast) jede Funktion $v(x)$ mit $v(a)=v(b)=0$ gilt\n",
    "$$ \\int_a^b k \\frac{d u}{d x}(x) + \\bar{\\alpha} u(x) v(x) \\frac{d v}{d x}(x) \\ dx = \\int_a^b (q_Q(x)+\\bar{\\alpha} \\bar{T}) v(x) \\ dx. $$\n",
    "\n",
    "\n",
    "* Entsprechende modifizierte linke und rechte Seite bei anderen Randbedingungen erhält man analog zum zuvor betrachteten Fall.\n"
   ]
  },
  {
   "cell_type": "code",
   "execution_count": null,
   "metadata": {
    "slideshow": {
     "slide_type": "subslide"
    }
   },
   "outputs": [],
   "source": [
    "Heat1DExample_with_ref()"
   ]
  },
  {
   "cell_type": "code",
   "execution_count": null,
   "metadata": {
    "code_folding": [
     0
    ],
    "slideshow": {
     "slide_type": "subslide"
    }
   },
   "outputs": [],
   "source": [
    "Heat1DFEM( N=200, order=1, \n",
    "           k1 = 50, k2 = 50, \n",
    "           Q1 = 30000, Q2= 30000, \n",
    "           boundary_condition_left = \"Dirichlet\", boundary_condition_right = \"Dirichlet\", \n",
    "           value_left = 20, value_right = 20, \n",
    "           q_value_left = 10, q_value_right = 1, \n",
    "           r_value_left = 0, r_value_right = 1,\n",
    "           value_ref=20, c_ref = 80000,\n",
    "           intervalsize = 0.14)"
   ]
  }
 ],
 "metadata": {
  "kernelspec": {
   "display_name": "Python 3 (ipykernel)",
   "language": "python",
   "name": "python3"
  },
  "language_info": {
   "codemirror_mode": {
    "name": "ipython",
    "version": 3
   },
   "file_extension": ".py",
   "mimetype": "text/x-python",
   "name": "python",
   "nbconvert_exporter": "python",
   "pygments_lexer": "ipython3",
   "version": "3.13.7"
  },
  "toc": {
   "base_numbering": 1,
   "nav_menu": {},
   "number_sections": true,
   "sideBar": true,
   "skip_h1_title": false,
   "title_cell": "Table of Contents",
   "title_sidebar": "Contents",
   "toc_cell": false,
   "toc_position": {},
   "toc_section_display": true,
   "toc_window_display": false
  },
  "varInspector": {
   "cols": {
    "lenName": 16,
    "lenType": 16,
    "lenVar": 40
   },
   "kernels_config": {
    "python": {
     "delete_cmd_postfix": "",
     "delete_cmd_prefix": "del ",
     "library": "var_list.py",
     "varRefreshCmd": "print(var_dic_list())"
    },
    "r": {
     "delete_cmd_postfix": ") ",
     "delete_cmd_prefix": "rm(",
     "library": "var_list.r",
     "varRefreshCmd": "cat(var_dic_list()) "
    }
   },
   "types_to_exclude": [
    "module",
    "function",
    "builtin_function_or_method",
    "instance",
    "_Feature"
   ],
   "window_display": false
  }
 },
 "nbformat": 4,
 "nbformat_minor": 4
}
