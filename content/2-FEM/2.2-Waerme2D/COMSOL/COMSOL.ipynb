{
 "cells": [
  {
   "cell_type": "markdown",
   "metadata": {
    "slideshow": {
     "slide_type": "slide"
    }
   },
   "source": [
    "# Modellierung von Wärmeleitungsphänomenen mit COMSOL\n",
    "\n",
    "## COMSOL Dateien\n",
    "\n",
    "Beispiele für einfache Simulationen von Wärmeleitungsproblemen mit COMSOL finden Sie im Verzeichnis [`XLAB/1-Waermeleitung/1.2-Waerme2D/COMSOL`](\\.)"
   ]
  }
 ],
 "metadata": {
  "kernelspec": {
   "display_name": "Python 3",
   "language": "python",
   "name": "python3"
  },
  "language_info": {
   "codemirror_mode": {
    "name": "ipython",
    "version": 3
   },
   "file_extension": ".py",
   "mimetype": "text/x-python",
   "name": "python",
   "nbconvert_exporter": "python",
   "pygments_lexer": "ipython3",
   "version": "3.7.0"
  }
 },
 "nbformat": 4,
 "nbformat_minor": 2
}
