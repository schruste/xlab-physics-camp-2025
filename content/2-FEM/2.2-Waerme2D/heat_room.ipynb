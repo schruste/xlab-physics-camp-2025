{
 "cells": [
  {
   "cell_type": "markdown",
   "metadata": {},
   "source": [
    "# Stationäre Wärmeleitungsgleichung im Raum"
   ]
  },
  {
   "cell_type": "code",
   "execution_count": null,
   "metadata": {},
   "outputs": [],
   "source": [
    "from ngsolve import *\n",
    "from ngsolve.webgui import Draw\n",
    "from netgen.occ import *\n",
    "import matplotlib.pyplot as plt"
   ]
  },
  {
   "cell_type": "markdown",
   "metadata": {},
   "source": [
    "### Geometrie\n",
    "\n",
    "Die folgende Geometrie repräsentiert einen beheizten Raum mit Wänden und Fenstern:"
   ]
  },
  {
   "cell_type": "code",
   "execution_count": null,
   "metadata": {},
   "outputs": [],
   "source": [
    "def MakeRoom2DGeometry():\n",
    "    wallthickness = 0.1\n",
    "    distance_heater = 0.05\n",
    "    heaterwidth = 0.3\n",
    "    heaterheight = 0.1\n",
    "    windowwidth = 0.3\n",
    "    wall = Rectangle(1+2*wallthickness, 1+2*wallthickness).Face().Move((-wallthickness,-wallthickness,0))\n",
    "    room = Rectangle(1, 1).Face()\n",
    "    wall -= room\n",
    "    heater = Rectangle(heaterwidth,heaterheight).Face().Move((0.5-0.5*heaterwidth,distance_heater,0))\n",
    "    room -= heater\n",
    "    basewindow = Rectangle(windowwidth,wallthickness).Face().Move((0.5-0.5*windowwidth,-wallthickness,0))\n",
    "    windows = sum([basewindow.Rotate( Axis((0.5,0.5,0),Z),angle) for angle in [0,90,180,270]])\n",
    "    room -= windows\n",
    "    # label domains\n",
    "    wall.faces.name=\"wall\"; wall.faces.col = (0.4,0.4,0.4)\n",
    "    room.faces.name=\"room\"\n",
    "    heater.faces.name=\"heater\"; heater.faces.col = (1,0,0)\n",
    "    windows.faces.name=\"windows\"; windows.faces.col = (0,0,1)\n",
    "    # label exterior edges\n",
    "    wall.edges.Min(Y).name=\"exterior_wall\"\n",
    "    wall.edges.Min(X).name=\"exterior_wall\"\n",
    "    wall.edges.Max(X).name=\"exterior_wall\"\n",
    "    wall.edges.Max(Y).name=\"exterior_wall\"\n",
    "    windows.edges.Min(Y).name=\"exterior_windows\"\n",
    "    windows.edges.Min(X).name=\"exterior_windows\"\n",
    "    windows.edges.Max(X).name=\"exterior_windows\"\n",
    "    windows.edges.Max(Y).name=\"exterior_windows\"\n",
    "    geo = Glue([wall,room,heater,windows])\n",
    "\n",
    "    return geo\n",
    "geo = MakeRoom2DGeometry()\n",
    "Draw(geo)\n",
    "mesh2d = Mesh(OCCGeometry(geo,dim=2).GenerateMesh(maxh=0.1))"
   ]
  },
  {
   "cell_type": "code",
   "execution_count": null,
   "metadata": {},
   "outputs": [],
   "source": [
    "def MakeRoom3DGeometry():\n",
    "    wallthickness = 0.1\n",
    "    distance_heater = 0.05\n",
    "    heaterwidth = 0.5\n",
    "    heaterheight = 0.3\n",
    "    heaterdepth = 0.1\n",
    "    windowwidth = 0.3\n",
    "    windowheight = 0.3\n",
    "    wall = Box((0,0,0), (1+2*wallthickness,1+2*wallthickness,1+2*wallthickness)).Move((-wallthickness,-wallthickness,-wallthickness))\n",
    "    room = Box((0,0,0), (1,1,1))\n",
    "    wall -= room\n",
    "\n",
    "    heater = Box((0.5-0.5*heaterwidth,distance_heater,distance_heater),(0.5+0.5*heaterwidth,distance_heater+heaterdepth,distance_heater+heaterheight))\n",
    "    room -= heater\n",
    "\n",
    "    basewindow = Box((0.5-0.5*windowwidth,-wallthickness,0.5-0.5*windowheight),(0.5+0.5*windowwidth,0,0.5+0.5*windowheight))\n",
    "    windows = sum([basewindow.Rotate( Axis((0.5,0.5,0),Z),angle) for angle in [0,90,180,270]])\n",
    "    wall -= windows\n",
    "\n",
    "    # label domains\n",
    "    wall.solids.name=\"wall\"; wall.faces.col = (0.4,0.4,0.4)\n",
    "    room.solids.name=\"room\"\n",
    "    heater.solids.name=\"heater\"; heater.faces.col = (1,0,0)\n",
    "    windows.solids.name=\"windows\"; windows.faces.col = (0,0,1)    \n",
    "\n",
    "    # label exterior edges\n",
    "    for axis in [X,Y]:\n",
    "        wall.faces.Min(axis).name=\"exterior_wall\"\n",
    "        wall.faces.Max(axis).name=\"exterior_wall\"\n",
    "        windows.faces.Min(axis).name=\"exterior_windows\"\n",
    "        windows.faces.Max(axis).name=\"exterior_windows\"\n",
    "    wall.faces.Min(Z).name=\"bottom\"\n",
    "    wall.faces.Max(Z).name=\"top\"\n",
    "\n",
    "    geo = Glue([wall,room,windows,heater])\n",
    "    return geo\n",
    "geo = MakeRoom3DGeometry()\n",
    "Draw(geo,clipping = { \"pnt\" : (0,0,0.5), \"vec\" : (0,0,-1)})\n",
    "mesh3d = Mesh(OCCGeometry(geo,dim=3).GenerateMesh(maxh=0.15))"
   ]
  },
  {
   "cell_type": "code",
   "execution_count": null,
   "metadata": {},
   "outputs": [],
   "source": [
    "# heat transfer coefficients:\n",
    "alpha_vals = {'exterior_wall': Parameter(0.1),  'exterior_windows': Parameter(0.1)}\n",
    "# heat conductivity:\n",
    "lamb_vals = {'wall': Parameter(0.0015), 'room': Parameter(0.4), 'windows': Parameter(0.02), 'heater': Parameter(1.0)}\n",
    "# heat source\n",
    "source_vals = {'wall': Parameter(0), 'room': Parameter(0), 'windows': Parameter(0), 'heater': Parameter(50)}\n",
    "# exterior temperature\n",
    "Tref = 5\n",
    "#Draw(lamb,mesh)"
   ]
  },
  {
   "cell_type": "markdown",
   "metadata": {},
   "source": [
    "### Lösung der Wärmeleitungsgleichung"
   ]
  },
  {
   "cell_type": "code",
   "execution_count": null,
   "metadata": {},
   "outputs": [],
   "source": [
    "def SolveHeatEquation(mesh, alpha_vals, lamb_vals, source_vals, Tref):\n",
    "    alpha = mesh.BoundaryCF(alpha_vals, default=0)\n",
    "    lamb = mesh.MaterialCF(lamb_vals, default=1)\n",
    "    source = mesh.MaterialCF(source_vals, default=0)\n",
    "\n",
    "    V = H1(mesh,order=3)\n",
    "    T, v = V.TnT()\n",
    "\n",
    "    a = BilinearForm(V)\n",
    "    a += lamb*grad(T)*grad(v)*dx\n",
    "    a += alpha*T*v*ds(mesh.Boundaries(\"exterior_wall|exterior_windows\"))\n",
    "    f = LinearForm(V)   \n",
    "    f += source*v*dx(mesh.Materials(\"heater\"))\n",
    "    f += alpha*Tref*v*ds(mesh.Boundaries(\"exterior_wall|exterior_windows\"))\n",
    "\n",
    "    a.Assemble()\n",
    "    f.Assemble()\n",
    "\n",
    "    gfu = GridFunction(V)\n",
    "    gfu.vec.data = a.mat.Inverse(V.FreeDofs()) * f.vec\n",
    "\n",
    "    room_vol = Integrate(CF(1)*dx(mesh.Materials(\"room\")),mesh)\n",
    "    avg_temp = Integrate(gfu*dx(mesh.Materials(\"room\")),mesh)/room_vol\n",
    "    var_temp = sqrt (Integrate ((gfu-avg_temp)*(gfu-avg_temp)*dx(mesh.Materials(\"room\")), mesh) \\\n",
    "                / (avg_temp * room_vol))\n",
    "    print(\"Average room temperature:\", avg_temp)\n",
    "    print(\"Variance of room temperature:\", var_temp)\n",
    "\n",
    "    if mesh.dim == 2:\n",
    "        print(\"temperature\")\n",
    "        Draw(gfu,mesh,\"temperature\")\n",
    "        #print(\"heat flux\")\n",
    "        #Draw(-lamb*grad(gfu),mesh,\"heat flux\")\n",
    "    else:\n",
    "        print(\"temperature\")\n",
    "        Draw(gfu,mesh,\"temperature\", clipping = { \"pnt\" : (0,0,0.5), \"vec\" : (0,0,-1)})\n",
    "        #print(\"heat flux\")\n",
    "        #Draw(-lamb*grad(gfu),mesh,\"heat flux\", clipping = { \"pnt\" : (0,0,0.5), \"vec\" : (0,0,-1)})\n"
   ]
  },
  {
   "cell_type": "markdown",
   "metadata": {},
   "source": [
    "## 2D Wärmeleitungsgleichung"
   ]
  },
  {
   "cell_type": "code",
   "execution_count": null,
   "metadata": {},
   "outputs": [],
   "source": [
    "source_vals[\"heater\"].Set(50)\n",
    "lamb_vals[\"windows\"].Set(0.02)\n",
    "SolveHeatEquation(mesh2d, alpha_vals, lamb_vals, source_vals, Tref)"
   ]
  },
  {
   "cell_type": "markdown",
   "metadata": {},
   "source": [
    "## 3D Wärmeleitungsgleichung"
   ]
  },
  {
   "cell_type": "code",
   "execution_count": null,
   "metadata": {},
   "outputs": [],
   "source": [
    "source_vals[\"heater\"].Set(75)\n",
    "lamb_vals[\"windows\"].Set(0.02)\n",
    "SolveHeatEquation(mesh3d, alpha_vals, lamb_vals, source_vals, Tref)"
   ]
  }
 ],
 "metadata": {
  "kernelspec": {
   "display_name": "Python 3 (ipykernel)",
   "language": "python",
   "name": "python3"
  },
  "language_info": {
   "codemirror_mode": {
    "name": "ipython",
    "version": 3
   },
   "file_extension": ".py",
   "mimetype": "text/x-python",
   "name": "python",
   "nbconvert_exporter": "python",
   "pygments_lexer": "ipython3",
   "version": "3.12.4"
  }
 },
 "nbformat": 4,
 "nbformat_minor": 4
}
