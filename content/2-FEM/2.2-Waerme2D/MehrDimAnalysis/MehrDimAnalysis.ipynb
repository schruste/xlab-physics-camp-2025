{
 "cells": [
  {
   "cell_type": "markdown",
   "metadata": {
    "slideshow": {
     "slide_type": "slide"
    }
   },
   "source": [
    "## Bevor wir anfangen laden wir ein paar Bibliotheken:"
   ]
  },
  {
   "cell_type": "code",
   "execution_count": null,
   "metadata": {
    "slideshow": {
     "slide_type": "fragment"
    }
   },
   "outputs": [],
   "source": [
    "from ipywidgets import interact, interact_manual, interactive, FloatSlider, IntSlider\n",
    "from math import sin, cos, exp, log, sqrt\n",
    "import matplotlib\n",
    "%matplotlib notebook"
   ]
  },
  {
   "cell_type": "markdown",
   "metadata": {
    "slideshow": {
     "slide_type": "slide"
    }
   },
   "source": [
    "# Kurz-Einführung Calculus in mehreren Dimensionen"
   ]
  },
  {
   "cell_type": "markdown",
   "metadata": {
    "slideshow": {
     "slide_type": "subslide"
    }
   },
   "source": [
    "### Wiederholung: Funktionen einer Veränderlicher\n",
    "\n",
    "$$ \n",
    " x \\quad \\rightarrow \\quad f(x)\n",
    "$$ \n",
    "\n",
    "Beispiel: \n",
    "\n",
    " * $x$ : Koordinate im Stab ($[0,1]$)\n",
    " * $f(x)$ : Temperatur an Stelle $x$\n"
   ]
  },
  {
   "cell_type": "markdown",
   "metadata": {
    "slideshow": {
     "slide_type": "fragment"
    }
   },
   "source": [
    "Analyse von Funktionen mit:\n",
    " * Ableitung $f'(x)$\n",
    " * Integration $\\int_{a}^{b} f(x) dx$\n",
    " * Kurvendiskussion: Bestimmung von Maxima/Minima (z.B. $f'(x^\\ast) = 0$, $f''(x) > 0$, ...)"
   ]
  },
  {
   "cell_type": "markdown",
   "metadata": {
    "slideshow": {
     "slide_type": "subslide"
    }
   },
   "source": [
    "## Funktionen mehrerer Veränderlicher\n",
    "\n",
    "\\begin{align*} \n",
    " (x,y) \\quad & \\rightarrow \\quad f(x,y) \\\\\n",
    " (x,y,z) \\quad & \\rightarrow \\quad f(x,y,z) \\\\\n",
    " \\vec{x} \\quad & \\rightarrow \\quad f(\\vec{x})\n",
    "\\end{align*}\n",
    "\n",
    "Beispiel:\n",
    "\n",
    " * $\\vec{x} = (x,y)$ : Punkt in der Ebene ($[0,1]^2$)\n",
    " * $f(\\vec{x})=f(x,y)$ : Temperatur an Stelle $\\vec{x}$\n"
   ]
  },
  {
   "cell_type": "markdown",
   "metadata": {
    "slideshow": {
     "slide_type": "subslide"
    }
   },
   "source": [
    "Beispiel:  $f(x,y) = x \\sin(2 \\pi y) \\qquad$ ( Frage: Welche Richtung entspricht $x$, welche $y$?) \n",
    "<center>\n",
    "<img src=\"surfplot.png\" alt=\"Drawing\" style=\"width: 60%;\"/>\n",
    "</center>"
   ]
  },
  {
   "cell_type": "markdown",
   "metadata": {
    "slideshow": {
     "slide_type": "subslide"
    }
   },
   "source": [
    "#### Frage: Was ist die Ableitung von $f(\\vec{x}) = f(x,y)$ an einer Stelle $(x,y)$?\n",
    "\n",
    "Zunächst Wiederholung: \n",
    " * Eine Ableitung beschreibt die Änderung einer Funktion. \n"
   ]
  },
  {
   "cell_type": "markdown",
   "metadata": {
    "slideshow": {
     "slide_type": "fragment"
    }
   },
   "source": [
    " * Wenn wir nur eine Variable haben, dann können wir den Grenzwert der Steigung der Sekante benutzen:\n",
    "$$\n",
    "  \\lim_{h \\to 0} \\frac{f(x+h) - f(x)}{h}\n",
    "$$"
   ]
  },
  {
   "cell_type": "markdown",
   "metadata": {
    "slideshow": {
     "slide_type": "subslide"
    }
   },
   "source": [
    " ![alt](deriv.png) "
   ]
  },
  {
   "cell_type": "markdown",
   "metadata": {
    "slideshow": {
     "slide_type": "fragment"
    }
   },
   "source": [
    " * Bei mehrerer Veränderlichen kann sich die Funktion in unterschiedliche Richtungen unterschiedlich entwickeln.\n",
    " \n",
    "   Beispiel: $ f(x,y) = x - y $. Funktion wächst für steigende $x$ und fällt für steigende $y$."
   ]
  },
  {
   "cell_type": "markdown",
   "metadata": {
    "slideshow": {
     "slide_type": "fragment"
    }
   },
   "source": [
    " * Wie definieren wir also Ableitungen (in spezielle Richtungen) von $f(\\vec{x})=f(x,y)$?"
   ]
  },
  {
   "cell_type": "markdown",
   "metadata": {
    "slideshow": {
     "slide_type": "subslide"
    }
   },
   "source": [
    "#### Idee 1: Fixieren die $y$-Koordinate und betrachten $g(x) = f(x,y^*)$\n",
    "\n",
    " ![alt](restricty.png) \n",
    "\n",
    " * g(x) ist eine Funktion einer Veränderlicher:\n",
    "$$\n",
    "  g'(x) = \\lim_{h \\to 0} \\frac{f(x+h,y^*) - f(x,y^*)}{h}\n",
    "$$\n",
    "\n",
    "Beispiel: \n",
    " * $f(x,y) = x \\sin(2 \\pi y)$ $\\rightarrow$ $g'(x) = \\,?$"
   ]
  },
  {
   "cell_type": "markdown",
   "metadata": {
    "slideshow": {
     "slide_type": "fragment"
    }
   },
   "source": [
    "$\\qquad\\rightarrow g'(x) = \\sin(2 \\pi y)$"
   ]
  },
  {
   "cell_type": "markdown",
   "metadata": {
    "slideshow": {
     "slide_type": "subslide"
    }
   },
   "source": [
    "#### Idee 2: Fixieren die $x$-Koordinate und betrachten $h(y) = f(x^*,y)$\n",
    "\n",
    " ![alt](restrictx.png) \n",
    "\n",
    " * h(y) ist eine Funktion einer Veränderlicher:\n",
    "$$\n",
    "  h'(y) = \\lim_{h \\to 0} \\frac{f(x^*,y+h) - f(x^*,y)}{h}\n",
    "$$\n",
    "\n",
    " Beispiel: \n",
    "  * $f(x,y) = x \\sin(2 \\pi y)$ $\\rightarrow$ $h'(y) = \\,?$"
   ]
  },
  {
   "cell_type": "markdown",
   "metadata": {
    "slideshow": {
     "slide_type": "fragment"
    }
   },
   "source": [
    "$\\qquad\\rightarrow h'(y) = 2 \\pi x \\cos(2 \\pi y)$"
   ]
  },
  {
   "cell_type": "markdown",
   "metadata": {
    "slideshow": {
     "slide_type": "subslide"
    }
   },
   "source": [
    "#### Idee 3: Verallgemeinerung der Richtungen\n",
    "* $g(x)$ beschreibt Veränderung von $f(x,y)$ in $x-$Richtung \n",
    "\n",
    "\\begin{align*}\n",
    "   \\frac{\\partial f}{\\partial x}(x,y) := g'(x) = \\lim_{h \\to 0} \\frac{f(x+h,y) - f(x,y)}{h} = \\lim_{h \\to 0} \\frac{f\\left( \\vec{x} + h \\left(\\begin{array}{c}1\\\\0\\end{array}\\right)\\right) - f(\\vec{x})}{h}\n",
    "\\end{align*}\n",
    "\n",
    "* $h(y)$ beschreibt Veränderung von $f(x,y)$ in $y-$Richtung \n",
    "\n",
    "\\begin{align*}\n",
    "  \\frac{\\partial f}{\\partial y}(x,y) := h'(y) = \\lim_{h \\to 0} \\frac{f(x,y+h) - f(x,y)}{h} = \\lim_{h \\to 0} \\frac{f\\left( \\vec{x} + h \\left(\\begin{array}{c}0\\\\1\\end{array}\\right)\\right) - f(\\vec{x})}{h}\n",
    "\\end{align*}\n",
    "\n"
   ]
  },
  {
   "cell_type": "markdown",
   "metadata": {
    "slideshow": {
     "slide_type": "subslide"
    }
   },
   "source": [
    "* Wir definieren den Gradienten:\n",
    "$$\n",
    "\\nabla f (x,y) = \\left( \\begin{array}{c} \\frac{\\partial f}{\\partial x}(x,y) \\\\ \\frac{\\partial f}{\\partial y}(x,y) \\end{array} \\right)\n",
    "$$\n",
    "\n",
    "* Der Gradient ist für jeden Punkt $\\vec{x} = (x,y)$ selbst ein Vektor mit Komponenten\n",
    "\n",
    "$$ \\nabla f (x,y) \\cdot \\left(\\begin{array}{c}1\\\\0\\end{array}\\right) = \\frac{\\partial f}{\\partial x}(x,y) $$ \n",
    "$$ \\nabla f (x,y) \\cdot \\left(\\begin{array}{c}0\\\\1\\end{array}\\right) = \\frac{\\partial f}{\\partial y}(x,y) $$ \n"
   ]
  },
  {
   "cell_type": "markdown",
   "metadata": {
    "slideshow": {
     "slide_type": "subslide"
    }
   },
   "source": [
    "* Die Richtungsableitung in Richtung $\\vec{v} = (v_x,v_y)$ mit $\\vert \\vec{v} \\vert=1$ ist dann:\n",
    " $$ \\nabla f (x,y) \\cdot \\vec{v} = \\lim_{h \\to 0} \\frac{f\\left( \\vec{x} + h \\vec{v} \\right) - f(\\vec{x})}{h}$$ \n"
   ]
  },
  {
   "cell_type": "markdown",
   "metadata": {
    "slideshow": {
     "slide_type": "subslide"
    }
   },
   "source": [
    "\n",
    "### Visualisierung von Funktionen von 2 Variablen\n",
    "\n",
    "Im folgenden Block wird die folgende Funktion visualisiert:\n",
    " $$\n",
    "     f(x,y) = \\cos(\\pi (x+y)) - y^2 +  0,8 x\n",
    " $$\n",
    "\n",
    "Zu einem Punkt $(x^*,y^*)$ werden zusätzlich folgende Informationen angegeben:\n",
    " * Funktionswert $f(x^*,y^*)$\n",
    " * Gradient $\\nabla f (x^*,y^*)$\n",
    " * Funktion $g(x) = f(x,y^*)$\n",
    " * Funktion $h(y) = f(x^*,y)$"
   ]
  },
  {
   "cell_type": "code",
   "execution_count": null,
   "metadata": {
    "slideshow": {
     "slide_type": "subslide"
    }
   },
   "outputs": [],
   "source": [
    "from draw2D import draw2D\n",
    "interact(draw2D,\n",
    "         px=FloatSlider(min=-1, max=1, step=0.01, description=\"x\", continuous_update=False, value=0),\n",
    "         py=FloatSlider(min=-1, max=1, step=0.01, description=\"y\", continuous_update=False, value=0));"
   ]
  },
  {
   "cell_type": "markdown",
   "metadata": {
    "slideshow": {
     "slide_type": "-"
    }
   },
   "source": [
    "* Wo wird die Funktion (ungefähr) maximal?"
   ]
  },
  {
   "cell_type": "markdown",
   "metadata": {
    "slideshow": {
     "slide_type": "slide"
    }
   },
   "source": [
    "## Herleitung Wärmeleitungsgleichgen 2D, stationär"
   ]
  },
  {
   "cell_type": "markdown",
   "metadata": {
    "slideshow": {
     "slide_type": "slide"
    }
   },
   "source": [
    "Suchen wieder $u(x,y)$ für den stationären Fall, also für Situationen ohne zeitliche Änderungen. Weiterhin soll die Wärmeleitfähigkeit $k$ des Materials konstant, also unabhängig vom Ort sein."
   ]
  },
  {
   "cell_type": "markdown",
   "metadata": {
    "slideshow": {
     "slide_type": "subslide"
    }
   },
   "source": [
    "<center>\n",
    "<img src=\"bilanz.png\" alt=\"Drawing\" style=\"width: 400px;\"/>\n",
    "</center>\n",
    "\n",
    "\n",
    "* Wärmestromdichte $k$: $\\qquad [k] = \\frac{W}{K m}$\n",
    "\n",
    "* Der Wärmestrom hat eine Richtung (Im Gegensatz zur 1D-Betrachtung):\n",
    "\n",
    "$$\n",
    "   \\vec{q}_S(x,y)= - k \\nabla u (x,y) \\qquad [\\vec{q}_S] =\\frac{W}{K m} \\frac{K}{m} = \\frac{W}{m²}\n",
    "$$\n",
    "\n",
    "* Relevant ist aber nur der Anteil in Normalenrichtung zur Kante\n"
   ]
  },
  {
   "cell_type": "markdown",
   "metadata": {
    "slideshow": {
     "slide_type": "subslide"
    }
   },
   "source": [
    "<center>\n",
    "<img src=\"bilanz.png\" alt=\"Drawing\" style=\"width: 400px;\"/>\n",
    "</center>\n",
    "\n",
    "* Bilanz: \n",
    "    Summe der einfließenden Ströme (mal Kantenlänge) = Summe der ausfließenden Ströme (mal Kantenlänge)\n",
    "\n",
    "* Vereinfachung: $\\vec{q}_S$ ändert sich kaum über eine Kante:\n",
    "\n",
    "\\begin{align*}\n",
    "   & 2 h \\cdot \\vec{q}_S(x-h,y) \\cdot \\left( \\begin{array}{c} 1 \\\\ 0 \\end{array} \\right) \n",
    "   +2 h \\cdot \\vec{q}_S(x+h,y) \\cdot \\left( \\begin{array}{c} -1 \\\\ 0 \\end{array} \\right) \\\\ \n",
    "   &+2 h \\cdot \\vec{q}_S(x,y+h) \\cdot \\left( \\begin{array}{c} 0 \\\\ -1 \\end{array} \\right) \n",
    "   +2 h \\cdot \\vec{q}_S(x,y-h) \\cdot \\left( \\begin{array}{c} 0 \\\\ 1 \\end{array} \\right) & = 0\n",
    "\\end{align*}\n"
   ]
  },
  {
   "cell_type": "markdown",
   "metadata": {
    "slideshow": {
     "slide_type": "subslide"
    }
   },
   "source": [
    "\\begin{align*}\n",
    "   && -2 h \\cdot k \\frac{\\partial u}{\\partial x}(x-h,y)\n",
    "   +2 h \\cdot k \\frac{\\partial u}{\\partial x}(x+h,y) \\\\\n",
    "   && 2 h \\cdot k \\frac{\\partial u}{\\partial y}(x,y+h)\n",
    "   -2 h \\cdot k \\frac{\\partial u}{\\partial y}(x,y-h) & = 0 \\\\\n",
    "\\Longrightarrow && \n",
    "   2 h \\cdot k \\left[ \\frac{\\partial u}{\\partial x} (\\tilde{x},y) \\right]_{x-h}^{x+h}\n",
    "   +2 h \\cdot k \\left[ \\frac{\\partial u}{\\partial y} (x,\\tilde{y}) \\right]_{y-h}^{y+h} & = 0 \\\\\n",
    "\\Longrightarrow && \n",
    "   2 h \\cdot k \\int_{x-h}^{x+h} \\frac{\\partial^2 u}{\\partial x^2} (\\tilde{x},y) \\, d\\tilde{x} \n",
    "   +2 h \\cdot k \\int_{y-h}^{y+h} \\frac{\\partial^2 u}{\\partial y^2} (x,\\tilde{y}) \\, d\\tilde{y} & = 0 \\\\\n",
    "\\stackrel{\\frac{d^2 u}{dx^2} ca. konstant}{\\longrightarrow} && \n",
    "   2 h \\cdot k \\int_{x-h}^{x+h} \\frac{\\partial^2 u}{\\partial x^2} (x,y) \\, d\\tilde{x} \n",
    "   +2 h \\cdot k \\int_{y-h}^{y+h} \\frac{\\partial^2 u}{\\partial y^2} (x,y) \\, d\\tilde{y} & = 0 \\\\\n",
    "\\longrightarrow && \n",
    "   2 h \\cdot k  \\, \\frac{\\partial^2 u}{\\partial x^2} (x,y) \\int_{x-h}^{x+h} d\\tilde{x} \n",
    "   +2 h \\cdot k \\, \\frac{\\partial^2 u}{\\partial y^2} (x,y) \\int_{y-h}^{y+h} d\\tilde{y} & = 0 \\\\\n",
    "\\Longrightarrow && \n",
    "   4 h^2 \\cdot k \\left( \\frac{\\partial^2 u}{\\partial x^2} (x,y) + \\frac{\\partial^2 u}{\\partial y^2} (x,y) \\right) & = 0 \\\\\n",
    "\\end{align*}"
   ]
  },
  {
   "cell_type": "markdown",
   "metadata": {
    "slideshow": {
     "slide_type": "subslide"
    }
   },
   "source": [
    "* $\\leadsto$ [Übungsaufgabe zur Wärmeleitungsgleichung in 2D ](../../../Uebungen/blatt_zu_2DCalculus.pdf)"
   ]
  }
 ],
 "metadata": {
  "kernelspec": {
   "display_name": "Python 3 (ipykernel)",
   "language": "python",
   "name": "python3"
  },
  "language_info": {
   "codemirror_mode": {
    "name": "ipython",
    "version": 3
   },
   "file_extension": ".py",
   "mimetype": "text/x-python",
   "name": "python",
   "nbconvert_exporter": "python",
   "pygments_lexer": "ipython3",
   "version": "3.13.7"
  }
 },
 "nbformat": 4,
 "nbformat_minor": 4
}
