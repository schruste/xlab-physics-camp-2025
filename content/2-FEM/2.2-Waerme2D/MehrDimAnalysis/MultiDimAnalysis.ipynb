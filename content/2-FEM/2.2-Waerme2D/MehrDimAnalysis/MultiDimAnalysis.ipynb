{
 "cells": [
  {
   "cell_type": "markdown",
   "metadata": {
    "slideshow": {
     "slide_type": "slide"
    }
   },
   "source": [
    "## Before we start, let's load a few libraries:"
   ]
  },
  {
   "cell_type": "code",
   "execution_count": 1,
   "metadata": {
    "slideshow": {
     "slide_type": "fragment"
    }
   },
   "outputs": [],
   "source": [
    "from ipywidgets import interact, interact_manual, interactive, FloatSlider, IntSlider\n",
    "from math import sin, cos, exp, log, sqrt\n",
    "%matplotlib widget"
   ]
  },
  {
   "cell_type": "markdown",
   "metadata": {
    "slideshow": {
     "slide_type": "slide"
    }
   },
   "source": [
    "# Brief introduction to Calculus in more dimensions"
   ]
  },
  {
   "cell_type": "markdown",
   "metadata": {
    "slideshow": {
     "slide_type": "subslide"
    }
   },
   "source": [
    "### Repetition: Functions of one variable\n",
    "\n",
    "$$ \n",
    " x \\quad \\rightarrow \\quad f(x)\n",
    "$$ \n",
    "\n",
    "Example: \n",
    "\n",
    " * $x$ : Coordinate in the rod ($[0,1]$)\n",
    " * $f(x)$ : Temperature at location $x$"
   ]
  },
  {
   "cell_type": "markdown",
   "metadata": {
    "slideshow": {
     "slide_type": "fragment"
    }
   },
   "source": [
    "Analysis of functions with:\n",
    " * Derivative $f'(x)$\n",
    " * Integration $\\int_{a}^{b} f(x) dx$\n",
    " * Discussion of curves: determination of maxima/minima (e.g. $f'(x^\\ast) = 0$, $f''(x) > 0$, ...)"
   ]
  },
  {
   "cell_type": "markdown",
   "metadata": {
    "slideshow": {
     "slide_type": "subslide"
    }
   },
   "source": [
    "## Functions of several variables\n",
    "\n",
    "\\begin{align*} \n",
    " (x,y) \\quad & \\rightarrow \\quad f(x,y) \\\\\n",
    " (x,y,z) \\quad & \\rightarrow \\quad f(x,y,z) \\\\\n",
    " \\vec{x} \\quad & \\rightarrow \\quad f(\\vec{x})\n",
    "\\end{align*}\n",
    "\n",
    "Example:\n",
    "\n",
    " * $\\vec{x} = (x,y)$ : point in the plane ($[0,1]^2$)\n",
    " * $f(\\vec{x})=f(x,y)$ : temperature at point $\\vec{x}$"
   ]
  },
  {
   "cell_type": "markdown",
   "metadata": {
    "slideshow": {
     "slide_type": "subslide"
    }
   },
   "source": [
    "Example: $f(x,y) = x \\sin(2 \\pi y) \\qquad$ ( Question: Which direction corresponds to $x$, which to $y$?)\n",
    "<center>\n",
    "<img src=\"surfplot.png\" alt=\"Drawing\" style=\"width: 60%;\"/>\n",
    "</center>"
   ]
  },
  {
   "cell_type": "markdown",
   "metadata": {
    "slideshow": {
     "slide_type": "subslide"
    }
   },
   "source": [
    "#### Question: What is the derivative of $f(\\vec{x}) = f(x,y)$ at a point $(x,y)$?\n",
    "\n",
    "First of all, repetition: \n",
    " * A derivative describes the change in a function."
   ]
  },
  {
   "cell_type": "markdown",
   "metadata": {
    "slideshow": {
     "slide_type": "fragment"
    }
   },
   "source": [
    " * If we only have one variable, then we can use the limit of the slope of the secant:\n",
    "$$\n",
    "  \\lim_{h \\to 0} \\frac{f(x+h) - f(x)}{h}\n",
    "$$"
   ]
  },
  {
   "cell_type": "markdown",
   "metadata": {
    "slideshow": {
     "slide_type": "subslide"
    }
   },
   "source": [
    " ![alt](deriv.png) "
   ]
  },
  {
   "cell_type": "markdown",
   "metadata": {
    "slideshow": {
     "slide_type": "fragment"
    }
   },
   "source": [
    " * With several variables, the function can develop differently in different directions.\n",
    " \n",
    "   Example: $f(x,y) = x - y$. Function increases for increasing $x$ and decreases for increasing $y$."
   ]
  },
  {
   "cell_type": "markdown",
   "metadata": {
    "slideshow": {
     "slide_type": "fragment"
    }
   },
   "source": [
    " * So how do we define derivatives (in specific directions) of $f(\\vec{x})=f(x,y)$?"
   ]
  },
  {
   "cell_type": "markdown",
   "metadata": {
    "slideshow": {
     "slide_type": "subslide"
    }
   },
   "source": [
    "#### Idea 1: Fix the $y$-coordinate and consider $g(x) = f(x,y^*)$\n",
    "\n",
    " ![alt](restricty.png) \n",
    "\n",
    " * g(x) is a function of one variable:\n",
    "$$\n",
    "  g'(x) = \\lim_{h \\to 0} \\frac{f(x+h,y^*) - f(x,y^*)}{h}\n",
    "$$\n",
    "\n",
    "Example: \n",
    " * $f(x,y) = x \\sin(2 \\pi y)$ $\\rightarrow$ $g'(x) = \\,?$"
   ]
  },
  {
   "cell_type": "markdown",
   "metadata": {
    "slideshow": {
     "slide_type": "fragment"
    }
   },
   "source": [
    "$\\qquad\\rightarrow g'(x) = \\sin(2 \\pi y)$"
   ]
  },
  {
   "cell_type": "markdown",
   "metadata": {
    "slideshow": {
     "slide_type": "subslide"
    }
   },
   "source": [
    "#### Idee 2: Fix the $x$-coordinate and consider $h(y) = f(x^*,y)$\n",
    "\n",
    " ![alt](restrictx.png) \n",
    "\n",
    " * h(y) is a function of one variable:\n",
    "$$\n",
    "  h'(y) = \\lim_{h \\to 0} \\frac{f(x^*,y+h) - f(x^*,y)}{h}\n",
    "$$\n",
    "\n",
    " Example: \n",
    "  * $f(x,y) = x \\sin(2 \\pi y)$ $\\rightarrow$ $h'(y) = \\,?$"
   ]
  },
  {
   "cell_type": "markdown",
   "metadata": {
    "slideshow": {
     "slide_type": "fragment"
    }
   },
   "source": [
    "$\\qquad\\rightarrow h'(y) = 2 \\pi x \\cos(2 \\pi y)$"
   ]
  },
  {
   "cell_type": "markdown",
   "metadata": {
    "slideshow": {
     "slide_type": "subslide"
    }
   },
   "source": [
    "#### Idea 3: Generalization of the directions\n",
    "* $g(x)$ describes change of $f(x,y)$ in $x$-direction \n",
    "\n",
    "\\begin{align*}\n",
    "   \\frac{\\partial f}{\\partial x}(x,y) := g'(x) = \\lim_{h \\to 0} \\frac{f(x+h,y) - f(x,y)}{h} = \\lim_{h \\to 0} \\frac{f\\left( \\vec{x} + h \\left(\\begin{array}{c}1\\\\0\\end{array}\\right)\\right) - f(\\vec{x})}{h}\n",
    "\\end{align*}\n",
    "\n",
    "* $h(y)$ describes change of $f(x,y)$ in $y-$direction \n",
    "\n",
    "\\begin{align*}\n",
    "  \\frac{\\partial f}{\\partial y}(x,y) := h'(y) = \\lim_{h \\to 0} \\frac{f(x,y+h) - f(x,y)}{h} = \\lim_{h \\to 0} \\frac{f\\left( \\vec{x} + h \\left(\\begin{array}{c}0\\\\1\\end{array}\\right)\\right) - f(\\vec{x})}{h}\n",
    "\\end{align*}\n"
   ]
  },
  {
   "cell_type": "markdown",
   "metadata": {
    "slideshow": {
     "slide_type": "subslide"
    }
   },
   "source": [
    "* We defin the gradient:\n",
    "$$\n",
    "\\nabla f (x,y) = \\left( \\begin{array}{c} \\frac{\\partial f}{\\partial x}(x,y) \\\\ \\frac{\\partial f}{\\partial y}(x,y) \\end{array} \\right)\n",
    "$$\n",
    "\n",
    "* The gradient for each point $\\vec{x} = (x,y)$ is itself a vector with components\n",
    "\n",
    "$$ \\nabla f (x,y) \\cdot \\left(\\begin{array}{c}1\\\\0\\end{array}\\right) = \\frac{\\partial f}{\\partial x}(x,y) $$ \n",
    "$$ \\nabla f (x,y) \\cdot \\left(\\begin{array}{c}0\\\\1\\end{array}\\right) = \\frac{\\partial f}{\\partial y}(x,y) $$ \n"
   ]
  },
  {
   "cell_type": "markdown",
   "metadata": {
    "slideshow": {
     "slide_type": "subslide"
    }
   },
   "source": [
    "* The directional derivative in the direction $\\vec{v} = (v_x,v_y)$ with $\\vert \\vec{v} \\vert=1$ is then:\n",
    " $$ \\nabla f (x,y) \\cdot \\vec{v} = \\lim_{h \\to 0} \\frac{f\\left( \\vec{x} + h \\vec{v} \\right) - f(\\vec{x})}{h}$$ "
   ]
  },
  {
   "cell_type": "markdown",
   "metadata": {
    "slideshow": {
     "slide_type": "subslide"
    }
   },
   "source": [
    "\n",
    "### Visualization of functions of 2 variables\n",
    "\n",
    "The following function is visualized in the following block:\n",
    " $$\n",
    "     f(x,y) = \\cos(\\pi (x+y)) - y^2 + 0.8 x\n",
    " $$\n",
    "\n",
    "The following additional information is given for a point $(x^*,y^*)$:\n",
    " * Function value $f(x^*,y^*)$\n",
    " * Gradient $\\nabla f (x^*,y^*)$\n",
    " * Function $g(x) = f(x,y^*)$\n",
    " * Function $h(y) = f(x^*,y)$"
   ]
  },
  {
   "cell_type": "code",
   "execution_count": 3,
   "metadata": {
    "slideshow": {
     "slide_type": "subslide"
    }
   },
   "outputs": [
    {
     "data": {
      "application/vnd.jupyter.widget-view+json": {
       "model_id": "b72c18d854ea4633be20ccd732c961c1",
       "version_major": 2,
       "version_minor": 0
      },
      "text/plain": [
       "interactive(children=(FloatSlider(value=0.0, continuous_update=False, description='x', max=1.0, min=-1.0, step…"
      ]
     },
     "metadata": {},
     "output_type": "display_data"
    }
   ],
   "source": [
    "from draw2D import draw2D\n",
    "interact(draw2D,\n",
    "         px=FloatSlider(min=-1, max=1, step=0.001, description=\"x\", continuous_update=False, value=0),\n",
    "         py=FloatSlider(min=-1, max=1, step=0.001, description=\"y\", continuous_update=False, value=0));"
   ]
  },
  {
   "cell_type": "markdown",
   "metadata": {
    "slideshow": {
     "slide_type": "-"
    }
   },
   "source": [
    "* Where does the function approximately exhibit a maximum?"
   ]
  },
  {
   "cell_type": "markdown",
   "metadata": {
    "slideshow": {
     "slide_type": "slide"
    }
   },
   "source": [
    "## Derivation of differential equation for heat conduction in 2D, stationary"
   ]
  },
  {
   "cell_type": "markdown",
   "metadata": {
    "slideshow": {
     "slide_type": "slide"
    }
   },
   "source": [
    "Again, we search for $u(x,y)$ for the stationary case, i.e. for situations without temporal changes. Furthermore, the thermal conductivity $k$ of the material should be constant, i.e. independent of the location."
   ]
  },
  {
   "cell_type": "markdown",
   "metadata": {
    "slideshow": {
     "slide_type": "subslide"
    }
   },
   "source": [
    "<center>\n",
    "<img src=\"bilanz.png\" alt=\"Drawing\" style=\"width: 400px;\"/>\n",
    "</center>\n",
    "\n",
    "\n",
    "* Heat flux density $k$: $\\qquad [k] = \\frac{W}{K m}$\n",
    "\n",
    "* The heat flow has a direction (in contrast to the 1D view):\n",
    "\n",
    "$$\n",
    "   \\vec{q}_S(x,y)= - k \\nabla u (x,y) \\qquad [\\vec{q}_S] =\\frac{W}{K m} \\frac{K}{m} = \\frac{W}{m²}\n",
    "$$\n",
    "\n",
    "* However, only the portion in the direction normal to the edge is relevant"
   ]
  },
  {
   "cell_type": "markdown",
   "metadata": {
    "slideshow": {
     "slide_type": "subslide"
    }
   },
   "source": [
    "<center>\n",
    "<img src=\"bilanz.png\" alt=\"Drawing\" style=\"width: 400px;\"/>\n",
    "</center>\n",
    "\n",
    "* Balance: \n",
    "    Sum of incoming currents (times edge length) = Sum of outgoing currents (times edge length)\n",
    "\n",
    "* Simplification: $\\vec{q}_S$ does not change much over an edge:\n",
    "\n",
    "\\begin{align*}\n",
    "   & 2 h \\cdot \\vec{q}_S(x-h,y) \\cdot \\left( \\begin{array}{c} 1 \\\\ 0 \\end{array} \\right) \n",
    "   +2 h \\cdot \\vec{q}_S(x+h,y) \\cdot \\left( \\begin{array}{c} -1 \\\\ 0 \\end{array} \\right) \\\\ \n",
    "   &+2 h \\cdot \\vec{q}_S(x,y+h) \\cdot \\left( \\begin{array}{c} 0 \\\\ -1 \\end{array} \\right) \n",
    "   +2 h \\cdot \\vec{q}_S(x,y-h) \\cdot \\left( \\begin{array}{c} 0 \\\\ 1 \\end{array} \\right) & = 0 (\\text{or hear source term})\n",
    "\\end{align*}\n"
   ]
  },
  {
   "cell_type": "markdown",
   "metadata": {
    "slideshow": {
     "slide_type": "subslide"
    }
   },
   "source": [
    "\\begin{align*}\n",
    "   && -2 h \\cdot k \\frac{\\partial u}{\\partial x}(x-h,y)\n",
    "   +2 h \\cdot k \\frac{\\partial u}{\\partial x}(x+h,y) \\\\\n",
    "   && 2 h \\cdot k \\frac{\\partial u}{\\partial y}(x,y+h)\n",
    "   -2 h \\cdot k \\frac{\\partial u}{\\partial y}(x,y-h) & = 0 \\\\\n",
    "\\Longrightarrow && \n",
    "   2 h \\cdot k \\left[ \\frac{\\partial u}{\\partial x} (\\tilde{x},y) \\right]_{x-h}^{x+h}\n",
    "   +2 h \\cdot k \\left[ \\frac{\\partial u}{\\partial y} (x,\\tilde{y}) \\right]_{y-h}^{y+h} & = 0 \\\\\n",
    "\\Longrightarrow && \n",
    "   2 h \\cdot k \\int_{x-h}^{x+h} \\frac{\\partial^2 u}{\\partial x^2} (\\tilde{x},y) \\, d\\tilde{x} \n",
    "   +2 h \\cdot k \\int_{y-h}^{y+h} \\frac{\\partial^2 u}{\\partial y^2} (x,\\tilde{y}) \\, d\\tilde{y} & = 0 \\\\\n",
    "\\stackrel{\\frac{d^2 u}{dx^2} ca. constant}{\\longrightarrow} && \n",
    "   2 h \\cdot k \\int_{x-h}^{x+h} \\frac{\\partial^2 u}{\\partial x^2} (x,y) \\, d\\tilde{x} \n",
    "   +2 h \\cdot k \\int_{y-h}^{y+h} \\frac{\\partial^2 u}{\\partial y^2} (x,y) \\, d\\tilde{y} & = 0 \\\\\n",
    "\\longrightarrow && \n",
    "   2 h \\cdot k  \\, \\frac{\\partial^2 u}{\\partial x^2} (x,y) \\int_{x-h}^{x+h} d\\tilde{x} \n",
    "   +2 h \\cdot k \\, \\frac{\\partial^2 u}{\\partial y^2} (x,y) \\int_{y-h}^{y+h} d\\tilde{y} & = 0 \\\\\n",
    "\\Longrightarrow && \n",
    "   4 h^2 \\cdot k \\left( \\frac{\\partial^2 u}{\\partial x^2} (x,y) + \\frac{\\partial^2 u}{\\partial y^2} (x,y) \\right) & = 0 \\\\\n",
    "\\end{align*}"
   ]
  },
  {
   "cell_type": "markdown",
   "metadata": {
    "slideshow": {
     "slide_type": "subslide"
    }
   },
   "source": [
    "* $\\leadsto$ [Exercise on the heat conduction equation in 2D](../../../Uebungen/blatt_zu_2DCalculus.pdf)"
   ]
  },
  {
   "cell_type": "code",
   "execution_count": null,
   "metadata": {},
   "outputs": [],
   "source": []
  }
 ],
 "metadata": {
  "kernelspec": {
   "display_name": "Python 3 (ipykernel)",
   "language": "python",
   "name": "python3"
  },
  "language_info": {
   "codemirror_mode": {
    "name": "ipython",
    "version": 3
   },
   "file_extension": ".py",
   "mimetype": "text/x-python",
   "name": "python",
   "nbconvert_exporter": "python",
   "pygments_lexer": "ipython3",
   "version": "3.12.4"
  }
 },
 "nbformat": 4,
 "nbformat_minor": 4
}
