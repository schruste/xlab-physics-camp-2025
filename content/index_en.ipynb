{
 "cells": [
  {
   "cell_type": "markdown",
   "metadata": {
    "slideshow": {
     "slide_type": "slide"
    }
   },
   "source": [
    "# Numerical simulation of physical systems\n",
    "\n",
    "---"
   ]
  },
  {
   "cell_type": "markdown",
   "metadata": {
    "slideshow": {
     "slide_type": "slide"
    }
   },
   "source": [
    "General information\n",
    "----\n",
    "* Introduction\n",
    "  * [0.1](0-GeneralInformation/0.1-Einführung/Introduction.ipynb) Introduction into the course\n",
    "* Used software\n",
    "  * [0.2.1](0-GeneralInformation/0.2-Software/jupyter.ipynb) What is `Python` / `jupyter` / `COMSOL` / `NGSolve`?\n",
    "  * [0.2.2](0-GeneralInformation/0.2-Software/InstallationPythonJupyterNGSolve.pdf) Installation instructions for used software\n",
    "  * [0.2.3](0-GeneralInformation/0.2-Software/comsol.ipynb) Access to `COMSOL`"
   ]
  },
  {
   "cell_type": "markdown",
   "metadata": {
    "collapsed": true,
    "jupyter": {
     "outputs_hidden": true
    },
    "slideshow": {
     "slide_type": "slide"
    }
   },
   "source": [
    "ODEs and their numerical solution\n",
    "----\n",
    "* Introduction to ODEs and their numerical solution:\n",
    "  * [1.1.1](1-Euler/ODEs.ipynb) Introduction into ODEs \n",
    "  * [1.1.2](1-Euler/exponential.ipynb) Exponential growth\n",
    "  * [1.1.3](1-Euler/logistic.ipynb) Logistic growth\n",
    "  * [1.1.4](1-Euler/numode.ipynb) Numerical methods for ODEs (IVPs)\n",
    "  * [1.1.5](1-Euler/numlogistic.ipynb) Simulation of logistic growth\n",
    "  * [1.1.6](1-Euler/numode2.ipynb) Numerical method for ODEs (IVPs) II\n",
    "  * [1.1.7](1-Euler/SIR.ipynb) Simulation of SIR model\n",
    "* In-Depth example: single pendulum (highlights: higher order ODEs, symplectic integrators)\n",
    "  * [1.2.1](1-Euler/Derivation_pendulum.ipynb) Derivation of ODEs for single pendulum / experiment\n",
    "  * [1.2.2](1-Euler/Simulation_pendulum.ipynb) Numerical simulation of single pendulum\n",
    "* Many body systems\n",
    "  * [1.3.1](1-Euler/manybody.ipynb) Numerical simulation of many body problems (e.g. outer solar system)\n",
    "  * [1.3.2](1-Euler/double_pendulum.ipynb) Numerical simulation of double pendulum"
   ]
  },
  {
   "cell_type": "markdown",
   "metadata": {
    "collapsed": true,
    "jupyter": {
     "outputs_hidden": true
    },
    "slideshow": {
     "slide_type": "slide"
    }
   },
   "source": [
    "Finite element method (FEM) in 1D\n",
    "----\n",
    "* Thermal conductivity in 1D\n",
    "  * [2.1.1](2-FEM/2.1-Waerme1D/Herleitung1D/Deviation1D.ipynb) Differential equation for heat conduction in 1D \n",
    "  * [2.1.2](2-FEM/2.1-Waerme1D/FEM1D/FEM1D.ipynb) Introduction to the finite element method for the 1D heat conduction problem \n",
    "  * [2.1.3](2-FEM/2.1-Waerme1D/Experiment/Experiment.ipynb) Experiment 1D "
   ]
  },
  {
   "cell_type": "markdown",
   "metadata": {},
   "source": [
    "Finite element method (FEM) in 2D/3D\n",
    "----\n",
    "* FEM in multiple dimensions\n",
    " * [2.2.1](2-FEM/2.2-Waerme2D/MehrDimAnalysis/MultiDimAnalysis.ipynb) Differentials in 2D / Differential equation for heat conduction in 2D \n",
    " * [2.2.2](2-FEM/2.2-Waerme2D/heat_room.ipynb) Heat conduction in 2D/3D room example \n",
    " * [2.2.3](2-FEM/Linearelasticity.ipynb) Intro Elasticity \n",
    " * [2.2.4]() MPS \n",
    " * [2.2.5](2-FEM/2.2-Waerme2D/COMSOL/COMSOL.ipynb) Einführung in COMSOL zur 2D Simulation mit FEM\n"
   ]
  }
 ],
 "metadata": {
  "kernelspec": {
   "display_name": "Python 3",
   "language": "python",
   "name": "python3"
  },
  "language_info": {
   "codemirror_mode": {
    "name": "ipython",
    "version": 3
   },
   "file_extension": ".py",
   "mimetype": "text/x-python",
   "name": "python",
   "nbconvert_exporter": "python",
   "pygments_lexer": "ipython3",
   "version": "3.13.7"
  },
  "toc": {
   "base_numbering": 1,
   "nav_menu": {},
   "number_sections": true,
   "sideBar": true,
   "skip_h1_title": false,
   "title_cell": "Table of Contents",
   "title_sidebar": "Contents",
   "toc_cell": false,
   "toc_position": {},
   "toc_section_display": true,
   "toc_window_display": false
  }
 },
 "nbformat": 4,
 "nbformat_minor": 4
}
