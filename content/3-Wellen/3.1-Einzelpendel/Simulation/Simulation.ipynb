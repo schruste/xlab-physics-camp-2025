{
 "cells": [
  {
   "cell_type": "markdown",
   "metadata": {
    "slideshow": {
     "slide_type": "slide"
    }
   },
   "source": [
    "### Gewöhnliche Differenzialgleichungen\n",
    "\n",
    "Das Einzelpendel-Problem lässt sich als gewöhnliche Differenzialgleichung der Form\n",
    "\n",
    "\\begin{align}\n",
    "  \\frac{d \\vec{u}(t)}{dt} & = \\vec{f}(t,\\vec{u}(t))\n",
    "\\end{align}\n",
    "\n",
    "auffassen. \n",
    "\n",
    "Dabei ist $\\vec{u}(t)$ der Zustandsvektor zum Zeitpunkt $t$ bestehend aus Position $x(t)$ und Geschwindigkeit $v(t)$. \n",
    "\n",
    "Im Allgemeinen lassen sich gewöhnliche Differenzialgleichungen nicht geschlossen lösen (manchmal schon)."
   ]
  },
  {
   "cell_type": "markdown",
   "metadata": {
    "slideshow": {
     "slide_type": "fragment"
    }
   },
   "source": [
    "$\\leadsto$ Wir benötigen numerische Lösungsverfahren"
   ]
  },
  {
   "cell_type": "markdown",
   "metadata": {
    "slideshow": {
     "slide_type": "subslide"
    }
   },
   "source": [
    "#### Gewöhnliche Differenzialgleichungen einer Veränderlicher\n",
    "\n",
    "Der Einfachheit halber diskutieren wir zunächst den Fall bei dem die gesuchte Funktion eine skalare Funktion ist (jeder Funktionswert ist eine Zahl). Diese genüge der Differenzialgleichung\n",
    "\\begin{align}\n",
    "  \\frac{d u(t)}{dt} & = f(t,u(t))\n",
    "\\end{align}\n",
    "\n",
    "Gegeben ist ein Startwert $u(t_0) = u_0$ und gesucht ist $u(t), ~ t > t_0$.\n"
   ]
  },
  {
   "cell_type": "markdown",
   "metadata": {
    "slideshow": {
     "slide_type": "subslide"
    }
   },
   "source": [
    "<center>\n",
    "<img src=\"expEuler0.png\" alt=\"Drawing\" style=\"width: 60%;\"/>\n",
    "</center>"
   ]
  },
  {
   "cell_type": "markdown",
   "metadata": {
    "slideshow": {
     "slide_type": "subslide"
    }
   },
   "source": [
    "#### Grundidee Euler-Verfahren:\n",
    "* Wir können $f(t_0,u(t_0))$ ausrechnen, da wir $t_0$ und $u_0 = u(t_0)$ kennen\n",
    "* Damit kennen wir die \"Richtung der Funktion\" (Richtungsvektor der Tangente):\n"
   ]
  },
  {
   "cell_type": "markdown",
   "metadata": {
    "slideshow": {
     "slide_type": "fragment"
    }
   },
   "source": [
    "<center>\n",
    "<img src=\"expEuler2.png\" alt=\"Drawing\" style=\"width: 60%;\"/>\n",
    "</center>"
   ]
  },
  {
   "cell_type": "markdown",
   "metadata": {
    "slideshow": {
     "slide_type": "subslide"
    }
   },
   "source": [
    " * Wir gehen einen kleinen Schritt (von $t_0$ zu $t_1 = t_0 + \\Delta t$) entlang dieser Richtung.\n",
    "<center>\n",
    "<img src=\"expEuler3.png\" alt=\"Drawing\" style=\"width: 60%;\"/>\n",
    "</center>\n",
    " * Damit landen wir auf $u^1=u^*(t_1)$ was nicht exakt $u(t_1)$ ist, aber in der Nähe. \n",
    " * Zu $t_1$ und $u^1$ können wir wieder einer Richtung berechnen und für einen kleinen Schritt folgen\n",
    " * ..."
   ]
  },
  {
   "cell_type": "markdown",
   "metadata": {
    "slideshow": {
     "slide_type": "subslide"
    }
   },
   "source": [
    "### Euler-Verfahren\n",
    "\n",
    "Diese Vorgehensweise lässt sich direkt auch auf vektorielle Differenzialgleichungen anwenden:\n",
    "\n",
    "* Seien $t_0$ und $\\vec{u}^0 = \\vec{u}(t_0)$ gegeben.\n",
    "* Werte $\\vec{f}(t_0,\\vec{u}^0)$ aus\n",
    "* Gehe entlang dieser Richtung, d.h. \n",
    "$$\n",
    "\\vec{u}^1 = \\vec{u}^0 + \\Delta t \\cdot\\vec{f}(t_0,\\vec{u}^0)\n",
    "$$\n",
    "* Benutze $t_1 = t_0 + \\Delta t$ und $\\vec{u}^1$ als Anfangswerte und beginne von vorne\n"
   ]
  },
  {
   "cell_type": "markdown",
   "metadata": {
    "slideshow": {
     "slide_type": "subslide"
    }
   },
   "source": [
    "### Anmerkungen\n",
    "\n",
    "* Die Approximation mit einer Tangente an der Stelle $(t_0,u^0)$ kann mit genaueren Approximationen ersetzt werden\n",
    "\n",
    "* Alternativ zur Formulierung als Differenzialgleichung können wir auch formulieren:\n",
    "$$ \\tag{*}\n",
    " \\vec{u}(t) = \\vec{u}^0 + \\int_{t_0}^{t} f(\\tilde{t},u(\\tilde{t})) d\\tilde{t}\n",
    "$$\n",
    "(Zur Probe einmal nach $t$ ableiten)"
   ]
  },
  {
   "cell_type": "markdown",
   "metadata": {
    "slideshow": {
     "slide_type": "subslide"
    }
   },
   "source": [
    "* Die Darstellung (*) kann man nun mit Integrationsregeln approximieren, z.B. :\n",
    "\n",
    "  (nachfolgende Bilder sind entnommen von [hier](http://tutorial.math.lamar.edu/Classes/CalcI/AreaProblem.aspx) )\n",
    "\n",
    " * linksseitige Integrationsregel: $ \\vec{u}^1 = \\vec{u}^0 + \\Delta t \\cdot f(t_0, \\color{red}{ \\vec{u}(t_0)}) \\Rightarrow$ explizites Euler-Verfahren\n",
    "<center>\n",
    "<img src=\"image003.gif\" alt=\"Drawing\" style=\"width: 30%;\"/>\n",
    "</center>"
   ]
  },
  {
   "cell_type": "markdown",
   "metadata": {
    "slideshow": {
     "slide_type": "subslide"
    }
   },
   "source": [
    " * rechtsseitige Integrationsregel: $ \\vec{u}^1 = \\vec{u}^0 + \\Delta t \\cdot f(t_1, \\color{red}{\\vec{u}^1}) \\Rightarrow$ implizites Euler-Verfahren\n",
    "<center>\n",
    "<img src=\"image002.gif\" alt=\"Drawing\" style=\"width: 30%;\"/>\n",
    "</center>"
   ]
  },
  {
   "cell_type": "markdown",
   "metadata": {},
   "source": [
    " * Trapezregel: $ \\vec{u}^1 = \\vec{u}^0 + \\Delta t \\cdot \\left(\\frac12 f(t_0, \\color{red}{\\vec{u}^0}) + \\frac12 f(t_1, \\color{red}{\\vec{u}^1})\\right) \\Rightarrow $ Trapezregel (Crank-Nicholson-Verfahren )"
   ]
  },
  {
   "cell_type": "markdown",
   "metadata": {
    "slideshow": {
     "slide_type": "subslide"
    }
   },
   "source": [
    " * Mittelpunktsregel: $ u^1 = \\vec{u}^0 + \\Delta t \\cdot f(t_0, \\color{red}{\\vec{u}^\\frac12}) $\n",
    "<center>\n",
    "<img src=\"image004.gif\" alt=\"Drawing\" style=\"width: 30%;\"/>\n",
    "</center>\n",
    " * Kein $\\vec{u}^\\frac12$ definiert:\n",
    " * Approximiere $\\vec{u}^\\frac12$ mit explizitem Euler-Verfahren $\\Longrightarrow$ \"verbessertes Euler-Verfahren\" / \"explizite Mittelpunktsregel\" / \"Heun-Verfahren\":\n",
    "    \\begin{align*}\n",
    "        \\vec{u}^\\frac12 & = \\vec{u}^0 + \\frac12 \\Delta t \\cdot f(t_0, \\color{red}{\\vec{u}^0}) \\\\\n",
    "        \\vec{u}^1 & = \\vec{u}^0 + \\Delta t \\cdot f(t_\\frac12, \\color{red}{\\vec{u}^\\frac12})\n",
    "    \\end{align*}\n",
    "        \n",
    "    "
   ]
  },
  {
   "cell_type": "markdown",
   "metadata": {
    "slideshow": {
     "slide_type": "slide"
    }
   },
   "source": [
    "# Simulation des Einzelpendels"
   ]
  },
  {
   "cell_type": "markdown",
   "metadata": {
    "slideshow": {
     "slide_type": "subslide"
    }
   },
   "source": [
    "\n",
    "\\begin{align*}\n",
    " \\varphi(t):&  \\quad \\text{Auslenkung des Pendels aus der Ruhelage} && \\quad [\\varphi] = 1 rad\\\\\n",
    " v(t):&  \\quad \\text{Bahngeschwindigkeit des Pendels} && \\quad [v] = 1 m/s \\\\\n",
    " \\\\\n",
    " g : & \\quad \\text{Gravitationskonstante} && \\quad [g] = 1 m/s^2  \\\\\n",
    " l : & \\quad \\text{Länge des Pendels} && \\quad [l] = 1 m  \\\\\n",
    " k =\\frac{b}{m}: & \\quad \\text{Dämpfungskonstante des Pendels} && \\quad [k] = 1 / s\n",
    "\\end{align*}\n",
    "\n",
    "\\begin{align*}\n",
    "    \\frac{d \\varphi(t)}{dt} & = v(t) / l \\\\\n",
    "    \\frac{d v(t)}{dt} & = -g\\sin(\\varphi(t)) - k v(t)\n",
    "\\end{align*}"
   ]
  },
  {
   "cell_type": "markdown",
   "metadata": {
    "slideshow": {
     "slide_type": "slide"
    }
   },
   "source": [
    "## Explizites Euler-Verfahren:\n",
    "\n",
    "#### Formulierung als allgemeine gewöhnliche Differenzialgleichung (ODE):\n",
    "\\begin{align}\n",
    "  \\frac{d \\vec{u}(t)}{dt} & = \\vec{f}(\\vec{u}(t))\n",
    "\\end{align}\n",
    "wobei\n",
    "$$\n",
    "\\vec{u}(t) = \n",
    "\\left( \n",
    "\\begin{array}{c}\n",
    "\\varphi(t) \\\\ v(t)\n",
    "\\end{array}\n",
    "\\right)\n",
    "$$\n",
    "und\n",
    "$$\n",
    "\\vec{f}(\\vec{u}) = \\vec{f}(\\varphi,v) = \\left( \n",
    "\\begin{array}{c}\n",
    " v / l\\\\ \n",
    " - g \\sin(\\varphi) - k v\n",
    "\\end{array}\n",
    "\\right)\n",
    "= \\left( \n",
    "\\begin{array}{c}\n",
    " \\vec{u}_2 / l  \\\\\n",
    " - g \\sin(\\vec{u}_1) - k \\vec{u}_2\n",
    "\\end{array}\n",
    "\\right)\n",
    "$$\n",
    "\n"
   ]
  },
  {
   "cell_type": "markdown",
   "metadata": {
    "slideshow": {
     "slide_type": "subslide"
    }
   },
   "source": [
    "Damit wird aus dem allgemeinen expliziten Euler-Verfahren\n",
    "\\begin{align}\n",
    "  \\vec{u}^{n+1} & = \\vec{u}^{n} + \\Delta t \\cdot \\vec{f}(\\vec{u}^n)\n",
    "\\end{align}\n",
    "folgende Vorschrift:\n",
    "\\begin{align}\n",
    "  \\varphi^{n+1} & = \\varphi^{n} + \\Delta t \\cdot v^{n} / l \\\\\n",
    "  v^{n+1} & = v^{n} + \\Delta t \\cdot ( - g \\sin(\\varphi^n) - k v^n  )\n",
    "\\end{align}"
   ]
  },
  {
   "cell_type": "markdown",
   "metadata": {
    "slideshow": {
     "slide_type": "subslide"
    }
   },
   "source": [
    "#### Anfangswerte / Materialparameter"
   ]
  },
  {
   "cell_type": "markdown",
   "metadata": {
    "slideshow": {
     "slide_type": "fragment"
    }
   },
   "source": [
    "* Anfangswerte:"
   ]
  },
  {
   "cell_type": "code",
   "execution_count": null,
   "metadata": {
    "slideshow": {
     "slide_type": "-"
    }
   },
   "outputs": [],
   "source": [
    "initialvals = { \"phi\" : 1.0, \"v\" : 0.0}"
   ]
  },
  {
   "cell_type": "markdown",
   "metadata": {
    "slideshow": {
     "slide_type": "fragment"
    }
   },
   "source": [
    "* Materialparameter:"
   ]
  },
  {
   "cell_type": "code",
   "execution_count": null,
   "metadata": {
    "slideshow": {
     "slide_type": "-"
    }
   },
   "outputs": [],
   "source": [
    "matparam =  { \"g\" : 1.0, \"l\" : 1.0, \"k\" : 0.0, \"m\" : 1.0}"
   ]
  },
  {
   "cell_type": "markdown",
   "metadata": {
    "slideshow": {
     "slide_type": "subslide"
    }
   },
   "source": [
    "### Ein Schritt Euler-Verfahren:"
   ]
  },
  {
   "cell_type": "markdown",
   "metadata": {
    "slideshow": {
     "slide_type": "-"
    }
   },
   "source": [
    "Aufgabe:\n",
    " * Gegeben sei der Zustand $\\varphi^n, v^n$ (also $\\vec{u}^n$), berechne $\\varphi^{n+1}, v^{n+1}$ (also $\\vec{u}^{n+1}$)."
   ]
  },
  {
   "cell_type": "code",
   "execution_count": null,
   "metadata": {
    "slideshow": {
     "slide_type": "fragment"
    }
   },
   "outputs": [],
   "source": [
    "from math import sin, cos, pi\n",
    "def OneStep_ExplicitEuler(u, matparam, simparam):\n",
    "    phi0, v0 = u\n",
    "    u[0] += simparam[\"dt\"] * v0 / matparam[\"l\"] \n",
    "    u[1] -= simparam[\"dt\"] * ( matparam[\"g\"] * sin(phi0) + matparam[\"k\"] * v0)"
   ]
  },
  {
   "cell_type": "markdown",
   "metadata": {
    "slideshow": {
     "slide_type": "subslide"
    }
   },
   "source": [
    "### Das Zeitschritt-Verfahren:"
   ]
  },
  {
   "cell_type": "code",
   "execution_count": null,
   "metadata": {
    "slideshow": {
     "slide_type": "-"
    }
   },
   "outputs": [],
   "source": [
    "from numpy import array\n",
    "from plot import plot\n",
    "%matplotlib notebook\n",
    "def ODESolve(initialvals, matparam, simparam):\n",
    "    timehistory = []\n",
    "    poshistory = []\n",
    "    velhistory = []\n",
    "    \n",
    "    u = array([initialvals[\"phi\"],initialvals[\"v\"]],dtype=float)\n",
    "    t = simparam[\"t0\"]\n",
    "\n",
    "    timehistory.append(t)\n",
    "    poshistory.append(u[0])\n",
    "    velhistory.append(u[1])\n",
    "    \n",
    "    dt = simparam[\"dt\"]\n",
    "    cnt = 0\n",
    "    while t < simparam[\"tend\"]:\n",
    "        simparam[\"method\"](u,matparam,simparam)\n",
    "        t = t + dt\n",
    "        timehistory.append(t)\n",
    "        poshistory.append(u[0])\n",
    "        velhistory.append(u[1])\n",
    "    plot(timehistory,poshistory,velhistory)\n",
    "    return u"
   ]
  },
  {
   "cell_type": "markdown",
   "metadata": {
    "slideshow": {
     "slide_type": "subslide"
    }
   },
   "source": [
    "### Berechnung der Energie"
   ]
  },
  {
   "cell_type": "code",
   "execution_count": null,
   "metadata": {
    "slideshow": {
     "slide_type": "-"
    }
   },
   "outputs": [],
   "source": [
    "def Energy(matparam,phi,v):\n",
    "    return matparam[\"g\"] * matparam[\"l\"] * matparam[\"m\"] * (1-cos(phi)) + 0.5 * matparam[\"m\"] * v**2"
   ]
  },
  {
   "cell_type": "markdown",
   "metadata": {
    "slideshow": {
     "slide_type": "slide"
    }
   },
   "source": [
    "### Simulation mit dem expliziten Euler-Verfahren"
   ]
  },
  {
   "cell_type": "code",
   "execution_count": null,
   "metadata": {
    "slideshow": {
     "slide_type": "-"
    }
   },
   "outputs": [],
   "source": [
    "#matparam =  { \"g\" : 1, \"l\" : 1, \"k\" : 0.0, \"m\" : 1.0}\n",
    "simparam = { \"dt\" : 0.1, \"t0\" : 0, \"tend\" : 4*pi, \"method\" : OneStep_ExplicitEuler}\n",
    "phi0, v0 = initialvals[\"phi\"], initialvals[\"v\"]\n",
    "u_final = ODESolve(initialvals, matparam, simparam)\n",
    "phi, v = u_final\n",
    "print(\"Anfangswinkel: {:8.3e}, Anfangsgeschwindigkeit: {:8.3e}, Anfangsenergie: {:8.3e}\".format(phi0, v0, Energy(matparam,phi0,v0)))\n",
    "print(\"Endwinkel:     {:8.3e}, Endgeschwindigkeit:     {:8.3e}, Endenergie:     {:8.3e}\".format( phi,  v, Energy(matparam, phi, v)))"
   ]
  },
  {
   "cell_type": "markdown",
   "metadata": {
    "slideshow": {
     "slide_type": "subslide"
    }
   },
   "source": [
    "#### Aufgabe:\n",
    "  * Simulieren Sie für verschiedene Fälle der Parameter $g,~l$ und $k$ mehrere Schwingungsperioden.\n",
    "  * Verkleinern Sie dabei immer $\\Delta t$ solange bis sich das Ergebnis nicht mehr sichtbar ändert.\n",
    "  * Was beobachten Sie?"
   ]
  },
  {
   "cell_type": "markdown",
   "metadata": {
    "slideshow": {
     "slide_type": "subslide"
    }
   },
   "source": [
    "#### Aufgabe:\n",
    "  * Betrachten Sie auch Anfangswinkel von $\\pi$ oder unterschiedliche Anfangsgeschwindigkeiten\n",
    "  * Wieso sind nach $4\\pi$ keine zwei vollen Schwingungsperioden abgeschlossen? "
   ]
  },
  {
   "cell_type": "markdown",
   "metadata": {
    "slideshow": {
     "slide_type": "subslide"
    }
   },
   "source": [
    "#### Aufgabe: \n",
    "  * Betrachten Sie $k = 0$. \n",
    "  * Welche Gesamtenergie verbleibt im System nach einigen simulierten Schwingungen?\n",
    "  * Welche Gesamtenergie sollte theoretisch im System verbleiben?\n",
    "  * Wie hängt der Fehler in der Energie von der Anzahl der Schwingungen und dem Zeitschritt $\\Delta t$ ab?  "
   ]
  },
  {
   "cell_type": "markdown",
   "metadata": {
    "slideshow": {
     "slide_type": "slide"
    }
   },
   "source": [
    "### Das Symplektische Euler-Verfahren\n",
    "\n",
    "Das explizite Euler-Verfahren wird für Mehrkörper-Probleme gerne abgeändert, um ein besseres Langzeitverhalten aufzuweisen:\n",
    "\n",
    "\\begin{align}\n",
    "  v^{n+1} & = v^{n} + \\Delta t \\cdot ( - g \\sin(\\varphi^{n}) - k v^n  ) \\\\\n",
    "  \\varphi^{n+1} & = \\varphi^{n} + \\Delta t \\cdot v^{n+1} / l\n",
    "\\end{align}\n",
    "\n",
    "Der einzige Unterschied zum expliziten Euler-Verfahren besteht darin, dass beim Update für $\\varphi$ das bereits aktualisierte $v$ verwendet wird."
   ]
  },
  {
   "cell_type": "code",
   "execution_count": null,
   "metadata": {
    "slideshow": {
     "slide_type": "subslide"
    }
   },
   "outputs": [],
   "source": [
    "def OneStep_SymplecticEuler(u, matparam, simparam):\n",
    "    phi0, v0 = u\n",
    "    u[1] -= simparam[\"dt\"] * ( matparam[\"g\"] * sin(phi0) + matparam[\"k\"] * v0)\n",
    "    u[0] += simparam[\"dt\"] * u[1]/matparam[\"l\"]"
   ]
  },
  {
   "cell_type": "markdown",
   "metadata": {
    "slideshow": {
     "slide_type": "slide"
    }
   },
   "source": [
    "#### Simulation mit dem symplektischen Euler-Verfahren"
   ]
  },
  {
   "cell_type": "code",
   "execution_count": null,
   "metadata": {
    "scrolled": false,
    "slideshow": {
     "slide_type": "-"
    }
   },
   "outputs": [],
   "source": [
    "#matparam =  { \"g\" : 1, \"l\" : 1, \"k\" : 0.0, \"m\" : 1.0}\n",
    "simparam = { \"dt\" : 0.01, \"t0\" : 0, \"tend\" : 4*pi, \"method\" : OneStep_SymplecticEuler}\n",
    "phi0, v0 = initialvals[\"phi\"], initialvals[\"v\"]\n",
    "u_final = ODESolve(initialvals, matparam, simparam)\n",
    "phi, v = u_final\n",
    "print(\"Anfangswinkel: {:8.3e}, Anfangsgeschwindigkeit: {:8.3e}, Anfangsenergie: {:8.3e}\".format(phi0, v0, Energy(matparam,phi0,v0)))\n",
    "print(\"Endwinkel:     {:8.3e}, Endgeschwindigkeit:     {:8.3e}, Endenergie:     {:8.3e}\".format( phi,  v, Energy(matparam, phi, v)))"
   ]
  },
  {
   "cell_type": "markdown",
   "metadata": {
    "slideshow": {
     "slide_type": "subslide"
    }
   },
   "source": [
    "#### Aufgabe (wie oben): \n",
    "  * Betrachten Sie $k = 0$. \n",
    "  * Welche Gesamtenergie verbleibt im System nach einigen simulierten Schwingungen?\n",
    "  * Welche Gesamtenergie sollte theoretisch im System verbleiben?\n",
    "  * Wie hängt der Fehler in der Energie von der Anzahl der Schwingungen und dem Zeitschritt $\\Delta t$ ab?  "
   ]
  },
  {
   "cell_type": "markdown",
   "metadata": {
    "slideshow": {
     "slide_type": "slide"
    }
   },
   "source": [
    "#### Aufgabe: \n",
    "  * Implementieren Sie (s.u.) das verbesserte Euler-Verfahren / Heun-Verfahren indem sie eine neue Funktion \n",
    "  `OneStep_Heun(...)` analog zu `OneStep_ExplicitEuler(...)` implementieren. Füllen Sie dazu einfach den unten angegebenen Code-Block auf und entfernen sie die Zeile `raise Exception(\"Heun not yet implemented\")`.\n",
    "  * Vergleichen Sie das Heun-Verfahren mit den oben behandelten Verfahren. Was stellen Sie fest (Genauigkeit/Kosten/Langzeitverhalten)?"
   ]
  },
  {
   "cell_type": "code",
   "execution_count": null,
   "metadata": {
    "slideshow": {
     "slide_type": "subslide"
    }
   },
   "outputs": [],
   "source": [
    "def OneStep_Heun(u, matparam, simparam):\n",
    "    raise Exception(\"Heun not yet implemented\")\n",
    "    phi0, v0 = u\n",
    "\n",
    "    uhalf0 = ...\n",
    "    uhalf1 = ... \n",
    "    \n",
    "    u[0] = ...\n",
    "    u[1] = ...   \n",
    "    "
   ]
  },
  {
   "cell_type": "markdown",
   "metadata": {
    "slideshow": {
     "slide_type": "subslide"
    }
   },
   "source": [
    "#### Simulation mit dem Heun-Verfahren"
   ]
  },
  {
   "cell_type": "code",
   "execution_count": null,
   "metadata": {
    "scrolled": false,
    "slideshow": {
     "slide_type": "-"
    }
   },
   "outputs": [],
   "source": [
    "#matparam =  { \"g\" : 1, \"l\" : 1, \"k\" : 0.0, \"m\" : 1.0}\n",
    "simparam = { \"dt\" : 0.1, \"t0\" : 0, \"tend\" : 4*pi, \"method\" : OneStep_Heun}\n",
    "phi0, v0 = initialvals[\"phi\"], initialvals[\"v\"]\n",
    "u_final = ODESolve(initialvals, matparam, simparam)\n",
    "phi, v = u_final\n",
    "print(\"Anfangswinkel: {:8.3e}, Anfangsgeschwindigkeit: {:8.3e}, Anfangsenergie: {:8.3e}\".format(phi0, v0, Energy(matparam,phi0,v0)))\n",
    "print(\"Endwinkel:     {:8.3e}, Endgeschwindigkeit:     {:8.3e}, Endenergie:     {:8.3e}\".format( phi,  v, Energy(matparam, phi, v)))"
   ]
  },
  {
   "cell_type": "markdown",
   "metadata": {
    "slideshow": {
     "slide_type": "slide"
    }
   },
   "source": [
    "#### Zusatzaufgabe: \n",
    "  * Implementieren Sie (s.u.) ein weiteres Verfahren\n",
    "  `OneStep_StoermerVerlet(...)` analog zu `OneStep_ExplicitEuler(...)`.  Füllen Sie dazu einfach den unten angegebenen Code-Block auf und entfernen sie die Zeile `raise Exception(\"Heun not yet implemented\")`.\n",
    "  Das Störmer-Verlet-Verfahren ist dabei wie folgt definiert:\n",
    "  \\begin{align}\n",
    "  \\varphi^{n+\\frac12} & = \\varphi^{n} + \\Delta t/2 ~ v^{n} / l \\\\\n",
    "  v^{n+\\frac12} & = v^{n} + \\Delta t/2 ~  ( - g \\sin(\\varphi^{n+\\frac12}) - k v^n  ) \\\\\n",
    "  v^{n+1} & = v^{n+\\frac12} + \\Delta t/2 ~  ( - g \\sin(\\varphi^{n+\\frac12}) - k v^{n+\\frac12} ) \\\\\n",
    "  \\varphi^{n+1} & = \\varphi^{n+\\frac12} + \\Delta t/2 ~ v^{n+1} / l \\\\\n",
    "\\end{align}\n",
    "    \n",
    "  * Welche Vorteile beobachten Sie für dieses Verfahren?"
   ]
  },
  {
   "cell_type": "code",
   "execution_count": null,
   "metadata": {
    "slideshow": {
     "slide_type": "subslide"
    }
   },
   "outputs": [],
   "source": [
    "def OneStep_StoermerVerlet(u, matparam, simparam):\n",
    "    raise Exception(\"Heun not yet implemented\")\n",
    "    phi0, v0 = u\n",
    "    u[0] = ...\n",
    "    u[1] = ..."
   ]
  },
  {
   "cell_type": "markdown",
   "metadata": {
    "slideshow": {
     "slide_type": "subslide"
    }
   },
   "source": [
    "#### Simulation mit dem Stoermer-Verlet-Verfahren"
   ]
  },
  {
   "cell_type": "code",
   "execution_count": null,
   "metadata": {
    "scrolled": false,
    "slideshow": {
     "slide_type": "-"
    }
   },
   "outputs": [],
   "source": [
    "matparam =  { \"g\" : 1, \"l\" : 1, \"k\" : 0.0, \"m\" : 1.0}\n",
    "simparam = { \"dt\" : 0.1, \"t0\" : 0, \"tend\" : 4*pi, \"method\" : OneStep_StoermerVerlet}\n",
    "phi0, v0 = initialvals[\"phi\"], initialvals[\"v\"]\n",
    "u_final = ODESolve(initialvals, matparam, simparam)\n",
    "phi, v = u_final\n",
    "print(\"Anfangswinkel: {:8.3e}, Anfangsgeschwindigkeit: {:8.3e}, Anfangsenergie: {:8.3e}\".format(phi0, v0, Energy(matparam,phi0,v0)))\n",
    "print(\"Endwinkel:     {:8.3e}, Endgeschwindigkeit:     {:8.3e}, Endenergie:     {:8.3e}\".format( phi,  v, Energy(matparam, phi, v)))"
   ]
  }
 ],
 "metadata": {
  "kernelspec": {
   "display_name": "Python 3",
   "language": "python",
   "name": "python3"
  },
  "language_info": {
   "codemirror_mode": {
    "name": "ipython",
    "version": 3
   },
   "file_extension": ".py",
   "mimetype": "text/x-python",
   "name": "python",
   "nbconvert_exporter": "python",
   "pygments_lexer": "ipython3",
   "version": "3.7.0"
  }
 },
 "nbformat": 4,
 "nbformat_minor": 2
}
