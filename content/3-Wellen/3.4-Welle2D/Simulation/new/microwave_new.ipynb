{
 "cells": [
  {
   "cell_type": "markdown",
   "metadata": {
    "slideshow": {
     "slide_type": "slide"
    }
   },
   "source": [
    "# Mikrowelle in 2D"
   ]
  },
  {
   "cell_type": "markdown",
   "metadata": {
    "slideshow": {
     "slide_type": "slide"
    }
   },
   "source": [
    "Licht bezeichnet im Allgemeinen den für das menschliche Auge sichtbaren Teil der elekromagnetischen Strahlung. Das Licht, das wir sehen können, liegt im Bereich von $4\\cdot 10^{-7}-7\\cdot 10^{-7}m$. \n",
    "\n",
    "Daneben umfasst das elektromagnetische Spektrum auch noch Strahlung mit größerer bzw kleinerer Wellenlängen, wie zum Beispiel\n",
    "- Mikrowellen mit einer Wellenlänge $\\lambda$ von $3\\cdot 10^{-4}m$ bis $1m$ \n",
    "- Röntgenstrahlung mit $ \\lambda$ von $10^{-8}m$ bis $5\\cdot 10^{-12}m$\n",
    "\n",
    "Die Wellenlänge $\\lambda$ steht im folgenden Zusammenhang mit der Frequenz $f$ der Welle: $\\lambda =\\frac{c}{f}$ mit der Lichtgeschwindigkeit $c \\approx 3\\cdot 10^{8} \\frac{m}{s}$."
   ]
  },
  {
   "cell_type": "markdown",
   "metadata": {
    "slideshow": {
     "slide_type": "slide"
    }
   },
   "source": [
    "## Physikalische Herleitung"
   ]
  },
  {
   "cell_type": "markdown",
   "metadata": {
    "slideshow": {
     "slide_type": "slide"
    }
   },
   "source": [
    "Für die Beschreibung von elektromagnetischer Strahlung werden die Maxwell-Gleichungen genutzt. Diese beschreiben die Zusammenhänge von elektrischen Feldern $\\vec{E}$ und magnetischen Feldern $\\vec{B}$ . \n",
    "\n",
    "\n"
   ]
  },
  {
   "cell_type": "markdown",
   "metadata": {
    "slideshow": {
     "slide_type": "subslide"
    }
   },
   "source": [
    "In Abwesenheit von Ladung und Strömen folgt aus den Helmholtzgleichungen eine Wellengleichung\n",
    "$$\\Delta u = \\mu_0 \\epsilon_0 \\frac{\\partial^2}{\\partial t^2}u$$\n",
    "mit der relativen Permittivität des Vakuum (dielektrische Leitfähigkeit) $\\epsilon_0=8.8\\cdot 10^{-12}\\frac{As}{Vm}$ und der magnetischen Feldkonstante $\\mu_0=1,2566\\cdot10^{-6}\\frac{N}{A^2}$. Diese Naturkonstanten stehen mit der Lichtgeschwindigkeit $c$ im folgenden Verhältnis $c^2=\\frac{1}{\\mu_0\\epsilon_0}$.\n"
   ]
  },
  {
   "cell_type": "markdown",
   "metadata": {
    "slideshow": {
     "slide_type": "subslide"
    }
   },
   "source": [
    "Die Welle wird nun von einem Sender emittiert und breitet sich in der $x$-$y$-Ebene aus. Mit einem periodischen Signal der Frequenz $f=\\frac{\\omega}{2 \\pi}$, wobei $\\omega$ die Kreisfrequenz bezeichnet, erhalten wir \n",
    "$$u(x,y,t)=\\hat{u}(x,y)\\sin{(2 \\pi f t)}=\\hat{u}(x,y)\\sin{(w t)}.$$\n",
    "\n"
   ]
  },
  {
   "cell_type": "markdown",
   "metadata": {
    "slideshow": {
     "slide_type": "subslide"
    }
   },
   "source": [
    "Dies wollen wir nun in die Wellengleichung einsetzen, dazu beachte beim Ableiten, dass $\\hat{u}$ nicht von $t$ und $e^{iw t}$ nicht von $x,y$ abhängt und $i^2=-1$ gilt. Dann erhält man\n",
    "\n",
    "$$ -\\Delta \\left(\\hat{u}e^{i2 \\pi f t}\\right)+\\mu_0\\epsilon_0\\frac{\\partial^2}{\\partial t^2}\\left(\\hat{u}e^{i2 \\pi f t} \\right)=0$$\n",
    "$$\\underbrace{e^{i \\omega t}}_{\\neq 0}\\left(-\\Delta \\hat{u}-\\mu_0\\epsilon_0 \\omega^2 \\frac{\\partial^2}{\\partial t^2}\\hat{u}\\right)=0$$\n"
   ]
  },
  {
   "cell_type": "markdown",
   "metadata": {
    "slideshow": {
     "slide_type": "subslide"
    }
   },
   "source": [
    "Wir erhalten die sogenannte Helmholtz Gleichung\n",
    "$$-\\Delta \\hat{u}-\\mu_0\\epsilon_0 \\omega^2 \\frac{\\partial^2}{\\partial t^2}\\hat{u}=0.$$"
   ]
  },
  {
   "cell_type": "markdown",
   "metadata": {
    "slideshow": {
     "slide_type": "fragment"
    }
   },
   "source": [
    "Ersetzen wir $\\mu_0\\epsilon_0=\\frac{1}{c^2}$ und $k=\\frac{w}{c}$, dann erhalten wir:\n",
    "\n",
    "$$-\\Delta \\hat{u}-k^2 \\frac{\\partial^2}{\\partial t^2}\\hat{u}=0,$$\n",
    "\n",
    "wobei $k$ eine Größenordnung von $10$ bis $20 000$ annehmen kann, da $k=\\frac{w}{c}=\\frac{2\\pi f}{c}=\\frac{2 \\pi c}{c \\lambda}=\\frac{2 \\pi}{\\lambda}$. "
   ]
  },
  {
   "cell_type": "markdown",
   "metadata": {
    "slideshow": {
     "slide_type": "slide"
    }
   },
   "source": [
    "## Modellierung mit NG-Solve"
   ]
  },
  {
   "cell_type": "markdown",
   "metadata": {
    "slideshow": {
     "slide_type": "slide"
    }
   },
   "source": [
    "### Bevor wir anfangen laden wir ein paar Bibliotheken:"
   ]
  },
  {
   "cell_type": "markdown",
   "metadata": {
    "slideshow": {
     "slide_type": "subslide"
    }
   },
   "source": [
    "Nun wollen wir das oben beschriebene Modell veranschaulichen. Dazu müssen wir zunächst eine passende Geometrie erstellen."
   ]
  },
  {
   "cell_type": "markdown",
   "metadata": {
    "slideshow": {
     "slide_type": "fragment"
    }
   },
   "source": [
    "Als Gebiet wählen wir eine Kreisfläche mit dem Radius $r=r_{out}$ um den Ursprung $(0,0)$. Um bei der grafischen Darstellung zu vermeiden, dass die Wellen am Rand des Kreises reflektiert werden, muss  ein sogenannter PML Rand (*\"perfectly matched layers\"*) gewählt werden, der eingehende Wellen absorbiert. Wählen wir für diesen Rand $r=r_{in} < r_{out}$, so sorgt der PML Rand, dass die Wellen sich nach außen ins unendliche ausdehnen, ohne reflektiert zu werden.\n"
   ]
  },
  {
   "cell_type": "markdown",
   "metadata": {
    "slideshow": {
     "slide_type": "subslide"
    }
   },
   "source": [
    "In unserem Gebiet benötigen wir nun einen Sender (Antenne), der Mikrowellen emmitiert. Der Sender liegt im Kreis und hat eine rechteckige Form. Am rechten Rand des Senders werden dann die Wellen ausgestrahlt.\n",
    "\n",
    "Um außerdem Wellenerscheinungen, wie Reflektion oder Überlagerungen von Wellen, zu beobachten, können Hindernisse in unserem Kreisgebiet aufgestellt werden.   "
   ]
  },
  {
   "cell_type": "markdown",
   "metadata": {
    "slideshow": {
     "slide_type": "subslide"
    }
   },
   "source": [
    "Im folgenden wird das Gebiet erstellt, wähle dazu die folgenden Parameter:\n",
    "\n",
    "- $radius_{outer} = 0.14$ für das gesamte zu betrachtende Kreisgebiet\n",
    "- $radius_{inner} = 0.1$ für den PML-Rand  \n",
    "- eine Liste mit zwei gegenüberliegenden Eckpunkten des Senders\n",
    "- eine Liste von Listen, die pro Block die gegenüberliegenden Eckpunkte enthält\n",
    "- $meshsize = 0.001$ Größe des Gitters\n",
    "\n",
    "\n",
    "Man erhält daraus am Ende die Geometrie und das Gitter, um darauf später die Wellengleichung zu lösen.\n"
   ]
  },
  {
   "cell_type": "code",
   "execution_count": 1,
   "metadata": {
    "slideshow": {
     "slide_type": "fragment"
    }
   },
   "outputs": [
    {
     "data": {
      "text/html": [
       "<style>.container { width:100% !important; }</style>"
      ],
      "text/plain": [
       "<IPython.core.display.HTML object>"
      ]
     },
     "metadata": {},
     "output_type": "display_data"
    }
   ],
   "source": [
    "from Simulation import *\n",
    "from Geo import *\n",
    "from Display import *"
   ]
  },
  {
   "cell_type": "code",
   "execution_count": 2,
   "metadata": {
    "scrolled": false
   },
   "outputs": [
    {
     "data": {
      "application/vnd.jupyter.widget-view+json": {
       "model_id": "1d661ccb63c74f948c47f09866bba1f2",
       "version_major": 2,
       "version_minor": 0
      },
      "text/plain": [
       "VBox(children=(interactive(children=(Output(),), _dom_classes=('widget-interact',)), Output(), HBox(children=(…"
      ]
     },
     "metadata": {},
     "output_type": "display_data"
    }
   ],
   "source": [
    "draw = start()\n",
    "display(draw)"
   ]
  },
  {
   "cell_type": "markdown",
   "metadata": {
    "slideshow": {
     "slide_type": "slide"
    }
   },
   "source": [
    "Als nächstes wird die Wellengleichung gelöst, dazu kann die Wellenzahl und der Brechungsindex (refraction) der Blöcke gewählt werden.\n",
    "Der Brechungsindex gibt das Verhältnis der Wellenlänge in Vakuum zur Wellenlänge in einem Material an, und beschreibt somit wie stark eine Welle beim Übergang in ein anderes Medium ausgelenkt wird oder ob die Welle reflektiert wird.  Luft hat ungefähr einen Brechungsindex n=1. Bei Fensterglas liegt der Brechungsindex ca bei n=1,5. Die Welle soll die Blöcke nicht durchlaufen, sondern vollständig reflektiert werden, dies ist mit einem Brechungsindex n=10 gegeben."
   ]
  },
  {
   "cell_type": "markdown",
   "metadata": {
    "slideshow": {
     "slide_type": "subslide"
    }
   },
   "source": [
    "Wir wählen nun zum Lösen der Wellengleichung\n",
    "\n",
    "- die Wellenzahl \n",
    "\n"
   ]
  },
  {
   "cell_type": "code",
   "execution_count": 3,
   "metadata": {
    "scrolled": false
   },
   "outputs": [
    {
     "data": {
      "application/vnd.jupyter.widget-view+json": {
       "model_id": "1d3b0d21e5c840a7b8c64c884e8f29c9",
       "version_major": 2,
       "version_minor": 0
      },
      "text/plain": [
       "VBox(children=(FloatLogSlider(value=0.05, base=2.0, description='Gitterbreite', layout=Layout(height='32px', w…"
      ]
     },
     "metadata": {},
     "output_type": "display_data"
    }
   ],
   "source": [
    "solution = solve_pde()\n",
    "display(solution)"
   ]
  },
  {
   "cell_type": "code",
   "execution_count": 4,
   "metadata": {},
   "outputs": [
    {
     "data": {
      "application/vnd.jupyter.widget-view+json": {
       "model_id": "63b39b0087b8402db9d59084ce02b51a",
       "version_major": 2,
       "version_minor": 0
      },
      "text/plain": [
       "HBox(children=(VBox(children=(Dropdown(description='Auswertung an', layout=Layout(height='32px', width='400px'…"
      ]
     },
     "metadata": {},
     "output_type": "display_data"
    },
    {
     "data": {
      "application/vnd.jupyter.widget-view+json": {
       "model_id": "373ff05444804995813299fcefdf88dd",
       "version_major": 2,
       "version_minor": 0
      },
      "text/plain": [
       "Output()"
      ]
     },
     "metadata": {},
     "output_type": "display_data"
    }
   ],
   "source": [
    "evaluate()"
   ]
  },
  {
   "cell_type": "code",
   "execution_count": null,
   "metadata": {},
   "outputs": [],
   "source": []
  },
  {
   "cell_type": "code",
   "execution_count": null,
   "metadata": {},
   "outputs": [],
   "source": []
  }
 ],
 "metadata": {
  "kernelspec": {
   "display_name": "Python 3",
   "language": "python",
   "name": "python3"
  },
  "language_info": {
   "codemirror_mode": {
    "name": "ipython",
    "version": 3
   },
   "file_extension": ".py",
   "mimetype": "text/x-python",
   "name": "python",
   "nbconvert_exporter": "python",
   "pygments_lexer": "ipython3",
   "version": "3.7.9"
  },
  "widgets": {
   "application/vnd.jupyter.widget-state+json": {
    "state": {},
    "version_major": 2,
    "version_minor": 0
   }
  }
 },
 "nbformat": 4,
 "nbformat_minor": 4
}
