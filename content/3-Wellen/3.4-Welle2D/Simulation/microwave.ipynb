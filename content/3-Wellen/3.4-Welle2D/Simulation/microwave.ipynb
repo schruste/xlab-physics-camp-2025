{
 "cells": [
  {
   "cell_type": "markdown",
   "metadata": {
    "slideshow": {
     "slide_type": "skip"
    }
   },
   "source": [
    "![title](dslit.gif)"
   ]
  },
  {
   "cell_type": "markdown",
   "metadata": {
    "slideshow": {
     "slide_type": "slide"
    }
   },
   "source": [
    "# Numerische Simulation von Mikrowellen in 2D\n",
    "\n",
    "Dies ist ein interaktives Dokument zur Simulation von Mikrowellen in 2D. "
   ]
  },
  {
   "cell_type": "markdown",
   "metadata": {
    "slideshow": {
     "slide_type": "slide"
    }
   },
   "source": [
    "# Ein paar Informationen vorab:\n",
    "\n",
    "* Zur Simulation verwenden wir *Finite-Elemente*-Software [Netgen/NGSolve](www.ngsolve.org). \n",
    "\n",
    "* Grundsetup: \n",
    "  * Als Simulationsgebiet wählen wir Kreis mit Radius $r_{outer}$ um den Ursprung. \n",
    "\n",
    "  * Sender mit Hornantennen emittiert Mikrowellen der Wellenlänge 0.028𝑚 \n",
    "\n",
    "* Sie können der Grundgeometrie Schritt für Schritt **im Experiment und Simulation** Geometrien hinzugefügen/entfernen\n",
    "* Für die Simulation können Sie auch vordefinierte Geometrien laden."
   ]
  },
  {
   "cell_type": "markdown",
   "metadata": {
    "slideshow": {
     "slide_type": "subslide"
    }
   },
   "source": [
    "## Wenn Sie Geometrien selbst definieren, beachten Sie:\n",
    "- Alle Objekte benötigen einen eigenen Namen.\n",
    "- Es müssen immer alle Objektparameter bestimmt werden.\n",
    "- Objekte des selben Materials dürfen sich schneiden, andere nicht!\n",
    "- Falls eine Warnung ausgegeben wurde, empfiehlt es sich, die Objekte ausführlich anzeigen zu lassen, um alle Objektparameter der vorhandenen Objekte betrachten zu können."
   ]
  },
  {
   "cell_type": "markdown",
   "metadata": {
    "slideshow": {
     "slide_type": "slide"
    }
   },
   "source": [
    "# Los geht's !\n",
    "\n",
    "Wir laden zunächst ein paar Bibliothek (u.a. [NGSolve](www.ngsolve.org)) rein: \n",
    "\n",
    "[ Fokus auf nächste Zelle, dann Shift+Enter, Leertaste, Shift+Enter ]"
   ]
  },
  {
   "cell_type": "code",
   "execution_count": null,
   "metadata": {
    "code_folding": [
     0
    ],
    "slideshow": {
     "slide_type": "fragment"
    }
   },
   "outputs": [],
   "source": [
    "# bibliotheken laden\n",
    "import numpy, scipy, ngsolve, matplotlib\n",
    "\n",
    "from Simulation import *\n",
    "from Display import *\n",
    "from Geo import *"
   ]
  },
  {
   "cell_type": "code",
   "execution_count": null,
   "metadata": {
    "code_folding": [
     0
    ],
    "slideshow": {
     "slide_type": "fragment"
    }
   },
   "outputs": [],
   "source": [
    "# Zwischen Desktop und Smartphone-Layout wechseln\n",
    "layout_switch()"
   ]
  },
  {
   "cell_type": "markdown",
   "metadata": {
    "slideshow": {
     "slide_type": "slide"
    }
   },
   "source": [
    "# Aufsetzen der geometrischen Konfiguration\n",
    "Als nächstes soll die Geometrie definiert werden. Um alle Bedienelemente (nach Ausführen der nächsten Zelle) zu sehen, verlassen Sie den Präsentationsmodus (Alt+R)."
   ]
  },
  {
   "cell_type": "code",
   "execution_count": null,
   "metadata": {
    "code_folding": [
     0
    ],
    "slideshow": {
     "slide_type": "subslide"
    }
   },
   "outputs": [],
   "source": [
    "# Aufsetzen der geometrischen Konfiguration!\n",
    "start(radius_pml=0.6)"
   ]
  },
  {
   "cell_type": "markdown",
   "metadata": {
    "slideshow": {
     "slide_type": "fragment"
    }
   },
   "source": [
    "Nach Änderungen an der Geometrie wieder zurück zur Visualisierung scrollen :)"
   ]
  },
  {
   "cell_type": "markdown",
   "metadata": {
    "slideshow": {
     "slide_type": "slide"
    }
   },
   "source": [
    "# Numerische Simulation"
   ]
  },
  {
   "cell_type": "markdown",
   "metadata": {
    "slideshow": {
     "slide_type": "subslide"
    }
   },
   "source": [
    "Das gibt es **vor der Simulation** zu tun:\n",
    "* Stellen Sie Gitterbreite, (Polynomgrad, ) und Wellenlänge am Regler ein\n",
    "* Lassen Sie die Parameter prüfen und beachten Sie die Ausgabe\n",
    "* Erhalten Sie die \"Die Auflösung ist angemessen.\"-Ausgabe $\\leadsto$ \"Gleichung lösen\"\n",
    "\n",
    "Das gibt es **nach der Simulation** zu tun:\n",
    "* Entspricht die dargestellte Lösung den Erwartungen?\n",
    "* Beachten Sie die Größe des Rechengitters (zu fein $\\leadsto$ zu teuer, zu grob $\\leadsto$ zu ungenau)\n",
    "* Spielen Sie mit den Parametern Gitterbreite, Polynomgrad und Wellenlänge\n",
    "* Gehen Sie zurück und ändern Sie die Geometrien (anschließend alle folgenden Blöcke neu ausführen)"
   ]
  },
  {
   "cell_type": "markdown",
   "metadata": {},
   "source": [
    "Führen Sie die folgende Zelle aus, um anschließend die Parameter einzustellen, diese prüfen zu lassen und die Simulation durchzuführen."
   ]
  },
  {
   "cell_type": "code",
   "execution_count": null,
   "metadata": {
    "code_folding": [
     0
    ],
    "slideshow": {
     "slide_type": "slide"
    }
   },
   "outputs": [],
   "source": [
    "#Numerisches Lösen der Helmholtzgleichung!\n",
    "solve_pde()"
   ]
  },
  {
   "cell_type": "markdown",
   "metadata": {
    "slideshow": {
     "slide_type": "slide"
    }
   },
   "source": [
    "# Auswertungen"
   ]
  },
  {
   "cell_type": "markdown",
   "metadata": {
    "slideshow": {
     "slide_type": "slide"
    }
   },
   "source": [
    "Für die Auswertung der gelösten Wellengleichung erhält man entweder die Funktionswerte an einem bestimmten Punkt, oder einen Plot, wenn man eine Auswertung entlang einer Geraden oder eines Kreissektors benötigt.\n",
    "\n",
    "##### Für der Auswertung entlang einer Gerade oder eines Kreissektors:\n",
    "\n",
    "- Es werden äquidistante Stützstellen auf der Kurve platziert, an denen die Lösungsfunktion der Wellengleichung ausgewertet wird.\n",
    "- Die Anzahl der Stützstellen ist dabei abhängig von der Länge der Kurve.\n",
    "- Eine Auswertung ist nur innerhalb der Geometrie möglich. Wurden beispielsweise Materialen, also \"Außerhalb\" definiert, dann kann im Inneren dieser Materialen keine Auswertung stattfinden. Der Sender ist beispielsweise ein \"Außerhalb\"-Gebiet."
   ]
  },
  {
   "cell_type": "code",
   "execution_count": null,
   "metadata": {
    "code_folding": [
     0
    ],
    "slideshow": {
     "slide_type": "subslide"
    }
   },
   "outputs": [],
   "source": [
    "# Starte Auswertungsinterface!\n",
    "evaluate()"
   ]
  },
  {
   "cell_type": "markdown",
   "metadata": {
    "slideshow": {
     "slide_type": "subslide"
    }
   },
   "source": [
    "Nach dem Erstellen des Plots werden die Daten in [`data.csv`](files/data.csv) gespeichert."
   ]
  }
 ],
 "metadata": {
  "kernelspec": {
   "display_name": "Python 3 (ipykernel)",
   "language": "python",
   "name": "python3"
  },
  "language_info": {
   "codemirror_mode": {
    "name": "ipython",
    "version": 3
   },
   "file_extension": ".py",
   "mimetype": "text/x-python",
   "name": "python",
   "nbconvert_exporter": "python",
   "pygments_lexer": "ipython3",
   "version": "3.13.7"
  },
  "toc": {
   "base_numbering": 1,
   "nav_menu": {},
   "number_sections": true,
   "sideBar": true,
   "skip_h1_title": false,
   "title_cell": "Table of Contents",
   "title_sidebar": "Contents",
   "toc_cell": false,
   "toc_position": {},
   "toc_section_display": true,
   "toc_window_display": false
  },
  "varInspector": {
   "cols": {
    "lenName": 16,
    "lenType": 16,
    "lenVar": 40
   },
   "kernels_config": {
    "python": {
     "delete_cmd_postfix": "",
     "delete_cmd_prefix": "del ",
     "library": "var_list.py",
     "varRefreshCmd": "print(var_dic_list())"
    },
    "r": {
     "delete_cmd_postfix": ") ",
     "delete_cmd_prefix": "rm(",
     "library": "var_list.r",
     "varRefreshCmd": "cat(var_dic_list()) "
    }
   },
   "types_to_exclude": [
    "module",
    "function",
    "builtin_function_or_method",
    "instance",
    "_Feature"
   ],
   "window_display": false
  },
  "widgets": {
   "application/vnd.jupyter.widget-state+json": {
    "state": {},
    "version_major": 2,
    "version_minor": 0
   }
  }
 },
 "nbformat": 4,
 "nbformat_minor": 4
}
