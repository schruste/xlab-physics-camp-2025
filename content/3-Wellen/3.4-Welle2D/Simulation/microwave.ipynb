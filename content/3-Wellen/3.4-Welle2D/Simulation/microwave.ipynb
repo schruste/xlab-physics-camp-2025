{
 "cells": [
  {
   "cell_type": "markdown",
   "metadata": {
    "slideshow": {
     "slide_type": "slide"
    }
   },
   "source": [
    "# Mikrowelle in 2D"
   ]
  },
  {
   "cell_type": "markdown",
   "metadata": {
    "slideshow": {
     "slide_type": "slide"
    }
   },
   "source": [
    "Licht bezeichnet im Allgemeinen den für das menschliche Auge sichtbaren Teil der elekromagnetischen Strahlung. Das Licht, das wir sehen können, liegt im Bereich von $4\\cdot 10^{-7}-7\\cdot 10^{-7}m$. \n",
    "\n",
    "Daneben umfasst das elektromagnetische Spektrum auch noch Strahlung mit größerer bzw kleinerer Wellenlängen, wie zum Beispiel\n",
    "- Mikrowellen mit einer Wellenlänge $\\lambda$ von $3\\cdot 10^{-4}m$ bis $1m$ \n",
    "- Röntgenstrahlung mit $ \\lambda$ von $10^{-8}m$ bis $5\\cdot 10^{-12}m$\n",
    "\n",
    "Die Wellenlänge $\\lambda$ steht im folgenden Zusammenhang mit der Frequenz $f$ der Welle: $\\lambda =\\frac{c}{f}$ mit der Lichtgeschwindigkeit $c \\approx 3\\cdot 10^{8} \\frac{m}{s}$."
   ]
  },
  {
   "cell_type": "markdown",
   "metadata": {
    "slideshow": {
     "slide_type": "slide"
    }
   },
   "source": [
    "## Physikalische Herleitung"
   ]
  },
  {
   "cell_type": "markdown",
   "metadata": {
    "slideshow": {
     "slide_type": "slide"
    }
   },
   "source": [
    "Für die Beschreibung von elektromagnetischer Strahlung werden die Maxwell-Gleichungen genutzt. Diese beschreiben die Zusammenhänge von elektrischen Feldern $\\vec{E}$ und magnetischen Feldern $\\vec{B}$ . \n",
    "\n",
    "\n"
   ]
  },
  {
   "cell_type": "markdown",
   "metadata": {
    "slideshow": {
     "slide_type": "subslide"
    }
   },
   "source": [
    "In Abwesenheit von Ladung und Strömen folgt aus den Helmholtzgleichungen eine Wellengleichung\n",
    "$$\\Delta u = \\mu_0 \\epsilon_0 \\frac{\\partial^2}{\\partial t^2}u$$\n",
    "mit der relativen Permittivität des Vakuum (dielektrische Leitfähigkeit) $\\epsilon_0=8.8\\cdot 10^{-12}\\frac{As}{Vm}$ und der magnetischen Feldkonstante $\\mu_0=1,2566\\cdot10^{-6}\\frac{N}{A^2}$. Diese Naturkonstanten stehen mit der Lichtgeschwindigkeit $c$ im folgenden Verhältnis $c^2=\\frac{1}{\\mu_0\\epsilon_0}$.\n"
   ]
  },
  {
   "cell_type": "markdown",
   "metadata": {
    "slideshow": {
     "slide_type": "subslide"
    }
   },
   "source": [
    "Die Welle wird nun von einem Sender emittiert und breitet sich in der $x$-$y$-Ebene aus. Mit einem periodischen Signal der Frequenz $f=\\frac{\\omega}{2 \\pi}$, wobei $\\omega$ die Kreisfrequenz bezeichnet, erhalten wir \n",
    "$$u(x,y,t)=\\hat{u}(x,y)\\sin{(2 \\pi f t)}=\\hat{u}(x,y)\\sin{(w t)}.$$\n",
    "\n"
   ]
  },
  {
   "cell_type": "markdown",
   "metadata": {
    "slideshow": {
     "slide_type": "subslide"
    }
   },
   "source": [
    "Dies wollen wir nun in die Wellengleichung einsetzen, dazu beachte beim Ableiten, dass $\\hat{u}$ nicht von $t$ und $e^{iw t}$ nicht von $x,y$ abhängt und $i^2=-1$ gilt. Dann erhält man\n",
    "\n",
    "$$ -\\Delta \\left(\\hat{u}e^{i2 \\pi f t}\\right)+\\mu_0\\epsilon_0\\frac{\\partial^2}{\\partial t^2}\\left(\\hat{u}e^{i2 \\pi f t} \\right)=0$$\n",
    "$$\\underbrace{e^{i \\omega t}}_{\\neq 0}\\left(-\\Delta \\hat{u}-\\mu_0\\epsilon_0 \\omega^2 \\frac{\\partial^2}{\\partial t^2}\\hat{u}\\right)=0$$\n"
   ]
  },
  {
   "cell_type": "markdown",
   "metadata": {
    "slideshow": {
     "slide_type": "subslide"
    }
   },
   "source": [
    "Wir erhalten die sogenannte Helmholtz Gleichung\n",
    "$$-\\Delta \\hat{u}-\\mu_0\\epsilon_0 \\omega^2 \\frac{\\partial^2}{\\partial t^2}\\hat{u}=0.$$"
   ]
  },
  {
   "cell_type": "markdown",
   "metadata": {
    "slideshow": {
     "slide_type": "fragment"
    }
   },
   "source": [
    "Ersetzen wir $\\mu_0\\epsilon_0=\\frac{1}{c^2}$ und $\\tilde{\\nu}=\\frac{w}{c}$, dann erhalten wir:\n",
    "\n",
    "$$-\\Delta \\hat{u}-\\tilde{\\nu}^2 \\frac{\\partial^2}{\\partial t^2}\\hat{u}=0,$$\n",
    "\n",
    "wobei die Wellenzahl $\\tilde{\\nu}$ eine Größenordnung von $10$ bis $10 000$ annehmen kann, da $\\tilde{\\nu}=\\frac{w}{c}=\\frac{2\\pi f}{c}=\\frac{2 \\pi c}{c \\lambda}=\\frac{2 \\pi}{\\lambda}$. "
   ]
  },
  {
   "cell_type": "markdown",
   "metadata": {
    "slideshow": {
     "slide_type": "slide"
    }
   },
   "source": [
    "## Modellierung mit NG-Solve"
   ]
  },
  {
   "cell_type": "markdown",
   "metadata": {
    "slideshow": {
     "slide_type": "slide"
    }
   },
   "source": [
    "### Bevor wir anfangen laden wir ein paar Bibliotheken:"
   ]
  },
  {
   "cell_type": "code",
   "execution_count": null,
   "metadata": {
    "slideshow": {
     "slide_type": "fragment"
    }
   },
   "outputs": [],
   "source": [
    "from Simulation import *\n",
    "from Display import *\n",
    "from Geo import *"
   ]
  },
  {
   "cell_type": "markdown",
   "metadata": {
    "slideshow": {
     "slide_type": "slide"
    }
   },
   "source": [
    "Nun wollen wir das oben beschriebene Modell veranschaulichen. Dazu müssen wir zunächst eine passende Geometrie erstellen.\n",
    "  \n",
    "  \n",
    "Als Gebiet wählen wir eine Kreisfläche mit dem Radius $r=r_{outer}$ um den Ursprung $(0,0)$. Um bei der grafischen Darstellung zu vermeiden, dass die Wellen am Rand des Kreises reflektiert werden, muss  ein sogenannter PML Rand (*\"perfectly matched layers\"*) gewählt werden, der eingehende Wellen absorbiert. Wählen wir für diesen Rand $r=r_{pml} < r_{outer}$, so sorgt der PML Rand, dass die Wellen sich nach außen ins unendliche ausdehnen, ohne reflektiert zu werden."
   ]
  },
  {
   "cell_type": "markdown",
   "metadata": {
    "slideshow": {
     "slide_type": "subslide"
    }
   },
   "source": [
    "Dann kann die Geometrie mit den folgenden übergebenden Parameter erstellt werden:\n",
    "\n",
    "- $radius_{outer} = 0.56m$ für das gesamte zu betrachtende Kreisgebiet, \n",
    "- $radius_{pml} = 0.4m$ für den PML-Rand, und\n",
    "- die Materialstärke des Senders mit $2.5mm$\n",
    " \n",
    "Im nächsten Schritt können Objekte zur Geometrie hinzugefügt werden. Dazu wird in jedem Fall ein Sender mit Hornantennen benötigt, der Mikrowellen der Wellenlänge $0.028m$ emmittiert.\n",
    "\n",
    "Der Sender ist ein vorgefertigtes Spezialobjekt, und kann innerhalb der Geometrie platziert und rotiert werden. Dabei sind die x- und y-Koordinaten, sowie ein Rotationswinkel $\\theta$ zu wählen. Die Koordinaten des Senders entsprechen dabei dem Mittelpunkt der Seite, an der die Welle austritt. Dies ist auch der Rotationsmittelpunkt des Senders. Weitere vorgefertigte Spezialobjekte sind:\n",
    "\n",
    "- ein Prisma, und\n",
    "- eine Wachslinse.\n",
    "\n",
    "Bei diesen Objekten entsprechen die gewählten Koordinaten dem Objektmittelpunkt. Die Bemaßungen der Objekte können [hier](files/Spezialobjekte.png) gefunden werden."
   ]
  },
  {
   "cell_type": "markdown",
   "metadata": {
    "slideshow": {
     "slide_type": "subslide"
    }
   },
   "source": [
    "Zusätzlich können weitere Objekte, wie Blöcke und Kreise eingefügt werden. Dafür wählt man die benötigten Abmessungen und den Materialparameter. \n",
    " \n",
    "Der Materialparameter gibt an, aus welchen Material das Objekt besteht und welchen Brechungsindex das Material besitzt. Dabei kann man entweder das gewünschte Material auswählen oder ein freies Material mit eigenem Brechungsindex hinzufügen. \n",
    "\n",
    "Die Objekte können um ihren Mittelpunkt um einen Winkel $\\theta$ gedreht werden. Falls das Objekt ein Block ist, kann ein Rotationsmittelpunkt festgelegt werden, um den das Objekt gedreht werden soll. \n",
    "\n",
    "Nach dem Hinzufügen von den Objekten können die Objektparameter wieder ändern, oder das Objekt entfernen.\n",
    "Außerdem ist es möglich eine vorgefertigte [`Standardgeometrie`](files/Standard-Geometrie.json) zu laden oder die eigene Geometrie abzuspeichern. "
   ]
  },
  {
   "cell_type": "markdown",
   "metadata": {
    "slideshow": {
     "slide_type": "subslide"
    }
   },
   "source": [
    "##### Beachte:\n",
    "- Alle Objekte benötigen einen eigenen Namen.\n",
    "- Es kann nur ein Sender hinzugefügt werden. Um die Wellengleichung zu lösen, muss mindestens ein Sender vorhanden sein.\n",
    "- Es müssen immer alle Objektparameter ausgewählt werden.\n",
    "- Objekte des selben Materials dürfen sich schneiden. \n",
    " \n",
    "Es wird auf Überschneidung von Objekte aus verschiedenen Materialen geprüft. Dafür wird ein Kreis mit minimalem Radius über das Objekt gelegt. Falls sich die Kreise von zwei Objekten schneiden wird eine **nur eine Warnung ausgegeben** und das Objekt wird trotzdem hinzugefügt oder geändert. Der Benutzer muss selbst prüfen, ob sich die Objekte wirklich schneiden oder nur die darüberliegenden Kreise, um Fehler zu vermeiden.\n",
    "Da bei Blöcken zusätzlich der Rotationspunkt festgelegt werden kann, wird der Radius des überdeckenden Kreises, so groß gewählt, dass im Falle einer Rotation um den Rotationspunkt der Block immer innerhalb des Kreises liegt.\n",
    "\n",
    "Für des Zeichnen der Geometrie und das spätere Auswerten ist eine Überschneidung von Objekten aus verschiedenen Materialen nicht zulässig und führt zu einem Fehler. Falls das Objekt mit dem freie Material und einem eigenem Brechungsindex hinzugefügt wurde, sind keine Überschneidungen möglich, auch wenn der Brechungsindex dem eines anderen Materials entspricht.\n",
    "\n",
    "Ebenso wie bei der Überschneidung wird auch geprüft, ob ein Objekt innerhalb des PML-Gebietes mit Radius $r = r_{pml}$ liegt. Auch hier wird  **nur eine Warnung ausgegeben** und der Benutzer ist selbst für die Zulässigkeit der Daten verantwortlich.\n",
    "\n",
    "Falls eine Warnung ausgegeben wurde, empfiehlt es sich, die Objekte ausführlich anzeigen zu lassen, um alle Objektparameter der vorhandenen Objekte betrachten zu können."
   ]
  },
  {
   "cell_type": "code",
   "execution_count": null,
   "metadata": {
    "scrolled": false,
    "slideshow": {
     "slide_type": "subslide"
    }
   },
   "outputs": [],
   "source": [
    "start(radius_pml=0.5)"
   ]
  },
  {
   "cell_type": "markdown",
   "metadata": {
    "slideshow": {
     "slide_type": "slide"
    }
   },
   "source": [
    "Zum Lösen der Wellengleichung können die folgenden Parameter gewählt werden: \n",
    "\n",
    "- die Größe des Gitters $h$,\n",
    "- der Polynomgrad $k$, und\n",
    "- die Wellenlänge $\\lambda=\\frac{1}{\\tilde{\\nu}}$.\n",
    "\n",
    "Dabei ist auf eine gute Auflösung zu achten, das bedeutet, dass      $\\frac{h}{\\lambda k} < c $ möglichst kleiner als eine Konstante $c$ seien soll. \n",
    "  \n",
    "Die Konstante $c$ gibt eine grobe Richtung an, ob die Auflösung gut ist, der Nutzer sollte trotzdem noch selber überlegen, ob die dargestellte Lösung den Erwartungen entspricht. Überlegungen dazu sind beispielsweise: \n",
    "- Wird die Welle wirklich an den Materialen reflektiert? \n",
    "- Sieht die Strahlung gleichmäßig aus?\n",
    "- Tritt Strahlung beispielsweise hinter dem Sender auf? Kann sie wirklich dahin kommen?\n",
    "\n",
    "##### Beachten Sie die Größe des Gitters:\n",
    "Falls man die Gitterbreite für eine bessere Auflösung anpasst, erhöht sich dadurch die Anzahl der Freiheitsgrade des Problems.\n",
    "\n",
    "Ist die Anzahl zu hoch, können möglicherweise die vorhandenen Ressourcen nicht mehr ausreichen (zB in der binder-cloud)."
   ]
  },
  {
   "cell_type": "code",
   "execution_count": null,
   "metadata": {
    "scrolled": false,
    "slideshow": {
     "slide_type": "subslide"
    }
   },
   "outputs": [],
   "source": [
    "solve_pde()"
   ]
  },
  {
   "cell_type": "markdown",
   "metadata": {
    "slideshow": {
     "slide_type": "slide"
    }
   },
   "source": [
    "Für die Auswertung der gelösten Wellengleichung erhält man entweder die Funktionswerte an einem bestimmten Punkt, oder einen Plot, wenn man eine Auswertung entlang einer Geraden oder eines Kreissektors benötigt.\n",
    "\n",
    "##### Für der Auswertung entlang einer Gerade oder eines Kreissektors:\n",
    "\n",
    "- Es werden äquidistante Stützstellen auf der Kurve platziert, an denen die Lösungsfunktion der Wellengleichung ausgewertet wird.\n",
    "- Die Anzahl der Stützstellen ist dabei abhängig von der Länge der Kurve.\n",
    "- Eine Auswertung ist nur innerhalb der Geometrie möglich. Wurden beispielsweise Materialen, also \"Außerhalb\" definiert, dann kann im Inneren dieser Materialen keine Auswertung stattfinden. Der Sender ist beispielsweise ein \"Außerhalb\"-Gebiet."
   ]
  },
  {
   "cell_type": "code",
   "execution_count": null,
   "metadata": {
    "scrolled": false,
    "slideshow": {
     "slide_type": "subslide"
    }
   },
   "outputs": [],
   "source": [
    "evaluate()"
   ]
  },
  {
   "cell_type": "markdown",
   "metadata": {},
   "source": [
    "Nach dem Erstellen des Plots werden die Daten in [`data.csv`](files/data.csv) gespeichert."
   ]
  }
 ],
 "metadata": {
  "kernelspec": {
   "display_name": "Python 3",
   "language": "python",
   "name": "python3"
  },
  "language_info": {
   "codemirror_mode": {
    "name": "ipython",
    "version": 3
   },
   "file_extension": ".py",
   "mimetype": "text/x-python",
   "name": "python",
   "nbconvert_exporter": "python",
   "pygments_lexer": "ipython3",
   "version": "3.7.9"
  },
  "widgets": {
   "application/vnd.jupyter.widget-state+json": {
    "state": {},
    "version_major": 2,
    "version_minor": 0
   }
  }
 },
 "nbformat": 4,
 "nbformat_minor": 4
}
