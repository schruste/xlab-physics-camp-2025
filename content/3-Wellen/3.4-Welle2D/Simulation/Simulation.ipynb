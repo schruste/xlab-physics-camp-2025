{
 "cells": [
  {
   "cell_type": "markdown",
   "metadata": {},
   "source": [
    "# Modellierung der Beugungs- und Interferenzexperimente mit Mikrowellen mit COMSOL\n",
    "\n",
    "Die folgenden Beugungs- und Interferenzexperimente mit Mikrowellen lassen sich in guter Näherung in 2D beschreiben:\n",
    "- V3: Stehende Welle\n",
    "- V5: Doppelspalt\n",
    "- V6: Michelson-Interferometer\n",
    "- V7: Wellenausbreitung in Acrylglas\n",
    "- V8: Beugung an Hindernis und Kante\n",
    "- V9: Brechung\n",
    "\n",
    "Dateien zur Modellierung der Beugungs- und Interferenzexperimente mit COMSOL finden Sie im Verzeichnis [`XLAB/2-Schwingungen/2.4-Welle2D/Simulation`](\\.)"
   ]
  }
 ],
 "metadata": {
  "kernelspec": {
   "display_name": "Python 3",
   "language": "python",
   "name": "python3"
  },
  "language_info": {
   "codemirror_mode": {
    "name": "ipython",
    "version": 3
   },
   "file_extension": ".py",
   "mimetype": "text/x-python",
   "name": "python",
   "nbconvert_exporter": "python",
   "pygments_lexer": "ipython3",
   "version": "3.7.0"
  }
 },
 "nbformat": 4,
 "nbformat_minor": 2
}
