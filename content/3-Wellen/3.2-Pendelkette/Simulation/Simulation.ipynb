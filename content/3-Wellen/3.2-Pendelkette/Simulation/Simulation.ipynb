{
 "cells": [
  {
   "cell_type": "markdown",
   "metadata": {
    "slideshow": {
     "slide_type": "slide"
    }
   },
   "source": [
    "# Simulation der Pendelkette"
   ]
  },
  {
   "cell_type": "markdown",
   "metadata": {
    "slideshow": {
     "slide_type": "-"
    }
   },
   "source": [
    "### Pendelkette (transversal)\n",
    "\n",
    "* $N$ Pendelglieder haben Abstand $L/N$ zueinander und gehorchen der DGL:\n",
    "\n",
    "\\begin{align*}\n",
    "  \\frac{ d x_i(t)}{ d t} & = v_i(t) \\\\\n",
    "  \\frac{ d v_i(t)}{ d t} & = D^*/J \\left( x_{i+1}(t) - 2 x_i(t) +  x_{i-1}(t) \\right) - k/J ~ v_i(t)\n",
    "\\end{align*}\n",
    "\n",
    "wobei für $i=1$ und $i=N$ andere Bedingungen vorgegeben werden (nur ein Nachbar)."
   ]
  },
  {
   "cell_type": "code",
   "execution_count": null,
   "metadata": {
    "slideshow": {
     "slide_type": "slide"
    }
   },
   "outputs": [],
   "source": [
    "from numpy import array, concatenate, zeros\n",
    "from math import sin, cos, pi, sqrt\n",
    "%matplotlib notebook\n",
    "import ipywidgets as widgets\n",
    "import matplotlib.pyplot as plt\n",
    "from IPython import display\n",
    "from plot import plot"
   ]
  },
  {
   "cell_type": "markdown",
   "metadata": {
    "slideshow": {
     "slide_type": "subslide"
    }
   },
   "source": [
    "### Materialparameter und Randbedingungen"
   ]
  },
  {
   "cell_type": "code",
   "execution_count": null,
   "metadata": {
    "slideshow": {
     "slide_type": "-"
    }
   },
   "outputs": [],
   "source": [
    "def AnregungLinks(t):\n",
    "    #if t<.50/2: # 4 Zeilen für Anregung mit Halbpuls von 0.25s Dauer\n",
    "    #    return 1*sin(2*pi/0.25*t)\n",
    "    #else:\n",
    "    #    return None\n",
    "    return 1*sin(2*pi/2.0*t)\n",
    "    \n",
    "def AnregungRechts(t):\n",
    "    return None # -AnregungLinks(t)\n",
    "    \n",
    "def Anfangsauslenkung(i):\n",
    "    return 0\n",
    "\n",
    "def Anfangsgeschwindigkeit(i):\n",
    "    return 0\n",
    "    \n",
    "matparam =  { \"N\" : 48, \"D*\" : 10.0, \"J\" : 1.0, \"k\" : 0.1, \n",
    "             \"Anregung links\" : AnregungLinks,\n",
    "             \"Anregung rechts\" : AnregungRechts,\n",
    "            }\n",
    "N = matparam[\"N\"]"
   ]
  },
  {
   "cell_type": "code",
   "execution_count": null,
   "metadata": {
    "slideshow": {
     "slide_type": "subslide"
    }
   },
   "outputs": [],
   "source": [
    "initialvals = { \"x\" : zeros(N), \n",
    "                \"v\" : zeros(N) }\n",
    "u0 = concatenate((initialvals[\"x\"],initialvals[\"v\"]))\n",
    "\n",
    "for i in range(N):\n",
    "    u0[i] = Anfangsauslenkung(i)\n",
    "for i in range(N):\n",
    "    u0[i+N] = Anfangsgeschwindigkeit(i)    "
   ]
  },
  {
   "cell_type": "markdown",
   "metadata": {
    "slideshow": {
     "slide_type": "subslide"
    }
   },
   "source": [
    "#### Störmer-Verlet Verfahren:\n",
    "* Ein halber Schritt symplektischer Euler (x zuerst updaten, dann v updaten)\n",
    "* Ein halber Schritt symplektischer Euler (v zuerst updaten, dann x updaten)"
   ]
  },
  {
   "cell_type": "code",
   "execution_count": null,
   "metadata": {
    "slideshow": {
     "slide_type": "-"
    }
   },
   "outputs": [],
   "source": [
    "def OneStep(u, matparam, simparam, t):\n",
    "    x, v = u[0:N], u[N:2*N]\n",
    "    x += 0.5 * simparam[\"dt\"] * v\n",
    "    ddx = zeros(N) # <- new array of length N with zeros\n",
    "    if matparam[\"Anregung links\"](t):\n",
    "        x[0] = matparam[\"Anregung links\"](t)\n",
    "    else:\n",
    "        ddx[0] = x[0] - x[1]\n",
    "    if matparam[\"Anregung rechts\"](t):\n",
    "        x[N-1] = matparam[\"Anregung rechts\"](t)\n",
    "    else:\n",
    "        ddx[N-1] = x[N-1] - x[N-2]\n",
    "    ddx[1:N-1] = - x[2:N] - x[0:N-2] + 2*x[1:N-1]\n",
    "    # ddx[N-1] = 0 # für festes Ende auf rechter Seite \n",
    "    v -= simparam[\"dt\"] * ( matparam[\"D*\"]/matparam[\"J\"] * ddx + matparam[\"k\"]/matparam[\"J\"] * v )\n",
    "    x += 0.5 * simparam[\"dt\"] * v\n",
    "    if matparam[\"Anregung links\"](t):\n",
    "        x[0] = matparam[\"Anregung links\"](t)\n",
    "    if matparam[\"Anregung rechts\"](t):\n",
    "        x[N-1] = matparam[\"Anregung rechts\"](t)        "
   ]
  },
  {
   "cell_type": "markdown",
   "metadata": {
    "slideshow": {
     "slide_type": "subslide"
    }
   },
   "source": [
    "### Simulationsparameter"
   ]
  },
  {
   "cell_type": "markdown",
   "metadata": {
    "slideshow": {
     "slide_type": "-"
    }
   },
   "source": [
    "* Die Ausbreitungsgeschwindigkeit ist $c = \\sqrt{D/J}$ \n",
    "* wir simulieren bis die Welle ungefähr acht mal das Intervall durchlaufen hat:"
   ]
  },
  {
   "cell_type": "code",
   "execution_count": null,
   "metadata": {
    "slideshow": {
     "slide_type": "-"
    }
   },
   "outputs": [],
   "source": [
    "c = sqrt(matparam[\"D*\"]/matparam[\"J\"])\n",
    "\n",
    "NN = N\n",
    "if matparam[\"Anregung links\"]:\n",
    "    NN -= 0.5\n",
    "if matparam[\"Anregung rechts\"]:\n",
    "    NN -= 0.5\n",
    "\n",
    "simparam = { \"dt\" : 0.5/c, \"t0\" : 0, \"tend\" : 8*NN/c, \"method\" : OneStep, \"sampling frequency\" : 1}"
   ]
  },
  {
   "cell_type": "markdown",
   "metadata": {
    "slideshow": {
     "slide_type": "subslide"
    }
   },
   "source": [
    "### Simulationslauf:"
   ]
  },
  {
   "cell_type": "code",
   "execution_count": null,
   "metadata": {
    "slideshow": {
     "slide_type": "-"
    }
   },
   "outputs": [],
   "source": [
    "t = 0\n",
    "u = u0.copy()\n",
    "x, v = u[0:N], u[N:2*N]\n",
    "cnt = 0\n",
    "\n",
    "positions = [u[0:N].copy()]\n",
    "velocities = [u[N:2*N].copy()]\n",
    "\n",
    "while t < simparam[\"tend\"] + 0.5*simparam[\"dt\"]:\n",
    "    t += simparam[\"dt\"]\n",
    "    OneStep(u, matparam, simparam, t)\n",
    "    if cnt % simparam[\"sampling frequency\"] == 0:\n",
    "        positions.append(u[0:N].copy())\n",
    "        velocities.append(u[N:2*N].copy())    \n",
    "    cnt += 1\n",
    "        \n",
    "print(\"Es wurden\",len(positions),\"Samples genommen.\")"
   ]
  },
  {
   "cell_type": "markdown",
   "metadata": {
    "slideshow": {
     "slide_type": "subslide"
    }
   },
   "source": [
    "### Plotting"
   ]
  },
  {
   "cell_type": "code",
   "execution_count": null,
   "metadata": {
    "scrolled": false,
    "slideshow": {
     "slide_type": "-"
    }
   },
   "outputs": [],
   "source": [
    "fig, ax = plt.subplots(1,1)\n",
    "ax.set_ylim([-1.1,1.1]);fig.set_figheight(3);fig.set_figwidth(9)\n",
    "out = widgets.Output()\n",
    "def on_value_change(change):\n",
    "    with out:\n",
    "        plot(positions[change['new']],velocities[change['new']],ax,change['new']*simparam[\"dt\"]*simparam[\"sampling frequency\"])\n",
    "        fig.canvas.draw()   \n",
    "slider = widgets.IntSlider(min=0, max=len(positions)-1, step=1, continuous_update=True)\n",
    "play = widgets.Play(min=0,  max=len(positions)-1, interval=100)\n",
    "slider.observe(on_value_change, 'value')\n",
    "widgets.jslink((play, 'value'), (slider, 'value'))\n",
    "widgets.VBox([play, slider,out])"
   ]
  }
 ],
 "metadata": {
  "kernelspec": {
   "display_name": "Python 3",
   "language": "python",
   "name": "python3"
  },
  "language_info": {
   "codemirror_mode": {
    "name": "ipython",
    "version": 3
   },
   "file_extension": ".py",
   "mimetype": "text/x-python",
   "name": "python",
   "nbconvert_exporter": "python",
   "pygments_lexer": "ipython3",
   "version": "3.8.4"
  },
  "toc": {
   "base_numbering": 1,
   "nav_menu": {},
   "number_sections": true,
   "sideBar": true,
   "skip_h1_title": false,
   "title_cell": "Table of Contents",
   "title_sidebar": "Contents",
   "toc_cell": false,
   "toc_position": {},
   "toc_section_display": true,
   "toc_window_display": false
  }
 },
 "nbformat": 4,
 "nbformat_minor": 2
}
