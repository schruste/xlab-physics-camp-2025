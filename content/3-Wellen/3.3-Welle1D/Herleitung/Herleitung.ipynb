{
 "cells": [
  {
   "cell_type": "markdown",
   "metadata": {
    "slideshow": {
     "slide_type": "slide"
    }
   },
   "source": [
    "# Herleitung Wellengleichung"
   ]
  },
  {
   "cell_type": "markdown",
   "metadata": {
    "slideshow": {
     "slide_type": "subslide"
    }
   },
   "source": [
    "### Pendelkette\n",
    "\n",
    "* $N$ Pendelglieder haben Abstand $h=L/N$ zueinander und gehorchen der DGL:\n",
    "\n",
    "\\begin{align*}\n",
    "  \\frac{ d x_i(t)}{ d t} & = v_i(t) \\\\\n",
    "  \\frac{ d v_i(t)}{ d t} & = D/m \\left( x_{i+1}(t) - 2 x_i(t) +  x_{i-1}(t) \\right) - k/m ~ v_i(t)\n",
    "\\end{align*}\n",
    "\n",
    "wobei für $i=1$ und $i=N$ andere Bedingungen vorgegeben werden (nur ein Nachbar).\n",
    "\n",
    "* Fragestellung: \n",
    "  Was passiert wenn $N \\to \\infty$?\n",
    "\n",
    "* Wir betrachten dazu $x_{i+1}(t) - 2 x_i(t) +  x_{i-1}(t)$"
   ]
  },
  {
   "cell_type": "markdown",
   "metadata": {
    "slideshow": {
     "slide_type": "subslide"
    }
   },
   "source": [
    "* Sei $t$ fixiert. Nehmen wir an es gibt eine glatte Funktion $u(x,t)$, sodass \n",
    "$$\n",
    "  u(h \\cdot i,t) = x_i(t),\n",
    "$$\n",
    "d.h. die Funktion $u$ beschreibt die Auslenkung in Abhängigkeit vom Ort und stimmt an den Stellen $h \\cdot i$ mit der Auslenkung der Pendelkettenglieder überein.\n",
    "* Wir können dann also $x_{i+1}(t) - 2 x_i(t) +  x_{i-1}(t)$ auch wie folgt interpretieren:\n",
    "\\begin{align*}\n",
    "  \\frac{x_{i+1}(t) - 2 x_i(t) +  x_{i-1}(t)}{h^2} & = \\frac{u(h \\cdot (i+1),t ) - 2 u(h \\cdot i,t ) + u(h \\cdot (i-1),t )}{h^2} \\\\\n",
    "  & = \\frac{ \\frac{ u(h \\cdot (i+1),t ) - u (h \\cdot i,t) }{h} - \\frac{ u(h \\cdot i,t ) - u(h \\cdot (i-1),t) }{h}}{h}\n",
    "\\end{align*}\n"
   ]
  },
  {
   "cell_type": "markdown",
   "metadata": {
    "slideshow": {
     "slide_type": "subslide"
    }
   },
   "source": [
    " $$ \n",
    "  \\frac{ \\frac{ u(h \\cdot (i+1),t ) - u (h \\cdot i,t) }{h} - \\frac{ u(h \\cdot i,t ) - u(h \\cdot (i-1),t) }{h}}{h}\n",
    " $$  \n",
    " * für $h$ gegen Null: $\\frac{ u(h \\cdot (i+1),t ) - u(h \\cdot i,t) }{h} \\approx \\frac{\\partial u}{\\partial x} (x+ \\frac{h}{2},t) \\qquad \\text{ für } x = h \\cdot i$  \n",
    " * für $h$ gegen Null: $\\frac{ u(h \\cdot i,t ) - u(h \\cdot (i-1),t) }{h} \\approx \\frac{\\partial u}{\\partial x} (x- \\frac{h}{2},t) \\qquad \\text{ für } x = h \\cdot i$ \n",
    " \n",
    " $$\n",
    "   \\leadsto \\frac{ \\frac{\\partial u}{\\partial x} (x+ \\frac{h}{2},t) - \\frac{\\partial u}{\\partial x} (x - \\frac{h}{2},t) }{h} \\stackrel{h \\to 0}{\\longrightarrow} \\frac{\\partial^2 u}{\\partial x^2}\n",
    " $$"
   ]
  },
  {
   "cell_type": "markdown",
   "metadata": {
    "slideshow": {
     "slide_type": "subslide"
    }
   },
   "source": [
    "### Grenzfall $h \\to 0$ : Die Wellengleichung\n",
    "Der Grenzfall des Pendelkettenproblems ist somit die folgende Wellengleichung: Finde die Funktion $u(x,t)$, sodass\n",
    "\n",
    "\\begin{align*}\n",
    "  \\frac{ \\partial^2 u}{ \\partial t^2}(x,t) & = \\tilde{D} \\frac{\\partial^2 u}{\\partial x^2} (x,t) - \\tilde{k} \\frac{\\partial u}{\\partial t}(x,t)\n",
    "\\end{align*}\n",
    "\n",
    "Im folgenden betrachten wir physikalische Situationen bei denen die Dämpfung nicht relevant ist, d.h.\n",
    "\n",
    "\\begin{align*}\n",
    "  \\frac{ \\partial^2 u}{ \\partial t^2}(x,t) & = \\tilde{D} \\frac{\\partial^2 u}{\\partial x^2} (x,t)\n",
    "\\end{align*}\n",
    "\n"
   ]
  },
  {
   "cell_type": "markdown",
   "metadata": {
    "slideshow": {
     "slide_type": "slide"
    }
   },
   "source": [
    "### Beispiel: Akustische Wellen"
   ]
  },
  {
   "cell_type": "markdown",
   "metadata": {
    "slideshow": {
     "slide_type": "-"
    }
   },
   "source": [
    "Betrachten wir die Ausbreitung von akustischen Wellen:\n",
    "* Dazu betrachten wir ein Material (z.B. Luft) das eine Dichte $\\rho$ hat und sich mit einer Geschwindigkeit $v$ bewegt.\n",
    "* Wir nehmen vereinfachend (wieder) an, dass $\\rho$ und $v$ nur von einer Koordinatenrichtung ($x$) und der Zeit abhängen.\n",
    "* Wir nehmen an, dass das Material einen Ruhezustand mit $\\rho_0$ und $v_0 = 0$ hat der von einer Störung mit $\\rho_1$ und $v_1$ überlagert ist. Hierbei ist $\\rho_0$ viel größer als $\\rho_1$ und $v_1$ klein.\n",
    "* Wir nehmen an, dass der Druck nur von der Dichte abhängt $p = f(\\rho)$ und die Schallgeschwindigkeit $a$ ist definiert als $a = \\sqrt{f'(\\rho)}$.\n"
   ]
  },
  {
   "cell_type": "markdown",
   "metadata": {
    "slideshow": {
     "slide_type": "subslide"
    }
   },
   "source": [
    "#### Kräftebilanz zu einem Punkt $x$:\n",
    "  * Bilanz um $x$ und $x+h$ für ein kleines $h$\n",
    "  * Newtonsche Dynamik besagt:\n",
    "   \\begin{align*}\n",
    "      \\text{ Masse }\\cdot\\text{ Beschleunigung }  &= \\text{ Summe der angreifenden Kräfte } \\\\ \n",
    "\\leadsto \\qquad \\underbrace{\\rho ( A \\cdot h)}_{\\text{Masse}}  \\underbrace{\\frac{\\partial v}{\\partial t}(x,t)}_{\\text{Beschleunigung}} &= \\underbrace{- p(x+h) \\cdot A}_{\\text{Druck über rechte Fläche}} + \\underbrace{ p(x) \\cdot A }_{\\text{Druck über linke Fläche}} \n",
    "\\end{align*}\n",
    "  * Teilen wir durchs Volumen ergibt sich:\n",
    "  \\begin{align*} \\rho \\frac{\\partial v}{\\partial t}(x,t) =  - \\frac{p(x+h) - p(x)}{h} \\qquad &\\longrightarrow \\qquad \\rho \\frac{\\partial v}{\\partial t}(x,t)  = - \\frac{\\partial p}{\\partial x}(x,t)\n",
    "  \\end{align*}\n",
    "  \\begin{align*}   \n",
    "\\qquad &\\longrightarrow (\\rho_0+\\underbrace{\\rho_1}_{\\text{klein}}) \\frac{\\partial (v_0+v_1)}{\\partial t}(x,t)  = - f'(\\rho) \\frac{\\partial (\\rho_0+\\rho_1)}{\\partial x}(x,t)   \\\\\n",
    "    \\qquad &\\longrightarrow \\qquad \\rho_0 \\frac{\\partial v_1}{\\partial t}(x,t)  = - a^2 \\frac{\\partial \\rho_1}{\\partial x}(x,t)\n",
    "  \\end{align*}\n",
    "  * In Worten: Ein Druck- bzw. Dichteänderung im Ort verursacht eine Beschleunigung  "
   ]
  },
  {
   "cell_type": "markdown",
   "metadata": {
    "slideshow": {
     "slide_type": "subslide"
    }
   },
   "source": [
    "#### Komprimierung / Expansion des Materials ändert den Druck\n",
    " * Betrachten wir wieder das Interval $[x, x+h]$\n",
    " * Wenn der Massenstrom $\\rho(x) \\cdot v(x)$ größer ist als $\\rho(x+h) \\cdot v(x+h)$, so erhöht sich die Materialdichte\n",
    " * Wenn der Massenstrom $\\rho(x) \\cdot v(x)$ kleiner ist als $\\rho(x+h) \\cdot v(x+h)$, so verringert sich die Materialdichte\n",
    " * \n",
    " \\begin{align*}\n",
    "  &&& (A \\cdot h) \\frac{\\partial \\rho}{\\partial t}(x,t) =  - A \\rho(x+h) v(x+h) + A \\rho(x) v(x) \\\\ \n",
    " && \\qquad &\\longrightarrow \\qquad \\frac{\\partial \\rho}{\\partial t}(x,t)  = - \\frac{\\partial \\rho v}{\\partial x}(x,t) \\\\\n",
    " && \\qquad &\\longrightarrow \\qquad \\frac{\\partial \\rho_1}{\\partial t}(x,t)  = - \\rho_0 \\frac{\\partial v_1}{\\partial x}(x,t) - \\underbrace {v_1  \\frac{\\partial \\rho_1}{\\partial x}(x,t) }_{\\text{klein}}\n",
    "  \\end{align*}\n",
    "  \n",
    "\n",
    "  "
   ]
  },
  {
   "cell_type": "markdown",
   "metadata": {
    "slideshow": {
     "slide_type": "subslide"
    }
   },
   "source": [
    " * Einmal mehr Ableiten ergibt die akustische Wellengleichung:\n",
    " $$\n",
    "\\frac{\\partial^2 \\rho_1}{\\partial t^2}(x,t)  = - \\rho_0 \\frac{\\partial^2 v_1}{\\partial x \\partial t}(x,t) \n",
    "= a^2 \\frac{\\partial^2 \\rho_1}{\\partial x^2}(x,t)\n",
    " $$"
   ]
  },
  {
   "cell_type": "markdown",
   "metadata": {
    "slideshow": {
     "slide_type": "slide"
    }
   },
   "source": [
    "#### Elektromagnetische Wellen:\n",
    "\n",
    "[Übungsaufgabe zu Wellen](../../../Uebungen/blatt_zu_Wellen.pdf)"
   ]
  }
 ],
 "metadata": {
  "kernelspec": {
   "display_name": "Python 3",
   "language": "python",
   "name": "python3"
  },
  "language_info": {
   "codemirror_mode": {
    "name": "ipython",
    "version": 3
   },
   "file_extension": ".py",
   "mimetype": "text/x-python",
   "name": "python",
   "nbconvert_exporter": "python",
   "pygments_lexer": "ipython3",
   "version": "3.7.0"
  }
 },
 "nbformat": 4,
 "nbformat_minor": 2
}
