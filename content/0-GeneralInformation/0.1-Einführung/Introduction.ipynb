{
 "cells": [
  {
   "cell_type": "markdown",
   "metadata": {
    "collapsed": true,
    "slideshow": {
     "slide_type": "slide"
    }
   },
   "source": [
    "# Numerical simulation of physical systems"
   ]
  },
  {
   "cell_type": "markdown",
   "metadata": {},
   "source": [
    "## Does physics work for real systems?\n",
    "\n",
    "Physics works for idealized systems\n",
    "\n",
    "Real systems show significant deviations\n",
    "\n",
    "\n",
    "Smartphones work\n",
    "\n",
    "Airplanes work\n",
    "\n",
    "Contradiction?\n",
    "\n",
    "\n",
    "Physics: Investigating simple systems to gain knowledge\n",
    "\n",
    "Technology: Complex systems with multiple interactions"
   ]
  },
  {
   "cell_type": "markdown",
   "metadata": {
    "slideshow": {
     "slide_type": "subslide"
    }
   },
   "source": [
    " ## Background\n",
    " \n",
    "\n",
    "A simple quantitative (mathematical) description of physical systems is possible if they have\n",
    "\n",
    "* a high symmetry\n",
    "* no coupling\n",
    "* few interactions with the environment\n",
    "\n",
    "<center>\n",
    "<img src=\"Pendulum.png\" alt=\"Drawing\" style=\"width: 20%;\"/>\n",
    "</center>\n",
    "\n",
    "$$\n",
    "\\frac{d^2u}{dt^2}(t) = -\\frac{g}{l}\\sin(u(t))\n",
    "$$\n",
    "\n",
    "→ Less symmetrical systems and coupled system with many interactions not easily accessible"
   ]
  },
  {
   "cell_type": "markdown",
   "metadata": {
    "slideshow": {
     "slide_type": "subslide"
    }
   },
   "source": [
    "## Differential equations\n",
    "\n",
    "A differential equation (DE) is a mathematical relationship between a function $u$ and its derivatives\n",
    "\n",
    "Many laws of nature can be represented in the form of DGLs\n",
    "can be represented in the form of DEs. The origin is (almost) always a\n",
    "conservation law.\n",
    "\n",
    "Examples:\n",
    "\n",
    "* Equations of motion = conservation of energy\n",
    "\n",
    "* Heat transport = conservation of energy\n",
    "\n",
    "* Diffusion = conservation of mass\n",
    "\n",
    "* Electric currents = conservation of charge"
   ]
  },
  {
   "cell_type": "markdown",
   "metadata": {},
   "source": [
    "## Notebook use\n",
    "\n",
    "#### Login data\n",
    "\n",
    "User: kurs3/xlab222\n",
    "Password: startstart\n",
    "\n",
    "#### Storage location for central course materials\n",
    "\n",
    "Network drive: Z:\\Physik\\Numerical Simulation of Physical Systems\n",
    "\n",
    "#### Storage location for own course materials\n",
    "\n",
    "On your notebook: C:\\Users\\Public\\Documents\\YourName"
   ]
  },
  {
   "cell_type": "markdown",
   "metadata": {},
   "source": []
  }
 ],
 "metadata": {
  "kernelspec": {
   "display_name": "Python 3 (ipykernel)",
   "language": "python",
   "name": "python3"
  },
  "language_info": {
   "codemirror_mode": {
    "name": "ipython",
    "version": 3
   },
   "file_extension": ".py",
   "mimetype": "text/x-python",
   "name": "python",
   "nbconvert_exporter": "python",
   "pygments_lexer": "ipython3",
   "version": "3.7.0"
  },
  "toc": {
   "base_numbering": 1,
   "nav_menu": {},
   "number_sections": true,
   "sideBar": true,
   "skip_h1_title": false,
   "title_cell": "Table of Contents",
   "title_sidebar": "Contents",
   "toc_cell": false,
   "toc_position": {},
   "toc_section_display": true,
   "toc_window_display": false
  }
 },
 "nbformat": 4,
 "nbformat_minor": 2
}
