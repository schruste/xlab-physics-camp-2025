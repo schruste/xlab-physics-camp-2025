{
 "cells": [
  {
   "cell_type": "markdown",
   "metadata": {
    "collapsed": true,
    "jupyter": {
     "outputs_hidden": true
    },
    "slideshow": {
     "slide_type": "slide"
    }
   },
   "source": [
    "# Numerische Simulation von physikalischen Systemen"
   ]
  },
  {
   "cell_type": "markdown",
   "metadata": {},
   "source": [
    "## Funktioniert Physik für reale Systeme?\n",
    "\n",
    "Physik funktioniert für idealisierte Systeme\n",
    "\n",
    "Reale Systeme zeigen signifikante Abweichungen\n",
    "\n",
    "\n",
    "Smartphones funktionieren\n",
    "\n",
    "Flugzeuge funktionieren\n",
    "\n",
    "Widerspruch?\n",
    "\n",
    "\n",
    "Physik: Untersuchung einfacher Systeme, um Kenntnisse zu gewinnen\n",
    "\n",
    "Technologie: Komplexe Systeme mit vielen Interaktionen"
   ]
  },
  {
   "cell_type": "markdown",
   "metadata": {
    "slideshow": {
     "slide_type": "subslide"
    }
   },
   "source": [
    "## Hintergrund\n",
    "\n",
    "\n",
    "Eine einfache quantitative (mathematische) Beschreibung von physikalischen Systemen ist möglich, wenn sie\n",
    "\n",
    "* eine hohe Symmetrie haben\n",
    "* keine Kopplung haben\n",
    "* wenige Interaktionen mit der Umgebung haben\n",
    "\n",
    "<center>\n",
    "<img src=\"Pendulum.png\" alt=\"Zeichnung\" style=\"width: 20%;\"/>\n",
    "</center>\n",
    "\n",
    "$$\n",
    "\\frac{d^2u}{dt^2}(t) = -\\frac{g}{l}\\sin(u(t))\n",
    "$$\n",
    "\n",
    "→ Weniger symmetrische Systeme und gekoppelte Systeme mit vielen Interaktionen nicht leicht zugänglich"
   ]
  },
  {
   "cell_type": "markdown",
   "metadata": {
    "slideshow": {
     "slide_type": "subslide"
    }
   },
   "source": [
    "## Differentialgleichungen\n",
    "\n",
    "Eine Differentialgleichung (DGL) ist eine mathematische Beziehung zwischen einer Funktion $u$ und ihren Ableitungen\n",
    "\n",
    "Viele Gesetze der Natur können in Form von DGLs dargestellt werden\n",
    "können in Form von DGLs dargestellt werden. Der Ursprung ist (fast) immer ein\n",
    "Konservationsgesetz.\n",
    "\n",
    "Beispiele:\n",
    "\n",
    "* Gleichungen der Bewegung = Erhaltung der Energie\n",
    "\n",
    "* Wärmeleitung = Erhaltung der Energie\n",
    "\n",
    "* Diffusion = Erhaltung der Masse\n",
    "\n",
    "* Elektrische Ströme = Erhaltung der Ladung"
   ]
  },
  {
   "cell_type": "markdown",
   "metadata": {},
   "source": [
    "## Notebook-Verwendung\n",
    "\n",
    "#### Anmeldeinformationen\n",
    "\n",
    "Benutzer: kurs3/xlab222\n",
    "Passwort: startstart\n",
    "\n",
    "#### Speicherort für zentrale Kursmaterialien\n",
    "\n",
    "Netzlaufwerk: Z:\\Physik\\Numerische Simulation von physikalischen Systemen\n",
    "\n",
    "#### Speicherort für eigene Kursmaterialien\n",
    "\n",
    "Auf Ihrem Notebook: C:\\Users\\Public\\Documents\\IhrName"
   ]
  },
  {
   "cell_type": "markdown",
   "metadata": {},
   "source": []
  }
 ],
 "metadata": {
  "kernelspec": {
   "display_name": "Python 3 (ipykernel)",
   "language": "python",
   "name": "python3"
  },
  "language_info": {
   "codemirror_mode": {
    "name": "ipython",
    "version": 3
   },
   "file_extension": ".py",
   "mimetype": "text/x-python",
   "name": "python",
   "nbconvert_exporter": "python",
   "pygments_lexer": "ipython3",
   "version": "3.13.7"
  },
  "toc": {
   "base_numbering": 1,
   "nav_menu": {},
   "number_sections": true,
   "sideBar": true,
   "skip_h1_title": false,
   "title_cell": "Tabelle der Inhalte",
   "title_sidebar": "Inhalte",
   "toc_cell": false,
   "toc_position": {},
   "toc_section_display": true,
   "toc_window_display": false
  }
 },
 "nbformat": 4,
 "nbformat_minor": 4
}
