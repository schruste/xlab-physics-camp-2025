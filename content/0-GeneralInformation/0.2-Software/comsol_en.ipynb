{
 "cells": [
  {
   "cell_type": "markdown",
   "metadata": {
    "collapsed": true,
    "slideshow": {
     "slide_type": "slide"
    }
   },
   "source": [
    "# Access to COMSOL\n",
    "\n",
    "For a limited time, you can access the commercial software COMSOL with a test license, which can be requested after registration on the website https://www.comsol.com/.\n",
    "\n",
    "A longer-term access is possible through licenses of the XLAB, if you are interested, please contact\n",
    "\n",
    "Dr. Carsten Nowak\n",
    "\n",
    "Georg-August-Universität Göttingen\n",
    "\n",
    "XLAB - Göttinger Experimentallabor für junge Leute\n",
    "\n",
    "Justus-von-Liebig-Weg 8 • 37077 Göttingen • Tel. +49 551 39-12874 • Fax +49 551 39-12951\n",
    "\n",
    "E-Mail:  carsten.nowak@xlab-goettingen.de • www.xlab-goettingen.de"
   ]
  }
 ],
 "metadata": {
  "kernelspec": {
   "display_name": "Python 3",
   "language": "python",
   "name": "python3"
  },
  "language_info": {
   "codemirror_mode": {
    "name": "ipython",
    "version": 3
   },
   "file_extension": ".py",
   "mimetype": "text/x-python",
   "name": "python",
   "nbconvert_exporter": "python",
   "pygments_lexer": "ipython3",
   "version": "3.7.0"
  }
 },
 "nbformat": 4,
 "nbformat_minor": 2
}
