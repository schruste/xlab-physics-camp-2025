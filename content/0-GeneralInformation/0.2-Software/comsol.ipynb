{
 "cells": [
  {
   "cell_type": "markdown",
   "metadata": {
    "collapsed": true,
    "slideshow": {
     "slide_type": "slide"
    }
   },
   "source": [
    "# Zugriff auf COMSOL\n",
    "\n",
    "Für eine begrenzte Zeit können Sie das kommerzielle Software-Produkt COMSOL mit einem Testlizenz, das nach der Registrierung auf der Website https://www.comsol.com/ angefordert werden kann.\n",
    "\n",
    "Ein längerfristiger Zugriff ist möglich durch Lizenzierung des XLAB, wenn Sie interessiert sind, wenden Sie sich bitte an\n",
    "\n",
    "Dr. Carsten Nowak\n",
    "\n",
    "Georg-August-Universität Göttingen\n",
    "\n",
    "XLAB - Göttinger Experimentallabor für junge Leute\n",
    "\n",
    "Justus-von-Liebig-Weg 8 • 37077 Göttingen • Tel. +49 551 39-12874 • Fax +49 551 39-12951\n",
    "\n",
    "E-Mail:  carsten.nowak@xlab-goettingen.de • www.xlab-goettingen.de"
   ]
  }
 ],
 "metadata": {
  "kernelspec": {
   "display_name": "Python 3",
   "language": "python",
   "name": "python3"
  },
  "language_info": {
   "codemirror_mode": {
    "name": "ipython",
    "version": 3
   },
   "file_extension": ".py",
   "mimetype": "text/x-python",
   "name": "python",
   "nbconvert_exporter": "python",
   "pygments_lexer": "ipython3",
   "version": "3.7.0"
  }
 },
 "nbformat": 4,
 "nbformat_minor": 2
}
