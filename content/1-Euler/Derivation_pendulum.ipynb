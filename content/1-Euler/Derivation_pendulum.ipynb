{
 "cells": [
  {
   "cell_type": "markdown",
   "metadata": {
    "slideshow": {
     "slide_type": "slide"
    }
   },
   "source": [
    "# Pendel\n",
    "## Geometrie des Systems\n",
    "\n",
    "Betrachten wir ein Pendel der Länge $l$, an dessen Ende eine Masse $m$ befestigt ist. Das Pendel ist starr aufgehängt und soll sich nur in einer Ebene durch den Aufhängepunkt bewegen. Die Position des Pendels wird dann eindeutig durch den Winkel $u$ beschrieben, um den das Pendel aus der Gleichgewichtslage ausgelenkt ist. Mathematisch handelt es sich also um ein 1D-System.\n",
    "\n",
    "<center>\n",
    "<img src=\"fadenpendel.JPG\" alt=\"Zeichnung\" style=\"width: 20%;\"/>\n",
    "</center>"
   ]
  },
  {
   "cell_type": "markdown",
   "metadata": {
    "slideshow": {
     "slide_type": "subslide"
    }
   },
   "source": [
    "Wir suchen die Auslenkung des Pendels aus der Gleichgewichtslage $u$ als Funktion der Zeit $t$. Die gesuchte Funktion $u(t)$ hat als Definitionsbereich $\\Omega = [-\\infty, \\infty]$.\n",
    "\n",
    "Um die Funktion $u(t)$ zu finden, stellen wir zunächst eine allgemeine Gleichung auf, die die physikalisch notwendigen Bedingungen an $u(t)$ zusammenfasst und von allen möglichen Lösungen erfüllt sein muss. Diese Gleichung ist die Differentialgleichung für das Pendel."
   ]
  },
  {
   "cell_type": "markdown",
   "metadata": {
    "slideshow": {
     "slide_type": "slide"
    }
   },
   "source": [
    "## Physikalische Grundgesetze\n",
    "### 1. Potenzielle und Kinetische Energie\n",
    "\n",
    "Wir wählen als Nullpunkt der potenziellen Energie die Auslenkung $u=0$. Die potenzielle Energie für eine beliebige Auslenkung $u$ aus der Gleichgewichtslage ist dann\n",
    "\n",
    "$$\n",
    "E_{\\rm{pot}}(t)=mg\\left(l-l\\cos(u(t))\\right)=mgl\\left(1-\\cos(u(t))\\right)\n",
    "$$"
   ]
  },
  {
   "cell_type": "markdown",
   "metadata": {
    "slideshow": {
     "slide_type": "fragment"
    }
   },
   "source": [
    "Die kinetische Energie des Pendels ist durch die Tangentialgeschwindigkeit $v$ bestimmt. Für die Tangentialgeschwindigkeit gilt $v=\\frac{du}{dt}(t) \\cdot l$. Die kinetische Energie ist also\n",
    "\n",
    "$$\n",
    "E_{\\rm{kin}}=\\frac{1}{2}mv^2=\\frac{1}{2}m\\left(\\frac{du}{dt}(t) \\cdot l\\right)^2\n",
    "$$"
   ]
  },
  {
   "cell_type": "markdown",
   "metadata": {
    "slideshow": {
     "slide_type": "fragment"
    }
   },
   "source": [
    "[Hinweis: Bei Kreisbewegungen wird der Winkel oft mit $\\varphi$ und der Radius mit $r$ bezeichnet. Die Winkelgeschwindigkeit ist dann $\\omega(t)=\\frac{d\\varphi}{dt}(t)$ und die Bahngeschwindigkeit ist $v(t)=\\omega(t) r=\\frac{d\\varphi}{dt}(t) \\cdot r$. Durch Einsetzen von $u=\\varphi$ und $r=l$ ergibt sich die oben genannte Gleichung für $v$.]"
   ]
  },
  {
   "cell_type": "markdown",
   "metadata": {
    "slideshow": {
     "slide_type": "subslide"
    }
   },
   "source": [
    "### 2. Energieerhaltung\n",
    "\n",
    "Wenn keine Verluste auftreten, ist die Gesamtenergie $E(t)=E_{\\rm{pot}}(t)+E_{\\rm{kin}}(t)$ des Pendels konstant. Die Ableitung der Gesamtenergie nach der Zeit $t$ muss also verschwinden."
   ]
  },
  {
   "cell_type": "markdown",
   "metadata": {
    "slideshow": {
     "slide_type": "fragment"
    }
   },
   "source": [
    "#### Aufgabe:\n",
    "Gegeben $E_{\\rm{pot}}(t)=mgl\\left(1-\\cos(u(t))\\right)$ und $E_{\\rm{kin}}(t)=\\frac{1}{2}m\\left(\\frac{du}{dt}(t)\\cdot l\\right)^2$. Stellen Sie aus der Bedingung $E=const.$ die Differentialgleichung für das Pendel auf."
   ]
  },
  {
   "cell_type": "markdown",
   "metadata": {
    "slideshow": {
     "slide_type": "fragment"
    }
   },
   "source": [
    "Es gilt:\n",
    "\n",
    "$$\n",
    "\\frac{d^2u}{dt^2}(t) = -\\frac{g}{l}\\sin(u(t))\n",
    "$$"
   ]
  },
  {
   "cell_type": "markdown",
   "metadata": {
    "slideshow": {
     "slide_type": "skip"
    }
   },
   "source": [
    "Daraus folgt:\n",
    "\n",
    "$$\n",
    "0 \\stackrel{!}{=} \\frac{dE}{dt}(t)\n",
    "$$\n",
    "$$\n",
    "= mgl\\sin(u(t))\\frac{du}{dt}(t)+m\\frac{du}{dt}(t)\\frac{d^2u}{dt^2}(t)\\cdot l^2\n",
    "$$\n",
    "$$\n",
    "= ml\\frac{du}{dt}(t)\\cdot\\left( g\\sin(u(t))+\\frac{d^2u}{dt^2}(t)\\cdot l\\right)\n",
    "$$\n",
    "$$\n",
    "\\Rightarrow \\frac{d^2u}{dt^2}(t) = -\\frac{g}{l}\\sin(u(t))\n",
    "$$"
   ]
  },
  {
   "cell_type": "markdown",
   "metadata": {
    "slideshow": {
     "slide_type": "subslide"
    }
   },
   "source": [
    "Dies ist die Differentialgleichung für das Pendel. Diese nichtlineare Differentialgleichung 2. Ordnung ist analytisch nicht einfach lösbar. Im Folgenden betrachten wir verschiedene Spezialfälle.\n",
    "\n",
    "[Hinweis: Formal gibt es auch Lösungen mit $m=0$, $l=0$, und $\\frac{du}{dt}(t)=0$, d.h. keine Änderung des Winkels $u$ über die Zeit – also ein nicht-schwingendes Pendel.]"
   ]
  },
  {
   "cell_type": "markdown",
   "metadata": {
    "slideshow": {
     "slide_type": "slide"
    }
   },
   "source": [
    "## Harmonischer Oszillator\n",
    "\n",
    "### 1. Näherung der Differentialgleichung für kleine Auslenkungen\n",
    "\n",
    "Die Differentialgleichung des Pendels kann vereinfacht werden, wenn nur geringe Auslenkungen um die Gleichgewichtslage erfolgen. Dann gilt in dieser Kleinwinkelnäherung $\\sin(u(t))\\approx u(t)$. Damit vereinfacht sich die Differentialgleichung für das Pendel zu\n",
    "\n",
    "$$\n",
    "\\frac{d^2u}{dt^2}(t) = -\\frac{g}{l}u(t)\n",
    "$$\n"
   ]
  },
  {
   "cell_type": "markdown",
   "metadata": {
    "slideshow": {
     "slide_type": "fragment"
    }
   },
   "source": [
    "Dies ist die Differentialgleichung für einen harmonischen Oszillator, wie sie auch für ein Federpendel gilt, das nur so weit ausgelenkt wird, dass das Hookesche Gesetz Gültigkeit hat."
   ]
  },
  {
   "cell_type": "markdown",
   "metadata": {
    "slideshow": {
     "slide_type": "subslide"
    }
   },
   "source": [
    "### 2. Lösung der Differentialgleichung\n",
    "\n",
    "Die Differentialgleichung für den harmonischen Oszillator verlangt, dass für die gesuchte Funktion $u(t)$ gilt: Die zweite Ableitung nach der Zeit muss (abgesehen von einem Faktor $\\frac{g}{l}$) das negative der Funktion selbst ergeben. Gesucht ist also eine Funktion $u(t)$, die bei doppeltem Ableiten bis auf ein Vorzeichen und einen Vorfaktor erhalten bleibt."
   ]
  },
  {
   "cell_type": "markdown",
   "metadata": {
    "slideshow": {
     "slide_type": "fragment"
    }
   },
   "source": [
    "Eine bekannte Funktion mit dieser Eigenschaft ist die Sinusfunktion $u(t)=\\sin(t)$, die allgemein mit Amplitude $u_0$, Kreisfrequenz $\\omega_0$ und Phasenverschiebung $\\varphi_0$ angegeben werden kann:\n",
    "$$\n",
    "u(t)=u_0\\sin(\\omega_0 t+\\varphi_0).\n",
    "$$"
   ]
  },
  {
   "cell_type": "markdown",
   "metadata": {
    "slideshow": {
     "slide_type": "subslide"
    }
   },
   "source": [
    "Um zu prüfen, ob dieses $u(t)$ tatsächlich die Differentialgleichung für den harmonischen Oszillator löst, setzen wir $u(t)$ dort ein. Es gilt\n",
    "\n",
    "$$\n",
    "\\frac{d^2u}{dt^2}(t)=-\\omega_0^2u_0\\sin(\\omega_0 t+\\varphi_0)\n",
    "$$\n",
    "und\n",
    "$$\n",
    "-\\frac{g}{l}u(t)=-\\frac{g}{l}u_0\\sin(\\omega_0 t+\\varphi_0)\n",
    "$$"
   ]
  },
  {
   "cell_type": "markdown",
   "metadata": {
    "slideshow": {
     "slide_type": "fragment"
    }
   },
   "source": [
    "Mit $\\omega_0=\\sqrt{\\frac{g}{l}}$ ist $u(t)=u_0\\sin(\\omega_0 t+\\varphi_0)$ tatsächlich eine Lösung der Differentialgleichung des harmonischen Oszillators. Für kleine Winkel $u$ schwingt ein Pendel also wie ein harmonischer Oszillator mit der Periode\n",
    "$$\n",
    "T=\\frac{2\\pi}{\\omega_0}=2\\pi\\sqrt{\\frac{l}{g}}.\n",
    "$$\n",
    "Die Werte für die Konstanten $u_0$ und $\\varphi_0$ werden durch zwei Anfangsbedingungen bestimmt."
   ]
  },
  {
   "cell_type": "markdown",
   "metadata": {
    "slideshow": {
     "slide_type": "slide"
    }
   },
   "source": [
    "## Gedämpftes Pendel\n",
    "\n",
    "### 1. Berücksichtigung des Dämpfungsterms\n",
    "\n",
    "Für ein reales Pendel ist die Energieerhaltung nicht gültig, da immer Verluste auftreten, die zur Dämpfung führen. Der Energieverlust pro Zeit durch Dämpfung $\\frac{dE}{dt}(t)$ ist in vielen Fällen, wie z.B. Luftreibung im laminaren Fluss, proportional zum Quadrat der Geschwindigkeit $v(t)^2$\n",
    "\n",
    "$$\n",
    "\\frac{dE}{dt}(t)=-b\\,v(t)^2=-b\\left(\\frac{du}{dt}(t)\\cdot l\\right)^2\n",
    "$$\n",
    "mit einer Dämpfungskonstanten $b$."
   ]
  },
  {
   "cell_type": "markdown",
   "metadata": {
    "slideshow": {
     "slide_type": "subslide"
    }
   },
   "source": [
    "Für die Energieänderung im gedämpften Pendel gilt:\n",
    "\n",
    "\\begin{align}\n",
    "& & -b\\left(\\frac{du}{dt}(t)\\cdot l\\right)^2 & \\stackrel{!}{=} && ml\\frac{du}{dt}(t)\\cdot\\left( g\\sin(u(t))+\\frac{d^2u}{dt^2}(t)\\cdot l\\right)\\\\\n",
    "\\Longrightarrow & &-b\\frac{du}{dt}(t)\\cdot l & = && m\\cdot\\left( g\\sin(u(t))+\\frac{d^2u}{dt^2}(t)\\cdot l\\right)\\\\\n",
    "\\Longrightarrow & &ml\\frac{d^2u}{dt^2}(t) & = && -mg\\sin(u(t))-bl\\frac{du}{dt}(t)\\\\\n",
    "\\Longrightarrow & &\\frac{d^2u}{dt^2}(t) & = && -\\frac{g}{l}\\sin(u(t))-\\frac{b}{m}\\frac{du}{dt}(t)\\\\\n",
    "\\end{align}"
   ]
  },
  {
   "cell_type": "markdown",
   "metadata": {
    "slideshow": {
     "slide_type": "fragment"
    }
   },
   "source": [
    "Die Dämpfung führt also zum zusätzlichen Term $-\\frac{b}{m}\\frac{du}{dt}(t)$ in der Differentialgleichung für das Pendel. Dieser Term entspricht einer Bremskraft, deren Betrag proportional zur Geschwindigkeit des Pendels ist."
   ]
  },
  {
   "cell_type": "markdown",
   "metadata": {
    "slideshow": {
     "slide_type": "subslide"
    }
   },
   "source": [
    "### 2. Lösung für kleine Auslenkungen\n",
    "\n",
    "Die Differentialgleichung für das gedämpfte Pendel vereinfacht sich ebenfalls für kleine Auslenkungen, da dann $\\sin(u(t))\\approx u(t)$. So ergibt sich für das gedämpfte Pendel\n",
    "\n",
    "$$\n",
    "\\frac{d^2u}{dt^2}(t) = -\\frac{g}{l}u(t)-\\frac{b}{m}\\frac{du}{dt}(t)\n",
    "$$"
   ]
  },
  {
   "cell_type": "markdown",
   "metadata": {
    "slideshow": {
     "slide_type": "fragment"
    }
   },
   "source": [
    "Für diese Differentialgleichung lassen sich je nach Fall direkt Lösungen angeben:\n",
    "\n",
    "#### Kriechfall\n",
    "Für sehr große Dämpfung schwingt das Pendel nicht mehr, sondern schleicht langsam in den Gleichgewichtszustand.\n",
    "\n",
    "[Hinweis: Für sehr großes $b$ muss $\\frac{du}{dt}(t)$, also die Winkelgeschwindigkeit, sehr klein sein.]"
   ]
  },
  {
   "cell_type": "markdown",
   "metadata": {
    "slideshow": {
     "slide_type": "subslide"
    }
   },
   "source": [
    "#### Schwach gedämpfter Fall\n",
    "Wenn $\\frac{b}{2m}<\\sqrt{\\frac{g}{l}}$, schwingt das Pendel noch, und die Auslenkung aus der Gleichgewichtslage ist dann\n",
    "\n",
    "$$\n",
    "u(t)=u_0 e^{-\\frac{b}{2m}\\cdot t}\\cdot \\sin(\\omega_d t + \\varphi_0)\n",
    "$$\n",
    "\n",
    "mit $\\omega_d = \\sqrt{\\frac{g}{l}-\\left(\\frac{b}{2m}\\right)^2}$."
   ]
  },
  {
   "cell_type": "markdown",
   "metadata": {
    "slideshow": {
     "slide_type": "fragment"
    }
   },
   "source": [
    "Für kleine Winkel $u$ schwingt ein gedämpftes Pendel also wie ein harmonischer Oszillator mit der Periode\n",
    "\n",
    "$$\n",
    "T=\\frac{2\\pi}{\\omega_d}=\\frac{2\\pi}{\\sqrt{\\frac{g}{l}-\\left(\\frac{b}{2m}\\right)^2}}.\n",
    "$$"
   ]
  },
  {
   "cell_type": "markdown",
   "metadata": {
    "slideshow": {
     "slide_type": "subslide"
    }
   },
   "source": [
    "Die Periode nimmt also durch die Dämpfung zu. Die Amplitude fällt exponentiell mit der Zeit ab, entsprechend $e^{-\\frac{b}{2m}\\cdot t}$. Experimentell kann die Stärke der Dämpfung aus dem Abfall der Amplitude über die Zeit bestimmt werden (Abfall auf $\\frac{1}{e}$ zur charakteristischen Zeit $\\tau=\\frac{2m}{b}$).\n",
    "\n",
    "Die Werte für die Konstanten $u_0$ und $\\varphi_0$ werden wiederum durch zwei Anfangsbedingungen bestimmt."
   ]
  },
  {
   "cell_type": "markdown",
   "metadata": {
    "slideshow": {
     "slide_type": "subslide"
    }
   },
   "source": [
    "### 3. Numerische Lösung für beliebige Auslenkungen\n",
    "\n",
    "### Umformulierung in ein System von Differentialgleichungen 1. Ordnung\n",
    "\n",
    "Die Differentialgleichung für das gedämpfte Pendel mit beliebig großen Auslenkungen ist nicht einfach lösbar. Daher wird die Lösung numerisch berechnet. Zur numerischen Berechnung wird die gesuchte Funktion schließlich als vektorwertige Funktion $\\vec{u}(t)$ dargestellt (dieser Grund wird später klarer). Um die Notation der gesuchten Funktion übersichtlich zu halten, benennen wir die gesuchte Funktion in der Differentialgleichung für das Pendel auf $\\varphi(t)$ um:\n",
    "\n",
    "$$\n",
    "\\frac{d^2\\varphi}{dt^2}(t) = -\\frac{g}{l}\\sin(\\varphi(t))-\\frac{b}{m}\\frac{d\\varphi}{dt}(t)\n",
    "$$\n",
    "\n",
    "$\\varphi(t)$ steht nun für den Winkel, um den das Pendel aus der Gleichgewichtslage ausgelenkt ist."
   ]
  },
  {
   "cell_type": "markdown",
   "metadata": {
    "slideshow": {
     "slide_type": "subslide"
    }
   },
   "source": [
    "Wir wollen nun die nichtlineare Differentialgleichung 2. Ordnung in ein System von zwei Differentialgleichungen 1. Ordnung umschreiben. Dazu benutzen wir den Ausdruck für die Tangentialgeschwindigkeit:\n",
    "\n",
    "$$\n",
    "v(t)=\\frac{d\\varphi}{dt}(t)\\cdot l\n",
    "$$"
   ]
  },
  {
   "cell_type": "markdown",
   "metadata": {
    "slideshow": {
     "slide_type": "fragment"
    }
   },
   "source": [
    "Damit können wir beide Seiten der Differentialgleichung für das gedämpfte Pendel umschreiben als:\n",
    "\n",
    "$$\n",
    "\\frac{1}{l}\\frac{dv}{dt}(t) = \\color{blue}{\\frac{d^2\\varphi}{dt^2}(t)  =  -\\frac{g}{l}\\sin(\\varphi(t))-\\frac{b}{m}\\frac{d\\varphi}{dt}(t)} =  -\\frac{g}{l}\\sin(\\varphi(t))-\\frac{b}{ml}v(t)\n",
    "$$"
   ]
  },
  {
   "cell_type": "markdown",
   "metadata": {
    "slideshow": {
     "slide_type": "subslide"
    }
   },
   "source": [
    "Zusammen mit der Definition von $v(t)$ ergeben sich nun zwei Differentialgleichungen, die das Pendel beschreiben – eine für die \"Position\" $\\varphi(t)$ (hier der Winkel) und eine für die \"Geschwindigkeit\" $v(t)$ (hier die Tangentialgeschwindigkeit). Diese beiden Gleichungen kann man auch vektoriell schreiben:"
   ]
  },
  {
   "cell_type": "markdown",
   "metadata": {
    "slideshow": {
     "slide_type": "subslide"
    }
   },
   "source": [
    "Mit\n",
    "\n",
    "$$\n",
    "\\vec{u}(t) =\n",
    "\\left( \n",
    "\\begin{array}{c}\n",
    "\\varphi(t) \\\\ v(t)\n",
    "\\end{array}\n",
    "\\right)\n",
    "$$\n",
    "\n",
    "und\n",
    "\n",
    "$$\n",
    "\\vec{f}(\\vec{u}(t)) = \\vec{f}(\\varphi(t),v(t)) = \n",
    "\\left( \n",
    "\\begin{array}{c}\n",
    " \\frac{1}{l}v(t) \\\\ \n",
    " -g\\sin(\\varphi(t))-\\frac{b}{m}v(t)\n",
    "\\end{array}\n",
    "\\right)\n",
    "$$\n",
    "\n",
    "erhält man die Gleichung in Vektorschreibweise\n",
    "\n",
    "$$\n",
    "\\frac{d \\vec{u}(t)}{dt} = \\left( \n",
    "\\begin{array}{c}\n",
    "\\frac{d \\varphi}{dt}(t) \\\\ \\frac{d v}{dt}(t)\n",
    "\\end{array}\n",
    "\\right)\n",
    "= \\vec{f}(\\vec{u}(t))\n",
    "$$\n",
    "\n",
    "Wir werden diese Gleichung numerisch lösen."
   ]
  },
  {
   "cell_type": "markdown",
   "metadata": {
    "slideshow": {
     "slide_type": "slide"
    }
   },
   "source": [
    "## Physikalisches Pendel\n",
    "\n",
    "### 1. Herleitung der Differentialgleichung\n",
    "\n",
    "Bei einem realen Pendel hat die Pendelmasse eine endliche Ausdehnung und auch der Faden hat eine zusätzliche Masse. Werden diese Punkte im Pendelmodell berücksichtigt, spricht man vom physikalischen Pendel. Das Modell des physikalischen Pendels ist auch geeignet, beliebige Geometrien eines Pendels zu beschreiben.\n",
    "\n",
    "<center>\n",
    "<img src=\"physikalisches pendel.JPG\" alt=\"Zeichnung\" style=\"width: 21%;\"/>\n",
    "</center>"
   ]
  },
  {
   "cell_type": "markdown",
   "metadata": {
    "slideshow": {
     "slide_type": "subslide"
    }
   },
   "source": [
    "Wir betrachten einen beliebigen starren Körper mit Volumen $V$ und ortsabhängiger Dichte $\\rho(\\vec{r})$. Dieser Körper soll um eine beliebige Drehachse schwingen. Im Gleichgewichtszustand befindet sich der Schwerpunkt des Körpers im Abstand $l$ senkrecht unter der Drehachse. Während der Schwingung wird der Körper um den Winkel $u(t)$ ausgelenkt. Die potentielle Energie des Körpers lautet dann\n",
    "\n",
    "$$\n",
    "E_{\\rm{pot}}(t)=mgl\\left(1-\\cos(u(t))\\right).\n",
    "$$"
   ]
  },
  {
   "cell_type": "markdown",
   "metadata": {
    "slideshow": {
     "slide_type": "fragment"
    }
   },
   "source": [
    "Die Rotationsenergie bei dieser Rotation ist\n",
    "\n",
    "\\begin{align}\n",
    "E_\\textrm{rot}& = &\\int\\limits_V \\frac{1}{2}\\left(v(\\vec{r},t)\\right)^2\\,dm=\\frac{1}{2}\\int\\limits_V \\left(v(\\vec{r},t)\\right)^2\\rho(\\vec{r})\\,dV=\\frac{1}{2}\\int\\limits_V \\left(|\\vec{r_{\\perp}}|\\frac{du}{dt}(t)\\right)^2\\rho(\\vec{r})\\,dV \\\\ & = & \\frac{1}{2}\\int\\limits_V |\\vec{r_{\\perp}}|^2\\left(\\frac{du}{dt}(t)\\right)^2\\rho(\\vec{r})\\,dV = \\frac{1}{2}\\underbrace{\\int\\limits_V |\\vec{r_{\\perp}}|^2\\rho(\\vec{r})\\,dV}_{=:J}\\left(\\frac{du}{dt}(t)\\right)^2=\\frac{1}{2}J \\left(\\frac{du}{dt}(t)\\right)^2\n",
    "\\end{align}\n",
    "\n",
    "wobei\n",
    "\n",
    "$J=\\int\\limits_V |\\vec{r}_{\\perp}|^2 \\rho(\\vec{r})\\,dV$ das Trägheitsmoment ist, und\n",
    "\n",
    "$\\vec{r}_{\\perp}$ ist der Abstand eines Volumenelements senkrecht zur Drehachse."
   ]
  },
  {
   "cell_type": "markdown",
   "metadata": {
    "slideshow": {
     "slide_type": "subslide"
    }
   },
   "source": [
    "Der Energieverlust pro Zeit durch Dämpfung $\\frac{dE}{dt}(t)$ ist wie zuvor proportional zum Quadrat der Geschwindigkeit $v(t)^2$. Dann gilt\n",
    "\n",
    "$$\n",
    "\\frac{dE}{dt}(t)=-b\\,v(t)^2=-b\\left(\\frac{du}{dt}(t)\\cdot l\\right)^2\\stackrel{!}{=} mgl \\sin(u(t))\\,\\frac{du}{dt}(t)+J\\,\\frac{du}{dt}(t)\\,\\frac{d^2u}{dt^2}(t)\n",
    "$$"
   ]
  },
  {
   "cell_type": "markdown",
   "metadata": {
    "slideshow": {
     "slide_type": "fragment"
    }
   },
   "source": [
    "Das führt zur Differentialgleichung für die gedämpfte Schwingung eines Körpers:\n",
    "\n",
    "$$\n",
    "\\frac{d^2u}{dt^2}(t)=-\\frac{mgl}{J} \\sin(u(t))-\\frac{bl^2}{J}\\frac{du}{dt}(t)\n",
    "$$\n",
    "\n",
    "Man erhält also eine Differentialgleichung ähnlich der des gedämpften Pendels, nur mit anderen physikalischen Bedeutungen der Koeffizienten."
   ]
  },
  {
   "cell_type": "markdown",
   "metadata": {
    "slideshow": {
     "slide_type": "fragment"
    }
   },
   "source": [
    "Für kleine Winkel $u$ schwingt ein gedämpftes physikalisches Pendel mit der Periode\n",
    "\n",
    "$$\n",
    "T=\\frac{2\\pi}{\\omega_d}=\\frac{2\\pi}{\\sqrt{\\frac{mgl}{J}-\\left(\\frac{bl^2}{2J}\\right)^2}}.\n",
    "$$"
   ]
  },
  {
   "cell_type": "markdown",
   "metadata": {
    "slideshow": {
     "slide_type": "fragment"
    }
   },
   "source": [
    "[Hinweis: Der Ausdruck für die Dämpfung stimmt streng genommen nur, wenn die Oberflächengeschwindigkeit des Körpers an allen Punkten der Oberfläche gleich ist.]"
   ]
  },
  {
   "cell_type": "markdown",
   "metadata": {
    "slideshow": {
     "slide_type": "subslide"
    }
   },
   "source": [
    "#### Aufgabe:\n",
    "\n",
    "Bestimmen Sie das Trägheitsmoment $J$ für ein Pendel der Länge $l$ und Masse $m$.\n",
    "\n",
    "Überprüfen Sie, ob Sie mit diesem Trägheitsmoment die Differentialgleichung für das gedämpfte Pendel erhalten."
   ]
  },
  {
   "cell_type": "markdown",
   "metadata": {
    "slideshow": {
     "slide_type": "subslide"
    }
   },
   "source": [
    "### 2. Ausblick\n",
    "\n",
    "Schon mit der Berücksichtigung der Dämpfung beim physikalischen Pendel zeigt sich, dass bei komplexerer Geometrie neue Modellierungsanforderungen entstehen. Für ein physikalisches Pendel sind insbesondere folgende Aspekte relevant:"
   ]
  },
  {
   "cell_type": "markdown",
   "metadata": {
    "slideshow": {
     "slide_type": "fragment"
    }
   },
   "source": [
    "- Reale Körper sind nicht starr, sondern werden durch Schwerkraft und Trägheitskräfte deformiert ($\\to$ Turbinen, Schwungradspeicher, Weltraumaufzug)"
   ]
  },
  {
   "cell_type": "markdown",
   "metadata": {
    "slideshow": {
     "slide_type": "fragment"
    }
   },
   "source": [
    "- Die Aufhängung eines realen Pendels ist nicht starr, sondern nachgiebig"
   ]
  },
  {
   "cell_type": "markdown",
   "metadata": {
    "slideshow": {
     "slide_type": "fragment"
    }
   },
   "source": [
    "- Verschiedene Oberflächengeschwindigkeiten führen zu unterschiedlicher Dämpfung ($\\to$ Windkraftanlagen)"
   ]
  },
  {
   "cell_type": "markdown",
   "metadata": {
    "slideshow": {
     "slide_type": "fragment"
    }
   },
   "source": [
    "- Zusätzliche Verluste entstehen durch Lagerreibung"
   ]
  },
  {
   "cell_type": "markdown",
   "metadata": {
    "slideshow": {
     "slide_type": "subslide"
    }
   },
   "source": [
    "Zur Modellierung realer Systeme werden Körper häufig in einzelne Volumenelemente (\"Finite Elemente\") unterteilt. Für diese Elemente werden die äußeren Kräfte und die Kräfte zwischen den Elementen ($\\to$ Kontinuumsmechanik) betrachtet."
   ]
  },
  {
   "cell_type": "markdown",
   "metadata": {
    "slideshow": {
     "slide_type": "slide"
    }
   },
   "source": [
    "## Experiment\n",
    "\n",
    "Das im Experiment verwendete physikalische Pendel kann gut als Kombination aus zwei Zylindern angenähert werden. Mit den jeweiligen Massen ergibt sich für das Trägheitsmoment\n",
    "\n",
    "$$\n",
    "J_{\\rm Pendel}=1,08\\, \\rm{kg\\cdot m^2}\n",
    "$$\n",
    "\n",
    "und der Abstand des Schwerpunkts zur Drehachse ist\n",
    "\n",
    "$$\n",
    "l=0,96\\,\\rm{m}\n",
    "$$"
   ]
  },
  {
   "cell_type": "markdown",
   "metadata": {
    "slideshow": {
     "slide_type": "fragment"
    }
   },
   "source": [
    "#### Aufgabe:\n",
    "\n",
    "- Betrachten Sie zunächst kleine Auslenkungen von der Gleichgewichtslage. Vergleichen Sie das Verhalten des Pendels im Experiment und der Simulation mit der analytischen Näherungslösung.\n",
    "- Untersuchen Sie nun das Verhalten des Pendels bei größeren Auslenkungen. Vergleichen Sie wieder das Verhalten des Pendels im Experiment und der Simulation. Welche Änderungen treten im Vergleich zu kleinen Auslenkungen auf?"
   ]
  }
 ],
 "metadata": {
  "kernelspec": {
   "display_name": "Python 3 (ipykernel)",
   "language": "python",
   "name": "python3"
  },
  "language_info": {
   "codemirror_mode": {
    "name": "ipython",
    "version": 3
   },
   "file_extension": ".py",
   "mimetype": "text/x-python",
   "name": "python",
   "nbconvert_exporter": "python",
   "pygments_lexer": "ipython3",
   "version": "3.12.4"
  },
  "toc": {
   "base_numbering": 1,
   "nav_menu": {},
   "number_sections": true,
   "sideBar": true,
   "skip_h1_title": false,
   "title_cell": "Inhaltsverzeichnis",
   "title_sidebar": "Inhalt",
   "toc_cell": false,
   "toc_position": {},
   "toc_section_display": true,
   "toc_window_display": false
  }
 },
 "nbformat": 4,
 "nbformat_minor": 2
}


