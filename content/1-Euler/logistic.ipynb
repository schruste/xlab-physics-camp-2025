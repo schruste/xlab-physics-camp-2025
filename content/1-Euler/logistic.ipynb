{
 "cells": [
  {
   "cell_type": "markdown",
   "metadata": {
    "slideshow": {
     "slide_type": "slide"
    }
   },
   "source": [
    "# Beispiel 2: Logistisches Wachstum\n",
    "\n",
    "Wenn das Wachstum durch eine maximale Kapazität (carrying capacity) begrenzt ist, kann man dies mit der logistischen Wachstums-Gleichung modellieren:\n",
    "\n",
    "$$\n",
    "\\frac{dy}{dt}(t) =  k ~ y(t) \\left(1-\\frac{y(t)}{K}\\right),\\quad y(0) = y_0.\n",
    "$$"
   ]
  },
  {
   "cell_type": "code",
   "execution_count": null,
   "metadata": {
    "slideshow": {
     "slide_type": "subslide"
    }
   },
   "outputs": [],
   "source": [
    "import numpy as np\n",
    "import matplotlib\n",
    "import matplotlib.pyplot as plt\n",
    "grid_xy = np.meshgrid(np.linspace(-1,11,13),np.linspace(-1,11,13))\n",
    "k = 0.8\n",
    "K = 10\n",
    "u = 1\n",
    "v = k*grid_xy[1] * (1-grid_xy[1]/K)\n",
    "plt.quiver(*grid_xy,u,v)\n",
    "plt.axis('scaled')\n",
    "plt.xlabel('t')\n",
    "plt.ylabel('y')\n",
    "plt.show()"
   ]
  },
  {
   "cell_type": "markdown",
   "metadata": {
    "slideshow": {
     "slide_type": "subslide"
    }
   },
   "source": [
    "Lösung für verschiedene Anfangswerte:"
   ]
  },
  {
   "cell_type": "code",
   "execution_count": null,
   "metadata": {
    "slideshow": {
     "slide_type": "fragment"
    }
   },
   "outputs": [],
   "source": [
    "plt.quiver(*grid_xy,u,v)\n",
    "plt.axis('scaled')\n",
    "plt.xlabel('t')\n",
    "plt.ylabel('y')\n",
    "for start_t in [0,2]:\n",
    "    for start_x0 in [0.1,2,5,20]:\n",
    "        t = np.linspace(start_t,12,20*(10-start_t)+1)\n",
    "        y = K / (1 +  (K/start_x0-1)*np.exp(-k*(t-start_t)))\n",
    "        plt.plot(t,y)\n",
    "plt.show()"
   ]
  },
  {
   "cell_type": "markdown",
   "metadata": {
    "slideshow": {
     "slide_type": "subslide"
    }
   },
   "source": [
    "#### Aufgabe: Überprüfe, dass die Lösung der logistischen Wachstumsgleichung wie oben angegeben lautet:\n",
    "$$\n",
    " y(t) = \\frac{K}{1 + A e^{-k \\cdot (t-t_0)}} \\quad \\text{mit } A = \\frac{K}{y_0}-1\n",
    "$$\n",
    "Berechne dazu $\\frac{dy}{dt}$ und vergleiche dies mit $f(t, y(t)) = k ~ y(t) \\left(1-\\frac{y(t)}{K}\\right)$."
   ]
  },
  {
   "cell_type": "markdown",
   "metadata": {
    "slideshow": {
     "slide_type": "subslide"
    }
   },
   "source": [
    "  * $\\leadsto$ Nächste Einheit: [Numerische DGLs](numode.ipynb)"
   ]
  }
 ],
 "metadata": {
  "kernelspec": {
   "display_name": "Python 3 (ipykernel)",
   "language": "python",
   "name": "python3"
  },
  "language_info": {
   "codemirror_mode": {
    "name": "ipython",
    "version": 3
   },
   "file_extension": ".py",
   "mimetype": "text/x-python",
   "name": "python",
   "nbconvert_exporter": "python",
   "pygments_lexer": "ipython3",
   "version": "3.13.7"
  },
  "toc": {
   "base_numbering": 1,
   "nav_menu": {},
   "number_sections": true,
   "sideBar": true,
   "skip_h1_title": false,
   "title_cell": "Inhaltsverzeichnis",
   "title_sidebar": "Inhalt",
   "toc_cell": false,
   "toc_position": {},
   "toc_section_display": true,
   "toc_window_display": false
  }
 },
 "nbformat": 4,
 "nbformat_minor": 4
}
