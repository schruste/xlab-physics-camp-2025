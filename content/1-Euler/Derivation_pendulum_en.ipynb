{
 "cells": [
  {
   "cell_type": "markdown",
   "metadata": {
    "slideshow": {
     "slide_type": "slide"
    }
   },
   "source": [
    "# Pendulum\n",
    "## Geometry of the System\n",
    "\n",
    "Consider a pendulum with a length $l$ to which a mass $m$ is attached. The pendulum is rigidly suspended and should only swing in a plane through the suspension point. The position of the pendulum is then uniquely determined by the angle $u$ by which the pendulum is deflected from the equilibrium position. Thus, mathematically, it is a 1D system.\n",
    "\n",
    "\n",
    "<center>\n",
    "<img src=\"fadenpendel.JPG\" alt=\"Drawing\" style=\"width: 20%;\"/>\n",
    "</center>"
   ]
  },
  {
   "cell_type": "markdown",
   "metadata": {
    "slideshow": {
     "slide_type": "subslide"
    }
   },
   "source": [
    "We are looking for the displacement of the pendulum from its equilibrium position $u$ as a function of time $t$. The desired function $u(t)$ has a possible domain of $\\Omega = [-\\infty, \\infty]$.\n",
    "\n",
    "To find the function $u(t)$, we first establish a general equation that summarizes the physically necessary conditions for the desired function $u(t)$ and must be satisfied by all possible solutions. This equation is the differential equation for the pendulum.\n"
   ]
  },
  {
   "cell_type": "markdown",
   "metadata": {
    "slideshow": {
     "slide_type": "slide"
    }
   },
   "source": [
    "## Physical Fundamental Laws\n",
    "### 1. Potential and Kinetic Energy\n",
    "\n",
    "We choose the zero point of the potential energy of the pendulum for the displacement $u=0$. The potential energy for any displacement $u$ from the equilibrium position is then\n",
    "\n",
    "$$\n",
    "E_{\\rm{pot}}(t)=mg\\left(l-l\\cos(u(t))\\right)=mgl\\left(1-\\cos(u(t))\\right)\n",
    "$$"
   ]
  },
  {
   "cell_type": "markdown",
   "metadata": {
    "slideshow": {
     "slide_type": "fragment"
    }
   },
   "source": [
    "The kinetic energy of the pendulum is determined by the tangential velocity $v$. For the tangential velocity, we have $v=\\frac{du}{dt}(t) \\cdot l$. Thus, the kinetic energy is\n",
    "\n",
    "$$\n",
    "E_{\\rm{kin}}=\\frac{1}{2}mv^2=\\frac{1}{2}m\\left(\\frac{du}{dt}(t) \\cdot l\\right)^2\n",
    "$$"
   ]
  },
  {
   "cell_type": "markdown",
   "metadata": {
    "slideshow": {
     "slide_type": "fragment"
    }
   },
   "source": [
    "[Note: In circular motions, the angle is often denoted by $\\varphi$ and the radius by $r$. The angular velocity is then given by $\\omega(t)=\\frac{d\\varphi}{dt}(t)$ and the tangential velocity is $v(t)=\\omega(t) r=\\frac{d\\varphi}{dt}(t) \\cdot r$. By substituting $u=\\varphi$ and $r=l$, the equation for the tangential velocity given above follows.]"
   ]
  },
  {
   "cell_type": "markdown",
   "metadata": {
    "slideshow": {
     "slide_type": "subslide"
    }
   },
   "source": [
    "### 2. Energy Conservation\n",
    "\n",
    "If there are no losses, the total energy of the pendulum $E(t)=E_{\\rm{pot}}(t)+E_{\\rm{kin}}(t)$ is constant. The derivative of the total energy with respect to time $t$ must therefore vanish."
   ]
  },
  {
   "cell_type": "markdown",
   "metadata": {
    "slideshow": {
     "slide_type": "fragment"
    }
   },
   "source": [
    "#### Exercise:\n",
    "Given $E_{\\rm{pot}}(t)=mgl\\left(1-\\cos(u(t))\\right)$ and $E_{\\rm{kin}}(t)=\\frac{1}{2}m\\left(\\frac{du}{dt}(t)\\cdot l\\right)^2$. Determine the differential equation for the pendulum from the condition $E=const.$"
   ]
  },
  {
   "cell_type": "markdown",
   "metadata": {
    "slideshow": {
     "slide_type": "fragment"
    }
   },
   "source": [
    "It holds that:\n",
    "\n",
    "$$\n",
    "\\frac{d^2u}{dt^2}(t) = -\\frac{g}{l}\\sin(u(t))\n",
    "$$"
   ]
  },
  {
   "cell_type": "markdown",
   "metadata": {
    "slideshow": {
     "slide_type": "skip"
    }
   },
   "source": [
    "Thus:\n",
    "\n",
    "$$\n",
    "0 \\stackrel{!}{=} \\frac{dE}{dt}(t)\n",
    "$$\n",
    "$$\n",
    "= mgl\\sin(u(t))\\frac{du}{dt}(t)+m\\frac{du}{dt}(t)\\frac{d^2u}{dt^2}(t)\\cdot l^2\n",
    "$$\n",
    "$$\n",
    "= ml\\frac{du}{dt}(t)\\cdot\\left( g\\sin(u(t))+\\frac{d^2u}{dt^2}(t)\\cdot l\\right)\n",
    "$$\n",
    "$$\n",
    "\\Rightarrow \\frac{d^2u}{dt^2}(t) = -\\frac{g}{l}\\sin(u(t))\n",
    "$$"
   ]
  },
  {
   "cell_type": "markdown",
   "metadata": {
    "slideshow": {
     "slide_type": "subslide"
    }
   },
   "source": [
    "This is the differential equation for the pendulum. This second-order nonlinear differential equation is not easily solvable. In the following, we will consider different cases.\n",
    "\n",
    "[Note: Formally, there are also solutions $m=0$, $l=0$, and $\\frac{du}{dt}(t)=0$, i.e., no change in the angle $u$ over time. This solution describes a non-oscillating pendulum.]"
   ]
  },
  {
   "cell_type": "markdown",
   "metadata": {
    "slideshow": {
     "slide_type": "slide"
    }
   },
   "source": [
    "## Harmonic Oscillator\n",
    "\n",
    "### 1. Approximation of the Differential Equation for Small Displacements\n",
    "\n",
    "The differential equation for the pendulum can be simplified if only small displacements from the equilibrium position occur. In this small-angle approximation, $\\sin(u(t))\\approx u(t)$. Thus, the differential equation for the pendulum simplifies to\n",
    "\n",
    "$$\n",
    "\\frac{d^2u}{dt^2}(t) = -\\frac{g}{l}u(t)\n",
    "$$\n"
   ]
  },
  {
   "cell_type": "markdown",
   "metadata": {
    "slideshow": {
     "slide_type": "fragment"
    }
   },
   "source": [
    "This is the differential equation for a harmonic oscillator, which is also obtained for a spring pendulum that is only displaced enough for Hooke's law to apply."
   ]
  },
  {
   "cell_type": "markdown",
   "metadata": {
    "slideshow": {
     "slide_type": "subslide"
    }
   },
   "source": [
    "### 2. Solution of the Differential Equation\n",
    "\n",
    "The differential equation for the harmonic oscillator states that for the desired function $u(t)$, the following must hold: The second derivative of the desired function with respect to time must (apart from a factor $\\frac{g}{l}$) correspond to the negative of the desired function. We are looking for a function $u(t)$ that, when differentiated twice with respect to time, remains unchanged except for the sign and a prefactor."
   ]
  },
  {
   "cell_type": "markdown",
   "metadata": {
    "slideshow": {
     "slide_type": "fragment"
    }
   },
   "source": [
    "A well-known function with this property is the sine function $u(t)=\\sin(t)$, which can generally be specified with an amplitude $u_0$, an angular frequency $\\omega_0$, and a phase shift $\\varphi_0$:\n",
    "$$\n",
    "u(t)=u_0\\sin(\\omega_0 t+\\varphi_0).\n",
    "$$"
   ]
  },
  {
   "cell_type": "markdown",
   "metadata": {
    "slideshow": {
     "slide_type": "subslide"
    }
   },
   "source": [
    "To check if this $u(t)$ actually solves the differential equation for the harmonic oscillator, we substitute $u(t)$ into the equation. It is\n",
    "\n",
    "$$\n",
    "\\frac{d^2u}{dt^2}(t)=-\\omega_0^2u_0\\sin(\\omega_0 t+\\varphi_0)\n",
    "$$\n",
    "and\n",
    "$$\n",
    "-\\frac{g}{l}u(t)=-\\frac{g}{l}u_0\\sin(\\omega_0 t+\\varphi_0)\n",
    "$$"
   ]
  },
  {
   "cell_type": "markdown",
   "metadata": {
    "slideshow": {
     "slide_type": "fragment"
    }
   },
   "source": [
    "With $\\omega_0=\\sqrt{\\frac{g}{l}}$, the function $u(t)=u_0\\sin(\\omega_0 t+\\varphi_0)$ is indeed a solution for the differential equation of the harmonic oscillator. For small angles $u$, a pendulum thus oscillates like a harmonic oscillator with the period\n",
    "$$\n",
    "T=\\frac{2\\pi}{\\omega_0}=2\\pi\\sqrt{\\frac{l}{g}}.\n",
    "$$\n",
    "The values for the constants $u_0$ and $\\varphi_0$ are determined by two initial conditions."
   ]
  },
  {
   "cell_type": "markdown",
   "metadata": {
    "slideshow": {
     "slide_type": "slide"
    }
   },
   "source": [
    "## Damped Pendulum\n",
    "\n",
    "### 1. Inclusion of the Damping Term\n",
    "\n",
    "For a real pendulum, energy conservation does not hold because losses always occur, leading to damping. The energy loss per time due to damping $\\frac{dE}{dt}(t)$ is in many cases, such as with air friction in laminar flow, proportional to the square of the velocity $v(t)^2$\n",
    "\n",
    "$$\n",
    "\\frac{dE}{dt}(t)=-b\\,v(t)^2=-b\\left(\\frac{du}{dt}(t)\\cdot l\\right)^2\n",
    "$$\n",
    "\n",
    "with a damping constant $b$. "
   ]
  },
  {
   "cell_type": "markdown",
   "metadata": {
    "slideshow": {
     "slide_type": "subslide"
    }
   },
   "source": [
    "For the energy change in the damped pendulum, it holds that:\n",
    "\n",
    "\\begin{align}\n",
    "& & -b\\left(\\frac{du}{dt}(t)\\cdot l\\right)^2 & \\stackrel{!}{=} && ml\\frac{du}{dt}(t)\\cdot\\left( g\\sin(u(t))+\\frac{d^2u}{dt^2}(t)\\cdot l\\right)\\\\\n",
    "\\Longrightarrow & &-b\\frac{du}{dt}(t)\\cdot l & = && m\\cdot\\left( g\\sin(u(t))+\\frac{d^2u}{dt^2}(t)\\cdot l\\right)\\\\\n",
    "\\Longrightarrow & &ml\\frac{d^2u}{dt^2}(t) & = && -mg\\sin(u(t))-bl\\frac{du}{dt}(t)\\\\\n",
    "\\Longrightarrow & &\\frac{d^2u}{dt^2}(t) & = && -\\frac{g}{l}\\sin(u(t))-\\frac{b}{m}\\frac{du}{dt}(t)\\\\\n",
    "\\end{align}"
   ]
  },
  {
   "cell_type": "markdown",
   "metadata": {
    "slideshow": {
     "slide_type": "fragment"
    }
   },
   "source": [
    "Thus, the damping leads to the additional term $-\\frac{b}{m}\\frac{du}{dt}(t)$ in the differential equation for the pendulum. This term corresponds to a braking force whose magnitude is proportional to the velocity of the pendulum."
   ]
  },
  {
   "cell_type": "markdown",
   "metadata": {
    "slideshow": {
     "slide_type": "subslide"
    }
   },
   "source": [
    "### 2. Solution for Small Displacements\n",
    "\n",
    "The differential equation for the damped pendulum can be simplified if only small displacements from the equilibrium position occur. In this small-angle approximation, $\\sin(u(t))\\approx u(t)$. Thus, the differential equation for the damped pendulum simplifies to\n",
    "\n",
    "$$\n",
    "\\frac{d^2u}{dt^2}(t) = -\\frac{g}{l}u(t)-\\frac{b}{m}\\frac{du}{dt}(t)\n",
    "$$"
   ]
  },
  {
   "cell_type": "markdown",
   "metadata": {
    "slideshow": {
     "slide_type": "fragment"
    }
   },
   "source": [
    "For this differential equation, solutions for different cases can be directly given:\n",
    "\n",
    "#### Creep Case\n",
    "For very large damping, the pendulum no longer oscillates but slowly creeps to the equilibrium state.\n",
    "\n",
    "[Note: When $b$ is very large, $\\frac{du}{dt}(t)$, i.e., the angular velocity, must be very small.]"
   ]
  },
  {
   "cell_type": "markdown",
   "metadata": {
    "slideshow": {
     "slide_type": "subslide"
    }
   },
   "source": [
    "#### Underdamped Case\n",
    "If $\\frac{b}{2m}<\\sqrt{\\frac{g}{l}}$, the pendulum still oscillates, and the displacement from the equilibrium position is given by\n",
    "\n",
    "$$\n",
    "u(t)=u_0 e^{-\\frac{b}{2m}\\cdot t}\\cdot \\sin(\\omega_d t + \\varphi_0)\n",
    "$$\n",
    "\n",
    "where $\\omega_d = \\sqrt{\\frac{g}{l}-\\left(\\frac{b}{2m}\\right)^2}$. \n"
   ]
  },
  {
   "cell_type": "markdown",
   "metadata": {
    "slideshow": {
     "slide_type": "fragment"
    }
   },
   "source": [
    "For small angles $u$, a damped pendulum thus oscillates like a harmonic oscillator with the period\n",
    "\n",
    "$$\n",
    "T=\\frac{2\\pi}{\\omega_d}=\\frac{2\\pi}{\\sqrt{\\frac{g}{l}-\\left(\\frac{b}{2m}\\right)^2}}.\n",
    "$$"
   ]
  },
  {
   "cell_type": "markdown",
   "metadata": {
    "slideshow": {
     "slide_type": "subslide"
    }
   },
   "source": [
    "Thus, the period increases due to damping. The amplitude decays exponentially over time according to $e^{-\\frac{b}{2m}\\cdot t}$. Experimentally, the strength of the damping can be determined from the decrease in amplitude over time (falling to $\\frac{1}{e}$ in the characteristic time $\\tau=\\frac{2m}{b}$).\n",
    "\n",
    "The values for the constants $u_0$ and $\\varphi_0$ are again determined by two initial conditions."
   ]
  },
  {
   "cell_type": "markdown",
   "metadata": {
    "slideshow": {
     "slide_type": "subslide"
    }
   },
   "source": [
    "### 3. Numerical Solution for Arbitrary Displacements\n",
    "\n",
    "### Reformulation into a System of First-Order Differential Equations\n",
    "\n",
    "The differential equation for the damped pendulum with arbitrarily large displacements is not easily solved. Therefore, the solutions should be calculated numerically. For numerical calculation, the solution (the unknown function) will eventually be expressed as a vector-valued function $\\vec{u}(t)$ (the reason for this will become clear shortly). To keep the notation of the unknown function clear, we rename the sought function in the differential equation for the pendulum to $\\varphi(t)$:\n",
    "\n",
    "$$\n",
    "\\frac{d^2\\varphi}{dt^2}(t) = -\\frac{g}{l}\\sin(\\varphi(t))-\\frac{b}{m}\\frac{d\\varphi}{dt}(t)\n",
    "$$\n",
    "\n",
    "$\\varphi(t)$ now represents the angle by which the pendulum is displaced from the equilibrium position."
   ]
  },
  {
   "cell_type": "markdown",
   "metadata": {
    "slideshow": {
     "slide_type": "subslide"
    }
   },
   "source": [
    "We now want to reformulate the nonlinear second-order differential equation into a system of two first-order differential equations. To do this, we use the expression for the tangential velocity:\n",
    "\n",
    "$$\n",
    "v(t)=\\frac{d\\varphi}{dt}(t)\\cdot l\n",
    "$$"
   ]
  },
  {
   "cell_type": "markdown",
   "metadata": {
    "slideshow": {
     "slide_type": "fragment"
    }
   },
   "source": [
    "Thus, both sides of the differential equation for the damped pendulum can be written as follows:\n",
    "\n",
    "$$\n",
    "\\frac{1}{l}\\frac{dv}{dt}(t) = \\color{blue}{\\frac{d^2\\varphi}{dt^2}(t)  =  -\\frac{g}{l}\\sin(\\varphi(t))-\\frac{b}{m}\\frac{d\\varphi}{dt}(t)} =  -\\frac{g}{l}\\sin(\\varphi(t))-\\frac{b}{ml}v(t)\n",
    "$$"
   ]
  },
  {
   "cell_type": "markdown",
   "metadata": {
    "slideshow": {
     "slide_type": "subslide"
    }
   },
   "source": [
    "Together with the definition of $v(t)$, we now have two differential equations that describe the pendulum: one equation for the \"position\" $\\varphi(t)$ (in this case, the angle) and one equation for the \"velocity\" $v(t)$ (in this case, the tangential velocity). These two equations can also be expressed in vector form:"
   ]
  },
  {
   "cell_type": "markdown",
   "metadata": {
    "slideshow": {
     "slide_type": "subslide"
    }
   },
   "source": [
    "With\n",
    "\n",
    "$$\n",
    "\\vec{u}(t) =\n",
    "\\left( \n",
    "\\begin{array}{c}\n",
    "\\varphi(t) \\\\ v(t)\n",
    "\\end{array}\n",
    "\\right)\n",
    "$$\n",
    "\n",
    "and\n",
    "\n",
    "$$\n",
    "\\vec{f}(\\vec{u}(t)) = \\vec{f}(\\varphi(t),v(t)) = \n",
    "\\left( \n",
    "\\begin{array}{c}\n",
    " \\frac{1}{l}v(t) \\\\ \n",
    " -g\\sin(\\varphi(t))-\\frac{b}{m}v(t)\n",
    "\\end{array}\n",
    "\\right)\n",
    "$$\n",
    "\n",
    "we get the equation in vector form\n",
    "\n",
    "$$\n",
    "\\frac{d \\vec{u}(t)}{dt} = \\left( \n",
    "\\begin{array}{c}\n",
    "\\frac{d \\varphi}{dt}(t) \\\\ \\frac{d v}{dt}(t)\n",
    "\\end{array}\n",
    "\\right)\n",
    "= \\vec{f}(\\vec{u}(t))\n",
    "$$\n",
    "\n",
    "We will solve this equation numerically."
   ]
  },
  {
   "cell_type": "markdown",
   "metadata": {
    "slideshow": {
     "slide_type": "slide"
    }
   },
   "source": [
    "## Physical Pendulum\n",
    "\n",
    "### 1. Derivation of the Differential Equation\n",
    "\n",
    "In a real pendulum, the pendulum mass has a finite extension, and the string also has an additional mass. When these points are considered in the pendulum model, it is called a physical pendulum. The model of the physical pendulum is also suitable for describing any geometry of a pendulum.\n",
    "\n",
    "<center>\n",
    "<img src=\"physikalisches pendel.JPG\" alt=\"Drawing\" style=\"width: 21%;\"/>\n",
    "</center>"
   ]
  },
  {
   "cell_type": "markdown",
   "metadata": {
    "slideshow": {
     "slide_type": "subslide"
    }
   },
   "source": [
    "We consider an arbitrary rigid body with volume $V$ and position-dependent density $\\rho(\\vec{r})$. This body is to oscillate about an arbitrary axis of rotation through the body. In equilibrium, the center of mass of the body is at a distance $l$ below the axis of rotation. During oscillation, the body is displaced by the angle $u(t)$ from the equilibrium position. The potential energy of the body is then\n",
    "\n",
    "$$\n",
    "E_{\\rm{pot}}(t)=mgl\\left(1-\\cos(u(t))\\right).\n",
    "$$"
   ]
  },
  {
   "cell_type": "markdown",
   "metadata": {
    "slideshow": {
     "slide_type": "fragment"
    }
   },
   "source": [
    "The rotational energy during rotation about this axis is\n",
    "\n",
    "\\begin{align}\n",
    "E_\\textrm{rot}& = &\\int\\limits_V \\frac{1}{2}\\left(v(\\vec{r},t)\\right)^2\\,dm=\\frac{1}{2}\\int\\limits_V \\left(v(\\vec{r},t)\\right)^2\\rho(\\vec{r})\\,dV=\\frac{1}{2}\\int\\limits_V \\left(|\\vec{r_{\\perp}}|\\frac{du}{dt}(t)\\right)^2\\rho(\\vec{r})\\,dV \\\\ & = & \\frac{1}{2}\\int\\limits_V |\\vec{r_{\\perp}}|^2\\left(\\frac{du}{dt}(t)\\right)^2\\rho(\\vec{r})\\,dV = \\frac{1}{2}\\underbrace{\\int\\limits_V |\\vec{r_{\\perp}}|^2\\rho(\\vec{r})\\,dV}_{=:J}\\left(\\frac{du}{dt}(t)\\right)^2=\\frac{1}{2}J \\left(\\frac{du}{dt}(t)\\right)^2\n",
    "\\end{align}\n",
    "\n",
    "where\n",
    "\n",
    "$J=\\int\\limits_V |\\vec{r}_{\\perp}|^2 \\rho(\\vec{r})\\,dV$ is the moment of inertia of the body, and\n",
    "\n",
    "$\\vec{r}_{\\perp}$ is the distance of a volume element perpendicular to the axis of rotation."
   ]
  },
  {
   "cell_type": "markdown",
   "metadata": {
    "slideshow": {
     "slide_type": "subslide"
    }
   },
   "source": [
    "The energy loss per time due to damping $\\frac{dE}{dt}(t)$ is, as before, proportional to the square of the velocity $v(t)^2$. Then, it holds that\n",
    "\n",
    "$$\n",
    "\\frac{dE}{dt}(t)=-b\\,v(t)^2=-b\\left(\\frac{du}{dt}(t)\\cdot l\\right)^2\\stackrel{!}{=} mgl \\sin(u(t))\\,\\frac{du}{dt}(t)+J\\,\\frac{du}{dt}(t)\\,\\frac{d^2u}{dt^2}(t)\n",
    "$$"
   ]
  },
  {
   "cell_type": "markdown",
   "metadata": {
    "slideshow": {
     "slide_type": "fragment"
    }
   },
   "source": [
    "This leads to the differential equation for the damped oscillation of a body:\n",
    "\n",
    "$$\n",
    "\\frac{d^2u}{dt^2}(t)=-\\frac{mgl}{J} \\sin(u(t))-\\frac{bl^2}{J}\\frac{du}{dt}(t)\n",
    "$$\n",
    "\n",
    "Thus, we obtain a differential equation similar to that of the damped pendulum, with only the coefficients having different meanings."
   ]
  },
  {
   "cell_type": "markdown",
   "metadata": {
    "slideshow": {
     "slide_type": "fragment"
    }
   },
   "source": [
    "For small angles $u$, a damped physical pendulum oscillates with the period\n",
    "\n",
    "$$\n",
    "T=\\frac{2\\pi}{\\omega_d}=\\frac{2\\pi}{\\sqrt{\\frac{mgl}{J}-\\left(\\frac{bl^2}{2J}\\right)^2}}.\n",
    "$$"
   ]
  },
  {
   "cell_type": "markdown",
   "metadata": {
    "slideshow": {
     "slide_type": "fragment"
    }
   },
   "source": [
    "[Note: The expression for the damping strictly holds only if the surface velocity of the body is the same for all points on the surface.]"
   ]
  },
  {
   "cell_type": "markdown",
   "metadata": {
    "slideshow": {
     "slide_type": "subslide"
    }
   },
   "source": [
    "#### Exercise:\n",
    "\n",
    "Calculate the moment of inertia $J$ for a pendulum with length $l$ and mass $m$.\n",
    "\n",
    "Check whether you obtain the differential equation for the damped pendulum with this moment of inertia."
   ]
  },
  {
   "cell_type": "markdown",
   "metadata": {
    "slideshow": {
     "slide_type": "subslide"
    }
   },
   "source": [
    "### 2. Outlook\n",
    "\n",
    "Considering damping in the physical pendulum already shows that new modeling requirements arise for more complex geometries. For a physical pendulum, the following aspects are particularly relevant:"
   ]
  },
  {
   "cell_type": "markdown",
   "metadata": {
    "slideshow": {
     "slide_type": "fragment"
    }
   },
   "source": [
    "- Real bodies are not rigid but deform under the influence of gravitational and inertial forces ($\\to$ turbines, flywheel storage, space elevator)"
   ]
  },
  {
   "cell_type": "markdown",
   "metadata": {
    "slideshow": {
     "slide_type": "fragment"
    }
   },
   "source": [
    "- The suspension of a real pendulum is not rigid but yields"
   ]
  },
  {
   "cell_type": "markdown",
   "metadata": {
    "slideshow": {
     "slide_type": "fragment"
    }
   },
   "source": [
    "- Different surface velocities lead to different damping ($\\to$ wind turbines)"
   ]
  },
  {
   "cell_type": "markdown",
   "metadata": {
    "slideshow": {
     "slide_type": "fragment"
    }
   },
   "source": [
    "- Additional losses occur due to bearing friction"
   ]
  },
  {
   "cell_type": "markdown",
   "metadata": {
    "slideshow": {
     "slide_type": "subslide"
    }
   },
   "source": [
    "For modeling real systems, bodies are often divided into individual volume elements (\"finite elements\"). For these elements, the external forces and the forces between the elements ($\\to$ continuum mechanics) are considered."
   ]
  },
  {
   "cell_type": "markdown",
   "metadata": {
    "slideshow": {
     "slide_type": "slide"
    }
   },
   "source": [
    "## Experiment\n",
    "\n",
    "The physical pendulum used in the experiment can be approximated well as a combination of two cylinders. With the respective masses, the moment of inertia is \n",
    "\n",
    "$$\n",
    "J_{\\rm Pendel}=1,08\\, \\rm{kg\\cdot m^2}\n",
    "$$\n",
    "\n",
    "and the distance of the center of mass from the axis of rotation is\n",
    "\n",
    "$$\n",
    "l=0,96\\,\\rm{m}\n",
    "$$"
   ]
  },
  {
   "cell_type": "markdown",
   "metadata": {
    "slideshow": {
     "slide_type": "fragment"
    }
   },
   "source": [
    "#### Task:\n",
    "\n",
    "- First, consider small displacements from the equilibrium position. Compare the behavior of the pendulum in the experiment and the simulation with the analytical approximate solution.\n",
    "- Now, examine the behavior of the pendulum for larger displacements. Again, compare the behavior of the pendulum in the experiment and the simulation. What changes occur compared to small displacements?"
   ]
  }
 ],
 "metadata": {
  "kernelspec": {
   "display_name": "Python 3 (ipykernel)",
   "language": "python",
   "name": "python3"
  },
  "language_info": {
   "codemirror_mode": {
    "name": "ipython",
    "version": 3
   },
   "file_extension": ".py",
   "mimetype": "text/x-python",
   "name": "python",
   "nbconvert_exporter": "python",
   "pygments_lexer": "ipython3",
   "version": "3.12.4"
  },
  "toc": {
   "base_numbering": 1,
   "nav_menu": {},
   "number_sections": true,
   "sideBar": true,
   "skip_h1_title": false,
   "title_cell": "Table of Contents",
   "title_sidebar": "Contents",
   "toc_cell": false,
   "toc_position": {},
   "toc_section_display": true,
   "toc_window_display": false
  }
 },
 "nbformat": 4,
 "nbformat_minor": 2
}
