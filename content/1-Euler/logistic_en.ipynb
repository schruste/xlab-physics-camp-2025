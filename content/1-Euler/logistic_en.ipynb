{
 "cells": [
  {
   "cell_type": "markdown",
   "metadata": {
    "slideshow": {
     "slide_type": "slide"
    }
   },
   "source": [
    "# Example 2: Logistic growth\n",
    "\n",
    "If the growth is limited by a carrying capacity, we can model this with the logistic growth equation:\n",
    "\n",
    "$$\n",
    "\\frac{dy}{dt}(t) =  k ~ y(t) (1-\\frac{y(t)}{K}), y(0) = y_0.\n",
    "$$"
   ]
  },
  {
   "cell_type": "code",
   "execution_count": null,
   "metadata": {
    "slideshow": {
     "slide_type": "subslide"
    }
   },
   "outputs": [],
   "source": [
    "import numpy as np\n",
    "import matplotlib.pyplot as plt\n",
    "grid_xy = np.meshgrid(np.linspace(-1,11,13),np.linspace(-1,11,13))\n",
    "k = 0.8\n",
    "K = 10\n",
    "u = 1\n",
    "v = k*grid_xy[1] * (1-grid_xy[1]/K)  #* (1-0.2*grid_xy[0]) \n",
    "plt.quiver(*grid_xy,u,v)\n",
    "plt.axis('scaled')\n",
    "plt.xlabel('t')\n",
    "plt.ylabel('y')\n",
    "plt.show()"
   ]
  },
  {
   "cell_type": "markdown",
   "metadata": {
    "slideshow": {
     "slide_type": "subslide"
    }
   },
   "source": [
    "Solution for different start values:"
   ]
  },
  {
   "cell_type": "code",
   "execution_count": null,
   "metadata": {
    "slideshow": {
     "slide_type": "fragment"
    }
   },
   "outputs": [],
   "source": [
    "plt.quiver(*grid_xy,u,v)\n",
    "plt.axis('scaled')\n",
    "plt.xlabel('t')\n",
    "plt.ylabel('y')\n",
    "for start_t in [0,2]:\n",
    "    for start_x0 in [0.1,2,5]:\n",
    "        t = np.linspace(start_t,12,20*(10-start_t)+1)\n",
    "        y = K / (1 +  (K/start_x0-1)*np.exp(-k*(t-start_t)))\n",
    "        plt.plot(t,y)\n",
    "plt.show()"
   ]
  },
  {
   "cell_type": "markdown",
   "metadata": {
    "slideshow": {
     "slide_type": "subslide"
    }
   },
   "source": [
    "#### Task: Check that the solution of the logistic growth equation is as given above:\n",
    "$$\n",
    " y(t) = \\frac{K}{1 + A e^{-k \\cdot (t-t_0)}} \\quad \\text{with } A = \\frac{K}{y_0}-1\n",
    "$$\n",
    "To this end compute $\\frac{dy}{dt}$ and compare it with $f(t, y(t)) = k ~ y(t) (1-\\frac{y(t)}{K})$."
   ]
  },
  {
   "cell_type": "markdown",
   "metadata": {
    "slideshow": {
     "slide_type": "subslide"
    }
   },
   "source": [
    "  * $\\leadsto$ next unit: [Numerical ODEs](numode.ipynb)"
   ]
  }
 ],
 "metadata": {
  "kernelspec": {
   "display_name": "Python 3 (ipykernel)",
   "language": "python",
   "name": "python3"
  },
  "language_info": {
   "codemirror_mode": {
    "name": "ipython",
    "version": 3
   },
   "file_extension": ".py",
   "mimetype": "text/x-python",
   "name": "python",
   "nbconvert_exporter": "python",
   "pygments_lexer": "ipython3",
   "version": "3.12.4"
  },
  "toc": {
   "base_numbering": 1,
   "nav_menu": {},
   "number_sections": true,
   "sideBar": true,
   "skip_h1_title": false,
   "title_cell": "Table of Contents",
   "title_sidebar": "Contents",
   "toc_cell": false,
   "toc_position": {},
   "toc_section_display": true,
   "toc_window_display": false
  }
 },
 "nbformat": 4,
 "nbformat_minor": 2
}
