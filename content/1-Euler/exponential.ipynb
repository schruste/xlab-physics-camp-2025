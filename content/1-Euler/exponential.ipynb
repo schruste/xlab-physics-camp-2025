{
 "cells": [
  {
   "cell_type": "markdown",
   "metadata": {
    "slideshow": {
     "slide_type": "slide"
    }
   },
   "source": [
    "# Beispiel 1: Exponentielles Wachstum/Zerfall\n",
    "\n",
    "Starten wir mit einem einfachen Beispiel: exponentielles Wachstum bzw. Zerfall. \n",
    "\n",
    "Physikalisch kann dies so interpretiert werden, dass die Änderungsrate einer Größe proportional zu dieser Größe selbst ist. "
   ]
  },
  {
   "cell_type": "markdown",
   "metadata": {
    "slideshow": {
     "slide_type": "subslide"
    }
   },
   "source": [
    "\n",
    "## Beispiel: Radioaktiver Zerfall\n",
    "\n",
    "Es sei $y(t)$ die Menge eines radioaktiven Materials zur Zeit $t$. Die Änderungsrate von $y$ ist proportional zu $y$ selbst, d.h. \n",
    "$$\n",
    "\\frac{dy}{dt}(t) = - k y(t)\n",
    "$$\n",
    "wobei $k$ der (positive) Modellparameter für den radioaktiven Zerfall ist ($t_{\\frac12} = - \\ln(2) / k$ ist die Halbwertszeit des Materials).\n",
    "\n",
    "$y(0) = y_0$ ist die Anfangsbedingung, also die Startmenge des radioaktiven Materials."
   ]
  },
  {
   "cell_type": "markdown",
   "metadata": {
    "slideshow": {
     "slide_type": "subslide"
    }
   },
   "source": [
    "##### Visualisierung der Funktion $f(t, y) = -k y$, die die DGL charakterisiert"
   ]
  },
  {
   "cell_type": "code",
   "execution_count": null,
   "metadata": {
    "slideshow": {
     "slide_type": "fragment"
    }
   },
   "outputs": [],
   "source": [
    "import numpy as np\n",
    "import matplotlib\n",
    "import matplotlib.pyplot as plt\n",
    "grid_xy = np.meshgrid(np.linspace(-1,11,13),np.linspace(-1,11,13))\n",
    "k=-0.5\n",
    "u,v = 1, k*grid_xy[1]\n",
    "plt.quiver(*grid_xy,u,v)\n",
    "plt.axis('scaled')\n",
    "plt.xlabel('t'); plt.ylabel('y')\n",
    "plt.show()"
   ]
  },
  {
   "cell_type": "markdown",
   "metadata": {
    "slideshow": {
     "slide_type": "subslide"
    }
   },
   "source": [
    "##### Lösung für Anfangswert $y(0) = 10$ ($y(t) = 10 \\exp(kt)$)"
   ]
  },
  {
   "cell_type": "code",
   "execution_count": null,
   "metadata": {
    "slideshow": {
     "slide_type": "fragment"
    }
   },
   "outputs": [],
   "source": [
    "plt.quiver(*grid_xy,u,v)\n",
    "plt.axis('scaled')\n",
    "t = np.linspace(0,10,21)\n",
    "y = 10 * np.exp(k*t)\n",
    "plt.plot(t,y)\n",
    "plt.xlabel('t'); plt.ylabel('y')\n",
    "plt.show()"
   ]
  },
  {
   "cell_type": "markdown",
   "metadata": {
    "slideshow": {
     "slide_type": "subslide"
    }
   },
   "source": [
    "##### Verschiedene Anfangswerte"
   ]
  },
  {
   "cell_type": "code",
   "execution_count": null,
   "metadata": {
    "slideshow": {
     "slide_type": "fragment"
    }
   },
   "outputs": [],
   "source": [
    "k=-0.5\n",
    "plt.quiver(*grid_xy,u,v)\n",
    "plt.axis('scaled')\n",
    "plt.xlabel('t')\n",
    "plt.ylabel('y')\n",
    "for start_t in [0,2]:\n",
    "    for start_x0 in [0,4,8]:\n",
    "        t = np.linspace(start_t,10,2*(10-start_t)+1)\n",
    "        y = start_x0 * np.exp(k*(t-start_t))\n",
    "        plt.plot(t,y)\n",
    "plt.show()"
   ]
  },
  {
   "cell_type": "markdown",
   "metadata": {
    "slideshow": {
     "slide_type": "subslide"
    }
   },
   "source": [
    "#### Exponentielles Wachstum \n",
    "\n",
    "Ist die Änderungsrate proportional zur aktuellen Größe, aber mit einer positiven Konstante, ergibt sich exponentielles Wachstum. Die DGL lautet\n",
    "$$\n",
    "\\frac{dy}{dt}(t) = k y(t), y(0) = y_0.\n",
    "$$\n"
   ]
  },
  {
   "cell_type": "code",
   "execution_count": null,
   "metadata": {
    "slideshow": {
     "slide_type": "subslide"
    }
   },
   "outputs": [],
   "source": [
    "k=0.5\n",
    "u = 1\n",
    "v = k*grid_xy[1]\n",
    "plt.quiver(*grid_xy,u,v)\n",
    "plt.axis('scaled')\n",
    "plt.xlabel('t')\n",
    "plt.ylabel('y')\n",
    "for start_t in [0,2]:\n",
    "    for start_x0 in [0,0.125,0.5]:\n",
    "        t = np.linspace(start_t,10,2*(10-start_t)+1)\n",
    "        y = start_x0 * np.exp(k*(t-start_t))\n",
    "        plt.plot(t,y)\n",
    "plt.show()"
   ]
  },
  {
   "cell_type": "markdown",
   "metadata": {
    "slideshow": {
     "slide_type": "subslide"
    }
   },
   "source": [
    "$\\leadsto$ Nächste Einheit: [logistisches Wachstum](logistic.ipynb)"
   ]
  }
 ],
 "metadata": {
  "kernelspec": {
   "display_name": "Python 3 (ipykernel)",
   "language": "python",
   "name": "python3"
  },
  "language_info": {
   "codemirror_mode": {
    "name": "ipython",
    "version": 3
   },
   "file_extension": ".py",
   "mimetype": "text/x-python",
   "name": "python",
   "nbconvert_exporter": "python",
   "pygments_lexer": "ipython3",
   "version": "3.13.7"
  },
  "toc": {
   "base_numbering": 1,
   "nav_menu": {},
   "number_sections": true,
   "sideBar": true,
   "skip_h1_title": false,
   "title_cell": "Inhaltsverzeichnis",
   "title_sidebar": "Inhalt",
   "toc_cell": false,
   "toc_position": {},
   "toc_section_display": true,
   "toc_window_display": false
  }
 },
 "nbformat": 4,
 "nbformat_minor": 4
}
