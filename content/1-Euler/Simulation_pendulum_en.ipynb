{
 "cells": [
  {
   "cell_type": "markdown",
   "metadata": {
    "slideshow": {
     "slide_type": "slide"
    }
   },
   "source": [
    "### Ordinary Differential Equations\n",
    "\n",
    "The single pendulum problem can be considered as an ordinary differential equation of the form\n",
    "\n",
    "\\begin{align}\n",
    "  \\frac{d \\vec{u}(t)}{dt} & = \\vec{f}(t,\\vec{u}(t))\n",
    "\\end{align}\n",
    "\n",
    "where $\\vec{u}(t) (= y(t))$ is the state vector at time $t$ consisting of position $x(t)$ and velocity $v(t)$. \n",
    "\n",
    "In general, ordinary differential equations cannot be solved analytically (sometimes they can)."
   ]
  },
  {
   "cell_type": "markdown",
   "metadata": {
    "slideshow": {
     "slide_type": "fragment"
    }
   },
   "source": [
    "$\\leadsto$ We need numerical solution methods"
   ]
  },
  {
   "cell_type": "markdown",
   "metadata": {},
   "source": [
    "# Simulation of the single pendulum"
   ]
  },
  {
   "cell_type": "markdown",
   "metadata": {},
   "source": [
    "\n",
    "\\begin{align*}\n",
    " \\varphi(t):&  \\quad \\text{Displacement from the equilibrium position} && \\quad [\\varphi] = 1 rad\\\\\n",
    " v(t):&  \\quad \\text{Orbital velocity of the pendulum} && \\quad [v] = 1 m/s \\\\\n",
    " \\\\\n",
    " g : & \\quad \\text{Gravitational constant} && \\quad [g] = 1 m/s^2  \\\\\n",
    " l : & \\quad \\text{Length of the pendulum} && \\quad [l] = 1 m  \\\\\n",
    " k =\\frac{b}{m}: & \\quad \\text{Damping constant of the pendulum} && \\quad [k] = 1 / s\n",
    "\\end{align*}\n",
    "\n",
    "\\begin{align*}\n",
    "    \\frac{d \\varphi(t)}{dt} & = v(t) / l \\\\\n",
    "    \\frac{d v(t)}{dt} & = -g\\sin(\\varphi(t)) - k v(t)\n",
    "\\end{align*}"
   ]
  },
  {
   "cell_type": "markdown",
   "metadata": {},
   "source": [
    "## Application of the explicit Euler method:\n",
    "\n",
    "#### Formulation as general ordinary differential equation (ODE):\n",
    "\n",
    "\\begin{align}\n",
    "  \\frac{d \\vec{u}(t)}{dt} & = \\vec{f}(\\vec{u}(t))\n",
    "\\end{align}\n",
    "with\n",
    "$$\n",
    "\\vec{u}(t) = \n",
    "\\left( \n",
    "\\begin{array}{c}\n",
    "\\varphi(t) \\\\ v(t)\n",
    "\\end{array}\n",
    "\\right)\n",
    "$$\n",
    "and\n",
    "$$\n",
    "\\vec{f}(\\vec{u}) = \\vec{f}(\\varphi,v) = \\left( \n",
    "\\begin{array}{c}\n",
    " v / l\\\\ \n",
    " - g \\sin(\\varphi) - k v\n",
    "\\end{array}\n",
    "\\right)\n",
    "= \\left( \n",
    "\\begin{array}{c}\n",
    " \\vec{u}_2 / l  \\\\\n",
    " - g \\sin(\\vec{u}_1) - k \\vec{u}_2\n",
    "\\end{array}\n",
    "\\right)\n",
    "$$\n",
    "\n"
   ]
  },
  {
   "cell_type": "markdown",
   "metadata": {},
   "source": [
    "This turns the general explicit Euler method\n",
    "\\begin{align}\n",
    "  \\vec{u}^{n+1} & = \\vec{u}^{n} + \\Delta t \\cdot \\vec{f}(\\vec{u}^n)\n",
    "\\end{align}\n",
    "into the following rule:\n",
    "\\begin{align}\n",
    "  \\varphi^{n+1} & = \\varphi^{n} + \\Delta t \\cdot v^{n} / l \\\\\n",
    "  v^{n+1} & = v^{n} + \\Delta t \\cdot ( - g \\sin(\\varphi^n) - k v^n  )\n",
    "\\end{align}"
   ]
  },
  {
   "cell_type": "markdown",
   "metadata": {},
   "source": [
    "#### Initial values / materials parameters"
   ]
  },
  {
   "cell_type": "markdown",
   "metadata": {},
   "source": [
    "* Initial valules:"
   ]
  },
  {
   "cell_type": "code",
   "execution_count": null,
   "metadata": {},
   "outputs": [],
   "source": [
    "initialvals = { \"phi\" : 1.0, \"v\" : 0.0}"
   ]
  },
  {
   "cell_type": "markdown",
   "metadata": {},
   "source": [
    "* Materials parameters:"
   ]
  },
  {
   "cell_type": "code",
   "execution_count": null,
   "metadata": {},
   "outputs": [],
   "source": [
    "matparam =  { \"g\" : 1.0, \"l\" : 1.0, \"k\" : 0.0, \"m\" : 1.0}"
   ]
  },
  {
   "cell_type": "markdown",
   "metadata": {},
   "source": [
    "### One-step Euler method:"
   ]
  },
  {
   "cell_type": "markdown",
   "metadata": {
    "slideshow": {
     "slide_type": "-"
    }
   },
   "source": [
    "Task:\n",
    " * Given the state $\\varphi^n, v^n$ (i.e. $\\vec{u}^n$), compute $\\varphi^{n+1}, v^{n+1}$ (i.e. $\\vec{u}^{n+1}$)."
   ]
  },
  {
   "cell_type": "code",
   "execution_count": null,
   "metadata": {
    "slideshow": {
     "slide_type": "fragment"
    }
   },
   "outputs": [],
   "source": [
    "from math import sin, cos, pi\n",
    "def OneStep_ExplicitEuler(u, matparam, simparam):\n",
    "    phi0, v0 = u\n",
    "    u[0] += simparam[\"dt\"] * v0 / matparam[\"l\"] \n",
    "    u[1] -= simparam[\"dt\"] * ( matparam[\"g\"] * sin(phi0) + matparam[\"k\"] * v0)"
   ]
  },
  {
   "cell_type": "markdown",
   "metadata": {
    "slideshow": {
     "slide_type": "subslide"
    }
   },
   "source": [
    "### The timestep method:"
   ]
  },
  {
   "cell_type": "code",
   "execution_count": null,
   "metadata": {
    "slideshow": {
     "slide_type": "-"
    }
   },
   "outputs": [],
   "source": [
    "from numpy import array\n",
    "from plot import plot\n",
    "%matplotlib notebook\n",
    "def ODESolve(initialvals, matparam, simparam):\n",
    "    timehistory = []\n",
    "    poshistory = []\n",
    "    velhistory = []\n",
    "    \n",
    "    u = array([initialvals[\"phi\"],initialvals[\"v\"]],dtype=float)\n",
    "    t = simparam[\"t0\"]\n",
    "\n",
    "    timehistory.append(t)\n",
    "    poshistory.append(u[0])\n",
    "    velhistory.append(u[1])\n",
    "    \n",
    "    dt = simparam[\"dt\"]\n",
    "    cnt = 0\n",
    "    while t < simparam[\"tend\"]:\n",
    "        simparam[\"method\"](u,matparam,simparam)\n",
    "        t = t + dt\n",
    "        timehistory.append(t)\n",
    "        poshistory.append(u[0])\n",
    "        velhistory.append(u[1])\n",
    "    plot(timehistory,poshistory,velhistory)\n",
    "    return u"
   ]
  },
  {
   "cell_type": "markdown",
   "metadata": {
    "slideshow": {
     "slide_type": "subslide"
    }
   },
   "source": [
    "### Calculation of the energy"
   ]
  },
  {
   "cell_type": "code",
   "execution_count": null,
   "metadata": {
    "slideshow": {
     "slide_type": "-"
    }
   },
   "outputs": [],
   "source": [
    "def Energy(matparam,phi,v):\n",
    "    return matparam[\"g\"] * matparam[\"l\"] * matparam[\"m\"] * (1-cos(phi)) + 0.5 * matparam[\"m\"] * v**2"
   ]
  },
  {
   "cell_type": "markdown",
   "metadata": {
    "slideshow": {
     "slide_type": "slide"
    }
   },
   "source": [
    "### Simulation with the explicit Euler method"
   ]
  },
  {
   "cell_type": "code",
   "execution_count": null,
   "metadata": {
    "slideshow": {
     "slide_type": "-"
    }
   },
   "outputs": [],
   "source": [
    "#matparam =  { \"g\" : 1, \"l\" : 1, \"k\" : 0.0, \"m\" : 1.0}\n",
    "simparam = { \"dt\" : 0.1, \"t0\" : 0, \"tend\" : 4*pi, \"method\" : OneStep_ExplicitEuler}\n",
    "phi0, v0 = initialvals[\"phi\"], initialvals[\"v\"]\n",
    "u_final = ODESolve(initialvals, matparam, simparam)\n",
    "phi, v = u_final\n",
    "print(\"Initial angle: {:8.3e}, Initial velocity: {:8.3e}, Initial energy: {:8.3e}\".format(phi0, v0, Energy(matparam,phi0,v0)))\n",
    "print(\"Final angle:     {:8.3e}, Final velocity:     {:8.3e}, Final energy:     {:8.3e}\".format( phi,  v, Energy(matparam, phi, v)))"
   ]
  },
  {
   "cell_type": "markdown",
   "metadata": {
    "slideshow": {
     "slide_type": "subslide"
    }
   },
   "source": [
    "#### Task:\n",
    "  * Simulate for different cases of the parameters $g,~l$ and $k$ for several oscillation periods.\n",
    "  * Always reduce $\\Delta t$ until the result no longer visibly changes.\n",
    "  * What do you observe?"
   ]
  },
  {
   "cell_type": "markdown",
   "metadata": {
    "slideshow": {
     "slide_type": "subslide"
    }
   },
   "source": [
    "#### Task:\n",
    "  * Also consider initial angles of $\\pi$ or different initial velocities\n",
    "  * Why are not two full oscillation periods completed after $4\\pi$? "
   ]
  },
  {
   "cell_type": "markdown",
   "metadata": {
    "slideshow": {
     "slide_type": "subslide"
    }
   },
   "source": [
    "#### Task: \n",
    "  * Consider $k = 0$. \n",
    "  * What total energy remains in the system after some simulated oscillations?\n",
    "  * What total energy should theoretically remain in the system?\n",
    "  * How does the error in energy depend on the number of oscillations and the time step $\\Delta t$?  "
   ]
  },
  {
   "cell_type": "markdown",
   "metadata": {
    "slideshow": {
     "slide_type": "slide"
    }
   },
   "source": [
    "### The Symplectic Euler Method\n",
    "\n",
    "The explicit Euler method is often modified for multi-body problems to show better long-term behavior:\n",
    "\n",
    "\\begin{align}\n",
    "  v^{n+1} & = v^{n} + \\Delta t \\cdot ( - g \\sin(\\varphi^{n}) - k v^n  ) \\\\\n",
    "  \\varphi^{n+1} & = \\varphi^{n} + \\Delta t \\cdot v^{n+1} / l\n",
    "\\end{align}\n",
    "\n",
    "The only difference to the explicit Euler method is that the updated $v$ is used for the update of $\\varphi$."
   ]
  },
  {
   "cell_type": "code",
   "execution_count": null,
   "metadata": {
    "slideshow": {
     "slide_type": "subslide"
    }
   },
   "outputs": [],
   "source": [
    "def OneStep_SymplecticEuler(u, matparam, simparam):\n",
    "    phi0, v0 = u\n",
    "    u[1] -= simparam[\"dt\"] * ( matparam[\"g\"] * sin(phi0) + matparam[\"k\"] * v0)\n",
    "    u[0] += simparam[\"dt\"] * u[1]/matparam[\"l\"]"
   ]
  },
  {
   "cell_type": "markdown",
   "metadata": {
    "slideshow": {
     "slide_type": "slide"
    }
   },
   "source": [
    "#### Simulation with the symplectic Euler method"
   ]
  },
  {
   "cell_type": "code",
   "execution_count": null,
   "metadata": {
    "scrolled": false,
    "slideshow": {
     "slide_type": "-"
    }
   },
   "outputs": [],
   "source": [
    "#matparam =  { \"g\" : 1, \"l\" : 1, \"k\" : 0.0, \"m\" : 1.0}\n",
    "simparam = { \"dt\" : 0.01, \"t0\" : 0, \"tend\" : 4*pi, \"method\" : OneStep_SymplecticEuler}\n",
    "phi0, v0 = initialvals[\"phi\"], initialvals[\"v\"]\n",
    "u_final = ODESolve(initialvals, matparam, simparam)\n",
    "phi, v = u_final\n",
    "print(\"Initial angle: {:8.3e}, Initial velocity: {:8.3e}, Initial energy: {:8.3e}\".format(phi0, v0, Energy(matparam,phi0,v0)))\n",
    "print(\"Final angle:     {:8.3e}, Final velocity:     {:8.3e}, Final energy:     {:8.3e}\".format( phi,  v, Energy(matparam, phi, v)))"
   ]
  },
  {
   "cell_type": "markdown",
   "metadata": {
    "slideshow": {
     "slide_type": "subslide"
    }
   },
   "source": [
    "#### Task (as above): \n",
    "  * Consider $k = 0$. \n",
    "  * What total energy remains in the system after some simulated oscillations?\n",
    "  * What total energy should theoretically remain in the system?\n",
    "  * How does the error in energy depend on the number of oscillations and the time step $\\Delta t$?  "
   ]
  },
  {
   "cell_type": "markdown",
   "metadata": {
    "slideshow": {
     "slide_type": "slide"
    }
   },
   "source": [
    "#### Task: \n",
    "  * Implement the improved Euler method / Heun's method by creating a new function \n",
    "  `OneStep_Heun(...)` similar to `OneStep_ExplicitEuler(...)`. To do this, simply fill out the code block below and remove the line `raise Exception(\"Heun not yet implemented\")`.\n",
    "  * Compare Heun's method with the methods covered above. What do you observe (accuracy/cost/long-term behavior)?"
   ]
  },
  {
   "cell_type": "code",
   "execution_count": null,
   "metadata": {
    "slideshow": {
     "slide_type": "subslide"
    }
   },
   "outputs": [],
   "source": [
    "def OneStep_Heun(u, matparam, simparam):\n",
    "    raise Exception(\"Heun not yet implemented\")\n",
    "    phi0, v0 = u\n",
    "\n",
    "    uhalf0 = ...\n",
    "    uhalf1 = ... \n",
    "    \n",
    "    u[0] = ...\n",
    "    u[1] = ...   \n",
    "    "
   ]
  },
  {
   "cell_type": "markdown",
   "metadata": {
    "slideshow": {
     "slide_type": "subslide"
    }
   },
   "source": [
    "#### Simulation with Heun's method"
   ]
  },
  {
   "cell_type": "code",
   "execution_count": null,
   "metadata": {
    "scrolled": false,
    "slideshow": {
     "slide_type": "-"
    }
   },
   "outputs": [],
   "source": [
    "#matparam =  { \"g\" : 1, \"l\" : 1, \"k\" : 0.0, \"m\" : 1.0}\n",
    "simparam = { \"dt\" : 0.1, \"t0\" : 0, \"tend\" : 4*pi, \"method\" : OneStep_Heun}\n",
    "phi0, v0 = initialvals[\"phi\"], initialvals[\"v\"]\n",
    "u_final = ODESolve(initialvals, matparam, simparam)\n",
    "phi, v = u_final\n",
    "print(\"Initial angle: {:8.3e}, Initial velocity: {:8.3e}, Initial energy: {:8.3e}\".format(phi0, v0, Energy(matparam,phi0,v0)))\n",
    "print(\"Final angle:     {:8.3e}, Final velocity:     {:8.3e}, Final energy:     {:8.3e}\".format( phi,  v, Energy(matparam, phi, v)))"
   ]
  },
  {
   "cell_type": "markdown",
   "metadata": {
    "slideshow": {
     "slide_type": "slide"
    }
   },
   "source": [
    "#### Additional Task: \n",
    "  * Implement another method\n",
    "  `OneStep_StoermerVerlet(...)` similar to `OneStep_ExplicitEuler(...)`.  To do this, simply fill out the code block below and remove the line `raise Exception(\"Heun not yet implemented\")`.\n",
    "  The Störmer-Verlet method is defined as follows:\n",
    "  \\begin{align}\n",
    "  \\varphi^{n+\\frac12} & = \\varphi^{n} + \\Delta t/2 ~ v^{n} / l \\\\\n",
    "  v^{n+\\frac12} & = v^{n} + \\Delta t/2 ~  ( - g \\sin(\\varphi^{n+\\frac12}) - k v^n  ) \\\\\n",
    "  v^{n+1} & = v^{n+\\frac12} + \\Delta t/2 ~  ( - g \\sin(\\varphi^{n+\\frac12}) - k v^{n+\\frac12} ) \\\\\n",
    "  \\varphi^{n+1} & = \\varphi^{n+\\frac12} + \\Delta t/2 ~ v^{n+1} / l \\\\\n",
    "\\end{align}\n",
    "    \n",
    "  * What advantages do you observe for this method?"
   ]
  },
  {
   "cell_type": "code",
   "execution_count": null,
   "metadata": {
    "slideshow": {
     "slide_type": "subslide"
    }
   },
   "outputs": [],
   "source": [
    "def OneStep_StoermerVerlet(u, matparam, simparam):\n",
    "    raise Exception(\"Heun not yet implemented\")\n",
    "    phi0, v0 = u\n",
    "    u[0] = ...\n",
    "    u[1] = ..."
   ]
  },
  {
   "cell_type": "markdown",
   "metadata": {
    "slideshow": {
     "slide_type": "subslide"
    }
   },
   "source": [
    "#### Simulation with the Stoermer-Verlet method"
   ]
  },
  {
   "cell_type": "code",
   "execution_count": null,
   "metadata": {
    "scrolled": false,
    "slideshow": {
     "slide_type": "-"
    }
   },
   "outputs": [],
   "source": [
    "matparam =  { \"g\" : 1, \"l\" : 1, \"k\" : 0.0, \"m\" : 1.0}\n",
    "simparam = { \"dt\" : 0.1, \"t0\" : 0, \"tend\" : 4*pi, \"method\" : OneStep_StoermerVerlet}\n",
    "phi0, v0 = initialvals[\"phi\"], initialvals[\"v\"]\n",
    "u_final = ODESolve(initialvals, matparam, simparam)\n",
    "phi, v = u_final\n",
    "print(\"Initial angle: {:8.3e}, Initial velocity: {:8.3e}, Initial energy: {:8.3e}\".format(phi0, v0, Energy(matparam,phi0,v0)))\n",
    "print(\"Final angle:     {:8.3e}, Final velocity:     {:8.3e}, Final energy:     {:8.3e}\".format( phi,  v, Energy(matparam, phi, v)))"
   ]
  }
 ],
 "metadata": {
  "kernelspec": {
   "display_name": "Python 3 (ipykernel)",
   "language": "python",
   "name": "python3"
  },
  "language_info": {
   "codemirror_mode": {
    "name": "ipython",
    "version": 3
   },
   "file_extension": ".py",
   "mimetype": "text/x-python",
   "name": "python",
   "nbconvert_exporter": "python",
   "pygments_lexer": "ipython3",
   "version": "3.12.4"
  },
  "toc": {
   "base_numbering": 1,
   "nav_menu": {},
   "number_sections": true,
   "sideBar": true,
   "skip_h1_title": false,
   "title_cell": "Table of Contents",
   "title_sidebar": "Contents",
   "toc_cell": false,
   "toc_position": {},
   "toc_section_display": true,
   "toc_window_display": false
  }
 },
 "nbformat": 4,
 "nbformat_minor": 2
}
