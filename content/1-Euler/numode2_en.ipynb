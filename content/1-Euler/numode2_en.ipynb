{
 "cells": [
  {
   "cell_type": "markdown",
   "metadata": {
    "slideshow": {
     "slide_type": "slide"
    }
   },
   "source": [
    "# Numerical Methods for ODEs II\n",
    "\n",
    "### Task: \n",
    "\n",
    "Show that we can alternatively to the formulation as the differential equation\n",
    "$$\n",
    "\\frac{dy}{dt}(t) = f(t, y(t)), \\quad y(t_0) = y^0,\n",
    "$$\n",
    "we can also formulate the solution of the ODE as an integral equation:\n",
    "$$ \\tag{*}\n",
    " {y}(t) = {y}^0 + \\int_{t_0}^{t} f(s,y(s)) ds\n",
    "$$\n",
    "$$ \\tag{**}\n",
    " \\text{relabeled:} \\quad {y}(T) = {y}^0 + \\int_{t_0}^{T} f(t,y(t)) dt\n",
    "$$\n",
    "\n",
    "This means that the solution of the ODE is the function that satisfies the integral equation (*) and vice versa."
   ]
  },
  {
   "cell_type": "markdown",
   "metadata": {
    "slideshow": {
     "slide_type": "subslide"
    }
   },
   "source": [
    "The representation (*) can now be approximated with integration rules, e.g.:\n",
    "\n",
    "  (the following images are taken from [here](http://tutorial.math.lamar.edu/Classes/CalcI/AreaProblem.aspx) )"
   ]
  },
  {
   "cell_type": "markdown",
   "metadata": {
    "slideshow": {
     "slide_type": "fragment"
    }
   },
   "source": [
    "\n",
    " * left-hand integration rule: $ y^1 = y^0 + \\Delta t \\cdot f(t_0, \\color{red}{ y^0}) \\Rightarrow$ explicit Euler method\n",
    "\n",
    "<center>\n",
    "<img src=\"image003.gif\" alt=\"Drawing\" style=\"width: 30%;\"/>\n",
    "</center>"
   ]
  },
  {
   "cell_type": "markdown",
   "metadata": {
    "slideshow": {
     "slide_type": "subslide"
    }
   },
   "source": [
    " * right-hand integration rule: $ y^1 = y^0 + \\Delta t \\cdot f(t_1, \\color{red}{y^1}) \\Rightarrow$ implicit Euler method\n",
    "\n",
    "<center>\n",
    "<img src=\"image002.gif\" alt=\"Drawing\" style=\"width: 30%;\"/>\n",
    "</center>"
   ]
  },
  {
   "cell_type": "markdown",
   "metadata": {
    "slideshow": {
     "slide_type": "subslide"
    }
   },
   "source": [
    " * trapezoidal rule: $ y^1 = y^0 + \\Delta t \\cdot \\left(\\frac12 f(t_0, \\color{red}{y^0}) + \\frac12 f(t_1, \\color{red}{y^1})\\right) \\Rightarrow $ trapezoidal rule (Crank-Nicholson method)"
   ]
  },
  {
   "cell_type": "markdown",
   "metadata": {
    "slideshow": {
     "slide_type": "subslide"
    }
   },
   "source": [
    " * midpoint rule: $ u^1 = y^0 + \\Delta t \\cdot f(t_0, \\color{red}{y^\\frac12}) $\n",
    "\n",
    "<center>\n",
    "<img src=\"image004.gif\" alt=\"Drawing\" style=\"width: 30%;\"/>\n",
    "</center>\n",
    "\n",
    " * No $y^\\frac12$ defined:\n",
    " * Approximate $y^\\frac12$ with explicit Euler method $\\Longrightarrow$ \"improved Euler method\" / \"explicit midpoint rule\" / \"Heun's method\":\n",
    "\\begin{align*}\n",
    "    y^\\frac12 & = y^0 + \\frac12 \\Delta t \\cdot f(t_0, \\color{red}{y^0}) \\\\\n",
    "    y^1 & = y^0 + \\Delta t \\cdot f(t_0 + \\frac12 \\Delta t, \\color{red}{y^\\frac12})\n",
    "\\end{align*}"
   ]
  },
  {
   "cell_type": "markdown",
   "metadata": {
    "slideshow": {
     "slide_type": "subslide"
    }
   },
   "source": [
    "We distinguish two classes of methods with respect to the evaluation of $f$:\n",
    "* Explicit methods that only rely on evaluations of $f(...)$, e.g.: $y^{n+1} = y^n + \\Delta t \\cdot f(t^n, y^n)$\n",
    "* Implicit methods that require the solution of an equation, e.g.: $y^{n+1} = y^n + \\Delta t \\cdot f(t^{n+1}, y^{n+1})$"
   ]
  },
  {
   "cell_type": "markdown",
   "metadata": {
    "slideshow": {
     "slide_type": "subslide"
    }
   },
   "source": [
    "### Task:\n",
    "* Implement the explicit midpoint rule a.k.a. Heun's method for the logistic growth problem and compare the solution with the analytical solution and the explicit Euler method.\n",
    "* (Bonus:) Implement the explicit Euler method for the exponential growth problem and compare the solution with the analytical solution."
   ]
  },
  {
   "cell_type": "code",
   "execution_count": null,
   "metadata": {
    "scrolled": true,
    "slideshow": {
     "slide_type": "subslide"
    }
   },
   "outputs": [],
   "source": [
    "from ipynb.fs.full.numlogistic import SimulateLogisticGrowth\n",
    "from ipynb.fs.full.numode import EulerStep"
   ]
  },
  {
   "cell_type": "code",
   "execution_count": null,
   "metadata": {
    "slideshow": {
     "slide_type": "fragment"
    }
   },
   "outputs": [],
   "source": [
    "def EulerStep(f, t, y, dt):\n",
    "    return y + dt * f(t,y)\n",
    "\n",
    "def HeunStep(f, t, y, dt):\n",
    "    y12 = y + 0.5 * dt * f(t, y)\n",
    "    return y + dt * f(t+0.5*dt,y12)\n"
   ]
  },
  {
   "cell_type": "code",
   "execution_count": null,
   "metadata": {
    "slideshow": {
     "slide_type": "subslide"
    }
   },
   "outputs": [],
   "source": [
    "for start_t in [0,2]:\n",
    "    for start_y0 in [0.1,2,5]:\n",
    "        print(f\"start time = {start_t}, start value = {start_y0}\")\n",
    "        print(\"explicit Euler\")\n",
    "        SimulateLogisticGrowth(method=EulerStep, start_t=start_t, start_y0=start_y0, dt=1)        \n",
    "        print(\"Heun\")\n",
    "        SimulateLogisticGrowth(method=HeunStep, start_t=start_t, start_y0=start_y0, dt=2)"
   ]
  },
  {
   "cell_type": "markdown",
   "metadata": {
    "slideshow": {
     "slide_type": "subslide"
    }
   },
   "source": [
    "Next challenge:\n",
    "\n",
    "* Differential equations with vectorial functions $y(t) \\in \\mathbb{R}^d$\n",
    "* $\\leadsto$ [SIR model](SIR.ipynb)"
   ]
  }
 ],
 "metadata": {
  "kernelspec": {
   "display_name": "Python 3 (ipykernel)",
   "language": "python",
   "name": "python3"
  },
  "language_info": {
   "codemirror_mode": {
    "name": "ipython",
    "version": 3
   },
   "file_extension": ".py",
   "mimetype": "text/x-python",
   "name": "python",
   "nbconvert_exporter": "python",
   "pygments_lexer": "ipython3",
   "version": "3.12.4"
  },
  "toc": {
   "base_numbering": 1,
   "nav_menu": {},
   "number_sections": true,
   "sideBar": true,
   "skip_h1_title": false,
   "title_cell": "Table of Contents",
   "title_sidebar": "Contents",
   "toc_cell": false,
   "toc_position": {},
   "toc_section_display": true,
   "toc_window_display": false
  }
 },
 "nbformat": 4,
 "nbformat_minor": 2
}
