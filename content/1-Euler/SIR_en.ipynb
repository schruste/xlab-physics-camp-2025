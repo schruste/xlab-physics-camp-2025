{
 "cells": [
  {
   "cell_type": "markdown",
   "metadata": {
    "slideshow": {
     "slide_type": "slide"
    }
   },
   "source": [
    "### Example 3: SIR model for epidemics\n"
   ]
  },
  {
   "cell_type": "markdown",
   "metadata": {
    "slideshow": {
     "slide_type": "slide"
    }
   },
   "source": [
    "#### Variant a"
   ]
  },
  {
   "cell_type": "markdown",
   "metadata": {
    "slideshow": {
     "slide_type": "fragment"
    }
   },
   "source": [
    "The SIR model is a simple model for the spread of an epidemic. It divides the population into three groups: \n",
    "Susceptible, Infected, and Recovered and models the following effects:\n",
    "* The susceptible population decreases due to infections ($S \\leadsto I$)\n",
    "* The infected population increases due to infections ($S \\leadsto I$) and decreases due to recoveries ($I \\leadsto R$)\n",
    "* The recovered population increases due to recoveries ($I \\leadsto R$)"
   ]
  },
  {
   "cell_type": "markdown",
   "metadata": {
    "slideshow": {
     "slide_type": "subslide"
    }
   },
   "source": [
    "The two changes are infection and recovery:\n",
    "* Infection:\n",
    "    * The more infected people there are, the more likely it is that a susceptible person gets infected. \n",
    "    * Proportionality to $S(t)$ and $I(t)$, but scaled with total population $N(t)=S(t)+I(t)+R(t)$\n",
    "    * $\\leadsto \\beta \\frac{I(t)}{N(t)}S(t)$ with $\\beta$ a constant.\n",
    "* Recovery:\n",
    "    * The more infected people there are, the more recoveries there are. \n",
    "    * $\\leadsto \\gamma I(t)$ with $\\gamma$ a constant."
   ]
  },
  {
   "cell_type": "markdown",
   "metadata": {
    "slideshow": {
     "slide_type": "subslide"
    }
   },
   "source": [
    "We obtain the ODEs:\n",
    "\n",
    "\\begin{align*}\n",
    "\\frac{dS}{dt}(t) &= - \\beta \\frac{I(t)}{N(t)} S(t) \\\\\n",
    "\\frac{dI}{dt}(t) &= \\beta \\frac{I(t)}{N(t)} S(t) - \\gamma I(t) \\\\\n",
    "\\frac{dR}{dt}(t) &= \\gamma I(t)\n",
    "\\end{align*}\n",
    "\n",
    "In the previous form, the unknown function is $y(t) = (S(t), I(t), R(t))$ and we have\n",
    "\\begin{align*}\n",
    "\\frac{dy}{dt}(t) &= f(t, y(t)), f(t, (S, I, R)) = (- \\beta S I/N, \\beta S I/N - \\gamma I, \\gamma I)\n",
    "\\end{align*}"
   ]
  },
  {
   "cell_type": "code",
   "execution_count": null,
   "metadata": {
    "slideshow": {
     "slide_type": "subslide"
    }
   },
   "outputs": [],
   "source": [
    "from numpy import array\n",
    "import matplotlib.pyplot as plt"
   ]
  },
  {
   "cell_type": "markdown",
   "metadata": {
    "slideshow": {
     "slide_type": "-"
    }
   },
   "source": [
    "Define the SIR model through the function $f(t, y(t))$ and the corresponding parameters $\\beta$ and $\\gamma$:"
   ]
  },
  {
   "cell_type": "code",
   "execution_count": null,
   "metadata": {
    "slideshow": {
     "slide_type": "fragment"
    }
   },
   "outputs": [],
   "source": [
    "class SIR_Model:\n",
    "\n",
    "    def __init__(self, beta, gamma):\n",
    "        self.beta = beta\n",
    "        self.gamma = gamma\n",
    "\n",
    "    def f(self, t, y):\n",
    "        S, I, R = y\n",
    "        return array([-self.beta*S*I, self.beta*S*I-self.gamma*I, self.gamma*I])"
   ]
  },
  {
   "cell_type": "code",
   "execution_count": null,
   "metadata": {
    "slideshow": {
     "slide_type": "subslide"
    }
   },
   "outputs": [],
   "source": [
    "from ipynb.fs.full.numode import EulerStep\n",
    "from ipynb.fs.full.numode2 import HeunStep\n",
    "from numpy import array"
   ]
  },
  {
   "cell_type": "code",
   "execution_count": null,
   "metadata": {
    "slideshow": {
     "slide_type": "fragment"
    }
   },
   "outputs": [],
   "source": [
    "def SimulateSIR(method = EulerStep, model = SIR_Model(1,1), start_t=0, start_y0=array([0.9,0.1,0]), dt=2):\n",
    "    plt.xlabel('t')\n",
    "    t = start_t\n",
    "    y = start_y0.copy()\n",
    "    t_values = [t]\n",
    "    s_values = [y[0]]\n",
    "    i_values = [y[1]]\n",
    "    r_values = [y[2]]\n",
    "    while t < 100+1e-12:\n",
    "        y = method(model.f, t, y, dt)\n",
    "        t += dt\n",
    "        t_values.append(t)\n",
    "        s_values.append(y[0])\n",
    "        i_values.append(y[1])\n",
    "        r_values.append(y[2])\n",
    "    n_values = array(s_values)+array(i_values)+array(r_values)\n",
    "    plt.plot(t_values,s_values,\"-o\")\n",
    "    plt.plot(t_values,i_values,\"-o\")\n",
    "    plt.plot(t_values,r_values,\"-o\")\n",
    "    plt.plot(t_values,n_values,\"-o\")\n",
    "    plt.legend([\"S\",\"I\",\"R\",\"N\"])\n",
    "    plt.show()"
   ]
  },
  {
   "cell_type": "code",
   "execution_count": null,
   "metadata": {
    "slideshow": {
     "slide_type": "subslide"
    }
   },
   "outputs": [],
   "source": [
    "sirm = SIR_Model(beta = 1, gamma = 0.1)\n",
    "y0 = array([0.8,0.1,0.1])\n",
    "SimulateSIR(method=EulerStep, model=sirm, start_y0 = y0, dt=0.2)\n",
    "#SimulateSIR(method=HeunStep, model=sirm, start_y0 = y0, dt=4)"
   ]
  },
  {
   "cell_type": "markdown",
   "metadata": {
    "slideshow": {
     "slide_type": "slide"
    }
   },
   "source": [
    "#### Variant b\n",
    "\n",
    "include birth and death rates\n",
    "\n",
    "\n",
    "\\begin{align*}\n",
    "\\frac{dS}{dt}(t) &= \\nu N(t) - \\beta \\frac{I(t)}{N(t)} S(t) - \\mu S(t) \\\\\n",
    "\\frac{dI}{dt}(t) &= \\beta \\frac{I(t)}{N(t)} S(t) - \\gamma I(t) - \\mu I(t) \\\\\n",
    "\\frac{dR}{dt}(t) &= \\gamma I(t) - \\mu R(t)\n",
    "\\end{align*}\n"
   ]
  },
  {
   "cell_type": "markdown",
   "metadata": {
    "slideshow": {
     "slide_type": "subslide"
    }
   },
   "source": [
    "### Task: \n",
    "Extend the SIR model by the birth and death rates and implement the model."
   ]
  },
  {
   "cell_type": "code",
   "execution_count": null,
   "metadata": {
    "slideshow": {
     "slide_type": "fragment"
    }
   },
   "outputs": [],
   "source": [
    "class Extended_SIR_Model:\n",
    "    def __init__(self, beta, gamma, mu, nu):\n",
    "        self.beta = beta\n",
    "        self.gamma = gamma\n",
    "        self.mu = mu\n",
    "        self.nu = nu\n",
    "    def f(self, t, y):\n",
    "        S, I, R = y\n",
    "        N = S+I+R\n",
    "        return array([self.nu * N - self.beta * I/N*S-self.mu *S,\n",
    "                      self.beta * I/N*S - self.gamma * I - self.mu * I,\n",
    "                      self.gamma*I - self.mu*R])\n",
    "        raise NotImplementedError(\"Implement the function f(t,y) for the extended SIR model\")"
   ]
  },
  {
   "cell_type": "code",
   "execution_count": null,
   "metadata": {
    "slideshow": {
     "slide_type": "subslide"
    }
   },
   "outputs": [],
   "source": [
    "esirm = Extended_SIR_Model(beta = 1, gamma = 0.1, mu = 0.025, nu = 0.025)\n",
    "y0 = array([0.8,0.1,0.1])\n",
    "#SimulateSIR(method=EulerStep, model=esirm, start_y0 = y0, dt=2)\n",
    "SimulateSIR(method=HeunStep, model=esirm, start_y0 = y0, dt=0.2)"
   ]
  }
 ],
 "metadata": {
  "celltoolbar": "Slideshow",
  "kernelspec": {
   "display_name": "Python 3 (ipykernel)",
   "language": "python",
   "name": "python3"
  },
  "language_info": {
   "codemirror_mode": {
    "name": "ipython",
    "version": 3
   },
   "file_extension": ".py",
   "mimetype": "text/x-python",
   "name": "python",
   "nbconvert_exporter": "python",
   "pygments_lexer": "ipython3",
   "version": "3.12.4"
  },
  "toc": {
   "base_numbering": 1,
   "nav_menu": {},
   "number_sections": true,
   "sideBar": true,
   "skip_h1_title": false,
   "title_cell": "Table of Contents",
   "title_sidebar": "Contents",
   "toc_cell": false,
   "toc_position": {},
   "toc_section_display": true,
   "toc_window_display": false
  }
 },
 "nbformat": 4,
 "nbformat_minor": 2
}
