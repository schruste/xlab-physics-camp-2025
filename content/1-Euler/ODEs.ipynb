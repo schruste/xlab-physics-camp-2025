{
 "cells": [
  {
   "cell_type": "markdown",
   "metadata": {
    "slideshow": {
     "slide_type": "slide"
    }
   },
   "source": [
    "# Gewöhnliche Differentialgleichungen\n",
    "\n",
    "Wir werden uns in diesem Notebook mit gewöhnlichen Differentialgleichungen (ODEs) beschäftigen. Wir beginnen mit einigen einfachen Beispielen."
   ]
  },
  {
   "cell_type": "markdown",
   "metadata": {},
   "source": [
    "## Einführung\n",
    "Die allgemeine Form eines ODE-Problems lautet: Finden Sie eine Funktion $y(t)$, sodass\n",
    "\n",
    "$$\n",
    "F (t, y(t), \\color{red}{\\frac{dy}{dt}}(t), \\color{red}{\\frac{d^2y}{dt^2}}(t), \\ldots, \\color{red}{\\frac{d^ny}{dt^n}}(t)) = 0\n",
    "$$\n",
    "\n",
    "für alle $t$ in einem Intervall,\n",
    "\n",
    "wobei $F$ eine gegebene Funktion ist und $y(t)$ die unbekannte Funktion ist. Die höchste Ordnung der Ableitung in der Gleichung ist $n$. Die ODE wird als Ordnung $n$ bezeichnet. \n",
    "\n",
    "Um eine eindeutige Lösung (wenn sie existiert) zu finden, benötigen wir $n$ Anfangsbedingungen, die zu einem Anfangswertproblem (IVP) führen. \n",
    "\n",
    "Beispiel: Für eine erste Ordnung ODE benötigen wir eine Anfangsbedingung, für eine zweite Ordnung ODE benötigen wir zwei Anfangsbedingungen und so weiter."
   ]
  },
  {
   "cell_type": "markdown",
   "metadata": {},
   "source": [
    "\n",
    "Wir werden dies zunächst mit einigen Annahmen vereinfachen (die wir später Schritt für Schritt entfernen):\n",
    "* Wir werden annehmen, dass die unbekannte Funktion **skalar** ist, d.h. $y: t \\to \\mathbb{R}$\n",
    "* Wir werden annehmen, dass die ODE **erste Ordnung** ist, d.h.\n",
    "$$\n",
    "F (t, y(t), \\color{red}{\\frac{dy}{dt}}(t)) = 0\n",
    "$$\n",
    "* Wir werden annehmen, dass die ODE **explizit** ist, d.h.\n",
    "$$\n",
    "\\frac{dy}{dt}(t) = f(t, y(t))\n",
    "$$"
   ]
  }
 ],
 "metadata": {
  "kernelspec": {
   "display_name": "Python 3 (ipykernel)",
   "language": "python",
   "name": "python3"
  },
  "language_info": {
   "codemirror_mode": {
    "name": "ipython",
    "version": 3
   },
   "file_extension": ".py",
   "mimetype": "text/x-python",
   "name": "python",
   "nbconvert_exporter": "python",
   "pygments_lexer": "ipython3",
   "version": "3.13.7"
  },
  "toc": {
   "base_numbering": 1,
   "nav_menu": {},
   "number_sections": true,
   "sideBar": true,
   "skip_h1_title": false,
   "title_cell": "Tabelle der Inhalte",
   "title_sidebar": "Inhalte",
   "toc_cell": false,
   "toc_position": {},
   "toc_section_display": true,
   "toc_window_display": false
  }
 },
 "nbformat": 4,
 "nbformat_minor": 4
}
