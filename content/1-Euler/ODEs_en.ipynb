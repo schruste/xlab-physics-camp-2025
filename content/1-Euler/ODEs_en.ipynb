{
 "cells": [
  {
   "cell_type": "markdown",
   "metadata": {
    "slideshow": {
     "slide_type": "slide"
    }
   },
   "source": [
    "# Ordinary Differential Equations\n",
    "\n",
    "We will take a look at ordinary differential equations (ODEs) in this notebook. We will start with a few simple examples."
   ]
  },
  {
   "cell_type": "markdown",
   "metadata": {},
   "source": [
    "## Introduction\n",
    "The general form of an ODE problem is: Find a function $y(t)$ such that\n",
    "\n",
    "$$\n",
    "F (t, y(t), \\color{red}{\\frac{dy}{dt}}(t), \\color{red}{\\frac{d^2y}{dt^2}}(t), \\ldots, \\color{red}{\\frac{d^ny}{dt^n}}(t)) = 0\n",
    "$$\n",
    "\n",
    "for all $t$ in some interval,\n",
    "\n",
    "where $F$ is a given function, and $y(t)$ is the unknown function. The highest order derivative in the equation is $n$. The ODE is said to be of order $n$. \n",
    "\n",
    "To find a unique solution (if it exists), we need $n$ initial conditions leading to an initial value problem (IVP). \n",
    "\n",
    "For example, for a first order ODE, we need one initial condition, for a second order ODE, we need two initial conditions, and so on."
   ]
  },
  {
   "cell_type": "markdown",
   "metadata": {},
   "source": [
    "\n",
    "We will simplify this first with a few assumptions (that we will remove step by step later):\n",
    "* We will assume that the unknown function is **scalar**, i.e. $y: t \\to \\mathbb{R}$\n",
    "* We will assume that the ODE is of **first order**, i.e.\n",
    "$$\n",
    "F (t, y(t), \\color{red}{\\frac{dy}{dt}}(t)) = 0\n",
    "$$\n",
    "* We will assume that the ODE is **explicit**, i.e.\n",
    "$$\n",
    "\\frac{dy}{dt}(t) = f(t, y(t))\n",
    "$$"
   ]
  }
 ],
 "metadata": {
  "kernelspec": {
   "display_name": "Python 3 (ipykernel)",
   "language": "python",
   "name": "python3"
  },
  "language_info": {
   "codemirror_mode": {
    "name": "ipython",
    "version": 3
   },
   "file_extension": ".py",
   "mimetype": "text/x-python",
   "name": "python",
   "nbconvert_exporter": "python",
   "pygments_lexer": "ipython3",
   "version": "3.12.4"
  },
  "toc": {
   "base_numbering": 1,
   "nav_menu": {},
   "number_sections": true,
   "sideBar": true,
   "skip_h1_title": false,
   "title_cell": "Table of Contents",
   "title_sidebar": "Contents",
   "toc_cell": false,
   "toc_position": {},
   "toc_section_display": true,
   "toc_window_display": false
  }
 },
 "nbformat": 4,
 "nbformat_minor": 2
}
