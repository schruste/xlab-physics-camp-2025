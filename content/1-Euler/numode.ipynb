{
 "cells": [
  {
   "cell_type": "markdown",
   "metadata": {
    "slideshow": {
     "slide_type": "slide"
    }
   },
   "source": [
    "## Numerische Lösung von Anfangswertproblemen (ODEs)"
   ]
  },
  {
   "cell_type": "markdown",
   "metadata": {
    "slideshow": {
     "slide_type": "subslide"
    }
   },
   "source": [
    "#### Grundidee von Eulers Methode:\n",
    "* Wir können $f(t_0,y(t_0))$ berechnen, da wir $t_0$ und $y_0 = y(t_0)$ kennen\n",
    "* Daher wissen wir die \"Richtung der Funktion\" (Richtungsvektor der Tangente):"
   ]
  },
  {
   "cell_type": "markdown",
   "metadata": {
    "slideshow": {
     "slide_type": "subslide"
    }
   },
   "source": [
    "<center>\n",
    "<img src=\"expEuler2.png\" alt=\"Zeichnung\" style=\"width: 60%;\"/>\n",
    "</center>"
   ]
  },
  {
   "cell_type": "markdown",
   "metadata": {
    "slideshow": {
     "slide_type": "subslide"
    }
   },
   "source": [
    " * Wir nehmen einen kleinen Schritt (von $t_0$ zu $t_1 = t_0 + \\Delta t$) entlang dieser Richtung.\n",
    "<center>\n",
    "<img src=\"expEuler3.png\" alt=\"Zeichnung\" style=\"width: 60%;\"/>\n",
    "</center>\n",
    "\n",
    " * Daher gelangen wir zu $y^1=y^*(t_1)$, die nicht genau $y(t_1)$ ist, aber nahe dran. \n",
    " * Bei $t_1$ und $u^1$ können wir wieder eine Richtung berechnen und folgen sie für einen kleinen Schritt\n",
    " * ..."
   ]
  },
  {
   "cell_type": "markdown",
   "metadata": {
    "slideshow": {
     "slide_type": "subslide"
    }
   },
   "source": [
    "### Eulers Methode\n",
    "\n",
    "Diese Herangehensweise kann direkt auf Vektor-Differentialgleichungen angewendet werden:\n",
    "\n",
    "* Lassen Sie $t_0$ und ${y}^0 = {y}(t_0)$ gegeben sein.\n",
    "* Berechnen Sie ${f}(t_0,{y}^0)$\n",
    "* Bewegen Sie sich entlang dieser Richtung, d.h. \n",
    "$$\n",
    "{y}^1 = {y}^0 + \\Delta t \\cdot {f}(t_0,{y}^0)\n",
    "$$\n",
    "* Verwenden Sie $t_1 = t_0 + \\Delta t$ und ${y}^1$ als Anfangswerte und starten Sie wieder"
   ]
  },
  {
   "cell_type": "code",
   "execution_count": null,
   "metadata": {
    "slideshow": {
     "slide_type": "subslide"
    }
   },
   "outputs": [],
   "source": [
    "def EulerStep(f, t, y, dt):\n",
    "    return y + dt * f(t, y)"
   ]
  },
  {
   "cell_type": "markdown",
   "metadata": {
    "slideshow": {
     "slide_type": "fragment"
    }
   },
   "source": [
    "Die Approximation mit einer Tangente am Punkt $(t_0,u^0)$ kann durch genauer Approximationen ersetzt werden\n",
    "\n",
    "Aber zuerst implementieren wir Eulers Methode für ein einfaches ODE: $\\leadsto$ nächster Einheit: [Simulation des logistischen Wachstums](numlogistic.ipynb)"
   ]
  }
 ],
 "metadata": {
  "kernelspec": {
   "display_name": "Python 3 (ipykernel)",
   "language": "python",
   "name": "python3"
  },
  "language_info": {
   "codemirror_mode": {
    "name": "ipython",
    "version": 3
   },
   "file_extension": ".py",
   "mimetype": "text/x-python",
   "name": "python",
   "nbconvert_exporter": "python",
   "pygments_lexer": "ipython3",
   "version": "3.13.7"
  },
  "toc": {
   "base_numbering": 1,
   "nav_menu": {},
   "number_sections": true,
   "sideBar": true,
   "skip_h1_title": false,
   "title_cell": "Tabelle der Inhalte",
   "title_sidebar": "Inhalte",
   "toc_cell": false,
   "toc_position": {},
   "toc_section_display": true,
   "toc_window_display": false
  }
 },
 "nbformat": 4,
 "nbformat_minor": 4
}
