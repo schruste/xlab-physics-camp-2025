{
 "cells": [
  {
   "cell_type": "markdown",
   "metadata": {},
   "source": [
    "# Doppelpendel-Beispiel\n",
    "(entnommen von https://ode-solver.readthedocs.io/en/master/double-pendulum-example.html und https://myphysicslab.com/pendulum/double-pendulum-en.html )\n",
    "(siehe auch https://matplotlib.org/stable/gallery/animation/double_pendulum.html )\n",
    "(alternativ: überlegen Sie sich https://math24.net/double-pendulum.html )\n",
    "\n",
    "Hier wird ein einfacher expliziter Euler-Verfahren verwendet, um das Doppelpendel zu simulieren. \n",
    "Es ist ein einfaches Beispiel für ein chaotisches System, bei dem kleine Änderungen in den Anfangsbedingungen zu radikal unterschiedlichen Ergebnissen führen.\n",
    "Sie können mit den Parametern unten spielen. \n",
    "\n",
    "(weitere Details werden hier nicht behandelt)"
   ]
  },
  {
   "cell_type": "code",
   "execution_count": null,
   "metadata": {},
   "outputs": [],
   "source": [
    "import numpy as np\n",
    "import matplotlib.pyplot as plt\n",
    "from ipynb.fs.full.numode import EulerStep\n",
    "from ipynb.fs.full.numode2 import HeunStep\n",
    "from numpy import array\n"
   ]
  },
  {
   "cell_type": "code",
   "execution_count": null,
   "metadata": {},
   "outputs": [],
   "source": [
    "m1 = 2\n",
    "m2 = 1\n",
    "l1 = 1\n",
    "l2 = 0.5\n",
    "\n",
    "def doppelpendel(t,X):\n",
    "    th1, th2, om1, om2 = X\n",
    "    g = 9.81\n",
    "    k1 = -g * ((2 * m1) + m2) * np.sin(th1)\n",
    "    k2 = m2 * g * np.sin(th1 - (2 * th2))\n",
    "    k3 = 2 * np.sin(th1 - th2) * m2\n",
    "    k4 = ((om2**2) * l2) + ((om1**2) * l1 * np.cos(th1 - th2))\n",
    "    k5 = m2 * np.cos((2 * th1) - (2 * th2))\n",
    "    k6 = 2 * np.sin(th1 - th2)\n",
    "    k7 = ((om1**2) * l1 * (m1 + m2))\n",
    "    k8 = g * (m1 + m2) * np.cos(th1)\n",
    "    k9 = (om2**2) * l2 * m2 * np.cos(th1 - th2)\n",
    "    dX = np.array([\n",
    "        om1,\n",
    "        om2,\n",
    "        (k1 - k2 - (k3 * k4)) / (l1 * ((2 * m1) + m2 - k5)),\n",
    "        (k6 * (k7 + k8 + k9)) / (l2 * ((2 * m1) + m2 - k5))\n",
    "    ])\n",
    "    return dX\n",
    "\n",
    "def winkel2xy(th1, th2):\n",
    "    x1 = l1 * np.sin(th1)\n",
    "    y1 = -l1 * np.cos(th1)\n",
    "    x2 = x1 + (l2 * np.sin(th2))\n",
    "    y2 = y1 - (l2 * np.cos(th2))\n",
    "    return x1, y1, x2, y2\n",
    "\n"
   ]
  },
  {
   "cell_type": "code",
   "execution_count": null,
   "metadata": {},
   "outputs": [],
   "source": [
    "def SimuliereDoppelpendel(method = EulerStep, f=doppelpendel, start_t=0, start_y0=array([0.8,0.8,0,0]), tend=10, dt=0.25):\n",
    "    plt.xlabel('t')\n",
    "    t = start_t\n",
    "    y = start_y0.copy()\n",
    "    t_values = [t]\n",
    "    x1, y1, x2, y2 = winkel2xy(y[0],y[1])\n",
    "    x1_values = [x1]\n",
    "    y1_values = [y1]\n",
    "    x2_values = [x2]\n",
    "    y2_values = [y2]\n",
    "    while t < tend+1e-12:\n",
    "        y = method(f, t, y, dt)\n",
    "        t += dt\n",
    "        t_values.append(t)\n",
    "        x1, y1, x2, y2 = winkel2xy(y[0],y[1])\n",
    "        x1_values.append(x1)\n",
    "        y1_values.append(y1)\n",
    "        x2_values.append(x2)\n",
    "        y2_values.append(y2)\n",
    "    plt.plot(t_values,x1_values,\"-o\")\n",
    "    plt.plot(t_values,y1_values,\"-o\")\n",
    "    plt.plot(t_values,x2_values,\"-o\")\n",
    "    plt.plot(t_values,y2_values,\"-o\")\n",
    "    plt.legend([\"x_1\",\"y_1\",\"x_2\",\"y_2\"])\n",
    "\n",
    "    \n",
    "    plt.show()\n",
    "\n",
    "    plt.plot(x1_values,y1_values)\n",
    "    plt.plot(x2_values,y2_values)\n",
    "    plt.show()\n",
    "    "
   ]
  },
  {
   "cell_type": "code",
   "execution_count": null,
   "metadata": {},
   "outputs": [],
   "source": [
    "y0 = array([0.8, 0.0, 0.0, 0.0])\n",
    "#SimulateSIR(method=EulerStep, model=esirm, start_y0 = y0, dt=2)\n",
    "SimuliereDoppelpendel(method=HeunStep, f=doppelpendel, start_y0 = y0, tend=2, dt=0.04)\n",
    "#SimulateDoublePendulum(method=HeunStep, f=doublependulum, start_y0 = y0, tend=2, dt=0.02)"
   ]
  },
  {
   "cell_type": "code",
   "execution_count": null,
   "metadata": {},
   "outputs": [],
   "source": []
  }
 ],
 "metadata": {
  "kernelspec": {
   "display_name": "Python 3",
   "language": "python",
   "name": "python3"
  },
  "language_info": {
   "codemirror_mode": {
    "name": "ipython",
    "version": 3
   },
   "file_extension": ".py",
   "mimetype": "text/x-python",
   "name": "python",
   "nbconvert_exporter": "python",
   "pygments_lexer": "ipython3",
   "version": "3.12.4"
  }
 },
 "nbformat": 4,
 "nbformat_minor": 2
}


