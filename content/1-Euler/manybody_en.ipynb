{
 "cells": [
  {
   "cell_type": "markdown",
   "metadata": {
    "slideshow": {
     "slide_type": "slide"
    }
   },
   "source": [
    "# Many body problems"
   ]
  },
  {
   "cell_type": "markdown",
   "metadata": {},
   "source": [
    "We consider the many body system for $N$ bodies. \n",
    "\n",
    "Each body $i$ is defined by a mass $m_i \\in \\mathbb{R}$, a position $x_i \\in \\mathbb{R}^3$ and a velocity $v_i \\in \\mathbb{R}^3$. We assume that the motion of the bodies obey the differential equations:\n",
    "\\begin{align*}\n",
    "  {x}_i'(t) &= v_i(t), & \\quad i = 1,..,N, \\\\\n",
    "  {v}_i'(t) &= G \\sum_{i\\neq j} \\frac{m_j}{\\Vert x_j(t) - x_i(t) \\Vert_2^3} ( x_i(t) - x_j(t) ) & \\quad i = 1,..,N. \n",
    "\\end{align*}\n",
    "$G$ is the gravitational constant.\n",
    "\n",
    "* the first equation is the velocity equation and \n",
    "* the second equation is the acceleration equation \n",
    "* where the acceleration is given by the gravitational force between the bodies. \n",
    "* These gravitational forces are \n",
    "    * pairwise and \n",
    "    * act between all bodies and \n",
    "    * scale with the inverse square of the distance between the bodies."
   ]
  },
  {
   "cell_type": "markdown",
   "metadata": {},
   "source": [
    "## Task:\n",
    "\n",
    "Formulate the many body problem as a system of first order differential equations and determine $y(t)$ and $f(t,y)$ that define the same problem!\n",
    "\n",
    "---"
   ]
  },
  {
   "cell_type": "markdown",
   "metadata": {},
   "source": [
    "## Two example problems:\n",
    "\n",
    "### Example 1: Tom and Jerry (2 bodies)\n",
    "\n",
    "| Planet | mass | initial pos. $x_i^0$ | initial vel. $v_i^0$ | \n",
    "|---|---|---|---|\n",
    "| Tom | $m_1 = 200000$ | (0,1,0) | (-1,0,0.5) |\n",
    "| Jerry | $m_1 = 100000$ | (0,-1,0) | (1,0,-0.5) |\n",
    "|"
   ]
  },
  {
   "cell_type": "code",
   "execution_count": null,
   "metadata": {},
   "outputs": [],
   "source": [
    "tom = {\"name\":\"Tom\",\"mass\":1e5,\"position\":[0.0,-10.0,0.2],\"velocity\": [ 11,0.0, 5 ]}\n",
    "jerry = {\"name\":\"Jerry\",\"mass\":1e5,\"position\":[0.0,-10.0,0.1],\"velocity\": [ -11,0.0, 5 ]}"
   ]
  },
  {
   "cell_type": "markdown",
   "metadata": {},
   "source": [
    "### Example 2: The outer solar system (6 bodies)\n",
    "For the outer solar system we will consider the following bodies with their masses $m_i$ and initial positions $x_i^0$ and velocities $v_i^0$:"
   ]
  },
  {
   "cell_type": "markdown",
   "metadata": {},
   "source": [
    "| Planet | mass | initial pos. $x_i^0$ | initial vel. $v_i^0$ | \n",
    "|---|---|---|---| \n",
    "| | | -3.5023653 | 0.00565429 |\n",
    "| Jupiter | $0.00095478610403$ | -3.8169847 | -0.00412490 | \n",
    "| | | -1.5507963 | -0.00190589 | \n",
    "|---|---|---|---| \n",
    "| | | 9.0755314 | 0.00168318 | \n",
    "| Saturn | $0.000285583733151$ | -3.0458353 | 0.00483525 | \n",
    "| | | -1.6483708 | 0.00192462 |\n",
    "|---|---|---|---| \n",
    "| | | 8.3101420 | 0.00354178 |\n",
    "| Uranus | $0.0000437273164546$ | -16.2901086 | 0.00137102 |\n",
    "| | | -7.2521278 | 0.00055029 |\n",
    "|---|---|---|---| \n",
    "| | | 11.4707666 | 0.00288930 |\n",
    "| Neptun | $0.0000051779138449$ | -25.7294829 | 0.00114527 |\n",
    "| | | -10.8169456 | 0.00039677 |\n",
    "|---|---|---|---| \n",
    "| | | -15.5387357 | 0.00276725 |\n",
    "| Pluto | $1.0/(1.3 \\times 10^8)$ | -25.2225594 | -0.00170702 |\n",
    "| | | -3.1902382 | -0.00136504 | \n",
    "|---|---|---|---| \n",
    "| Sonne | $1.00000597682$ | (0,0,0) | (0,0,0) |"
   ]
  },
  {
   "cell_type": "code",
   "execution_count": null,
   "metadata": {},
   "outputs": [],
   "source": [
    "jupiter = {\"name\":\"Jupiter\",\"mass\":0.000954786104043,\"position\":[-3.5023653,-3.8169847,-1.5507963],\"velocity\": [0.00565429,-0.00412490,-0.00190589]}\n",
    "saturn = {\"name\":\"Saturn\",\"mass\":0.000285583733151,\"position\":[9.0755314,-3.0458353,-1.6483708],\"velocity\": [0.00168318,0.00483525,0.00192462]}\n",
    "uranus = {\"name\":\"Uranus\",\"mass\":0.0000437273164546,\"position\":[8.3101420,-16.2901086,-7.2521278],\"velocity\": [0.00354178,0.00137102,0.00055029]}\n",
    "neptune = {\"name\":\"Neptune\",\"mass\":0.0000051779138449,\"position\":[11.4707666,-25.7294829,-10.8169456],\"velocity\": [0.00288930,0.00114527,0.00039677]}\n",
    "pluto = {\"name\":\"Pluto\",\"mass\":1.0/1.3e8,\"position\":[-15.5387357,-25.2225594,-3.1902382],\"velocity\": [0.00276725,-0.00170702,-0.00136504]}\n",
    "sun = {\"name\":\"Sun\",\"mass\":1.00000597682,\"position\":[0,0,0],\"velocity\": [0,0,0]}\n",
    "G = 2.95912208286e-4\n"
   ]
  },
  {
   "cell_type": "markdown",
   "metadata": {},
   "source": [
    "---"
   ]
  },
  {
   "cell_type": "code",
   "execution_count": null,
   "metadata": {},
   "outputs": [],
   "source": [
    "from numpy import array, zeros, dstack\n",
    "from numpy.linalg import norm"
   ]
  },
  {
   "cell_type": "markdown",
   "metadata": {},
   "source": [
    "The many body problem as a class:"
   ]
  },
  {
   "cell_type": "code",
   "execution_count": null,
   "metadata": {},
   "outputs": [],
   "source": [
    "class ManyBodySystem:\n",
    "\n",
    "    def __init__(self, m, labels, G):\n",
    "        self.m = m\n",
    "        self.N = len(m)\n",
    "        self.G = G\n",
    "        self.labels = labels\n",
    "        \n",
    "    def calc_acceleration(self, x_in):\n",
    "        x = x_in.reshape([self.N,3])\n",
    "        a = zeros([self.N,3])\n",
    "        for i in range(self.N):\n",
    "            for j in range(self.N):\n",
    "                if j==i:\n",
    "                    continue\n",
    "                diff = x[i,:] - x[j,:]\n",
    "                diffnorm = norm(diff)\n",
    "                a[i,:] -= self.G * self.m[j] / diffnorm**3 * diff\n",
    "        return a.flatten()\n"
   ]
  },
  {
   "cell_type": "markdown",
   "metadata": {},
   "source": [
    "Initial state vector $y_0$ for the two examples:"
   ]
  },
  {
   "cell_type": "code",
   "execution_count": null,
   "metadata": {},
   "outputs": [],
   "source": [
    "tj_bodies = [tom,jerry]\n",
    "tj = ManyBodySystem([b[\"mass\"] for b in tj_bodies], [\"tom\",\"jerry\"], G)\n",
    "tj_x0 = array([b[\"position\"] for b in tj_bodies]).flatten()\n",
    "tj_v0 = array([b[\"velocity\"] for b in tj_bodies]).flatten()\n",
    "tj_y0 = array([tj_x0,tj_v0]).flatten()\n",
    "print(tj_y0)\n",
    "\n",
    "os_bodies = [jupiter,saturn,uranus,neptune,pluto,sun]\n",
    "os = ManyBodySystem([b[\"mass\"] for b in os_bodies], [\"jupiter\",\"saturn\",\"uranus\",\"neptune\",\"pluto\",\"sun\"],G)\n",
    "os_x0 = array([b[\"position\"] for b in os_bodies])\n",
    "os_v0 = array([b[\"velocity\"] for b in os_bodies])\n",
    "os_y0 = array([os_x0,os_v0]).flatten()"
   ]
  },
  {
   "cell_type": "markdown",
   "metadata": {},
   "source": [
    "The explicit Euler method for the many body problem is given by the update rule:\n",
    "\\begin{align*}\n",
    "  y_{n+1} = y_n + \\Delta t f(t_n, y_n).\n",
    "\\end{align*}\n",
    "where here with $y_n = (x_1^n, x_2^n, x_3^n, \\ldots, x_N^n, v_1^n, v_2^n, v_3^n, \\ldots, v_N^n)$ this becomes:\n",
    "\\begin{align*}\n",
    "  x_i^{n+1} &= x_i^n + \\Delta t v_i^n, & \\quad i = 1,..,N, \\\\\n",
    "  v_i^{n+1} &= v_i^n + \\Delta t G \\sum_{i\\neq j} \\frac{m_j}{\\Vert x_i^n - x_j^n \\Vert_2^3} ( x_i^n - x_j^n ) & \\quad i = 1,..,N.\n",
    "\\end{align*}\n",
    "where the last expression is provided by the ManyBodyProblem class so that the implementation becomes simple:"
   ]
  },
  {
   "cell_type": "code",
   "execution_count": null,
   "metadata": {},
   "outputs": [],
   "source": [
    "def ManyBodyEulerStep(mbs, t, y, dt):\n",
    "    N = mbs.N\n",
    "    x = y[:N*3]\n",
    "    v = y[N*3:]\n",
    "    a = mbs.calc_acceleration(x)\n",
    "    x += v*dt\n",
    "    v += a*dt\n",
    "    return array([x,v]).flatten()"
   ]
  },
  {
   "cell_type": "markdown",
   "metadata": {},
   "source": [
    "A symplectic Euler method is not yet implemented. We have a placeholder next:"
   ]
  },
  {
   "cell_type": "code",
   "execution_count": null,
   "metadata": {},
   "outputs": [],
   "source": [
    "def ManyBodySymplecticEulerStep(mbs, t, y, dt):\n",
    "    N = mbs.N\n",
    "    x = y[:N*3]\n",
    "    v = y[N*3:]\n",
    "    x += v*dt\n",
    "    a = mbs.calc_acceleration(x)\n",
    "    v += a*dt\n",
    "    return array([x,v]).flatten()\n",
    "    "
   ]
  },
  {
   "cell_type": "markdown",
   "metadata": {},
   "source": [
    "The simulation of the many body problem is then by the following code:"
   ]
  },
  {
   "cell_type": "code",
   "execution_count": null,
   "metadata": {},
   "outputs": [],
   "source": [
    "import matplotlib as mpl\n",
    "from mpl_toolkits.mplot3d import Axes3D\n",
    "import matplotlib.pyplot as plt\n",
    "\n",
    "def SimulateManyBodySystem(mbs, method = ManyBodyEulerStep, start_t=0, end_t=10, start_y0=None, dt=2):\n",
    "    t = start_t\n",
    "    y = start_y0.copy()\n",
    "    t_values = [t]\n",
    "    poshistory = y.copy()[:mbs.N*3].reshape((mbs.N,3,1))\n",
    "    while t < end_t+1e-12:\n",
    "        y = method(mbs, t, y, dt)\n",
    "        #print(y[:mbs.N*3])\n",
    "        poshistory = dstack([poshistory,y[:mbs.N*3].reshape([mbs.N,3,1])])\n",
    "        t += dt\n",
    "        t_values.append(t)\n",
    "\n",
    "    colors = ('b', 'g', 'r', 'c', 'm', 'y', 'k')\n",
    "    mpl.rcParams['legend.fontsize'] = 10\n",
    "    fig = plt.figure(0)\n",
    "    ax = fig.add_subplot(111, projection='3d') \n",
    "    N = mbs.N\n",
    "    for i in range(N):\n",
    "        ax.plot( poshistory[i,0,:], poshistory[i,1,:], poshistory[i,2,:], '-o'+colors[i], label=mbs.labels[i])\n",
    "    ax.legend()\n",
    "    plt.show()"
   ]
  },
  {
   "cell_type": "markdown",
   "metadata": {},
   "source": [
    "#### Simulation runs:"
   ]
  },
  {
   "cell_type": "code",
   "execution_count": null,
   "metadata": {},
   "outputs": [],
   "source": [
    "%matplotlib widget \n",
    "# vs 'widget' vs. 'notebook'\n",
    "#SimulateManyBodySystem(tj, method=ManyBodyEulerStep, start_y0=tj_y0, dt=0.002, end_t=2)\n",
    "SimulateManyBodySystem(tj, method=ManyBodySymplecticEulerStep, start_y0=tj_y0, \n",
    "                       dt=0.00025, end_t=0.06)"
   ]
  },
  {
   "cell_type": "code",
   "execution_count": null,
   "metadata": {},
   "outputs": [],
   "source": [
    "%matplotlib inline  \n",
    "# vs 'widget' vs. 'notebook'\n",
    "SimulateManyBodySystem(os, start_y0=os_y0, dt=5, end_t=100000)\n",
    "SimulateManyBodySystem(os, method=ManyBodySymplecticEulerStep, start_y0=os_y0, dt=500, end_t=100000)"
   ]
  },
  {
   "cell_type": "markdown",
   "metadata": {},
   "source": [
    "### Tasks:\n",
    "\n",
    "* Implement a symplectic Euler method to solve the many body problem for the two examples.\n",
    "* for the Tom and Jerry setup fix one body by setting its mass very large and solve the two body problem. What do you observe?\n",
    "* set up a Tom and Jerry example with two bodies that carry out a circular motion around each other.\n",
    "* Comare the symplectic Euler method with the explicit Euler method for both problems. What do you observe?"
   ]
  }
 ],
 "metadata": {
  "kernelspec": {
   "display_name": "Python 3 (ipykernel)",
   "language": "python",
   "name": "python3"
  },
  "language_info": {
   "codemirror_mode": {
    "name": "ipython",
    "version": 3
   },
   "file_extension": ".py",
   "mimetype": "text/x-python",
   "name": "python",
   "nbconvert_exporter": "python",
   "pygments_lexer": "ipython3",
   "version": "3.12.4"
  },
  "toc": {
   "base_numbering": 1,
   "nav_menu": {},
   "number_sections": true,
   "sideBar": true,
   "skip_h1_title": false,
   "title_cell": "Table of Contents",
   "title_sidebar": "Contents",
   "toc_cell": false,
   "toc_position": {},
   "toc_section_display": true,
   "toc_window_display": false
  }
 },
 "nbformat": 4,
 "nbformat_minor": 4
}
