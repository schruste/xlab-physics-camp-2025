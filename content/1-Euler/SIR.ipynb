{
 "cells": [
  {
   "cell_type": "markdown",
   "metadata": {
    "slideshow": {
     "slide_type": "slide"
    }
   },
   "source": [
    "### Beispiel 3: SIR-Modell für Epidemien\n"
   ]
  },
  {
   "cell_type": "markdown",
   "metadata": {
    "slideshow": {
     "slide_type": "slide"
    }
   },
   "source": [
    "#### Variante a"
   ]
  },
  {
   "cell_type": "markdown",
   "metadata": {
    "slideshow": {
     "slide_type": "fragment"
    }
   },
   "source": [
    "Das SIR-Modell ist ein einfaches Modell zur Ausbreitung einer Epidemie. Es unterteilt die Bevölkerung in drei Gruppen: \n",
    "Empfängliche (Susceptible), Infizierte (Infected) und Genesene (Recovered) und modelliert die folgenden Effekte:\n",
    "* Die Zahl der empfänglichen Personen nimmt durch Infektionen ab ($S \\leadsto I$)\n",
    "* Die Zahl der infizierten Personen nimmt durch Infektionen zu ($S \\leadsto I$) und durch Genesungen ab ($I \\leadsto R$)\n",
    "* Die Zahl der genesenen Personen nimmt durch Genesungen zu ($I \\leadsto R$)"
   ]
  },
  {
   "cell_type": "markdown",
   "metadata": {
    "slideshow": {
     "slide_type": "subslide"
    }
   },
   "source": [
    "Die beiden Prozesse sind Infektion und Genesung:\n",
    "* Infektion:\n",
    "    * Je mehr Infizierte es gibt, desto wahrscheinlicher wird eine empfängliche Person infiziert. \n",
    "    * Proportional zu $S(t)$ und $I(t)$, aber skaliert mit der Gesamtbevölkerung $N(t)=S(t)+I(t)+R(t)$\n",
    "    * $\\leadsto \\beta \\frac{I(t)}{N(t)}S(t)$ mit $\\beta$ als Konstante.\n",
    "* Genesung:\n",
    "    * Je mehr Infizierte es gibt, desto mehr Genesungen treten auf.\n",
    "    * $\\leadsto \\gamma I(t)$ mit $\\gamma$ als Konstante."
   ]
  },
  {
   "cell_type": "markdown",
   "metadata": {
    "slideshow": {
     "slide_type": "subslide"
    }
   },
   "source": [
    "Wir erhalten die Differentialgleichungen (ODEs):\n",
    "\n",
    "\\begin{align*}\n",
    "\\frac{dS}{dt}(t) &= - \\beta \\frac{I(t)}{N(t)} S(t) \\\\\n",
    "\\frac{dI}{dt}(t) &= \\beta \\frac{I(t)}{N(t)} S(t) - \\gamma I(t) \\\\\n",
    "\\frac{dR}{dt}(t) &= \\gamma I(t)\n",
    "\\end{align*}\n",
    "\n",
    "In der gegebenen Form ist die unbekannte Funktion $y(t) = (S(t), I(t), R(t))$ und wir haben\n",
    "\\begin{align*}\n",
    "\\frac{dy}{dt}(t) &= f(t, y(t)), f(t, (S, I, R)) = (- \\beta S I/N, \\beta S I/N - \\gamma I, \\gamma I)\n",
    "\\end{align*}"
   ]
  },
  {
   "cell_type": "code",
   "execution_count": null,
   "metadata": {
    "slideshow": {
     "slide_type": "subslide"
    }
   },
   "outputs": [],
   "source": [
    "from numpy import array\n",
    "import matplotlib.pyplot as plt"
   ]
  },
  {
   "cell_type": "markdown",
   "metadata": {
    "slideshow": {
     "slide_type": "-"
    }
   },
   "source": [
    "Definieren Sie das SIR-Modell durch die Funktion $f(t, y(t))$ und die entsprechenden Parameter $\\beta$ und $\\gamma$:"
   ]
  },
  {
   "cell_type": "code",
   "execution_count": null,
   "metadata": {
    "slideshow": {
     "slide_type": "fragment"
    }
   },
   "outputs": [],
   "source": [
    "class SIR_Modell:\n",
    "    def __init__(self, beta, gamma):\n",
    "        self.beta = beta\n",
    "        self.gamma = gamma\n",
    "\n",
    "    def f(self, t, y):\n",
    "        S, I, R = y\n",
    "        N = S + I + R\n",
    "        return array([-self.beta*S*I/N, self.beta*S*I/N-self.gamma*I, self.gamma*I])"
   ]
  },
  {
   "cell_type": "code",
   "execution_count": null,
   "metadata": {
    "slideshow": {
     "slide_type": "subslide"
    }
   },
   "outputs": [],
   "source": [
    "from ipynb.fs.full.numode import EulerStep\n",
    "from ipynb.fs.full.numode2 import HeunStep\n",
    "from numpy import array"
   ]
  },
  {
   "cell_type": "code",
   "execution_count": null,
   "metadata": {
    "slideshow": {
     "slide_type": "fragment"
    }
   },
   "outputs": [],
   "source": [
    "def SimuliereSIR(method = EulerStep, model = SIR_Modell(1,1), start_t=0, start_y0=array([0.9,0.1,0]), dt=2):\n",
    "    plt.xlabel('t')\n",
    "    t = start_t\n",
    "    y = start_y0.copy()\n",
    "    t_values = [t]\n",
    "    s_values = [y[0]]\n",
    "    i_values = [y[1]]\n",
    "    r_values = [y[2]]\n",
    "    while t < 100+1e-12:\n",
    "        y = method(model.f, t, y, dt)\n",
    "        t += dt\n",
    "        t_values.append(t)\n",
    "        s_values.append(y[0])\n",
    "        i_values.append(y[1])\n",
    "        r_values.append(y[2])\n",
    "    n_values = array(s_values)+array(i_values)+array(r_values)\n",
    "    plt.plot(t_values,s_values,\"-o\")\n",
    "    plt.plot(t_values,i_values,\"-o\")\n",
    "    plt.plot(t_values,r_values,\"-o\")\n",
    "    plt.plot(t_values,n_values,\"-o\")\n",
    "    plt.legend([\"S\",\"I\",\"R\",\"N\"])\n",
    "    plt.show()"
   ]
  },
  {
   "cell_type": "code",
   "execution_count": null,
   "metadata": {
    "slideshow": {
     "slide_type": "subslide"
    }
   },
   "outputs": [],
   "source": [
    "sirm = SIR_Modell(beta = 1, gamma = 0.1)\n",
    "y0 = array([0.8,0.1,0.1])\n",
    "SimuliereSIR(method=EulerStep, model=sirm, start_y0 = y0, dt=0.2)\n",
    "#SimuliereSIR(method=HeunStep, model=sirm, start_y0 = y0, dt=4)"
   ]
  },
  {
   "cell_type": "markdown",
   "metadata": {
    "slideshow": {
     "slide_type": "slide"
    }
   },
   "source": [
    "#### Variante b\n",
    "\n",
    "Geburten- und Sterberaten berücksichtigen\n",
    "\n",
    "\n",
    "\\begin{align*}\n",
    "\\frac{dS}{dt}(t) &= \\nu N(t) - \\beta \\frac{I(t)}{N(t)} S(t) - \\mu S(t) \\\\\n",
    "\\frac{dI}{dt}(t) &= \\beta \\frac{I(t)}{N(t)} S(t) - \\gamma I(t) - \\mu I(t) \\\\\n",
    "\\frac{dR}{dt}(t) &= \\gamma I(t) - \\mu R(t)\n",
    "\\end{align*}\n"
   ]
  },
  {
   "cell_type": "markdown",
   "metadata": {
    "slideshow": {
     "slide_type": "subslide"
    }
   },
   "source": [
    "### Aufgabe:\n",
    "Erweitern Sie das SIR-Modell um Geburten- und Sterberaten und implementieren Sie das Modell."
   ]
  },
  {
   "cell_type": "code",
   "execution_count": null,
   "metadata": {
    "slideshow": {
     "slide_type": "fragment"
    }
   },
   "outputs": [],
   "source": [
    "class Erweitertes_SIR_Modell:\n",
    "    def __init__(self, beta, gamma, mu, nu):\n",
    "        self.beta = beta\n",
    "        self.gamma = gamma\n",
    "        self.mu = mu\n",
    "        self.nu = nu\n",
    "    def f(self, t, y):\n",
    "        S, I, R = y\n",
    "        N = S+I+R\n",
    "        return array([self.nu * N - self.beta * I/N*S-self.mu *S,\n",
    "                      self.beta * I/N*S - self.gamma * I - self.mu * I,\n",
    "                      self.gamma*I - self.mu*R])"
   ]
  },
  {
   "cell_type": "code",
   "execution_count": null,
   "metadata": {
    "slideshow": {
     "slide_type": "subslide"
    }
   },
   "outputs": [],
   "source": [
    "esirm = Erweitertes_SIR_Modell(beta = 1, gamma = 0.1, mu = 0.025, nu = 0.025)\n",
    "y0 = array([0.8,0.1,0.1])\n",
    "#SimuliereSIR(method=EulerStep, model=esirm, start_y0 = y0, dt=2)\n",
    "SimuliereSIR(method=HeunStep, model=esirm, start_y0 = y0, dt=0.2)"
   ]
  }
 ],
 "metadata": {
  "celltoolbar": "Slideshow",
  "kernelspec": {
   "display_name": "Python 3 (ipykernel)",
   "language": "python",
   "name": "python3"
  },
  "language_info": {
   "codemirror_mode": {
    "name": "ipython",
    "version": 3
   },
   "file_extension": ".py",
   "mimetype": "text/x-python",
   "name": "python",
   "nbconvert_exporter": "python",
   "pygments_lexer": "ipython3",
   "version": "3.13.7"
  },
  "toc": {
   "base_numbering": 1,
   "nav_menu": {},
   "number_sections": true,
   "sideBar": true,
   "skip_h1_title": false,
   "title_cell": "Inhaltsverzeichnis",
   "title_sidebar": "Inhalt",
   "toc_cell": false,
   "toc_position": {},
   "toc_section_display": true,
   "toc_window_display": false
  }
 },
 "nbformat": 4,
 "nbformat_minor": 4
}
