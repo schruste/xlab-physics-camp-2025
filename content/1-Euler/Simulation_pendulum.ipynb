{
 "cells": [
  {
   "cell_type": "markdown",
   "metadata": {
    "slideshow": {
     "slide_type": "slide"
    }
   },
   "source": [
    "### Gewöhnliche Differentialgleichungen\n",
    "\n",
    "Das Einzelpendelproblem kann als gewöhnliche Differentialgleichung der Form betrachtet werden:\n",
    "\n",
    "\\begin{align}\n",
    "  \\frac{d \\vec{u}(t)}{dt} & = \\vec{f}(t,\\vec{u}(t))\n",
    "\\end{align}\n",
    "\n",
    "wobei $\\vec{u}(t) (= y(t))$ der Zustandsvektor zur Zeit $t$ ist, bestehend aus Position $x(t)$ und Geschwindigkeit $v(t)$. \n",
    "\n",
    "Im Allgemeinen können gewöhnliche Differentialgleichungen nicht analytisch gelöst werden (manchmal funktioniert es)."
   ]
  },
  {
   "cell_type": "markdown",
   "metadata": {
    "slideshow": {
     "slide_type": "fragment"
    }
   },
   "source": [
    "$\\leadsto$ Wir benötigen numerische Lösungsverfahren"
   ]
  },
  {
   "cell_type": "markdown",
   "metadata": {},
   "source": [
    "# Simulation des Einzelpendels"
   ]
  },
  {
   "cell_type": "markdown",
   "metadata": {},
   "source": [
    "\n",
    "\\begin{align*}\n",
    " \\varphi(t):&  \\quad \\text{Auslenkung aus der Gleichgewichtslage} && \\quad [\\varphi] = 1~\\rm{rad}\\\\\n",
    " v(t):&  \\quad \\text{Bahngeschwindigkeit des Pendels} && \\quad [v] = 1~\\rm{m/s} \\\\\n",
    " \\\\\n",
    " g : & \\quad \\text{Gravitationskonstante} && \\quad [g] = 1~\\rm{m/s^2}  \\\\\n",
    " l : & \\quad \\text{Länge des Pendels} && \\quad [l] = 1~\\rm{m}  \\\\\n",
    " k =\\frac{b}{m}: & \\quad \\text{Dämpfungskonstante des Pendels} && \\quad [k] = 1 / \\rm{s}\n",
    "\\end{align*}\n",
    "\n",
    "\\begin{align*}\n",
    "    \\frac{d \\varphi(t)}{dt} & = v(t) / l \\\\\n",
    "    \\frac{d v(t)}{dt} & = -g\\sin(\\varphi(t)) - k v(t)\n",
    "\\end{align*}"
   ]
  },
  {
   "cell_type": "markdown",
   "metadata": {},
   "source": [
    "## Anwendung der expliziten Eulermethode:\n",
    "\n",
    "#### Formulierung als allgemeine gewöhnliche Differenzialgleichung (ODE):\n",
    "\n",
    "\\begin{align}\n",
    "  \\frac{d \\vec{u}(t)}{dt} & = \\vec{f}(\\vec{u}(t))\n",
    "\\end{align}\n",
    "mit\n",
    "$$\n",
    "\\vec{u}(t) = \n",
    "\\left( \n",
    "\\begin{array}{c}\n",
    "\\varphi(t) \\\\ v(t)\n",
    "\\end{array}\n",
    "\\right)\n",
    "$$\n",
    "und\n",
    "$$\n",
    "\\vec{f}(\\vec{u}) = \\vec{f}(\\varphi,v) = \\left( \n",
    "\\begin{array}{c}\n",
    " v / l\\\\ \n",
    " - g \\sin(\\varphi) - k v\n",
    "\\end{array}\n",
    "\\right)\n",
    "= \\left( \n",
    "\\begin{array}{c}\n",
    " \\vec{u}_2 / l  \\\\\n",
    " - g \\sin(\\vec{u}_1) - k \\vec{u}_2\n",
    "\\end{array}\n",
    "\\right)\n",
    "$$\n"
   ]
  },
  {
   "cell_type": "markdown",
   "metadata": {},
   "source": [
    "Dadurch wird die allgemeine explizite Eulermethode\n",
    "\\begin{align}\n",
    "  \\vec{u}^{n+1} & = \\vec{u}^{n} + \\Delta t \\cdot \\vec{f}(\\vec{u}^n)\n",
    "\\end{align}\n",
    "zu folgender Regel:\n",
    "\\begin{align}\n",
    "  \\varphi^{n+1} & = \\varphi^{n} + \\Delta t \\cdot v^{n} / l \\\\\n",
    "  v^{n+1} & = v^{n} + \\Delta t \\cdot ( - g \\sin(\\varphi^n) - k v^n  )\n",
    "\\end{align}"
   ]
  },
  {
   "cell_type": "markdown",
   "metadata": {},
   "source": [
    "#### Anfangswerte / Materialparameter"
   ]
  },
  {
   "cell_type": "markdown",
   "metadata": {},
   "source": [
    "* Anfangswerte:"
   ]
  },
  {
   "cell_type": "code",
   "execution_count": null,
   "metadata": {},
   "outputs": [],
   "source": [
    "initialvals = { \"phi\" : 1.0, \"v\" : 0.0}"
   ]
  },
  {
   "cell_type": "markdown",
   "metadata": {},
   "source": [
    "* Materialparameter:"
   ]
  },
  {
   "cell_type": "code",
   "execution_count": null,
   "metadata": {},
   "outputs": [],
   "source": [
    "matparam =  { \"g\" : 1.0, \"l\" : 1.0, \"k\" : 0.0, \"m\" : 1.0}"
   ]
  },
  {
   "cell_type": "markdown",
   "metadata": {},
   "source": [
    "### Ein-Schritt-Eulermethode:"
   ]
  },
  {
   "cell_type": "markdown",
   "metadata": {
    "slideshow": {
     "slide_type": "-"
    }
   },
   "source": [
    "Aufgabe:\n",
    " * Berechnen Sie für den Zustand $\\varphi^n, v^n$ (d.h. $\\vec{u}^n$) den nächsten Schritt $\\varphi^{n+1}, v^{n+1}$ (d.h. $\\vec{u}^{n+1}$)."
   ]
  },
  {
   "cell_type": "code",
   "execution_count": null,
   "metadata": {
    "slideshow": {
     "slide_type": "fragment"
    }
   },
   "outputs": [],
   "source": [
    "from math import sin, cos, pi\n",
    "def OneStep_ExplicitEuler(u, matparam, simparam):\n",
    "    phi0, v0 = u\n",
    "    u[0] += simparam[\"dt\"] * v0 / matparam[\"l\"] \n",
    "    u[1] -= simparam[\"dt\"] * ( matparam[\"g\"] * sin(phi0) + matparam[\"k\"] * v0)"
   ]
  },
  {
   "cell_type": "markdown",
   "metadata": {
    "slideshow": {
     "slide_type": "subslide"
    }
   },
   "source": [
    "### Zeitschrittverfahren:"
   ]
  },
  {
   "cell_type": "code",
   "execution_count": null,
   "metadata": {
    "slideshow": {
     "slide_type": "-"
    }
   },
   "outputs": [],
   "source": [
    "from numpy import array\n",
    "from plot import plot\n",
    "import matplotlib\n",
    "%matplotlib inline\n",
    "def ODESolve(initialvals, matparam, simparam):\n",
    "    timehistory = []\n",
    "    poshistory = []\n",
    "    velhistory = []\n",
    "    u = array([initialvals[\"phi\"],initialvals[\"v\"]],dtype=float)\n",
    "    t = simparam[\"t0\"]\n",
    "    timehistory.append(t)\n",
    "    poshistory.append(u[0])\n",
    "    velhistory.append(u[1])\n",
    "    dt = simparam[\"dt\"]\n",
    "    while t < simparam[\"tend\"]:\n",
    "        simparam[\"method\"](u,matparam,simparam)\n",
    "        t = t + dt\n",
    "        timehistory.append(t)\n",
    "        poshistory.append(u[0])\n",
    "        velhistory.append(u[1])\n",
    "    plot(timehistory,poshistory,velhistory)\n",
    "    return u"
   ]
  },
  {
   "cell_type": "markdown",
   "metadata": {
    "slideshow": {
     "slide_type": "subslide"
    }
   },
   "source": [
    "### Berechnung der Energie"
   ]
  },
  {
   "cell_type": "code",
   "execution_count": null,
   "metadata": {
    "slideshow": {
     "slide_type": "-"
    }
   },
   "outputs": [],
   "source": [
    "def Energy(matparam,phi,v):\n",
    "    return matparam[\"g\"] * matparam[\"l\"] * matparam[\"m\"] * (1-cos(phi)) + 0.5 * matparam[\"m\"] * v**2"
   ]
  },
  {
   "cell_type": "markdown",
   "metadata": {
    "slideshow": {
     "slide_type": "slide"
    }
   },
   "source": [
    "### Simulation mit der expliziten Eulermethode"
   ]
  },
  {
   "cell_type": "code",
   "execution_count": null,
   "metadata": {
    "slideshow": {
     "slide_type": "-"
    }
   },
   "outputs": [],
   "source": [
    "simparam = { \"dt\" : 0.1, \"t0\" : 0, \"tend\" : 4*pi, \"method\" : OneStep_ExplicitEuler}\n",
    "phi0, v0 = initialvals[\"phi\"], initialvals[\"v\"]\n",
    "u_final = ODESolve(initialvals, matparam, simparam)\n",
    "phi, v = u_final\n",
    "print(\"Initial angle: {:8.3e}, Initial velocity: {:8.3e}, Initial energy: {:8.3e}\".format(phi0, v0, Energy(matparam,phi0,v0)))\n",
    "print(\"Final angle:     {:8.3e}, Final velocity:     {:8.3e}, Final energy:     {:8.3e}\".format( phi,  v, Energy(matparam, phi, v)))"
   ]
  },
  {
   "cell_type": "markdown",
   "metadata": {
    "slideshow": {
     "slide_type": "subslide"
    }
   },
   "source": [
    "#### Aufgabe:\n",
    "  * Simuliere für verschiedene Parameter $g,~l$ und $k$ über mehrere Schwingungsperioden.\n",
    "  * Verringere immer $\\Delta t$, bis sich das Simulationsergebnis nicht mehr sichtbar verändert.\n",
    "  * Was beobachten Sie?"
   ]
  },
  {
   "cell_type": "markdown",
   "metadata": {
    "slideshow": {
     "slide_type": "subslide"
    }
   },
   "source": [
    "#### Aufgabe:\n",
    "  * Betrachte auch Anfangswinkel von $\\pi$ oder verschiedene Anfangsgeschwindigkeiten\n",
    "  * Warum werden nach $4\\pi$ keine zwei vollen Schwingungsperioden abgeschlossen? "
   ]
  },
  {
   "cell_type": "markdown",
   "metadata": {
    "slideshow": {
     "slide_type": "subslide"
    }
   },
   "source": [
    "#### Aufgabe: \n",
    "  * Betrachte $k = 0$. \n",
    "  * Welche Gesamtenergie bleibt nach einigen Schwingungen im System?\n",
    "  * Welche Gesamtenergie sollte theoretisch im System bleiben?\n",
    "  * Wie hängt der Energiefehler von der Anzahl der Schwingungen und von der Schrittweite $\\Delta t$ ab?"
   ]
  },
  {
   "cell_type": "markdown",
   "metadata": {
    "slideshow": {
     "slide_type": "slide"
    }
   },
   "source": [
    "### Die symplektische Eulermethode\n",
    "\n",
    "Die explizite Eulermethode wird für Mehrkörperprobleme häufig folgendermaßen modifiziert, um ein besseres Langzeitverhalten zu erzielen:\n",
    "\n",
    "\\begin{align}\n",
    "  v^{n+1} & = v^{n} + \\Delta t \\cdot ( - g \\sin(\\varphi^{n}) - k v^n  ) \\\\\n",
    "  \\varphi^{n+1} & = \\varphi^{n} + \\Delta t \\cdot v^{n+1} / l\n",
    "\\end{align}\n",
    "\n",
    "Der einzige Unterschied zur expliziten Eulermethode ist die Benutzung des neuen $v$ für die Aktualisierung von $\\varphi$."
   ]
  },
  {
   "cell_type": "code",
   "execution_count": null,
   "metadata": {
    "slideshow": {
     "slide_type": "subslide"
    }
   },
   "outputs": [],
   "source": [
    "def OneStep_SymplecticEuler(u, matparam, simparam):\n",
    "    phi0, v0 = u\n",
    "    u[1] -= simparam[\"dt\"] * ( matparam[\"g\"] * sin(phi0) + matparam[\"k\"] * v0)\n",
    "    u[0] += simparam[\"dt\"] * u[1]/matparam[\"l\"]"
   ]
  },
  {
   "cell_type": "markdown",
   "metadata": {
    "slideshow": {
     "slide_type": "slide"
    }
   },
   "source": [
    "#### Simulation mit der symplektischen Eulermethode"
   ]
  },
  {
   "cell_type": "code",
   "execution_count": null,
   "metadata": {
    "slideshow": {
     "slide_type": "-"
    }
   },
   "outputs": [],
   "source": [
    "simparam = { \"dt\" : 0.01, \"t0\" : 0, \"tend\" : 4*pi, \"method\" : OneStep_SymplecticEuler}\n",
    "phi0, v0 = initialvals[\"phi\"], initialvals[\"v\"]\n",
    "u_final = ODESolve(initialvals, matparam, simparam)\n",
    "phi, v = u_final\n",
    "print(\"Initial angle: {:8.3e}, Initial velocity: {:8.3e}, Initial energy: {:8.3e}\".format(phi0, v0, Energy(matparam,phi0,v0)))\n",
    "print(\"Final angle:     {:8.3e}, Final velocity:     {:8.3e}, Final energy:     {:8.3e}\".format( phi,  v, Energy(matparam, phi, v)))"
   ]
  },
  {
   "cell_type": "markdown",
   "metadata": {
    "slideshow": {
     "slide_type": "subslide"
    }
   },
   "source": [
    "#### Aufgabe (wie oben):\n",
    "  * Betrachte $k = 0$.\n",
    "  * Welche Gesamtenergie bleibt nach einigen Schwingungen im System?\n",
    "  * Welche Gesamtenergie sollte theoretisch im System bleiben?\n",
    "  * Wie hängt der Energiefehler von der Anzahl der Schwingungen und von der Schrittweite $\\Delta t$ ab?"
   ]
  },
  {
   "cell_type": "markdown",
   "metadata": {
    "slideshow": {
     "slide_type": "slide"
    }
   },
   "source": [
    "#### Aufgabe: \n",
    "  * Implementiere das verbesserte Euler-Verfahren / Heun-Verfahren durch Anlegen einer neuen Funktion\n",
    "  `OneStep_Heun(...)`, ähnlich wie `OneStep_ExplicitEuler(...)`. Vervollständigen Sie dazu einfach den untenstehenden Code und entfernen Sie die Zeile `raise Exception(\"Heun not yet implemented\")`.\n",
    "  * Vergleiche das Heun-Verfahren mit den oben behandelten Verfahren. Was beobachten Sie (Genauigkeit/Aufwand/Langzeitverhalten)?"
   ]
  },
  {
   "cell_type": "code",
   "execution_count": null,
   "metadata": {
    "slideshow": {
     "slide_type": "subslide"
    }
   },
   "outputs": [],
   "source": [
    "def OneStep_Heun(u, matparam, simparam):\n",
    "    raise Exception(\"Heun not yet implemented\")\n",
    "    phi0, v0 = u\n",
    "    uhalf0 = ...\n",
    "    uhalf1 = ... \n",
    "    u[0] = ...\n",
    "    u[1] = ...   "
   ]
  },
  {
   "cell_type": "markdown",
   "metadata": {
    "slideshow": {
     "slide_type": "subslide"
    }
   },
   "source": [
    "#### Simulation mit dem Heun-Verfahren"
   ]
  },
  {
   "cell_type": "code",
   "execution_count": null,
   "metadata": {
    "slideshow": {
     "slide_type": "-"
    }
   },
   "outputs": [],
   "source": [
    "simparam = { \"dt\" : 0.1, \"t0\" : 0, \"tend\" : 4*pi, \"method\" : OneStep_Heun}\n",
    "phi0, v0 = initialvals[\"phi\"], initialvals[\"v\"]\n",
    "u_final = ODESolve(initialvals, matparam, simparam)\n",
    "phi, v = u_final\n",
    "print(\"Initial angle: {:8.3e}, Initial velocity: {:8.3e}, Initial energy: {:8.3e}\".format(phi0, v0, Energy(matparam,phi0,v0)))\n",
    "print(\"Final angle:     {:8.3e}, Final velocity:     {:8.3e}, Final energy:     {:8.3e}\".format( phi,  v, Energy(matparam, phi, v)))"
   ]
  },
  {
   "cell_type": "markdown",
   "metadata": {
    "slideshow": {
     "slide_type": "slide"
    }
   },
   "source": [
    "#### Zusatzaufgabe: \n",
    "  * Implementiere ein weiteres Verfahren\n",
    "  `OneStep_StoermerVerlet(...)` ähnlich wie `OneStep_ExplicitEuler(...)`. Vervollständigen Sie dazu einfach den untenstehenden Codeblock und entfernen Sie die Zeile `raise Exception(\"Heun not yet implemented\")`.\n",
    "  Das Störmer-Verlet-Verfahren ist wie folgt definiert:\n",
    "  \\begin{align}\n",
    "  \\varphi^{n+\\frac12} & = \\varphi^{n} + \\Delta t/2 ~ v^{n} / l \\\\\n",
    "  v^{n+\\frac12} & = v^{n} + \\Delta t/2 ~  ( - g \\sin(\\varphi^{n+\\frac12}) - k v^n  ) \\\\\n",
    "  v^{n+1} & = v^{n+\\frac12} + \\Delta t/2 ~  ( - g \\sin(\\varphi^{n+\\frac12}) - k v^{n+\\frac12} ) \\\\\n",
    "  \\varphi^{n+1} & = \\varphi^{n+\\frac12} + \\Delta t/2 ~ v^{n+1} / l \\\\\n",
    "\\end{align}\n",
    "    \n",
    "  * Welche Vorteile beobachtest du für dieses Verfahren?"
   ]
  },
  {
   "cell_type": "code",
   "execution_count": null,
   "metadata": {
    "slideshow": {
     "slide_type": "subslide"
    }
   },
   "outputs": [],
   "source": [
    "def OneStep_StoermerVerlet(u, matparam, simparam):\n",
    "    raise Exception(\"Heun not yet implemented\")\n",
    "    phi0, v0 = u\n",
    "    u[0] = ...\n",
    "    u[1] = ..."
   ]
  },
  {
   "cell_type": "markdown",
   "metadata": {
    "slideshow": {
     "slide_type": "subslide"
    }
   },
   "source": [
    "#### Simulation mit dem Störmer-Verlet-Verfahren"
   ]
  },
  {
   "cell_type": "code",
   "execution_count": null,
   "metadata": {
    "slideshow": {
     "slide_type": "-"
    }
   },
   "outputs": [],
   "source": [
    "matparam =  { \"g\" : 1, \"l\" : 1, \"k\" : 0.0, \"m\" : 1.0}\n",
    "simparam = { \"dt\" : 0.1, \"t0\" : 0, \"tend\" : 4*pi, \"method\" : OneStep_StoermerVerlet}\n",
    "phi0, v0 = initialvals[\"phi\"], initialvals[\"v\"]\n",
    "u_final = ODESolve(initialvals, matparam, simparam)\n",
    "phi, v = u_final\n",
    "print(\"Initial angle: {:8.3e}, Initial velocity: {:8.3e}, Initial energy: {:8.3e}\".format(phi0, v0, Energy(matparam,phi0,v0)))\n",
    "print(\"Final angle:     {:8.3e}, Final velocity:     {:8.3e}, Final energy:     {:8.3e}\".format( phi,  v, Energy(matparam, phi, v)))"
   ]
  },
  {
   "cell_type": "code",
   "execution_count": null,
   "metadata": {},
   "outputs": [],
   "source": []
  },
  {
   "cell_type": "code",
   "execution_count": null,
   "metadata": {},
   "outputs": [],
   "source": []
  }
 ],
 "metadata": {
  "kernelspec": {
   "display_name": "Python 3 (ipykernel)",
   "language": "python",
   "name": "python3"
  },
  "language_info": {
   "codemirror_mode": {
    "name": "ipython",
    "version": 3
   },
   "file_extension": ".py",
   "mimetype": "text/x-python",
   "name": "python",
   "nbconvert_exporter": "python",
   "pygments_lexer": "ipython3",
   "version": "3.13.7"
  },
  "toc": {
   "base_numbering": 1,
   "nav_menu": {},
   "number_sections": true,
   "sideBar": true,
   "skip_h1_title": false,
   "title_cell": "Inhaltsverzeichnis",
   "title_sidebar": "Inhalt",
   "toc_cell": false,
   "toc_position": {},
   "toc_section_display": true,
   "toc_window_display": false
  }
 },
 "nbformat": 4,
 "nbformat_minor": 4
}
