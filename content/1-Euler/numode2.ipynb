{
 "cells": [
  {
   "cell_type": "markdown",
   "metadata": {
    "slideshow": {
     "slide_type": "slide"
    }
   },
   "source": [
    "# Numerische Methoden für ODEs II\n",
    "\n",
    "### Aufgabe: \n",
    "\n",
    "Zeigen Sie, dass wir alternativ zur Formulierung als Differentialgleichung\n",
    "$$\n",
    "\\frac{dy}{dt}(t) = f(t, y(t)), \\quad y(t_0) = y^0,\n",
    "$$\n",
    "wir auch die Lösung der ODE als Integralgleichung formulieren können:\n",
    "$$ \\tag{*}\n",
    " {y}(t) = {y}^0 + \\int_{t_0}^{t} f(s,y(s)) ds\n",
    "$$\n",
    "$$ \\tag{**}\n",
    " \\text{relabeled:} \\quad {y}(T) = {y}^0 + \\int_{t_0}^{T} f(t,y(t)) dt\n",
    "$$\n",
    "\n",
    "Dies bedeutet, dass die Lösung der ODE die Funktion ist, die die Integralgleichung (*) erfüllt und umgekehrt."
   ]
  },
  {
   "cell_type": "markdown",
   "metadata": {
    "slideshow": {
     "slide_type": "subslide"
    }
   },
   "source": [
    "Die Darstellung (*) kann nun mit Integrationsregeln approximiert werden, z.B.:\n",
    "\n",
    "  (die folgenden Bilder sind von [hier](http://tutorial.math.lamar.edu/Classes/CalcI/AreaProblem.aspx) entnommen )"
   ]
  },
  {
   "cell_type": "markdown",
   "metadata": {
    "slideshow": {
     "slide_type": "fragment"
    }
   },
   "source": [
    "\n",
    " * linkshändige Integrationsregel: $ y^1 = y^0 + \\Delta t \\cdot f(t_0, \\color{red}{ y^0}) \\Rightarrow$ expliziter Euler-Verfahren\n",
    "\n",
    "<center>\n",
    "<img src=\"image003.gif\" alt=\"Zeichnung\" style=\"width: 30%;\"/>\n",
    "</center>"
   ]
  },
  {
   "cell_type": "markdown",
   "metadata": {
    "slideshow": {
     "slide_type": "subslide"
    }
   },
   "source": [
    " * rechtsseitige Integrationsregel: $ y^1 = y^0 + \\Delta t \\cdot f(t_1, \\color{red}{y^1}) \\Rightarrow$ implizites Euler-Verfahren\n",
    "\n",
    "<center>\n",
    "<img src=\"image002.gif\" alt=\"Zeichnung\" style=\"width: 30%;\"/>\n",
    "</center>"
   ]
  },
  {
   "cell_type": "markdown",
   "metadata": {
    "slideshow": {
     "slide_type": "subslide"
    }
   },
   "source": [
    " * Trapezregel: $ y^1 = y^0 + \\Delta t \\cdot \\left(\\frac12 f(t_0, \\color{red}{y^0}) + \\frac12 f(t_1, \\color{red}{y^1})\\right) \\Rightarrow $ Trapezregel (Crank-Nicholson-Verfahren)"
   ]
  },
  {
   "cell_type": "markdown",
   "metadata": {
    "slideshow": {
     "slide_type": "subslide"
    }
   },
   "source": [
    " * Mittelpunktsregel: $ u^1 = y^0 + \\Delta t \\cdot f(t_0, \\color{red}{y^\\frac12}) $\n",
    "\n",
    "<center>\n",
    "<img src=\"image004.gif\" alt=\"Zeichnung\" style=\"width: 30%;\"/>\n",
    "</center>\n",
    "\n",
    " * Kein $y^\\frac12$ definiert:\n",
    " * Approximieren Sie $y^\\frac12$ mit explizitem Euler-Verfahren $\\Longrightarrow$ \"verbessertes Euler-Verfahren\" / \"explizites Mittelpunktsregel\" / \"Heuns Methode\":\n",
    "\\begin{align*}\n",
    "    y^\\frac12 & = y^0 + \\frac12 \\Delta t \\cdot f(t_0, \\color{red}{y^0}) \\\\\n",
    "    y^1 & = y^0 + \\Delta t \\cdot f(t_0 + \\frac12 \\Delta t, \\color{red}{y^\\frac12})\n",
    "\\end{align*}"
   ]
  },
  {
   "cell_type": "markdown",
   "metadata": {
    "slideshow": {
     "slide_type": "subslide"
    }
   },
   "source": [
    "Wir unterscheiden zwei Klassen von Methoden hinsichtlich der Bewertung von $f$:\n",
    "* Explizite Methoden, die nur auf Bewertungen von $f(...)$ angewiesen sind, z.B.: $y^{n+1} = y^n + \\Delta t \\cdot f(t^n, y^n)$\n",
    "* Implizite Methoden, die die Lösung einer Gleichung erfordern, z.B.: $y^{n+1} = y^n + \\Delta t \\cdot f(t^{n+1}, y^{n+1})$"
   ]
  },
  {
   "cell_type": "markdown",
   "metadata": {
    "slideshow": {
     "slide_type": "subslide"
    }
   },
   "source": [
    "### Aufgabe:\n",
    "* Implementieren Sie das explizite Mittelpunktsregel a.k.a. Heuns Methode für das logistische Wachstumsproblem und vergleichen Sie die Lösung mit der analytischen Lösung und dem expliziten Euler-Verfahren.\n",
    "* (Bonus:) Implementieren Sie das explizite Euler-Verfahren für das exponentielle Wachstumsproblem und vergleichen Sie die Lösung mit der analytischen Lösung."
   ]
  },
  {
   "cell_type": "code",
   "execution_count": null,
   "metadata": {
    "scrolled": true,
    "slideshow": {
     "slide_type": "subslide"
    }
   },
   "outputs": [],
   "source": [
    "import matplotlib\n",
    "from ipynb.fs.full.numlogistic import SimulateLogisticGrowth\n",
    "from ipynb.fs.full.numode import EulerStep"
   ]
  },
  {
   "cell_type": "code",
   "execution_count": null,
   "metadata": {
    "slideshow": {
     "slide_type": "fragment"
    }
   },
   "outputs": [],
   "source": [
    "def EulerStep(f, t, y, dt):\n",
    "    return y + dt * f(t,y)\n",
    "\n",
    "def HeunStep(f, t, y, dt):\n",
    "    y12 = y + 0.5 * dt * f(t, y)\n",
    "    return y + dt * f(t+0.5*dt,y12)\n"
   ]
  },
  {
   "cell_type": "code",
   "execution_count": null,
   "metadata": {
    "slideshow": {
     "slide_type": "subslide"
    }
   },
   "outputs": [],
   "source": [
    "for start_t in [0,2]:\n",
    "    for start_y0 in [0.1,2,5]:\n",
    "        print(f\"start time = {start_t}, start value = {start_y0}\")\n",
    "        print(\"expliziter Euler\")\n",
    "        SimulateLogisticGrowth(method=EulerStep, start_t=start_t, start_y0=start_y0, dt=1)        \n",
    "        print(\"Heun\")\n",
    "        SimulateLogisticGrowth(method=HeunStep, start_t=start_t, start_y0=start_y0, dt=2)"
   ]
  },
  {
   "cell_type": "markdown",
   "metadata": {
    "slideshow": {
     "slide_type": "subslide"
    }
   },
   "source": [
    "Nächste Herausforderung:\n",
    "\n",
    "* Differentialgleichungen mit vektoriellen Funktionen $y(t) \\in \\mathbb{R}^d$\n",
    "* $\\leadsto$ [SIR-Modell](SIR.ipynb)"
   ]
  }
 ],
 "metadata": {
  "kernelspec": {
   "display_name": "Python 3 (ipykernel)",
   "language": "python",
   "name": "python3"
  },
  "language_info": {
   "codemirror_mode": {
    "name": "ipython",
    "version": 3
   },
   "file_extension": ".py",
   "mimetype": "text/x-python",
   "name": "python",
   "nbconvert_exporter": "python",
   "pygments_lexer": "ipython3",
   "version": "3.13.7"
  },
  "toc": {
   "base_numbering": 1,
   "nav_menu": {},
   "number_sections": true,
   "sideBar": true,
   "skip_h1_title": false,
   "title_cell": "Tabelle der Inhalte",
   "title_sidebar": "Inhalte",
   "toc_cell": false,
   "toc_position": {},
   "toc_section_display": true,
   "toc_window_display": false
  }
 },
 "nbformat": 4,
 "nbformat_minor": 4
}
