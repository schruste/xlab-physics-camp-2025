{
 "cells": [
  {
   "cell_type": "markdown",
   "metadata": {
    "slideshow": {
     "slide_type": "slide"
    }
   },
   "source": [
    "# Simulation des logistischen Wachstums"
   ]
  },
  {
   "cell_type": "code",
   "execution_count": null,
   "metadata": {},
   "outputs": [],
   "source": [
    "#!pip install ipynb"
   ]
  },
  {
   "cell_type": "code",
   "execution_count": null,
   "metadata": {
    "slideshow": {
     "slide_type": "fragment"
    }
   },
   "outputs": [],
   "source": [
    "from ipynb.fs.full.numode import EulerStep"
   ]
  },
  {
   "cell_type": "markdown",
   "metadata": {
    "slideshow": {
     "slide_type": "subslide"
    }
   },
   "source": [
    "Simulation des logistischen Wachstums durch eine einfache Schleife über die Zeitschritte:"
   ]
  },
  {
   "cell_type": "code",
   "execution_count": null,
   "metadata": {
    "slideshow": {
     "slide_type": "fragment"
    }
   },
   "outputs": [],
   "source": [
    "import numpy as np\n",
    "import matplotlib\n",
    "import matplotlib.pyplot as plt\n",
    "\n",
    "def SimulateLogisticGrowth(method = EulerStep, k=0.8, K=10, start_t=0, start_y0=0.1, dt=2):\n",
    "    grid_xy = np.meshgrid(np.linspace(-1,11,13),np.linspace(-1,11,13))\n",
    "    u = 1\n",
    "    v = k*grid_xy[1] * (1-grid_xy[1]/K)\n",
    "    plt.quiver(*grid_xy,u,v)\n",
    "    plt.axis('scaled')\n",
    "    plt.xlabel('t')\n",
    "    plt.ylabel('y')\n",
    "    t = start_t\n",
    "    y = start_y0\n",
    "    t_values = [t]\n",
    "    y_values = [y]\n",
    "    def f(t,y):\n",
    "        return k*y*(1-y/K)\n",
    "    while t < 32+1e-12:\n",
    "        y = method(f, t, y, dt)\n",
    "        #y = method(lambda t,y: k*y*(1-y/K), t, y, dt)\n",
    "        #y = EulerStep(f,t,y,dt)\n",
    "        #y = y + dt * f(t,y)\n",
    "        t += dt\n",
    "        t_values.append(t)\n",
    "        y_values.append(y)\n",
    "    plt.plot(t_values,y_values,\"-o\")\n",
    "    t_ex = np.linspace(start_t,12,20*(10-start_t)+1,endpoint=True)\n",
    "    y_ex = K / (1 +  (K/start_y0-1)*np.exp(-k*(t_ex-start_t)))\n",
    "    plt.plot(t_ex,y_ex)\n",
    "    plt.show()"
   ]
  },
  {
   "cell_type": "markdown",
   "metadata": {
    "slideshow": {
     "slide_type": "subslide"
    }
   },
   "source": [
    "Numerische Lösungen für verschiedene Anfangswerte"
   ]
  },
  {
   "cell_type": "code",
   "execution_count": null,
   "metadata": {
    "slideshow": {
     "slide_type": "fragment"
    }
   },
   "outputs": [],
   "source": [
    "for start_t in [0,2]:\n",
    "    for start_y0 in [0.1,2,5]:\n",
    "        SimulateLogisticGrowth(method=EulerStep, start_t=start_t, start_y0=start_y0, dt=0.005)"
   ]
  },
  {
   "cell_type": "markdown",
   "metadata": {
    "slideshow": {
     "slide_type": "subslide"
    }
   },
   "source": [
    "Nächster Halt: \n",
    "* Verbesserte Methoden durch bessere Richtungsschätzungen\n",
    "* Kombiniere mehrere Richtungen, um eine bessere Approximation zu erhalten\n",
    "* $\\leadsto$ [Numerische DGLs II](numode2.ipynb)"
   ]
  },
  {
   "cell_type": "code",
   "execution_count": null,
   "metadata": {},
   "outputs": [],
   "source": []
  },
  {
   "cell_type": "code",
   "execution_count": null,
   "metadata": {},
   "outputs": [],
   "source": []
  }
 ],
 "metadata": {
  "kernelspec": {
   "display_name": "Python 3 (ipykernel)",
   "language": "python",
   "name": "python3"
  },
  "language_info": {
   "codemirror_mode": {
    "name": "ipython",
    "version": 3
   },
   "file_extension": ".py",
   "mimetype": "text/x-python",
   "name": "python",
   "nbconvert_exporter": "python",
   "pygments_lexer": "ipython3",
   "version": "3.13.7"
  },
  "toc": {
   "base_numbering": 1,
   "nav_menu": {},
   "number_sections": true,
   "sideBar": true,
   "skip_h1_title": false,
   "title_cell": "Inhaltsverzeichnis",
   "title_sidebar": "Inhalt",
   "toc_cell": false,
   "toc_position": {},
   "toc_section_display": true,
   "toc_window_display": false
  }
 },
 "nbformat": 4,
 "nbformat_minor": 4
}
