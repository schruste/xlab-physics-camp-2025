{
 "cells": [
  {
   "cell_type": "markdown",
   "metadata": {
    "slideshow": {
     "slide_type": "slide"
    }
   },
   "source": [
    "# Example 1: Exponential growth/decay\n",
    "\n",
    "Let's start with a simple example: exponential growth/decay. \n",
    "\n",
    "Physically, this can be interpreted as the rate of change of a quantity being proportional to the quantity itself. \n"
   ]
  },
  {
   "cell_type": "markdown",
   "metadata": {
    "slideshow": {
     "slide_type": "subslide"
    }
   },
   "source": [
    "\n",
    "## Example: Radioactive decay\n",
    "\n",
    "Let $y(t)$ be the quantity of a radioactive material at time $t$. The rate of change of $y$ is proportional to $y$ itself, i.e. \n",
    "$$\n",
    "\\frac{dy}{dt}(t) = - k y(t)\n",
    "$$\n",
    "with $k$ is the (positive) constant model parameter for the radioactive decay ($t_{\\frac12} = - \\ln(2) / k$ is the half-life of the material).\n",
    "\n",
    "$y(0) = y_0$ is the initial condition, the initial quantity of the radioactive material.\n"
   ]
  },
  {
   "cell_type": "markdown",
   "metadata": {
    "slideshow": {
     "slide_type": "subslide"
    }
   },
   "source": [
    "##### Visualization of the function $f(t, y) = - k y$ characterizing the ODE"
   ]
  },
  {
   "cell_type": "code",
   "execution_count": null,
   "metadata": {
    "slideshow": {
     "slide_type": "fragment"
    }
   },
   "outputs": [],
   "source": [
    "import numpy as np\n",
    "import matplotlib.pyplot as plt\n",
    "grid_xy = np.meshgrid(np.linspace(-1,11,13),np.linspace(-1,11,13))\n",
    "k=-0.5\n",
    "u,v = 1, k*grid_xy[1]\n",
    "plt.quiver(*grid_xy,u,v)\n",
    "plt.axis('scaled')\n",
    "plt.xlabel('t'); plt.ylabel('y')\n",
    "plt.show()"
   ]
  },
  {
   "cell_type": "markdown",
   "metadata": {
    "slideshow": {
     "slide_type": "subslide"
    }
   },
   "source": [
    "##### Solution for initial value $y(0) = 10$ ($y(t) = 10 \\exp(kt)$)"
   ]
  },
  {
   "cell_type": "code",
   "execution_count": null,
   "metadata": {
    "slideshow": {
     "slide_type": "fragment"
    }
   },
   "outputs": [],
   "source": [
    "plt.quiver(*grid_xy,u,v)\n",
    "plt.axis('scaled')\n",
    "t = np.linspace(0,10,21)\n",
    "y = 10 * np.exp(k*t)\n",
    "plt.plot(t,y)\n",
    "plt.xlabel('t'); plt.ylabel('y')\n",
    "plt.show()"
   ]
  },
  {
   "cell_type": "markdown",
   "metadata": {
    "slideshow": {
     "slide_type": "subslide"
    }
   },
   "source": [
    "##### Different start values"
   ]
  },
  {
   "cell_type": "code",
   "execution_count": null,
   "metadata": {
    "slideshow": {
     "slide_type": "fragment"
    }
   },
   "outputs": [],
   "source": [
    "plt.quiver(*grid_xy,u,v)\n",
    "plt.axis('scaled')\n",
    "plt.xlabel('t')\n",
    "plt.ylabel('y')\n",
    "for start_t in [0,2]:\n",
    "    for start_x0 in [0,4,8]:\n",
    "        t = np.linspace(start_t,10,2*(10-start_t)+1)\n",
    "        y = start_x0 * np.exp(k*(t-start_t))\n",
    "        plt.plot(t,y)\n",
    "plt.show()"
   ]
  },
  {
   "cell_type": "markdown",
   "metadata": {
    "slideshow": {
     "slide_type": "subslide"
    }
   },
   "source": [
    "#### Exponential growth \n",
    "\n",
    "If the rate of change depends on the quantity itself, but with a positive constant, we have exponential growth. The ODE is\n",
    "$$\n",
    "\\frac{dy}{dt}(t) = k y(t), y(0) = y_0.\n",
    "$$\n"
   ]
  },
  {
   "cell_type": "code",
   "execution_count": null,
   "metadata": {
    "slideshow": {
     "slide_type": "subslide"
    }
   },
   "outputs": [],
   "source": [
    "k=0.5\n",
    "u = 1\n",
    "v = k*grid_xy[1]\n",
    "plt.quiver(*grid_xy,u,v)\n",
    "plt.axis('scaled')\n",
    "plt.xlabel('t')\n",
    "plt.ylabel('y')\n",
    "for start_t in [0,2]:\n",
    "    for start_x0 in [0,0.125,0.5]:\n",
    "        t = np.linspace(start_t,10,2*(10-start_t)+1)\n",
    "        y = start_x0 * np.exp(k*(t-start_t))\n",
    "        plt.plot(t,y)\n",
    "plt.show()"
   ]
  },
  {
   "cell_type": "markdown",
   "metadata": {
    "slideshow": {
     "slide_type": "subslide"
    }
   },
   "source": [
    "$\\leadsto$ next unit: [logistic growth](logistic.ipynb)"
   ]
  }
 ],
 "metadata": {
  "kernelspec": {
   "display_name": "Python 3 (ipykernel)",
   "language": "python",
   "name": "python3"
  },
  "language_info": {
   "codemirror_mode": {
    "name": "ipython",
    "version": 3
   },
   "file_extension": ".py",
   "mimetype": "text/x-python",
   "name": "python",
   "nbconvert_exporter": "python",
   "pygments_lexer": "ipython3",
   "version": "3.13.7"
  },
  "toc": {
   "base_numbering": 1,
   "nav_menu": {},
   "number_sections": true,
   "sideBar": true,
   "skip_h1_title": false,
   "title_cell": "Table of Contents",
   "title_sidebar": "Contents",
   "toc_cell": false,
   "toc_position": {},
   "toc_section_display": true,
   "toc_window_display": false
  }
 },
 "nbformat": 4,
 "nbformat_minor": 4
}
