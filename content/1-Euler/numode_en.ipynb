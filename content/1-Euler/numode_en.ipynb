{
 "cells": [
  {
   "cell_type": "markdown",
   "metadata": {
    "slideshow": {
     "slide_type": "slide"
    }
   },
   "source": [
    "## Numerical solution of initial value problems (ODEs)"
   ]
  },
  {
   "cell_type": "markdown",
   "metadata": {
    "slideshow": {
     "slide_type": "subslide"
    }
   },
   "source": [
    "#### Basic Idea of Euler's Method:\n",
    "* We can compute $f(t_0,y(t_0))$ since we know $t_0$ and $y_0 = y(t_0)$\n",
    "* Thus, we know the \"direction of the function\" (direction vector of the tangent):"
   ]
  },
  {
   "cell_type": "markdown",
   "metadata": {
    "slideshow": {
     "slide_type": "subslide"
    }
   },
   "source": [
    "<center>\n",
    "<img src=\"expEuler2.png\" alt=\"Drawing\" style=\"width: 60%;\"/>\n",
    "</center>"
   ]
  },
  {
   "cell_type": "markdown",
   "metadata": {
    "slideshow": {
     "slide_type": "subslide"
    }
   },
   "source": [
    " * We take a small step (from $t_0$ to $t_1 = t_0 + \\Delta t$) along this direction.\n",
    "<center>\n",
    "<img src=\"expEuler3.png\" alt=\"Drawing\" style=\"width: 60%;\"/>\n",
    "</center>\n",
    "\n",
    " * Thus, we arrive at $y^1=y^*(t_1)$ which is not exactly $y(t_1)$ but is close. \n",
    " * At $t_1$ and $u^1$ we can again calculate a direction and follow it for a small step\n",
    " * ..."
   ]
  },
  {
   "cell_type": "markdown",
   "metadata": {
    "slideshow": {
     "slide_type": "subslide"
    }
   },
   "source": [
    "### Euler's Method\n",
    "\n",
    "This approach can be directly applied to vector differential equations:\n",
    "\n",
    "* Let $t_0$ and ${y}^0 = {y}(t_0)$ be given.\n",
    "* Evaluate ${f}(t_0,{y}^0)$\n",
    "* Move along this direction, i.e. \n",
    "$$\n",
    "{y}^1 = {y}^0 + \\Delta t \\cdot {f}(t_0,{y}^0)\n",
    "$$\n",
    "* Use $t_1 = t_0 + \\Delta t$ and ${y}^1$ as initial values and start again\n"
   ]
  },
  {
   "cell_type": "code",
   "execution_count": null,
   "metadata": {
    "slideshow": {
     "slide_type": "subslide"
    }
   },
   "outputs": [],
   "source": [
    "def EulerStep(f, t, y, dt):\n",
    "    return y + dt * f(t, y)"
   ]
  },
  {
   "cell_type": "markdown",
   "metadata": {
    "slideshow": {
     "slide_type": "fragment"
    }
   },
   "source": [
    "The approximation with a tangent at the point $(t_0,u^0)$ can be replaced with more accurate approximations\n",
    "\n",
    "But first, let us implement Euler's method for a simple ODE: $\\leadsto$ next unit: [Simulation of logistic growth](numlogistic.ipynb)"
   ]
  }
 ],
 "metadata": {
  "kernelspec": {
   "display_name": "Python 3 (ipykernel)",
   "language": "python",
   "name": "python3"
  },
  "language_info": {
   "codemirror_mode": {
    "name": "ipython",
    "version": 3
   },
   "file_extension": ".py",
   "mimetype": "text/x-python",
   "name": "python",
   "nbconvert_exporter": "python",
   "pygments_lexer": "ipython3",
   "version": "3.12.4"
  },
  "toc": {
   "base_numbering": 1,
   "nav_menu": {},
   "number_sections": true,
   "sideBar": true,
   "skip_h1_title": false,
   "title_cell": "Table of Contents",
   "title_sidebar": "Contents",
   "toc_cell": false,
   "toc_position": {},
   "toc_section_display": true,
   "toc_window_display": false
  }
 },
 "nbformat": 4,
 "nbformat_minor": 2
}
