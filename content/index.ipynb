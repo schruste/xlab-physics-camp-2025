{
 "cells": [
  {
   "cell_type": "markdown",
   "metadata": {
    "slideshow": {
     "slide_type": "slide"
    }
   },
   "source": [
    "# Numerische Simulation von physikalischen Systemen\n",
    "\n",
    "---"
   ]
  },
  {
   "cell_type": "markdown",
   "metadata": {
    "slideshow": {
     "slide_type": "slide"
    }
   },
   "source": [
    "Allgemeine Informationen\n",
    "----\n",
    "* Einführung\n",
    "  * [0.1](0-GeneralInformation/0.1-Einführung/Einführung.ipynb) Einführung in den Kurs\n",
    "* Verwendete Software\n",
    "  * [0.2.1](0-GeneralInformation/0.2-Software/jupyter.ipynb) Was ist `Python` / `jupyter` / `COMSOL` / `NGSolve`?\n",
    "  * [0.2.2](0-GeneralInformation/0.2-Software/InstallationPythonJupyterNGSolve.pdf) Installationsanweisungen für die verwendete Software\n",
    "  * [0.2.3](0-GeneralInformation/0.2-Software/comsol.ipynb) Zugriff auf `COMSOL`"
   ]
  },
  {
   "cell_type": "markdown",
   "metadata": {
    "collapsed": true,
    "jupyter": {
     "outputs_hidden": true
    },
    "slideshow": {
     "slide_type": "slide"
    }
   },
   "source": [
    "Differentialgleichungen und ihre numerische Lösung\n",
    "----\n",
    "* Einführung in Differentialgleichungen und ihre numerische Lösung:\n",
    "  * [1.1.1](1-Euler/ODEs.ipynb) Einführung in Differentialgleichungen \n",
    "  * [1.1.2](1-Euler/exponential.ipynb) Exponentieller Wachstumsprozess\n",
    "  * [1.1.3](1-Euler/logistic.ipynb) Logistischer Wachstumsprozess\n",
    "  * [1.1.4](1-Euler/numode.ipynb) Numerische Methoden für Differentialgleichungen (IVPs)\n",
    "  * [1.1.5](1-Euler/numlogistic.ipynb) Simulation des logistischen Wachstumsprozesses\n",
    "  * [1.1.6](1-Euler/numode2.ipynb) Numerische Methode für Differentialgleichungen (IVPs) II\n",
    "  * [1.1.7](1-Euler/SIR.ipynb) Simulation des SIR-Modells\n",
    "* In-Depth-Beispiel: Einpendel (Hervorhebung: höhere Ordnung von Differentialgleichungen, symplektische Integratoren)\n",
    "  * [1.2.1](1-Euler/Derivation_pendulum.ipynb) Ableitung von Differentialgleichungen für den Einpendel / Experiment\n",
    "  * [1.2.2](1-Euler/Simulation_pendulum.ipynb) Numerische Simulation des Einpendels\n",
    "* Vielkörper-Systeme\n",
    "  * [1.3.1](1-Euler/manybody.ipynb) Numerische Simulation von Mehrkörper-Problemen (z.B. äußeres Sonnensystem)\n",
    "  * [1.3.2](1-Euler/double_pendulum.ipynb) Numerische Simulation des Doppel-Pendels"
   ]
  },
  {
   "cell_type": "markdown",
   "metadata": {
    "collapsed": true,
    "jupyter": {
     "outputs_hidden": true
    },
    "slideshow": {
     "slide_type": "slide"
    }
   },
   "source": [
    "Finites Elementverfahren (FEM) in 1D\n",
    "----\n",
    "* Wärmeleitfähigkeit in 1D\n",
    "  * [2.1.1](2-FEM/2.1-Waerme1D/Herleitung1D/Herleitung1D.ipynb) Differentialgleichung für die Wärmeleitung in 1D \n",
    "  * [2.1.2](2-FEM/2.1-Waerme1D/FEM1D/FEM1D.ipynb) Einführung in das finite Elementverfahren für das 1D-Wärmeleitungproblem \n",
    "  * [2.1.3](2-FEM/2.1-Waerme1D/Experiment/Experiment.ipynb) Experiment 1D "
   ]
  },
  {
   "cell_type": "markdown",
   "metadata": {},
   "source": [
    "Finites Elementverfahren (FEM) in 2D/3D\n",
    "----\n",
    "* FEM in mehreren Dimensionen\n",
    " * [2.2.1](2-FEM/2.2-Waerme2D/MehrDimAnalysis/MehrDimAnalysis.ipynb) Differenziale in 2D / Differentialgleichung für die Wärmeleitung in 2D \n",
    " * [2.2.2](2-FEM/2.2-Waerme2D/heat_room.ipynb) Wärmeleitung in 2D/3D Raumbeispiel \n",
    " * [2.2.3](2-FEM/Linearelasticity.ipynb) Einführung in die Elastizitätstheorie \n",
    " * [2.2.4]() MPS \n",
    " * [2.2.5](2-FEM/2.2-Waerme2D/COMSOL/COMSOL.ipynb) Einführung in COMSOL für die 2D-Simulation mit FEM\n"
   ]
  },
  {
   "cell_type": "markdown",
   "metadata": {},
   "source": []
  }
 ],
 "metadata": {
  "kernelspec": {
   "display_name": "Python 3 (ipykernel)",
   "language": "python",
   "name": "python3"
  },
  "language_info": {
   "codemirror_mode": {
    "name": "ipython",
    "version": 3
   },
   "file_extension": ".py",
   "mimetype": "text/x-python",
   "name": "python",
   "nbconvert_exporter": "python",
   "pygments_lexer": "ipython3",
   "version": "3.13.7"
  },
  "toc": {
   "base_numbering": 1,
   "nav_menu": {},
   "number_sections": true,
   "sideBar": true,
   "skip_h1_title": false,
   "title_cell": "Tabelle der Inhalte",
   "title_sidebar": "Inhalte",
   "toc_cell": false,
   "toc_position": {},
   "toc_section_display": true,
   "toc_window_display": false
  }
 },
 "nbformat": 4,
 "nbformat_minor": 4
}
